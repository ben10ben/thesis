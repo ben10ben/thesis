{
 "cells": [
  {
   "cell_type": "code",
   "execution_count": 1,
   "metadata": {},
   "outputs": [
    {
     "name": "stdout",
     "output_type": "stream",
     "text": [
      "Import succesfull\n"
     ]
    }
   ],
   "source": [
    "# TODO which one?\n",
    "#git clone https://github.com/lucidrains/iTransformer.git\n",
    "#import iTransformer\n",
    "import sys\n",
    "sys.path.append('/vol/fob-vol7/nebenf21/reinbene/bene/MA/iTransformer') \n",
    "from iTransformer import iTransformer\n",
    "\n",
    "import torch\n",
    "import torch.optim as optim\n",
    "from tqdm import tqdm\n",
    "from torch.utils.tensorboard import SummaryWriter\n",
    "import pandas as pd\n",
    "from pathlib import Path\n",
    "\n",
    "window_size = 96\n",
    "pred_length = (96)\n",
    "\n",
    "from utils import data_handling, training_functions, helpers\n",
    "import config \n",
    "\n",
    "print(\"Import succesfull\")\n",
    "\n",
    "# use full train dataset for training or small 4% subset\n",
    "FOUR_WEEKS = -24*7*4\n",
    "\n",
    "EPOCH = 15\n",
    "\n",
    "\n",
    "metrics_output_path = config.CONFIG_OUTPUT_PATH[\"itransformer\"] / \"itransformer_results_baseline.csv\"\n",
    "target_dataset = [\"ELD\", \"Bavaria\", \"GP2\"]\n",
    "\n",
    "try:\n",
    "    results_df = pd.read_csv(metrics_output_path, index_col=[0, 1, 2])\n",
    "except FileNotFoundError:\n",
    "    metrics = [\"MSE\", \"MAE\"]\n",
    "    learning_scenarios = [\"Zero-Shot\", \"four_weeks_tl\", \"full_tl\", \"full_training\", \"four_weeks_training\"]\n",
    "    index = pd.MultiIndex.from_product([target_dataset, learning_scenarios, metrics], names=[\"Target\", \"Learning_scenario\", \"Metric\"])\n",
    "    results_df = pd.DataFrame(columns=[\"iTransformer\"], index=index)\n",
    "\n",
    "# Helper functions\n",
    "def update_metrics(target_dataset, model_name, learning_scenario, mae, mse):\n",
    "    results_df.loc[(target_dataset, learning_scenario, \"MAE\"), model_name] = mae\n",
    "    results_df.loc[(target_dataset, learning_scenario, \"MSE\"), model_name] = mse\n"
   ]
  },
  {
   "cell_type": "markdown",
   "metadata": {},
   "source": [
    "# Benchmark all datasets used for transfer learning on iTransformer on its own.\n",
    "\n",
    "After the sanity check, we will use 96h as the input and the prediction horizon. In the following we will use the RevIn normalization strategie to benchmark iTransformer on our transfer learning datasets to get an initial baseline. RevIn is used because if performed the best on our initial baseline. This baseline will be compared to an SARIMA implementation and an additional DL model.\n",
    "\n",
    "Those results will also be used to evaluate the transfer-learning capability of iTransformer.\n",
    "\n",
    "Because transfer-learning is a sensible solution for the cold-start problem, we also do benchmarks on iTransformer only trained on the first 10% of the train dataset. Beacuse all datasets are big enough for efficient training, using a small subset is a solutoin to get meaningfull insight in how much value can be created through transfer-learning. "
   ]
  },
  {
   "cell_type": "code",
   "execution_count": 2,
   "metadata": {},
   "outputs": [
    {
     "name": "stdout",
     "output_type": "stream",
     "text": [
      "Feature batch shape: torch.Size([32, 96, 348])\n"
     ]
    }
   ],
   "source": [
    "# use electricity dataset\n",
    "data_dict = data_handling.load_electricity()\n",
    "\n",
    "electricity = {}\n",
    "electricity[\"dataloader_train\"], electricity[\"dataloader_validation\"], electricity[\"dataloader_test\"] = data_handling.convert_data(data_dict, window_size, pred_length)\n",
    "data_dict[\"train\"].shape\n",
    "\n",
    "# create a smaller subset of the train dataset\n",
    "electricity[\"4_weeks_train\"] = data_dict[\"train\"][FOUR_WEEKS:,:]\n",
    "electricity[\"4_weeks_train\"] = data_handling.SlidingWindowTimeSeriesDataset(electricity[\"4_weeks_train\"] , window_size, pred_length)\n",
    "electricity[\"4_weeks_train\"] = data_handling.DataLoader(electricity[\"4_weeks_train\"] , batch_size=32, shuffle=True)"
   ]
  },
  {
   "cell_type": "code",
   "execution_count": 3,
   "metadata": {},
   "outputs": [
    {
     "name": "stdout",
     "output_type": "stream",
     "text": [
      "Feature batch shape: torch.Size([32, 96, 1454])\n"
     ]
    }
   ],
   "source": [
    "# building genome project dataset\n",
    "data_tensor = data_handling.load_genome_project_data()\n",
    "gp_dict, standadizer = data_handling.train_test_split_eu_elec(data_tensor, standardize=True)\n",
    "\n",
    "# convert to dataloader\n",
    "genome_project = {}\n",
    "genome_project[\"dataloader_train\"], genome_project[\"dataloader_validation\"], genome_project[\"dataloader_test\"] = data_handling.convert_data(gp_dict, window_size, pred_length)\n",
    "\n",
    "# create a smaller subset of the train dataset\n",
    "genome_project[\"4_weeks_train\"] = gp_dict[\"train\"][FOUR_WEEKS:,:]\n",
    "genome_project[\"4_weeks_train\"] = data_handling.SlidingWindowTimeSeriesDataset(genome_project[\"4_weeks_train\"] , window_size, pred_length)\n",
    "genome_project[\"4_weeks_train\"] = data_handling.DataLoader(genome_project[\"4_weeks_train\"] , batch_size=32, shuffle=True)\n"
   ]
  },
  {
   "cell_type": "code",
   "execution_count": 4,
   "metadata": {},
   "outputs": [
    {
     "name": "stdout",
     "output_type": "stream",
     "text": [
      "Feature batch shape: torch.Size([32, 96, 59])\n"
     ]
    }
   ],
   "source": [
    "# bavaria dataset\n",
    "data_tensor = data_handling.load_bavaria_electricity()\n",
    "data_dict, standadizer = data_handling.train_test_split_eu_elec(data_tensor, standardize=True)\n",
    "\n",
    "# convert to datalaoder\n",
    "bavaria = {}\n",
    "bavaria[\"dataloader_train\"], bavaria[\"dataloader_validation\"], bavaria[\"dataloader_test\"] = data_handling.convert_data(data_dict, window_size, pred_length)\n",
    "\n",
    "# create a smaller subset of the train dataset\n",
    "bavaria[\"4_weeks_train\"] = data_dict[\"train\"][FOUR_WEEKS:,:]\n",
    "bavaria[\"4_weeks_train\"] = data_handling.SlidingWindowTimeSeriesDataset(bavaria[\"4_weeks_train\"] , window_size, pred_length)\n",
    "bavaria[\"4_weeks_train\"] = data_handling.DataLoader(bavaria[\"4_weeks_train\"] , batch_size=32, shuffle=True)"
   ]
  },
  {
   "cell_type": "code",
   "execution_count": 5,
   "metadata": {},
   "outputs": [],
   "source": [
    "# run experiment for each dataset and save model and evaluation metrics\n",
    "dataset_dict = {\n",
    "                \"ELD\": electricity,\n",
    "                \"Bavaria\": bavaria,\n",
    "                \"GP2\" : genome_project,                \n",
    "                }\n",
    "\n",
    "\n",
    "def train_and_evaluate(dataset_dict, dataset_name, full_dataset= True, epoch=20):\n",
    "\n",
    "    if full_dataset == False:\n",
    "        print(\"Selecting 4 week dataset\")\n",
    "        training_dataloader = dataset_dict[\"4_weeks_train\"]\n",
    "    else:\n",
    "        training_dataloader = dataset_dict[\"dataloader_train\"]\n",
    "        \n",
    "    inputs, _ = next(iter(training_dataloader))\n",
    "    num_variates = inputs.size(2)\n",
    "    \n",
    "    # define parameters and create config \n",
    "    best_parameters = {'depth': 2, 'dim': 256, 'dim_head': 56, 'heads': 4, 'attn_dropout': 0.2, 'ff_mult': 4, 'ff_dropout': 0.2, \n",
    "                    'num_mem_tokens': 4, 'learning_rate': 0.0005}\n",
    "\n",
    "\n",
    "    model_config = {\n",
    "        'num_variates': num_variates,\n",
    "        'lookback_len': window_size,\n",
    "        'depth': best_parameters[\"depth\"],\n",
    "        'dim': best_parameters[\"dim\"],\n",
    "        'num_tokens_per_variate': 1,\n",
    "        'pred_length': pred_length,\n",
    "        'dim_head': best_parameters[\"dim_head\"],\n",
    "        'heads': best_parameters[\"heads\"],\n",
    "        'attn_dropout': best_parameters[\"attn_dropout\"],\n",
    "        'ff_mult': best_parameters[\"ff_mult\"],\n",
    "        'ff_dropout': best_parameters[\"ff_dropout\"],\n",
    "        'num_mem_tokens': best_parameters[\"num_mem_tokens\"],\n",
    "        'use_reversible_instance_norm': True,\n",
    "        'reversible_instance_norm_affine': True,\n",
    "        'flash_attn': True\n",
    "    }\n",
    "\n",
    "    # select available deviec\n",
    "    device = torch.device(\"cuda\" if torch.cuda.is_available() else \"cpu\")\n",
    "\n",
    "    print(f\"Using device: {device}\")\n",
    "\n",
    "    # defining all needed instances\n",
    "    model = iTransformer(**model_config).to(device)\n",
    "    optimizer = optim.Adam(model.parameters(), lr=best_parameters[\"learning_rate\"])\n",
    "    scheduler = optim.lr_scheduler.StepLR(optimizer, step_size=10, gamma=0.1)\n",
    "    writer = SummaryWriter(log_dir=config.CONFIG_LOGS_PATH[\"itransformer\"] / dataset_name)\n",
    "\n",
    "    # run model training as mentioned in the original paper\n",
    "    if full_dataset == False:\n",
    "        checkpoint_path = config.CONFIG_MODEL_LOCATION[\"itransformer\"] / dataset_name / f\"{dataset_name}_4_weeks_best_val_loss.pt\"\n",
    "    else:\n",
    "        checkpoint_path = config.CONFIG_MODEL_LOCATION[\"itransformer\"] / dataset_name / f\"{dataset_name}_full_dataset_best_val_loss.pt\"\n",
    "\n",
    "\n",
    "    # load model with best validaiton mse\n",
    "    try:\n",
    "        checkpoint = torch.load(checkpoint_path)\n",
    "        model = iTransformer(**model_config).to(device)\n",
    "        model.load_state_dict(checkpoint['model_state_dict'])\n",
    "        epoch = epoch - checkpoint[\"epoch\"]\n",
    "        if epoch == 0:\n",
    "            print(\"Model is already trained for 20 epochs.\")\n",
    "            return None\n",
    "    except:\n",
    "        print(\"Training from scratch.\")\n",
    "\n",
    "    train_metrics, best_model = training_functions.train_one_epoch(epoch, model, device, training_dataloader, dataset_dict[\"dataloader_validation\"], \\\n",
    "                                            optimizer, scheduler, writer, checkpoint_path)\n",
    "\n",
    "\n",
    "    # predict on test set\n",
    "    metrics = helpers.full_eval(best_model, dataset_dict[\"dataloader_test\"], device)\n",
    "\n",
    "    if full_dataset == False:\n",
    "        update_metrics(dataset_name, \"iTransformer\", \"four_weeks_training\", metrics[1], metrics[0])\n",
    "    else:\n",
    "        update_metrics(dataset_name, \"iTransformer\", \"full_training\", metrics[1], metrics[0])\n"
   ]
  },
  {
   "cell_type": "code",
   "execution_count": 6,
   "metadata": {},
   "outputs": [
    {
     "name": "stdout",
     "output_type": "stream",
     "text": [
      "Selecting 4 week dataset\n",
      "Using device: cuda\n",
      "Non-A100 GPU detected, using math or mem efficient attention if input tensor is on cuda\n",
      "Training from scratch.\n"
     ]
    },
    {
     "name": "stderr",
     "output_type": "stream",
     "text": [
      "Epoch: 1: 100%|██████████| 15/15 [00:04<00:00,  3.22it/s]\n",
      "Epoch: Validating: 100%|██████████| 21/21 [00:00<00:00, 126.26it/s]\n"
     ]
    },
    {
     "name": "stdout",
     "output_type": "stream",
     "text": [
      "Validation metrics: {'mse': tensor(0.4065, device='cuda:0')}\n",
      "Checkpointing succesfull after epoch 1\n"
     ]
    },
    {
     "name": "stderr",
     "output_type": "stream",
     "text": [
      "Epoch: 2: 100%|██████████| 15/15 [00:03<00:00,  4.25it/s]\n",
      "Epoch: Validating: 100%|██████████| 21/21 [00:00<00:00, 24.73it/s]\n"
     ]
    },
    {
     "name": "stdout",
     "output_type": "stream",
     "text": [
      "Validation metrics: {'mse': tensor(0.3161, device='cuda:0')}\n",
      "Checkpointing succesfull after epoch 2\n"
     ]
    },
    {
     "name": "stderr",
     "output_type": "stream",
     "text": [
      "Epoch: 3: 100%|██████████| 15/15 [00:00<00:00, 20.69it/s]\n",
      "Epoch: Validating: 100%|██████████| 21/21 [00:00<00:00, 115.47it/s]\n"
     ]
    },
    {
     "name": "stdout",
     "output_type": "stream",
     "text": [
      "Validation metrics: {'mse': tensor(0.2900, device='cuda:0')}\n",
      "Checkpointing succesfull after epoch 3\n"
     ]
    },
    {
     "name": "stderr",
     "output_type": "stream",
     "text": [
      "Epoch: 4: 100%|██████████| 15/15 [00:04<00:00,  3.42it/s]\n",
      "Epoch: Validating: 100%|██████████| 21/21 [00:00<00:00, 23.39it/s]\n"
     ]
    },
    {
     "name": "stdout",
     "output_type": "stream",
     "text": [
      "Validation metrics: {'mse': tensor(0.2749, device='cuda:0')}\n",
      "Checkpointing succesfull after epoch 4\n"
     ]
    },
    {
     "name": "stderr",
     "output_type": "stream",
     "text": [
      "Epoch: 5: 100%|██████████| 15/15 [00:03<00:00,  4.08it/s]\n",
      "Epoch: Validating: 100%|██████████| 21/21 [00:00<00:00, 50.54it/s]\n"
     ]
    },
    {
     "name": "stdout",
     "output_type": "stream",
     "text": [
      "Validation metrics: {'mse': tensor(0.2647, device='cuda:0')}\n",
      "Checkpointing succesfull after epoch 5\n"
     ]
    },
    {
     "name": "stderr",
     "output_type": "stream",
     "text": [
      "Epoch: 6: 100%|██████████| 15/15 [00:01<00:00, 12.48it/s]\n",
      "Epoch: Validating: 100%|██████████| 21/21 [00:02<00:00,  7.25it/s]\n"
     ]
    },
    {
     "name": "stdout",
     "output_type": "stream",
     "text": [
      "Validation metrics: {'mse': tensor(0.2588, device='cuda:0')}\n",
      "Checkpointing succesfull after epoch 6\n"
     ]
    },
    {
     "name": "stderr",
     "output_type": "stream",
     "text": [
      "Epoch: 7: 100%|██████████| 15/15 [00:01<00:00, 14.21it/s]\n",
      "Epoch: Validating: 100%|██████████| 21/21 [00:00<00:00, 40.95it/s]\n"
     ]
    },
    {
     "name": "stdout",
     "output_type": "stream",
     "text": [
      "Validation metrics: {'mse': tensor(0.2546, device='cuda:0')}\n",
      "Checkpointing succesfull after epoch 7\n"
     ]
    },
    {
     "name": "stderr",
     "output_type": "stream",
     "text": [
      "Epoch: 8: 100%|██████████| 15/15 [00:00<00:00, 27.71it/s]\n",
      "Epoch: Validating: 100%|██████████| 21/21 [00:02<00:00,  7.74it/s]\n"
     ]
    },
    {
     "name": "stdout",
     "output_type": "stream",
     "text": [
      "Validation metrics: {'mse': tensor(0.2518, device='cuda:0')}\n",
      "Checkpointing succesfull after epoch 8\n"
     ]
    },
    {
     "name": "stderr",
     "output_type": "stream",
     "text": [
      "Epoch: 9: 100%|██████████| 15/15 [00:01<00:00, 11.37it/s]\n",
      "Epoch: Validating: 100%|██████████| 21/21 [00:04<00:00,  4.55it/s]\n"
     ]
    },
    {
     "name": "stdout",
     "output_type": "stream",
     "text": [
      "Validation metrics: {'mse': tensor(0.2450, device='cuda:0')}\n",
      "Checkpointing succesfull after epoch 9\n"
     ]
    },
    {
     "name": "stderr",
     "output_type": "stream",
     "text": [
      "Epoch: 10: 100%|██████████| 15/15 [00:01<00:00, 12.27it/s]\n",
      "Epoch: Validating: 100%|██████████| 21/21 [00:03<00:00,  6.87it/s]\n"
     ]
    },
    {
     "name": "stdout",
     "output_type": "stream",
     "text": [
      "Validation metrics: {'mse': tensor(0.2463, device='cuda:0')}\n",
      "Checkpointing succesfull after epoch 10\n"
     ]
    },
    {
     "name": "stderr",
     "output_type": "stream",
     "text": [
      "Epoch: 11: 100%|██████████| 15/15 [00:02<00:00,  5.58it/s]\n",
      "Epoch: Validating: 100%|██████████| 21/21 [00:00<00:00, 36.85it/s]\n"
     ]
    },
    {
     "name": "stdout",
     "output_type": "stream",
     "text": [
      "Validation metrics: {'mse': tensor(0.2422, device='cuda:0')}\n",
      "Checkpointing succesfull after epoch 11\n"
     ]
    },
    {
     "name": "stderr",
     "output_type": "stream",
     "text": [
      "Epoch: 12: 100%|██████████| 15/15 [00:02<00:00,  5.05it/s]\n",
      "Epoch: Validating: 100%|██████████| 21/21 [00:00<00:00, 64.58it/s]\n"
     ]
    },
    {
     "name": "stdout",
     "output_type": "stream",
     "text": [
      "Validation metrics: {'mse': tensor(0.2413, device='cuda:0')}\n",
      "Checkpointing succesfull after epoch 12\n"
     ]
    },
    {
     "name": "stderr",
     "output_type": "stream",
     "text": [
      "Epoch: 13: 100%|██████████| 15/15 [00:03<00:00,  4.32it/s]\n",
      "Epoch: Validating: 100%|██████████| 21/21 [00:01<00:00, 15.70it/s]\n"
     ]
    },
    {
     "name": "stdout",
     "output_type": "stream",
     "text": [
      "Validation metrics: {'mse': tensor(0.2410, device='cuda:0')}\n",
      "Checkpointing succesfull after epoch 13\n"
     ]
    },
    {
     "name": "stderr",
     "output_type": "stream",
     "text": [
      "Epoch: 14: 100%|██████████| 15/15 [00:01<00:00, 13.30it/s]\n",
      "Epoch: Validating: 100%|██████████| 21/21 [00:00<00:00, 68.98it/s]\n"
     ]
    },
    {
     "name": "stdout",
     "output_type": "stream",
     "text": [
      "Validation metrics: {'mse': tensor(0.2413, device='cuda:0')}\n",
      "Checkpointing succesfull after epoch 14\n"
     ]
    },
    {
     "name": "stderr",
     "output_type": "stream",
     "text": [
      "Epoch: 15: 100%|██████████| 15/15 [00:01<00:00, 11.26it/s]\n",
      "Epoch: Validating: 100%|██████████| 21/21 [00:00<00:00, 102.68it/s]\n"
     ]
    },
    {
     "name": "stdout",
     "output_type": "stream",
     "text": [
      "Validation metrics: {'mse': tensor(0.2408, device='cuda:0')}\n",
      "Checkpointing succesfull after epoch 15\n"
     ]
    },
    {
     "name": "stderr",
     "output_type": "stream",
     "text": [
      "Epoch: Validating: 100%|██████████| 86/86 [00:00<00:00, 86.95it/s] \n",
      "/tmp/ipykernel_13751/1282971071.py:42: PerformanceWarning: indexing past lexsort depth may impact performance.\n",
      "  results_df.loc[(target_dataset, learning_scenario, \"MAE\"), model_name] = mae\n",
      "/tmp/ipykernel_13751/1282971071.py:43: PerformanceWarning: indexing past lexsort depth may impact performance.\n",
      "  results_df.loc[(target_dataset, learning_scenario, \"MSE\"), model_name] = mse\n"
     ]
    },
    {
     "name": "stdout",
     "output_type": "stream",
     "text": [
      "Selecting 4 week dataset\n",
      "Using device: cuda\n",
      "Training from scratch.\n"
     ]
    },
    {
     "name": "stderr",
     "output_type": "stream",
     "text": [
      "Epoch: 1: 100%|██████████| 15/15 [00:00<00:00, 63.38it/s]\n",
      "Epoch: Validating: 100%|██████████| 39/39 [00:00<00:00, 309.49it/s]\n"
     ]
    },
    {
     "name": "stdout",
     "output_type": "stream",
     "text": [
      "Validation metrics: {'mse': tensor(0.1768, device='cuda:0')}\n",
      "Checkpointing succesfull after epoch 1\n"
     ]
    },
    {
     "name": "stderr",
     "output_type": "stream",
     "text": [
      "Epoch: 2: 100%|██████████| 15/15 [00:00<00:00, 63.54it/s]\n",
      "Epoch: Validating: 100%|██████████| 39/39 [00:00<00:00, 320.79it/s]\n"
     ]
    },
    {
     "name": "stdout",
     "output_type": "stream",
     "text": [
      "Validation metrics: {'mse': tensor(0.0693, device='cuda:0')}\n",
      "Checkpointing succesfull after epoch 2\n"
     ]
    },
    {
     "name": "stderr",
     "output_type": "stream",
     "text": [
      "Epoch: 3: 100%|██████████| 15/15 [00:00<00:00, 66.08it/s]\n",
      "Epoch: Validating: 100%|██████████| 39/39 [00:00<00:00, 317.94it/s]\n"
     ]
    },
    {
     "name": "stdout",
     "output_type": "stream",
     "text": [
      "Validation metrics: {'mse': tensor(0.0123, device='cuda:0')}\n",
      "Checkpointing succesfull after epoch 3\n"
     ]
    },
    {
     "name": "stderr",
     "output_type": "stream",
     "text": [
      "Epoch: 4: 100%|██████████| 15/15 [00:00<00:00, 67.59it/s]\n",
      "Epoch: Validating: 100%|██████████| 39/39 [00:00<00:00, 238.07it/s]\n"
     ]
    },
    {
     "name": "stdout",
     "output_type": "stream",
     "text": [
      "Validation metrics: {'mse': tensor(0.0030, device='cuda:0')}\n",
      "Checkpointing succesfull after epoch 4\n"
     ]
    },
    {
     "name": "stderr",
     "output_type": "stream",
     "text": [
      "Epoch: 5: 100%|██████████| 15/15 [00:00<00:00, 66.21it/s]\n",
      "Epoch: Validating: 100%|██████████| 39/39 [00:00<00:00, 303.26it/s]\n"
     ]
    },
    {
     "name": "stdout",
     "output_type": "stream",
     "text": [
      "Validation metrics: {'mse': tensor(0.0015, device='cuda:0')}\n",
      "Checkpointing succesfull after epoch 5\n"
     ]
    },
    {
     "name": "stderr",
     "output_type": "stream",
     "text": [
      "Epoch: 6: 100%|██████████| 15/15 [00:00<00:00, 70.08it/s]\n",
      "Epoch: Validating: 100%|██████████| 39/39 [00:00<00:00, 261.30it/s]\n"
     ]
    },
    {
     "name": "stdout",
     "output_type": "stream",
     "text": [
      "Validation metrics: {'mse': tensor(0.0009, device='cuda:0')}\n",
      "Checkpointing succesfull after epoch 6\n"
     ]
    },
    {
     "name": "stderr",
     "output_type": "stream",
     "text": [
      "Epoch: 7: 100%|██████████| 15/15 [00:00<00:00, 66.11it/s]\n",
      "Epoch: Validating: 100%|██████████| 39/39 [00:00<00:00, 191.12it/s]\n"
     ]
    },
    {
     "name": "stdout",
     "output_type": "stream",
     "text": [
      "Validation metrics: {'mse': tensor(0.0007, device='cuda:0')}\n",
      "Checkpointing succesfull after epoch 7\n"
     ]
    },
    {
     "name": "stderr",
     "output_type": "stream",
     "text": [
      "Epoch: 8: 100%|██████████| 15/15 [00:00<00:00, 75.60it/s]\n",
      "Epoch: Validating: 100%|██████████| 39/39 [00:00<00:00, 254.02it/s]\n"
     ]
    },
    {
     "name": "stdout",
     "output_type": "stream",
     "text": [
      "Validation metrics: {'mse': tensor(0.0007, device='cuda:0')}\n",
      "Checkpointing succesfull after epoch 8\n"
     ]
    },
    {
     "name": "stderr",
     "output_type": "stream",
     "text": [
      "Epoch: 9: 100%|██████████| 15/15 [00:00<00:00, 61.97it/s]\n",
      "Epoch: Validating: 100%|██████████| 39/39 [00:00<00:00, 224.35it/s]\n"
     ]
    },
    {
     "name": "stdout",
     "output_type": "stream",
     "text": [
      "Validation metrics: {'mse': tensor(0.0007, device='cuda:0')}\n",
      "Checkpointing succesfull after epoch 9\n"
     ]
    },
    {
     "name": "stderr",
     "output_type": "stream",
     "text": [
      "Epoch: 10: 100%|██████████| 15/15 [00:00<00:00, 59.90it/s]\n",
      "Epoch: Validating: 100%|██████████| 39/39 [00:00<00:00, 303.43it/s]\n"
     ]
    },
    {
     "name": "stdout",
     "output_type": "stream",
     "text": [
      "Validation metrics: {'mse': tensor(0.0007, device='cuda:0')}\n",
      "Checkpointing succesfull after epoch 10\n"
     ]
    },
    {
     "name": "stderr",
     "output_type": "stream",
     "text": [
      "Epoch: 11: 100%|██████████| 15/15 [00:00<00:00, 61.04it/s]\n",
      "Epoch: Validating: 100%|██████████| 39/39 [00:00<00:00, 162.68it/s]\n"
     ]
    },
    {
     "name": "stdout",
     "output_type": "stream",
     "text": [
      "Validation metrics: {'mse': tensor(0.0007, device='cuda:0')}\n",
      "Checkpointing succesfull after epoch 11\n"
     ]
    },
    {
     "name": "stderr",
     "output_type": "stream",
     "text": [
      "Epoch: 12: 100%|██████████| 15/15 [00:00<00:00, 67.89it/s]\n",
      "Epoch: Validating: 100%|██████████| 39/39 [00:00<00:00, 178.48it/s]\n"
     ]
    },
    {
     "name": "stdout",
     "output_type": "stream",
     "text": [
      "Validation metrics: {'mse': tensor(0.0007, device='cuda:0')}\n",
      "Checkpointing succesfull after epoch 12\n"
     ]
    },
    {
     "name": "stderr",
     "output_type": "stream",
     "text": [
      "Epoch: 13: 100%|██████████| 15/15 [00:00<00:00, 66.99it/s]\n",
      "Epoch: Validating: 100%|██████████| 39/39 [00:00<00:00, 181.82it/s]\n"
     ]
    },
    {
     "name": "stdout",
     "output_type": "stream",
     "text": [
      "Validation metrics: {'mse': tensor(0.0007, device='cuda:0')}\n",
      "Checkpointing succesfull after epoch 13\n"
     ]
    },
    {
     "name": "stderr",
     "output_type": "stream",
     "text": [
      "Epoch: 14: 100%|██████████| 15/15 [00:00<00:00, 62.39it/s]\n",
      "Epoch: Validating: 100%|██████████| 39/39 [00:00<00:00, 169.33it/s]\n"
     ]
    },
    {
     "name": "stdout",
     "output_type": "stream",
     "text": [
      "Validation metrics: {'mse': tensor(0.0007, device='cuda:0')}\n",
      "Checkpointing succesfull after epoch 14\n"
     ]
    },
    {
     "name": "stderr",
     "output_type": "stream",
     "text": [
      "Epoch: 15: 100%|██████████| 15/15 [00:00<00:00, 62.56it/s]\n",
      "Epoch: Validating: 100%|██████████| 39/39 [00:00<00:00, 173.28it/s]\n"
     ]
    },
    {
     "name": "stdout",
     "output_type": "stream",
     "text": [
      "Validation metrics: {'mse': tensor(0.0007, device='cuda:0')}\n",
      "Checkpointing succesfull after epoch 15\n"
     ]
    },
    {
     "name": "stderr",
     "output_type": "stream",
     "text": [
      "Epoch: Validating: 100%|██████████| 83/83 [00:00<00:00, 136.66it/s]\n"
     ]
    },
    {
     "name": "stdout",
     "output_type": "stream",
     "text": [
      "Selecting 4 week dataset\n",
      "Using device: cuda\n",
      "Training from scratch.\n"
     ]
    },
    {
     "name": "stderr",
     "output_type": "stream",
     "text": [
      "Epoch: 1: 100%|██████████| 15/15 [00:05<00:00,  2.92it/s]\n",
      "Epoch: Validating: 100%|██████████| 40/40 [00:06<00:00,  6.29it/s]\n"
     ]
    },
    {
     "name": "stdout",
     "output_type": "stream",
     "text": [
      "Validation metrics: {'mse': tensor(0.5080, device='cuda:0')}\n",
      "Checkpointing succesfull after epoch 1\n"
     ]
    },
    {
     "name": "stderr",
     "output_type": "stream",
     "text": [
      "Epoch: 2: 100%|██████████| 15/15 [00:03<00:00,  3.95it/s]\n",
      "Epoch: Validating: 100%|██████████| 40/40 [00:08<00:00,  4.99it/s]\n"
     ]
    },
    {
     "name": "stdout",
     "output_type": "stream",
     "text": [
      "Validation metrics: {'mse': tensor(0.4532, device='cuda:0')}\n",
      "Checkpointing succesfull after epoch 2\n"
     ]
    },
    {
     "name": "stderr",
     "output_type": "stream",
     "text": [
      "Epoch: 3: 100%|██████████| 15/15 [00:03<00:00,  3.93it/s]\n",
      "Epoch: Validating: 100%|██████████| 40/40 [00:07<00:00,  5.06it/s]\n"
     ]
    },
    {
     "name": "stdout",
     "output_type": "stream",
     "text": [
      "Validation metrics: {'mse': tensor(0.4183, device='cuda:0')}\n",
      "Checkpointing succesfull after epoch 3\n"
     ]
    },
    {
     "name": "stderr",
     "output_type": "stream",
     "text": [
      "Epoch: 4: 100%|██████████| 15/15 [00:08<00:00,  1.68it/s]\n",
      "Epoch: Validating: 100%|██████████| 40/40 [00:04<00:00,  8.85it/s]\n"
     ]
    },
    {
     "name": "stdout",
     "output_type": "stream",
     "text": [
      "Validation metrics: {'mse': tensor(0.3979, device='cuda:0')}\n",
      "Checkpointing succesfull after epoch 4\n"
     ]
    },
    {
     "name": "stderr",
     "output_type": "stream",
     "text": [
      "Epoch: 5: 100%|██████████| 15/15 [00:07<00:00,  2.04it/s]\n",
      "Epoch: Validating: 100%|██████████| 40/40 [00:09<00:00,  4.18it/s]\n"
     ]
    },
    {
     "name": "stdout",
     "output_type": "stream",
     "text": [
      "Validation metrics: {'mse': tensor(0.3858, device='cuda:0')}\n",
      "Checkpointing succesfull after epoch 5\n"
     ]
    },
    {
     "name": "stderr",
     "output_type": "stream",
     "text": [
      "Epoch: 6: 100%|██████████| 15/15 [00:04<00:00,  3.25it/s]\n",
      "Epoch: Validating: 100%|██████████| 40/40 [00:06<00:00,  6.08it/s]\n"
     ]
    },
    {
     "name": "stdout",
     "output_type": "stream",
     "text": [
      "Validation metrics: {'mse': tensor(0.3801, device='cuda:0')}\n",
      "Checkpointing succesfull after epoch 6\n"
     ]
    },
    {
     "name": "stderr",
     "output_type": "stream",
     "text": [
      "Epoch: 7: 100%|██████████| 15/15 [00:05<00:00,  2.77it/s]\n",
      "Epoch: Validating: 100%|██████████| 40/40 [00:07<00:00,  5.14it/s]\n"
     ]
    },
    {
     "name": "stdout",
     "output_type": "stream",
     "text": [
      "Validation metrics: {'mse': tensor(0.3756, device='cuda:0')}\n",
      "Checkpointing succesfull after epoch 7\n"
     ]
    },
    {
     "name": "stderr",
     "output_type": "stream",
     "text": [
      "Epoch: 8: 100%|██████████| 15/15 [00:05<00:00,  2.56it/s]\n",
      "Epoch: Validating: 100%|██████████| 40/40 [00:03<00:00, 10.77it/s]\n"
     ]
    },
    {
     "name": "stdout",
     "output_type": "stream",
     "text": [
      "Validation metrics: {'mse': tensor(0.3724, device='cuda:0')}\n",
      "Checkpointing succesfull after epoch 8\n"
     ]
    },
    {
     "name": "stderr",
     "output_type": "stream",
     "text": [
      "Epoch: 9: 100%|██████████| 15/15 [00:04<00:00,  3.12it/s]\n",
      "Epoch: Validating: 100%|██████████| 40/40 [00:05<00:00,  7.53it/s]\n"
     ]
    },
    {
     "name": "stdout",
     "output_type": "stream",
     "text": [
      "Validation metrics: {'mse': tensor(0.3675, device='cuda:0')}\n",
      "Checkpointing succesfull after epoch 9\n"
     ]
    },
    {
     "name": "stderr",
     "output_type": "stream",
     "text": [
      "Epoch: 10: 100%|██████████| 15/15 [00:05<00:00,  2.64it/s]\n",
      "Epoch: Validating: 100%|██████████| 40/40 [00:04<00:00,  9.46it/s]\n"
     ]
    },
    {
     "name": "stdout",
     "output_type": "stream",
     "text": [
      "Validation metrics: {'mse': tensor(0.3651, device='cuda:0')}\n",
      "Checkpointing succesfull after epoch 10\n"
     ]
    },
    {
     "name": "stderr",
     "output_type": "stream",
     "text": [
      "Epoch: 11: 100%|██████████| 15/15 [00:03<00:00,  4.78it/s]\n",
      "Epoch: Validating: 100%|██████████| 40/40 [00:03<00:00, 12.99it/s]\n"
     ]
    },
    {
     "name": "stdout",
     "output_type": "stream",
     "text": [
      "Validation metrics: {'mse': tensor(0.3644, device='cuda:0')}\n",
      "Checkpointing succesfull after epoch 11\n"
     ]
    },
    {
     "name": "stderr",
     "output_type": "stream",
     "text": [
      "Epoch: 12: 100%|██████████| 15/15 [00:04<00:00,  3.47it/s]\n",
      "Epoch: Validating: 100%|██████████| 40/40 [00:06<00:00,  5.72it/s]\n"
     ]
    },
    {
     "name": "stdout",
     "output_type": "stream",
     "text": [
      "Validation metrics: {'mse': tensor(0.3636, device='cuda:0')}\n",
      "Checkpointing succesfull after epoch 12\n"
     ]
    },
    {
     "name": "stderr",
     "output_type": "stream",
     "text": [
      "Epoch: 13: 100%|██████████| 15/15 [00:05<00:00,  2.80it/s]\n",
      "Epoch: Validating: 100%|██████████| 40/40 [00:05<00:00,  6.68it/s]\n"
     ]
    },
    {
     "name": "stdout",
     "output_type": "stream",
     "text": [
      "Validation metrics: {'mse': tensor(0.3646, device='cuda:0')}\n",
      "Checkpointing succesfull after epoch 13\n"
     ]
    },
    {
     "name": "stderr",
     "output_type": "stream",
     "text": [
      "Epoch: 14: 100%|██████████| 15/15 [00:05<00:00,  2.60it/s]\n",
      "Epoch: Validating: 100%|██████████| 40/40 [00:06<00:00,  6.62it/s]\n"
     ]
    },
    {
     "name": "stdout",
     "output_type": "stream",
     "text": [
      "Validation metrics: {'mse': tensor(0.3641, device='cuda:0')}\n",
      "Checkpointing succesfull after epoch 14\n"
     ]
    },
    {
     "name": "stderr",
     "output_type": "stream",
     "text": [
      "Epoch: 15: 100%|██████████| 15/15 [00:04<00:00,  3.63it/s]\n",
      "Epoch: Validating: 100%|██████████| 40/40 [00:04<00:00,  8.25it/s]\n"
     ]
    },
    {
     "name": "stdout",
     "output_type": "stream",
     "text": [
      "Validation metrics: {'mse': tensor(0.3651, device='cuda:0')}\n",
      "Checkpointing succesfull after epoch 15\n"
     ]
    },
    {
     "name": "stderr",
     "output_type": "stream",
     "text": [
      "Epoch: Validating: 100%|██████████| 86/86 [00:11<00:00,  7.58it/s]\n"
     ]
    }
   ],
   "source": [
    "# use 50% more epochs, because training datasets only have a small horizon\n",
    "for key, value in dataset_dict.items():\n",
    "    train_and_evaluate(value, key, full_dataset=False, epoch=EPOCH)\n",
    "\n",
    "results_df.to_csv(metrics_output_path)"
   ]
  },
  {
   "cell_type": "code",
   "execution_count": 7,
   "metadata": {},
   "outputs": [
    {
     "name": "stdout",
     "output_type": "stream",
     "text": [
      "ELD\n",
      "Using device: cuda\n",
      "Training from scratch.\n"
     ]
    },
    {
     "name": "stderr",
     "output_type": "stream",
     "text": [
      "Epoch: 1: 100%|██████████| 151/151 [00:23<00:00,  6.56it/s]\n",
      "Epoch: Validating: 100%|██████████| 21/21 [00:02<00:00, 10.43it/s]\n"
     ]
    },
    {
     "name": "stdout",
     "output_type": "stream",
     "text": [
      "Validation metrics: {'mse': tensor(0.2490, device='cuda:0')}\n",
      "Checkpointing succesfull after epoch 1\n"
     ]
    },
    {
     "name": "stderr",
     "output_type": "stream",
     "text": [
      "Epoch: 2: 100%|██████████| 151/151 [00:26<00:00,  5.77it/s]\n",
      "Epoch: Validating: 100%|██████████| 21/21 [00:04<00:00,  5.02it/s]\n"
     ]
    },
    {
     "name": "stdout",
     "output_type": "stream",
     "text": [
      "Validation metrics: {'mse': tensor(0.2288, device='cuda:0')}\n",
      "Checkpointing succesfull after epoch 2\n"
     ]
    },
    {
     "name": "stderr",
     "output_type": "stream",
     "text": [
      "Epoch: 3: 100%|██████████| 151/151 [00:17<00:00,  8.43it/s]\n",
      "Epoch: Validating: 100%|██████████| 21/21 [00:00<00:00, 101.29it/s]\n"
     ]
    },
    {
     "name": "stdout",
     "output_type": "stream",
     "text": [
      "Validation metrics: {'mse': tensor(0.2189, device='cuda:0')}\n",
      "Checkpointing succesfull after epoch 3\n"
     ]
    },
    {
     "name": "stderr",
     "output_type": "stream",
     "text": [
      "Epoch: 4: 100%|██████████| 151/151 [00:15<00:00, 10.00it/s]\n",
      "Epoch: Validating: 100%|██████████| 21/21 [00:03<00:00,  6.87it/s]\n"
     ]
    },
    {
     "name": "stdout",
     "output_type": "stream",
     "text": [
      "Validation metrics: {'mse': tensor(0.2158, device='cuda:0')}\n",
      "Checkpointing succesfull after epoch 4\n"
     ]
    },
    {
     "name": "stderr",
     "output_type": "stream",
     "text": [
      "Epoch: 5: 100%|██████████| 151/151 [00:15<00:00,  9.82it/s]\n",
      "Epoch: Validating: 100%|██████████| 21/21 [00:00<00:00, 60.20it/s]\n"
     ]
    },
    {
     "name": "stdout",
     "output_type": "stream",
     "text": [
      "Validation metrics: {'mse': tensor(0.2135, device='cuda:0')}\n",
      "Checkpointing succesfull after epoch 5\n"
     ]
    },
    {
     "name": "stderr",
     "output_type": "stream",
     "text": [
      "Epoch: 6: 100%|██████████| 151/151 [00:06<00:00, 24.70it/s]\n",
      "Epoch: Validating: 100%|██████████| 21/21 [00:00<00:00, 135.88it/s]\n"
     ]
    },
    {
     "name": "stdout",
     "output_type": "stream",
     "text": [
      "Validation metrics: {'mse': tensor(0.2161, device='cuda:0')}\n",
      "Checkpointing succesfull after epoch 6\n"
     ]
    },
    {
     "name": "stderr",
     "output_type": "stream",
     "text": [
      "Epoch: 7: 100%|██████████| 151/151 [00:12<00:00, 12.09it/s]\n",
      "Epoch: Validating: 100%|██████████| 21/21 [00:00<00:00, 53.51it/s]\n"
     ]
    },
    {
     "name": "stdout",
     "output_type": "stream",
     "text": [
      "Validation metrics: {'mse': tensor(0.2272, device='cuda:0')}\n",
      "Checkpointing succesfull after epoch 7\n"
     ]
    },
    {
     "name": "stderr",
     "output_type": "stream",
     "text": [
      "Epoch: 8: 100%|██████████| 151/151 [00:14<00:00, 10.49it/s]\n",
      "Epoch: Validating: 100%|██████████| 21/21 [00:00<00:00, 75.67it/s]\n"
     ]
    },
    {
     "name": "stdout",
     "output_type": "stream",
     "text": [
      "Validation metrics: {'mse': tensor(0.2317, device='cuda:0')}\n",
      "Checkpointing succesfull after epoch 8\n"
     ]
    },
    {
     "name": "stderr",
     "output_type": "stream",
     "text": [
      "Epoch: 9: 100%|██████████| 151/151 [00:15<00:00,  9.98it/s]\n",
      "Epoch: Validating: 100%|██████████| 21/21 [00:00<00:00, 113.38it/s]\n"
     ]
    },
    {
     "name": "stdout",
     "output_type": "stream",
     "text": [
      "Validation metrics: {'mse': tensor(0.2133, device='cuda:0')}\n",
      "Checkpointing succesfull after epoch 9\n"
     ]
    },
    {
     "name": "stderr",
     "output_type": "stream",
     "text": [
      "Epoch: 10: 100%|██████████| 151/151 [00:16<00:00,  9.27it/s]\n",
      "Epoch: Validating: 100%|██████████| 21/21 [00:00<00:00, 121.70it/s]\n"
     ]
    },
    {
     "name": "stdout",
     "output_type": "stream",
     "text": [
      "Validation metrics: {'mse': tensor(0.2209, device='cuda:0')}\n",
      "Checkpointing succesfull after epoch 10\n"
     ]
    },
    {
     "name": "stderr",
     "output_type": "stream",
     "text": [
      "Epoch: 11: 100%|██████████| 151/151 [00:11<00:00, 13.36it/s]\n",
      "Epoch: Validating: 100%|██████████| 21/21 [00:00<00:00, 136.60it/s]\n"
     ]
    },
    {
     "name": "stdout",
     "output_type": "stream",
     "text": [
      "Validation metrics: {'mse': tensor(0.2145, device='cuda:0')}\n",
      "Checkpointing succesfull after epoch 11\n"
     ]
    },
    {
     "name": "stderr",
     "output_type": "stream",
     "text": [
      "Epoch: 12: 100%|██████████| 151/151 [00:13<00:00, 10.83it/s]\n",
      "Epoch: Validating: 100%|██████████| 21/21 [00:00<00:00, 48.20it/s]\n"
     ]
    },
    {
     "name": "stdout",
     "output_type": "stream",
     "text": [
      "Validation metrics: {'mse': tensor(0.2149, device='cuda:0')}\n",
      "Checkpointing succesfull after epoch 12\n"
     ]
    },
    {
     "name": "stderr",
     "output_type": "stream",
     "text": [
      "Epoch: 13: 100%|██████████| 151/151 [00:18<00:00,  8.37it/s]\n",
      "Epoch: Validating: 100%|██████████| 21/21 [00:00<00:00, 77.42it/s] \n"
     ]
    },
    {
     "name": "stdout",
     "output_type": "stream",
     "text": [
      "Validation metrics: {'mse': tensor(0.2162, device='cuda:0')}\n",
      "Checkpointing succesfull after epoch 13\n"
     ]
    },
    {
     "name": "stderr",
     "output_type": "stream",
     "text": [
      "Epoch: 14: 100%|██████████| 151/151 [00:17<00:00,  8.41it/s]\n",
      "Epoch: Validating: 100%|██████████| 21/21 [00:00<00:00, 112.52it/s]\n"
     ]
    },
    {
     "name": "stdout",
     "output_type": "stream",
     "text": [
      "Validation metrics: {'mse': tensor(0.2180, device='cuda:0')}\n",
      "Checkpointing succesfull after epoch 14\n"
     ]
    },
    {
     "name": "stderr",
     "output_type": "stream",
     "text": [
      "Epoch: 15: 100%|██████████| 151/151 [00:16<00:00,  9.05it/s]\n",
      "Epoch: Validating: 100%|██████████| 21/21 [00:00<00:00, 84.26it/s] \n"
     ]
    },
    {
     "name": "stdout",
     "output_type": "stream",
     "text": [
      "Validation metrics: {'mse': tensor(0.2168, device='cuda:0')}\n",
      "Checkpointing succesfull after epoch 15\n"
     ]
    },
    {
     "name": "stderr",
     "output_type": "stream",
     "text": [
      "Epoch: Validating: 100%|██████████| 86/86 [00:08<00:00,  9.59it/s]\n",
      "/tmp/ipykernel_13751/1282971071.py:42: PerformanceWarning: indexing past lexsort depth may impact performance.\n",
      "  results_df.loc[(target_dataset, learning_scenario, \"MAE\"), model_name] = mae\n",
      "/tmp/ipykernel_13751/1282971071.py:43: PerformanceWarning: indexing past lexsort depth may impact performance.\n",
      "  results_df.loc[(target_dataset, learning_scenario, \"MSE\"), model_name] = mse\n"
     ]
    },
    {
     "name": "stdout",
     "output_type": "stream",
     "text": [
      "Bavaria\n",
      "Using device: cuda\n",
      "Training from scratch.\n"
     ]
    },
    {
     "name": "stderr",
     "output_type": "stream",
     "text": [
      "Epoch: 1: 100%|██████████| 304/304 [00:04<00:00, 65.53it/s]\n",
      "Epoch: Validating: 100%|██████████| 39/39 [00:00<00:00, 329.27it/s]\n"
     ]
    },
    {
     "name": "stdout",
     "output_type": "stream",
     "text": [
      "Validation metrics: {'mse': tensor(0.0005, device='cuda:0')}\n",
      "Checkpointing succesfull after epoch 1\n"
     ]
    },
    {
     "name": "stderr",
     "output_type": "stream",
     "text": [
      "Epoch: 2: 100%|██████████| 304/304 [00:04<00:00, 65.30it/s]\n",
      "Epoch: Validating: 100%|██████████| 39/39 [00:00<00:00, 193.72it/s]\n"
     ]
    },
    {
     "name": "stdout",
     "output_type": "stream",
     "text": [
      "Validation metrics: {'mse': tensor(0.0004, device='cuda:0')}\n",
      "Checkpointing succesfull after epoch 2\n"
     ]
    },
    {
     "name": "stderr",
     "output_type": "stream",
     "text": [
      "Epoch: 3: 100%|██████████| 304/304 [00:05<00:00, 56.90it/s]\n",
      "Epoch: Validating: 100%|██████████| 39/39 [00:00<00:00, 207.07it/s]\n"
     ]
    },
    {
     "name": "stdout",
     "output_type": "stream",
     "text": [
      "Validation metrics: {'mse': tensor(0.0003, device='cuda:0')}\n",
      "Checkpointing succesfull after epoch 3\n"
     ]
    },
    {
     "name": "stderr",
     "output_type": "stream",
     "text": [
      "Epoch: 4: 100%|██████████| 304/304 [00:04<00:00, 65.83it/s]\n",
      "Epoch: Validating: 100%|██████████| 39/39 [00:00<00:00, 286.53it/s]\n"
     ]
    },
    {
     "name": "stdout",
     "output_type": "stream",
     "text": [
      "Validation metrics: {'mse': tensor(0.0003, device='cuda:0')}\n",
      "Checkpointing succesfull after epoch 4\n"
     ]
    },
    {
     "name": "stderr",
     "output_type": "stream",
     "text": [
      "Epoch: 5: 100%|██████████| 304/304 [00:04<00:00, 61.18it/s]\n",
      "Epoch: Validating: 100%|██████████| 39/39 [00:00<00:00, 175.69it/s]\n"
     ]
    },
    {
     "name": "stdout",
     "output_type": "stream",
     "text": [
      "Validation metrics: {'mse': tensor(0.0003, device='cuda:0')}\n",
      "Checkpointing succesfull after epoch 5\n"
     ]
    },
    {
     "name": "stderr",
     "output_type": "stream",
     "text": [
      "Epoch: 6: 100%|██████████| 304/304 [00:04<00:00, 67.04it/s]\n",
      "Epoch: Validating: 100%|██████████| 39/39 [00:00<00:00, 171.89it/s]\n"
     ]
    },
    {
     "name": "stdout",
     "output_type": "stream",
     "text": [
      "Validation metrics: {'mse': tensor(0.0002, device='cuda:0')}\n",
      "Checkpointing succesfull after epoch 6\n"
     ]
    },
    {
     "name": "stderr",
     "output_type": "stream",
     "text": [
      "Epoch: 7: 100%|██████████| 304/304 [00:04<00:00, 63.20it/s]\n",
      "Epoch: Validating: 100%|██████████| 39/39 [00:00<00:00, 143.38it/s]\n"
     ]
    },
    {
     "name": "stdout",
     "output_type": "stream",
     "text": [
      "Validation metrics: {'mse': tensor(0.0002, device='cuda:0')}\n",
      "Checkpointing succesfull after epoch 7\n"
     ]
    },
    {
     "name": "stderr",
     "output_type": "stream",
     "text": [
      "Epoch: 8: 100%|██████████| 304/304 [00:04<00:00, 61.33it/s]\n",
      "Epoch: Validating: 100%|██████████| 39/39 [00:00<00:00, 240.88it/s]\n"
     ]
    },
    {
     "name": "stdout",
     "output_type": "stream",
     "text": [
      "Validation metrics: {'mse': tensor(0.0002, device='cuda:0')}\n",
      "Checkpointing succesfull after epoch 8\n"
     ]
    },
    {
     "name": "stderr",
     "output_type": "stream",
     "text": [
      "Epoch: 9: 100%|██████████| 304/304 [00:05<00:00, 59.73it/s]\n",
      "Epoch: Validating: 100%|██████████| 39/39 [00:00<00:00, 143.79it/s]\n"
     ]
    },
    {
     "name": "stdout",
     "output_type": "stream",
     "text": [
      "Validation metrics: {'mse': tensor(0.0002, device='cuda:0')}\n",
      "Checkpointing succesfull after epoch 9\n"
     ]
    },
    {
     "name": "stderr",
     "output_type": "stream",
     "text": [
      "Epoch: 10: 100%|██████████| 304/304 [00:05<00:00, 58.88it/s]\n",
      "Epoch: Validating: 100%|██████████| 39/39 [00:00<00:00, 170.26it/s]\n"
     ]
    },
    {
     "name": "stdout",
     "output_type": "stream",
     "text": [
      "Validation metrics: {'mse': tensor(0.0002, device='cuda:0')}\n",
      "Checkpointing succesfull after epoch 10\n"
     ]
    },
    {
     "name": "stderr",
     "output_type": "stream",
     "text": [
      "Epoch: 11: 100%|██████████| 304/304 [00:05<00:00, 58.15it/s]\n",
      "Epoch: Validating: 100%|██████████| 39/39 [00:00<00:00, 245.52it/s]\n"
     ]
    },
    {
     "name": "stdout",
     "output_type": "stream",
     "text": [
      "Validation metrics: {'mse': tensor(0.0002, device='cuda:0')}\n",
      "Checkpointing succesfull after epoch 11\n"
     ]
    },
    {
     "name": "stderr",
     "output_type": "stream",
     "text": [
      "Epoch: 12: 100%|██████████| 304/304 [00:04<00:00, 69.80it/s]\n",
      "Epoch: Validating: 100%|██████████| 39/39 [00:00<00:00, 275.90it/s]\n"
     ]
    },
    {
     "name": "stdout",
     "output_type": "stream",
     "text": [
      "Validation metrics: {'mse': tensor(0.0002, device='cuda:0')}\n",
      "Checkpointing succesfull after epoch 12\n"
     ]
    },
    {
     "name": "stderr",
     "output_type": "stream",
     "text": [
      "Epoch: 13: 100%|██████████| 304/304 [00:04<00:00, 66.55it/s]\n",
      "Epoch: Validating: 100%|██████████| 39/39 [00:00<00:00, 187.77it/s]\n"
     ]
    },
    {
     "name": "stdout",
     "output_type": "stream",
     "text": [
      "Validation metrics: {'mse': tensor(0.0002, device='cuda:0')}\n",
      "Checkpointing succesfull after epoch 13\n"
     ]
    },
    {
     "name": "stderr",
     "output_type": "stream",
     "text": [
      "Epoch: 14: 100%|██████████| 304/304 [00:05<00:00, 58.51it/s]\n",
      "Epoch: Validating: 100%|██████████| 39/39 [00:00<00:00, 171.11it/s]\n"
     ]
    },
    {
     "name": "stdout",
     "output_type": "stream",
     "text": [
      "Validation metrics: {'mse': tensor(0.0002, device='cuda:0')}\n",
      "Checkpointing succesfull after epoch 14\n"
     ]
    },
    {
     "name": "stderr",
     "output_type": "stream",
     "text": [
      "Epoch: 15: 100%|██████████| 304/304 [00:04<00:00, 64.68it/s]\n",
      "Epoch: Validating: 100%|██████████| 39/39 [00:00<00:00, 175.00it/s]\n"
     ]
    },
    {
     "name": "stdout",
     "output_type": "stream",
     "text": [
      "Validation metrics: {'mse': tensor(0.0002, device='cuda:0')}\n",
      "Checkpointing succesfull after epoch 15\n"
     ]
    },
    {
     "name": "stderr",
     "output_type": "stream",
     "text": [
      "Epoch: Validating: 100%|██████████| 83/83 [00:00<00:00, 133.43it/s]\n"
     ]
    },
    {
     "name": "stdout",
     "output_type": "stream",
     "text": [
      "GP2\n",
      "Using device: cuda\n",
      "Training from scratch.\n"
     ]
    },
    {
     "name": "stderr",
     "output_type": "stream",
     "text": [
      "Epoch: 1: 100%|██████████| 314/314 [02:03<00:00,  2.55it/s]\n",
      "Epoch: Validating: 100%|██████████| 40/40 [00:01<00:00, 22.42it/s]\n"
     ]
    },
    {
     "name": "stdout",
     "output_type": "stream",
     "text": [
      "Validation metrics: {'mse': tensor(0.3410, device='cuda:0')}\n",
      "Checkpointing succesfull after epoch 1\n"
     ]
    },
    {
     "name": "stderr",
     "output_type": "stream",
     "text": [
      "Epoch: 2: 100%|██████████| 314/314 [01:54<00:00,  2.75it/s]\n",
      "Epoch: Validating: 100%|██████████| 40/40 [00:03<00:00, 12.48it/s]\n"
     ]
    },
    {
     "name": "stdout",
     "output_type": "stream",
     "text": [
      "Validation metrics: {'mse': tensor(0.3319, device='cuda:0')}\n",
      "Checkpointing succesfull after epoch 2\n"
     ]
    },
    {
     "name": "stderr",
     "output_type": "stream",
     "text": [
      "Epoch: 3: 100%|██████████| 314/314 [01:38<00:00,  3.19it/s]\n",
      "Epoch: Validating: 100%|██████████| 40/40 [00:02<00:00, 14.88it/s]\n"
     ]
    },
    {
     "name": "stdout",
     "output_type": "stream",
     "text": [
      "Validation metrics: {'mse': tensor(0.3246, device='cuda:0')}\n",
      "Checkpointing succesfull after epoch 3\n"
     ]
    },
    {
     "name": "stderr",
     "output_type": "stream",
     "text": [
      "Epoch: 4: 100%|██████████| 314/314 [01:48<00:00,  2.89it/s]\n",
      "Epoch: Validating: 100%|██████████| 40/40 [00:08<00:00,  4.72it/s]\n"
     ]
    },
    {
     "name": "stdout",
     "output_type": "stream",
     "text": [
      "Validation metrics: {'mse': tensor(0.3243, device='cuda:0')}\n",
      "Checkpointing succesfull after epoch 4\n"
     ]
    },
    {
     "name": "stderr",
     "output_type": "stream",
     "text": [
      "Epoch: 5: 100%|██████████| 314/314 [01:19<00:00,  3.94it/s]\n",
      "Epoch: Validating: 100%|██████████| 40/40 [00:04<00:00,  9.52it/s]\n"
     ]
    },
    {
     "name": "stdout",
     "output_type": "stream",
     "text": [
      "Validation metrics: {'mse': tensor(0.3299, device='cuda:0')}\n",
      "Checkpointing succesfull after epoch 5\n"
     ]
    },
    {
     "name": "stderr",
     "output_type": "stream",
     "text": [
      "Epoch: 6: 100%|██████████| 314/314 [01:31<00:00,  3.44it/s]\n",
      "Epoch: Validating: 100%|██████████| 40/40 [00:08<00:00,  4.99it/s]\n"
     ]
    },
    {
     "name": "stdout",
     "output_type": "stream",
     "text": [
      "Validation metrics: {'mse': tensor(0.3228, device='cuda:0')}\n",
      "Checkpointing succesfull after epoch 6\n"
     ]
    },
    {
     "name": "stderr",
     "output_type": "stream",
     "text": [
      "Epoch: 7: 100%|██████████| 314/314 [01:19<00:00,  3.93it/s]\n",
      "Epoch: Validating: 100%|██████████| 40/40 [00:04<00:00,  8.59it/s]\n"
     ]
    },
    {
     "name": "stdout",
     "output_type": "stream",
     "text": [
      "Validation metrics: {'mse': tensor(0.3196, device='cuda:0')}\n",
      "Checkpointing succesfull after epoch 7\n"
     ]
    },
    {
     "name": "stderr",
     "output_type": "stream",
     "text": [
      "Epoch: 8: 100%|██████████| 314/314 [01:46<00:00,  2.95it/s]\n",
      "Epoch: Validating: 100%|██████████| 40/40 [00:09<00:00,  4.44it/s]\n"
     ]
    },
    {
     "name": "stdout",
     "output_type": "stream",
     "text": [
      "Validation metrics: {'mse': tensor(0.3225, device='cuda:0')}\n",
      "Checkpointing succesfull after epoch 8\n"
     ]
    },
    {
     "name": "stderr",
     "output_type": "stream",
     "text": [
      "Epoch: 9: 100%|██████████| 314/314 [01:53<00:00,  2.76it/s]\n",
      "Epoch: Validating: 100%|██████████| 40/40 [00:07<00:00,  5.09it/s]\n"
     ]
    },
    {
     "name": "stdout",
     "output_type": "stream",
     "text": [
      "Validation metrics: {'mse': tensor(0.3222, device='cuda:0')}\n",
      "Checkpointing succesfull after epoch 9\n"
     ]
    },
    {
     "name": "stderr",
     "output_type": "stream",
     "text": [
      "Epoch: 10: 100%|██████████| 314/314 [02:07<00:00,  2.47it/s]\n",
      "Epoch: Validating: 100%|██████████| 40/40 [00:06<00:00,  6.14it/s]\n"
     ]
    },
    {
     "name": "stdout",
     "output_type": "stream",
     "text": [
      "Validation metrics: {'mse': tensor(0.3259, device='cuda:0')}\n",
      "Checkpointing succesfull after epoch 10\n"
     ]
    },
    {
     "name": "stderr",
     "output_type": "stream",
     "text": [
      "Epoch: 11: 100%|██████████| 314/314 [01:36<00:00,  3.27it/s]\n",
      "Epoch: Validating: 100%|██████████| 40/40 [00:11<00:00,  3.61it/s]\n"
     ]
    },
    {
     "name": "stdout",
     "output_type": "stream",
     "text": [
      "Validation metrics: {'mse': tensor(0.3165, device='cuda:0')}\n",
      "Checkpointing succesfull after epoch 11\n"
     ]
    },
    {
     "name": "stderr",
     "output_type": "stream",
     "text": [
      "Epoch: 12: 100%|██████████| 314/314 [02:47<00:00,  1.88it/s]\n",
      "Epoch: Validating: 100%|██████████| 40/40 [00:10<00:00,  3.81it/s]\n"
     ]
    },
    {
     "name": "stdout",
     "output_type": "stream",
     "text": [
      "Validation metrics: {'mse': tensor(0.3161, device='cuda:0')}\n",
      "Checkpointing succesfull after epoch 12\n"
     ]
    },
    {
     "name": "stderr",
     "output_type": "stream",
     "text": [
      "Epoch: 13: 100%|██████████| 314/314 [01:48<00:00,  2.90it/s]\n",
      "Epoch: Validating: 100%|██████████| 40/40 [00:02<00:00, 18.35it/s]\n"
     ]
    },
    {
     "name": "stdout",
     "output_type": "stream",
     "text": [
      "Validation metrics: {'mse': tensor(0.3182, device='cuda:0')}\n",
      "Checkpointing succesfull after epoch 13\n"
     ]
    },
    {
     "name": "stderr",
     "output_type": "stream",
     "text": [
      "Epoch: 14: 100%|██████████| 314/314 [01:48<00:00,  2.90it/s]\n",
      "Epoch: Validating: 100%|██████████| 40/40 [00:05<00:00,  6.91it/s]\n"
     ]
    },
    {
     "name": "stdout",
     "output_type": "stream",
     "text": [
      "Validation metrics: {'mse': tensor(0.3169, device='cuda:0')}\n",
      "Checkpointing succesfull after epoch 14\n"
     ]
    },
    {
     "name": "stderr",
     "output_type": "stream",
     "text": [
      "Epoch: 15: 100%|██████████| 314/314 [02:39<00:00,  1.97it/s]\n",
      "Epoch: Validating: 100%|██████████| 40/40 [00:08<00:00,  4.85it/s]\n"
     ]
    },
    {
     "name": "stdout",
     "output_type": "stream",
     "text": [
      "Validation metrics: {'mse': tensor(0.3180, device='cuda:0')}\n",
      "Checkpointing succesfull after epoch 15\n"
     ]
    },
    {
     "name": "stderr",
     "output_type": "stream",
     "text": [
      "Epoch: Validating: 100%|██████████| 86/86 [00:10<00:00,  8.06it/s]\n"
     ]
    }
   ],
   "source": [
    "for key, value in dataset_dict.items():\n",
    "    print(key)\n",
    "    train_and_evaluate(value, key, full_dataset=True, epoch=EPOCH)\n",
    "results_df.to_csv(metrics_output_path)"
   ]
  }
 ],
 "metadata": {
  "kernelspec": {
   "display_name": "Python 3",
   "language": "python",
   "name": "python3"
  },
  "language_info": {
   "codemirror_mode": {
    "name": "ipython",
    "version": 3
   },
   "file_extension": ".py",
   "mimetype": "text/x-python",
   "name": "python",
   "nbconvert_exporter": "python",
   "pygments_lexer": "ipython3",
   "version": "3.10.9"
  },
  "orig_nbformat": 4
 },
 "nbformat": 4,
 "nbformat_minor": 2
}
