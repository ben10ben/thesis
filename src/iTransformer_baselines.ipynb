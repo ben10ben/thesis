{
 "cells": [
  {
   "cell_type": "code",
   "execution_count": 1,
   "metadata": {},
   "outputs": [
    {
     "name": "stdout",
     "output_type": "stream",
     "text": [
      "Import succesfull\n"
     ]
    }
   ],
   "source": [
    "# TODO which one?\n",
    "#git clone https://github.com/lucidrains/iTransformer.git\n",
    "#import iTransformer\n",
    "import sys\n",
    "sys.path.append('/vol/fob-vol7/nebenf21/reinbene/bene/MA/iTransformer') \n",
    "import torch\n",
    "import torch.optim as optim\n",
    "import pandas as pd\n",
    "import config \n",
    "\n",
    "from iTransformer import iTransformer\n",
    "from utils import data_handling, training_functions, helpers\n",
    "from torch.utils.tensorboard import SummaryWriter\n",
    "from tqdm import tqdm\n",
    "\n",
    "\n",
    "# Define constants\n",
    "FOUR_WEEKS = -24*7*4\n",
    "EPOCH = 15\n",
    "WINDOW_SIZE= 96\n",
    "PRED_LENGTH = (96)\n",
    "\n",
    "# define output file\n",
    "metrics_output_path = config.CONFIG_OUTPUT_PATH[\"itransformer\"] / \"itransformer_results_baseline.csv\"\n",
    "target_dataset = [\"ELD\", \"Bavaria\", \"GP2\"]\n",
    "\n",
    "# Load previous results if present\n",
    "try:\n",
    "    results_df = pd.read_csv(metrics_output_path, index_col=[0, 1, 2])\n",
    "except FileNotFoundError:\n",
    "    metrics = [\"MSE\", \"MAE\"]\n",
    "    learning_scenarios = [\"Zero-Shot\", \"four_weeks_tl\", \"full_tl\", \"full_training\", \"four_weeks_training\"]\n",
    "    index = pd.MultiIndex.from_product([target_dataset, learning_scenarios, metrics], names=[\"Target\", \"Learning_scenario\", \"Metric\"])\n",
    "    results_df = pd.DataFrame(columns=[\"iTransformer\"], index=index)\n",
    "\n",
    "# Helper functions\n",
    "def update_metrics(target_dataset, model_name, learning_scenario, mae, mse):\n",
    "    results_df.loc[(target_dataset, learning_scenario, \"MAE\"), model_name] = mae\n",
    "    results_df.loc[(target_dataset, learning_scenario, \"MSE\"), model_name] = mse\n",
    "\n",
    "\n",
    "print(\"Import succesfull\")"
   ]
  },
  {
   "cell_type": "markdown",
   "metadata": {},
   "source": [
    "# Do baseline predicitons on all 3 target test splits using iTransformer\n",
    "\n",
    "This notebook trains the iTransformer model on all 3 datasets for the four_week and the full_training setups.\n",
    "The best model on validation MSE is saved for transfer learning."
   ]
  },
  {
   "cell_type": "code",
   "execution_count": 2,
   "metadata": {},
   "outputs": [
    {
     "name": "stdout",
     "output_type": "stream",
     "text": [
      "Feature batch shape: torch.Size([32, 96, 348])\n"
     ]
    }
   ],
   "source": [
    "# use electricity dataset\n",
    "data_dict = data_handling.load_electricity()\n",
    "\n",
    "electricity = {}\n",
    "electricity[\"dataloader_train\"], electricity[\"dataloader_validation\"], electricity[\"dataloader_test\"] = data_handling.convert_data(data_dict, WINDOW_SIZE, PRED_LENGTH)\n",
    "data_dict[\"train\"].shape\n",
    "\n",
    "# create a smaller subset of the train dataset\n",
    "electricity[\"4_weeks_train\"] = data_dict[\"train\"][FOUR_WEEKS:,:]\n",
    "electricity[\"4_weeks_train\"] = data_handling.SlidingWindowTimeSeriesDataset(electricity[\"4_weeks_train\"] , WINDOW_SIZE, PRED_LENGTH)\n",
    "electricity[\"4_weeks_train\"] = data_handling.DataLoader(electricity[\"4_weeks_train\"] , batch_size=32, shuffle=True)"
   ]
  },
  {
   "cell_type": "code",
   "execution_count": 3,
   "metadata": {},
   "outputs": [
    {
     "name": "stdout",
     "output_type": "stream",
     "text": [
      "Feature batch shape: torch.Size([32, 96, 1454])\n"
     ]
    }
   ],
   "source": [
    "# building genome project dataset\n",
    "data_tensor = data_handling.load_genome_project_data()\n",
    "gp_dict, standadizer = data_handling.train_test_split_eu_elec(data_tensor, standardize=True)\n",
    "\n",
    "# convert to dataloader\n",
    "genome_project = {}\n",
    "genome_project[\"dataloader_train\"], genome_project[\"dataloader_validation\"], genome_project[\"dataloader_test\"] = data_handling.convert_data(gp_dict, WINDOW_SIZE, PRED_LENGTH)\n",
    "\n",
    "# create a smaller subset of the train dataset\n",
    "genome_project[\"4_weeks_train\"] = gp_dict[\"train\"][FOUR_WEEKS:,:]\n",
    "genome_project[\"4_weeks_train\"] = data_handling.SlidingWindowTimeSeriesDataset(genome_project[\"4_weeks_train\"] , WINDOW_SIZE, PRED_LENGTH)\n",
    "genome_project[\"4_weeks_train\"] = data_handling.DataLoader(genome_project[\"4_weeks_train\"] , batch_size=32, shuffle=True)\n"
   ]
  },
  {
   "cell_type": "code",
   "execution_count": 4,
   "metadata": {},
   "outputs": [
    {
     "name": "stdout",
     "output_type": "stream",
     "text": [
      "Feature batch shape: torch.Size([32, 96, 59])\n"
     ]
    }
   ],
   "source": [
    "# bavaria dataset\n",
    "data_tensor = data_handling.load_bavaria_electricity()\n",
    "data_dict, standadizer = data_handling.train_test_split_eu_elec(data_tensor, standardize=True)\n",
    "\n",
    "# convert to datalaoder\n",
    "bavaria = {}\n",
    "bavaria[\"dataloader_train\"], bavaria[\"dataloader_validation\"], bavaria[\"dataloader_test\"] = data_handling.convert_data(data_dict, WINDOW_SIZE, PRED_LENGTH)\n",
    "\n",
    "# create a smaller subset of the train dataset\n",
    "bavaria[\"4_weeks_train\"] = data_dict[\"train\"][FOUR_WEEKS:,:]\n",
    "bavaria[\"4_weeks_train\"] = data_handling.SlidingWindowTimeSeriesDataset(bavaria[\"4_weeks_train\"] , WINDOW_SIZE, PRED_LENGTH)\n",
    "bavaria[\"4_weeks_train\"] = data_handling.DataLoader(bavaria[\"4_weeks_train\"] , batch_size=32, shuffle=True)"
   ]
  },
  {
   "cell_type": "code",
   "execution_count": 5,
   "metadata": {},
   "outputs": [],
   "source": [
    "# run experiment for each dataset and save model and evaluation metrics\n",
    "dataset_dict = {\n",
    "                \"ELD\": electricity,\n",
    "                \"Bavaria\": bavaria,\n",
    "                \"GP2\" : genome_project,                \n",
    "                }\n",
    "\n",
    "\n",
    "def train_and_evaluate(dataset_dict, dataset_name, full_dataset= True, epoch=15):\n",
    "    \"\"\"\n",
    "    Instantiate, train, and evaluate the setup specified from the input\n",
    "    Results are saved as csv \n",
    "    Checkpoints are saved and resumed\n",
    "    \"\"\"\n",
    "    if full_dataset == False:\n",
    "        print(\"Selecting 4 week dataset\")\n",
    "        training_dataloader = dataset_dict[\"4_weeks_train\"]\n",
    "    else:\n",
    "        training_dataloader = dataset_dict[\"dataloader_train\"]\n",
    "        \n",
    "    inputs, _ = next(iter(training_dataloader))\n",
    "    num_variates = inputs.size(2)\n",
    "    \n",
    "    # define parameters and create config \n",
    "    best_parameters = {'depth': 2, 'dim': 256, 'dim_head': 56, 'heads': 4, 'attn_dropout': 0.25, 'ff_mult': 4, 'ff_dropout': 0.25, \n",
    "                    'num_mem_tokens': 4, 'learning_rate': 0.0005}\n",
    "\n",
    "\n",
    "    model_config = {\n",
    "        'num_variates': num_variates,\n",
    "        'lookback_len': WINDOW_SIZE,\n",
    "        'depth': best_parameters[\"depth\"],\n",
    "        'dim': best_parameters[\"dim\"],\n",
    "        'num_tokens_per_variate': 1,\n",
    "        'pred_length': PRED_LENGTH,\n",
    "        'dim_head': best_parameters[\"dim_head\"],\n",
    "        'heads': best_parameters[\"heads\"],\n",
    "        'attn_dropout': best_parameters[\"attn_dropout\"],\n",
    "        'ff_mult': best_parameters[\"ff_mult\"],\n",
    "        'ff_dropout': best_parameters[\"ff_dropout\"],\n",
    "        'num_mem_tokens': best_parameters[\"num_mem_tokens\"],\n",
    "        'use_reversible_instance_norm': True,\n",
    "        'reversible_instance_norm_affine': True,\n",
    "        'flash_attn': True\n",
    "    }\n",
    "\n",
    "    # select available deviec\n",
    "    device = torch.device(\"cuda:1\" if torch.cuda.is_available() else \"cpu\")\n",
    "\n",
    "    print(f\"Using device: {device}\")\n",
    "\n",
    "    # defining all needed instances\n",
    "    model = iTransformer(**model_config).to(device)\n",
    "    optimizer = optim.Adam(model.parameters(), lr=best_parameters[\"learning_rate\"])\n",
    "    #scheduler = optim.lr_scheduler.StepLR(optimizer, step_size=15, gamma=0.1)\n",
    "    #writer = SummaryWriter(log_dir=config.CONFIG_LOGS_PATH[\"itransformer\"] / dataset_name)\n",
    "\n",
    "    # run model training as mentioned in the original paper\n",
    "    if full_dataset == False:\n",
    "        checkpoint_path = config.CONFIG_MODEL_LOCATION[\"itransformer\"] / dataset_name / f\"{dataset_name}_4_weeks_best_val_loss.pt\"\n",
    "    else:\n",
    "        checkpoint_path = config.CONFIG_MODEL_LOCATION[\"itransformer\"] / dataset_name / f\"{dataset_name}_full_dataset_best_val_loss.pt\"\n",
    "\n",
    "\n",
    "    # load model with best validaiton mse\n",
    "    try:\n",
    "        checkpoint = torch.load(checkpoint_path)\n",
    "        model = iTransformer(**model_config).to(device)\n",
    "        model.load_state_dict(checkpoint['model_state_dict'])\n",
    "        epoch = EPOCH - checkpoint[\"epoch\"]\n",
    "        if epoch == 0:\n",
    "            print(\"Model is already trained for 15 epochs.\")\n",
    "            return None\n",
    "    except:\n",
    "        print(\"Training from scratch.\")\n",
    "\n",
    "    _, best_model = training_functions.train_one_epoch(epoch=epoch, model=model, device=device, \\\n",
    "                                                                   dataloader_train=training_dataloader,    \\\n",
    "                                                dataloader_validation=dataset_dict[\"dataloader_validation\"],\\\n",
    "                                                optimizer=optimizer, checkpoint_path=checkpoint_path,       \\\n",
    "                                                save_model=True, validate=True)\n",
    "\n",
    "\n",
    "    # predict on test set\n",
    "    metrics = helpers.full_eval(best_model, dataset_dict[\"dataloader_test\"], device)\n",
    "\n",
    "    if full_dataset == False:\n",
    "        update_metrics(dataset_name, \"iTransformer\", \"four_weeks_training\", metrics[1], metrics[0])\n",
    "    else:\n",
    "        update_metrics(dataset_name, \"iTransformer\", \"full_training\", metrics[1], metrics[0])\n"
   ]
  },
  {
   "cell_type": "code",
   "execution_count": 6,
   "metadata": {},
   "outputs": [
    {
     "name": "stdout",
     "output_type": "stream",
     "text": [
      "Selecting 4 week dataset\n",
      "Using device: cuda:1\n",
      "Non-A100 GPU detected, using math or mem efficient attention if input tensor is on cuda\n",
      "Training from scratch.\n"
     ]
    },
    {
     "name": "stderr",
     "output_type": "stream",
     "text": [
      "Epoch: 1: 100%|██████████| 15/15 [00:11<00:00,  1.32it/s]\n",
      "Epoch: Validating: 100%|██████████| 21/21 [00:06<00:00,  3.45it/s]\n"
     ]
    },
    {
     "name": "stdout",
     "output_type": "stream",
     "text": [
      "Validation metrics: {'mse': tensor(0.4310, device='cuda:1')}\n",
      "Checkpointing succesfull after epoch 1\n"
     ]
    },
    {
     "name": "stderr",
     "output_type": "stream",
     "text": [
      "Epoch: 2: 100%|██████████| 15/15 [00:09<00:00,  1.56it/s]\n",
      "Epoch: Validating: 100%|██████████| 21/21 [00:07<00:00,  2.64it/s]\n"
     ]
    },
    {
     "name": "stdout",
     "output_type": "stream",
     "text": [
      "Validation metrics: {'mse': tensor(0.3208, device='cuda:1')}\n",
      "Checkpointing succesfull after epoch 2\n"
     ]
    },
    {
     "name": "stderr",
     "output_type": "stream",
     "text": [
      "Epoch: 3: 100%|██████████| 15/15 [00:08<00:00,  1.78it/s]\n",
      "Epoch: Validating: 100%|██████████| 21/21 [00:07<00:00,  2.69it/s]\n"
     ]
    },
    {
     "name": "stdout",
     "output_type": "stream",
     "text": [
      "Validation metrics: {'mse': tensor(0.2913, device='cuda:1')}\n",
      "Checkpointing succesfull after epoch 3\n"
     ]
    },
    {
     "name": "stderr",
     "output_type": "stream",
     "text": [
      "Epoch: 4: 100%|██████████| 15/15 [00:09<00:00,  1.63it/s]\n",
      "Epoch: Validating: 100%|██████████| 21/21 [00:05<00:00,  3.58it/s]\n"
     ]
    },
    {
     "name": "stdout",
     "output_type": "stream",
     "text": [
      "Validation metrics: {'mse': tensor(0.2775, device='cuda:1')}\n",
      "Checkpointing succesfull after epoch 4\n"
     ]
    },
    {
     "name": "stderr",
     "output_type": "stream",
     "text": [
      "Epoch: 5: 100%|██████████| 15/15 [00:05<00:00,  2.79it/s]\n",
      "Epoch: Validating: 100%|██████████| 21/21 [00:02<00:00,  7.76it/s]\n"
     ]
    },
    {
     "name": "stdout",
     "output_type": "stream",
     "text": [
      "Validation metrics: {'mse': tensor(0.2670, device='cuda:1')}\n",
      "Checkpointing succesfull after epoch 5\n"
     ]
    },
    {
     "name": "stderr",
     "output_type": "stream",
     "text": [
      "Epoch: 6: 100%|██████████| 15/15 [00:01<00:00,  7.83it/s]\n",
      "Epoch: Validating: 100%|██████████| 21/21 [00:00<00:00, 35.84it/s]\n"
     ]
    },
    {
     "name": "stdout",
     "output_type": "stream",
     "text": [
      "Validation metrics: {'mse': tensor(0.2587, device='cuda:1')}\n",
      "Checkpointing succesfull after epoch 6\n"
     ]
    },
    {
     "name": "stderr",
     "output_type": "stream",
     "text": [
      "Epoch: 7: 100%|██████████| 15/15 [00:00<00:00, 19.09it/s]\n",
      "Epoch: Validating: 100%|██████████| 21/21 [00:00<00:00, 44.13it/s]\n"
     ]
    },
    {
     "name": "stdout",
     "output_type": "stream",
     "text": [
      "Validation metrics: {'mse': tensor(0.2537, device='cuda:1')}\n",
      "Checkpointing succesfull after epoch 7\n"
     ]
    },
    {
     "name": "stderr",
     "output_type": "stream",
     "text": [
      "Epoch: 8: 100%|██████████| 15/15 [00:01<00:00,  8.43it/s]\n",
      "Epoch: Validating: 100%|██████████| 21/21 [00:00<00:00, 35.90it/s]\n"
     ]
    },
    {
     "name": "stdout",
     "output_type": "stream",
     "text": [
      "Validation metrics: {'mse': tensor(0.2477, device='cuda:1')}\n",
      "Checkpointing succesfull after epoch 8\n"
     ]
    },
    {
     "name": "stderr",
     "output_type": "stream",
     "text": [
      "Epoch: 9: 100%|██████████| 15/15 [00:02<00:00,  7.47it/s]\n",
      "Epoch: Validating: 100%|██████████| 21/21 [00:00<00:00, 30.21it/s]\n"
     ]
    },
    {
     "name": "stdout",
     "output_type": "stream",
     "text": [
      "Validation metrics: {'mse': tensor(0.2463, device='cuda:1')}\n",
      "Checkpointing succesfull after epoch 9\n"
     ]
    },
    {
     "name": "stderr",
     "output_type": "stream",
     "text": [
      "Epoch: 10: 100%|██████████| 15/15 [00:01<00:00,  8.23it/s]\n",
      "Epoch: Validating: 100%|██████████| 21/21 [00:01<00:00, 15.93it/s]\n"
     ]
    },
    {
     "name": "stdout",
     "output_type": "stream",
     "text": [
      "Validation metrics: {'mse': tensor(0.2454, device='cuda:1')}\n",
      "Checkpointing succesfull after epoch 10\n"
     ]
    },
    {
     "name": "stderr",
     "output_type": "stream",
     "text": [
      "Epoch: 11: 100%|██████████| 15/15 [00:02<00:00,  6.65it/s]\n",
      "Epoch: Validating: 100%|██████████| 21/21 [00:01<00:00, 11.28it/s]\n"
     ]
    },
    {
     "name": "stdout",
     "output_type": "stream",
     "text": [
      "Validation metrics: {'mse': tensor(0.2444, device='cuda:1')}\n",
      "Checkpointing succesfull after epoch 11\n"
     ]
    },
    {
     "name": "stderr",
     "output_type": "stream",
     "text": [
      "Epoch: 12: 100%|██████████| 15/15 [00:05<00:00,  2.89it/s]\n",
      "Epoch: Validating: 100%|██████████| 21/21 [00:09<00:00,  2.31it/s]\n"
     ]
    },
    {
     "name": "stdout",
     "output_type": "stream",
     "text": [
      "Validation metrics: {'mse': tensor(0.2422, device='cuda:1')}\n",
      "Checkpointing succesfull after epoch 12\n"
     ]
    },
    {
     "name": "stderr",
     "output_type": "stream",
     "text": [
      "Epoch: 13: 100%|██████████| 15/15 [00:04<00:00,  3.35it/s]\n",
      "Epoch: Validating: 100%|██████████| 21/21 [00:02<00:00,  8.42it/s]\n"
     ]
    },
    {
     "name": "stdout",
     "output_type": "stream",
     "text": [
      "Validation metrics: {'mse': tensor(0.2429, device='cuda:1')}\n",
      "Checkpointing succesfull after epoch 13\n"
     ]
    },
    {
     "name": "stderr",
     "output_type": "stream",
     "text": [
      "Epoch: 14: 100%|██████████| 15/15 [00:12<00:00,  1.25it/s]\n",
      "Epoch: Validating: 100%|██████████| 21/21 [00:01<00:00, 13.65it/s]\n"
     ]
    },
    {
     "name": "stdout",
     "output_type": "stream",
     "text": [
      "Validation metrics: {'mse': tensor(0.2401, device='cuda:1')}\n",
      "Checkpointing succesfull after epoch 14\n"
     ]
    },
    {
     "name": "stderr",
     "output_type": "stream",
     "text": [
      "Epoch: 15: 100%|██████████| 15/15 [00:08<00:00,  1.74it/s]\n",
      "Epoch: Validating: 100%|██████████| 21/21 [00:03<00:00,  5.40it/s]\n"
     ]
    },
    {
     "name": "stdout",
     "output_type": "stream",
     "text": [
      "Validation metrics: {'mse': tensor(0.2398, device='cuda:1')}\n",
      "Checkpointing succesfull after epoch 15\n"
     ]
    },
    {
     "name": "stderr",
     "output_type": "stream",
     "text": [
      "Epoch: Validating: 100%|██████████| 86/86 [00:19<00:00,  4.48it/s]\n",
      "/tmp/ipykernel_23669/1282971071.py:42: PerformanceWarning: indexing past lexsort depth may impact performance.\n",
      "  results_df.loc[(target_dataset, learning_scenario, \"MAE\"), model_name] = mae\n",
      "/tmp/ipykernel_23669/1282971071.py:43: PerformanceWarning: indexing past lexsort depth may impact performance.\n",
      "  results_df.loc[(target_dataset, learning_scenario, \"MSE\"), model_name] = mse\n"
     ]
    },
    {
     "name": "stdout",
     "output_type": "stream",
     "text": [
      "Selecting 4 week dataset\n",
      "Using device: cuda:1\n",
      "Training from scratch.\n"
     ]
    },
    {
     "name": "stderr",
     "output_type": "stream",
     "text": [
      "Epoch: 1: 100%|██████████| 15/15 [00:00<00:00, 77.98it/s]\n",
      "Epoch: Validating: 100%|██████████| 39/39 [00:00<00:00, 201.08it/s]\n"
     ]
    },
    {
     "name": "stdout",
     "output_type": "stream",
     "text": [
      "Validation metrics: {'mse': tensor(0.1914, device='cuda:1')}\n",
      "Checkpointing succesfull after epoch 1\n"
     ]
    },
    {
     "name": "stderr",
     "output_type": "stream",
     "text": [
      "Epoch: 2: 100%|██████████| 15/15 [00:00<00:00, 84.29it/s]\n",
      "Epoch: Validating: 100%|██████████| 39/39 [00:00<00:00, 269.20it/s]\n"
     ]
    },
    {
     "name": "stdout",
     "output_type": "stream",
     "text": [
      "Validation metrics: {'mse': tensor(0.0605, device='cuda:1')}\n",
      "Checkpointing succesfull after epoch 2\n"
     ]
    },
    {
     "name": "stderr",
     "output_type": "stream",
     "text": [
      "Epoch: 3: 100%|██████████| 15/15 [00:00<00:00, 66.96it/s]\n",
      "Epoch: Validating: 100%|██████████| 39/39 [00:00<00:00, 194.09it/s]\n"
     ]
    },
    {
     "name": "stdout",
     "output_type": "stream",
     "text": [
      "Validation metrics: {'mse': tensor(0.0104, device='cuda:1')}\n",
      "Checkpointing succesfull after epoch 3\n"
     ]
    },
    {
     "name": "stderr",
     "output_type": "stream",
     "text": [
      "Epoch: 4: 100%|██████████| 15/15 [00:00<00:00, 82.89it/s]\n",
      "Epoch: Validating: 100%|██████████| 39/39 [00:00<00:00, 249.45it/s]\n"
     ]
    },
    {
     "name": "stdout",
     "output_type": "stream",
     "text": [
      "Validation metrics: {'mse': tensor(0.0029, device='cuda:1')}\n",
      "Checkpointing succesfull after epoch 4\n"
     ]
    },
    {
     "name": "stderr",
     "output_type": "stream",
     "text": [
      "Epoch: 5: 100%|██████████| 15/15 [00:00<00:00, 68.65it/s]\n",
      "Epoch: Validating: 100%|██████████| 39/39 [00:00<00:00, 213.64it/s]\n"
     ]
    },
    {
     "name": "stdout",
     "output_type": "stream",
     "text": [
      "Validation metrics: {'mse': tensor(0.0013, device='cuda:1')}\n",
      "Checkpointing succesfull after epoch 5\n"
     ]
    },
    {
     "name": "stderr",
     "output_type": "stream",
     "text": [
      "Epoch: 6: 100%|██████████| 15/15 [00:00<00:00, 62.93it/s]\n",
      "Epoch: Validating: 100%|██████████| 39/39 [00:00<00:00, 268.13it/s]\n"
     ]
    },
    {
     "name": "stdout",
     "output_type": "stream",
     "text": [
      "Validation metrics: {'mse': tensor(0.0008, device='cuda:1')}\n",
      "Checkpointing succesfull after epoch 6\n"
     ]
    },
    {
     "name": "stderr",
     "output_type": "stream",
     "text": [
      "Epoch: 7: 100%|██████████| 15/15 [00:00<00:00, 69.64it/s]\n",
      "Epoch: Validating: 100%|██████████| 39/39 [00:00<00:00, 247.75it/s]\n"
     ]
    },
    {
     "name": "stdout",
     "output_type": "stream",
     "text": [
      "Validation metrics: {'mse': tensor(0.0007, device='cuda:1')}\n",
      "Checkpointing succesfull after epoch 7\n"
     ]
    },
    {
     "name": "stderr",
     "output_type": "stream",
     "text": [
      "Epoch: 8: 100%|██████████| 15/15 [00:00<00:00, 85.09it/s]\n",
      "Epoch: Validating: 100%|██████████| 39/39 [00:00<00:00, 255.86it/s]\n"
     ]
    },
    {
     "name": "stdout",
     "output_type": "stream",
     "text": [
      "Validation metrics: {'mse': tensor(0.0007, device='cuda:1')}\n",
      "Checkpointing succesfull after epoch 8\n"
     ]
    },
    {
     "name": "stderr",
     "output_type": "stream",
     "text": [
      "Epoch: 9: 100%|██████████| 15/15 [00:00<00:00, 64.50it/s]\n",
      "Epoch: Validating: 100%|██████████| 39/39 [00:00<00:00, 171.05it/s]\n"
     ]
    },
    {
     "name": "stdout",
     "output_type": "stream",
     "text": [
      "Validation metrics: {'mse': tensor(0.0007, device='cuda:1')}\n",
      "Checkpointing succesfull after epoch 9\n"
     ]
    },
    {
     "name": "stderr",
     "output_type": "stream",
     "text": [
      "Epoch: 10: 100%|██████████| 15/15 [00:00<00:00, 64.06it/s]\n",
      "Epoch: Validating: 100%|██████████| 39/39 [00:00<00:00, 247.61it/s]\n"
     ]
    },
    {
     "name": "stdout",
     "output_type": "stream",
     "text": [
      "Validation metrics: {'mse': tensor(0.0007, device='cuda:1')}\n",
      "Checkpointing succesfull after epoch 10\n"
     ]
    },
    {
     "name": "stderr",
     "output_type": "stream",
     "text": [
      "Epoch: 11: 100%|██████████| 15/15 [00:00<00:00, 85.74it/s]\n",
      "Epoch: Validating: 100%|██████████| 39/39 [00:00<00:00, 186.09it/s]\n"
     ]
    },
    {
     "name": "stdout",
     "output_type": "stream",
     "text": [
      "Validation metrics: {'mse': tensor(0.0007, device='cuda:1')}\n",
      "Checkpointing succesfull after epoch 11\n"
     ]
    },
    {
     "name": "stderr",
     "output_type": "stream",
     "text": [
      "Epoch: 12: 100%|██████████| 15/15 [00:00<00:00, 78.80it/s]\n",
      "Epoch: Validating: 100%|██████████| 39/39 [00:00<00:00, 260.14it/s]\n"
     ]
    },
    {
     "name": "stdout",
     "output_type": "stream",
     "text": [
      "Validation metrics: {'mse': tensor(0.0007, device='cuda:1')}\n",
      "Checkpointing succesfull after epoch 12\n"
     ]
    },
    {
     "name": "stderr",
     "output_type": "stream",
     "text": [
      "Epoch: 13: 100%|██████████| 15/15 [00:00<00:00, 63.99it/s]\n",
      "Epoch: Validating: 100%|██████████| 39/39 [00:00<00:00, 293.76it/s]\n"
     ]
    },
    {
     "name": "stdout",
     "output_type": "stream",
     "text": [
      "Validation metrics: {'mse': tensor(0.0007, device='cuda:1')}\n",
      "Checkpointing succesfull after epoch 13\n"
     ]
    },
    {
     "name": "stderr",
     "output_type": "stream",
     "text": [
      "Epoch: 14: 100%|██████████| 15/15 [00:00<00:00, 60.16it/s]\n",
      "Epoch: Validating: 100%|██████████| 39/39 [00:00<00:00, 208.47it/s]\n"
     ]
    },
    {
     "name": "stdout",
     "output_type": "stream",
     "text": [
      "Validation metrics: {'mse': tensor(0.0007, device='cuda:1')}\n",
      "Checkpointing succesfull after epoch 14\n"
     ]
    },
    {
     "name": "stderr",
     "output_type": "stream",
     "text": [
      "Epoch: 15: 100%|██████████| 15/15 [00:00<00:00, 71.00it/s]\n",
      "Epoch: Validating: 100%|██████████| 39/39 [00:00<00:00, 229.22it/s]\n"
     ]
    },
    {
     "name": "stdout",
     "output_type": "stream",
     "text": [
      "Validation metrics: {'mse': tensor(0.0007, device='cuda:1')}\n",
      "Checkpointing succesfull after epoch 15\n"
     ]
    },
    {
     "name": "stderr",
     "output_type": "stream",
     "text": [
      "Epoch: Validating: 100%|██████████| 83/83 [00:00<00:00, 183.52it/s]\n"
     ]
    },
    {
     "name": "stdout",
     "output_type": "stream",
     "text": [
      "Selecting 4 week dataset\n",
      "Using device: cuda:1\n",
      "Training from scratch.\n"
     ]
    },
    {
     "name": "stderr",
     "output_type": "stream",
     "text": [
      "Epoch: 1: 100%|██████████| 15/15 [00:08<00:00,  1.79it/s]\n",
      "Epoch: Validating: 100%|██████████| 40/40 [00:10<00:00,  3.85it/s]\n"
     ]
    },
    {
     "name": "stdout",
     "output_type": "stream",
     "text": [
      "Validation metrics: {'mse': tensor(0.5115, device='cuda:1')}\n",
      "Checkpointing succesfull after epoch 1\n"
     ]
    },
    {
     "name": "stderr",
     "output_type": "stream",
     "text": [
      "Epoch: 2: 100%|██████████| 15/15 [00:10<00:00,  1.49it/s]\n",
      "Epoch: Validating: 100%|██████████| 40/40 [00:13<00:00,  2.90it/s]\n"
     ]
    },
    {
     "name": "stdout",
     "output_type": "stream",
     "text": [
      "Validation metrics: {'mse': tensor(0.4599, device='cuda:1')}\n",
      "Checkpointing succesfull after epoch 2\n"
     ]
    },
    {
     "name": "stderr",
     "output_type": "stream",
     "text": [
      "Epoch: 3: 100%|██████████| 15/15 [00:07<00:00,  1.95it/s]\n",
      "Epoch: Validating: 100%|██████████| 40/40 [00:09<00:00,  4.23it/s]\n"
     ]
    },
    {
     "name": "stdout",
     "output_type": "stream",
     "text": [
      "Validation metrics: {'mse': tensor(0.4221, device='cuda:1')}\n",
      "Checkpointing succesfull after epoch 3\n"
     ]
    },
    {
     "name": "stderr",
     "output_type": "stream",
     "text": [
      "Epoch: 4: 100%|██████████| 15/15 [00:07<00:00,  2.07it/s]\n",
      "Epoch: Validating: 100%|██████████| 40/40 [00:13<00:00,  3.03it/s]\n"
     ]
    },
    {
     "name": "stdout",
     "output_type": "stream",
     "text": [
      "Validation metrics: {'mse': tensor(0.3999, device='cuda:1')}\n",
      "Checkpointing succesfull after epoch 4\n"
     ]
    },
    {
     "name": "stderr",
     "output_type": "stream",
     "text": [
      "Epoch: 5: 100%|██████████| 15/15 [00:11<00:00,  1.28it/s]\n",
      "Epoch: Validating: 100%|██████████| 40/40 [00:10<00:00,  3.98it/s]\n"
     ]
    },
    {
     "name": "stdout",
     "output_type": "stream",
     "text": [
      "Validation metrics: {'mse': tensor(0.3883, device='cuda:1')}\n",
      "Checkpointing succesfull after epoch 5\n"
     ]
    },
    {
     "name": "stderr",
     "output_type": "stream",
     "text": [
      "Epoch: 6: 100%|██████████| 15/15 [00:06<00:00,  2.27it/s]\n",
      "Epoch: Validating: 100%|██████████| 40/40 [00:08<00:00,  4.79it/s]\n"
     ]
    },
    {
     "name": "stdout",
     "output_type": "stream",
     "text": [
      "Validation metrics: {'mse': tensor(0.3794, device='cuda:1')}\n",
      "Checkpointing succesfull after epoch 6\n"
     ]
    },
    {
     "name": "stderr",
     "output_type": "stream",
     "text": [
      "Epoch: 7: 100%|██████████| 15/15 [00:09<00:00,  1.62it/s]\n",
      "Epoch: Validating: 100%|██████████| 40/40 [00:10<00:00,  3.89it/s]\n"
     ]
    },
    {
     "name": "stdout",
     "output_type": "stream",
     "text": [
      "Validation metrics: {'mse': tensor(0.3757, device='cuda:1')}\n",
      "Checkpointing succesfull after epoch 7\n"
     ]
    },
    {
     "name": "stderr",
     "output_type": "stream",
     "text": [
      "Epoch: 8: 100%|██████████| 15/15 [00:08<00:00,  1.69it/s]\n",
      "Epoch: Validating: 100%|██████████| 40/40 [00:03<00:00, 12.73it/s]\n"
     ]
    },
    {
     "name": "stdout",
     "output_type": "stream",
     "text": [
      "Validation metrics: {'mse': tensor(0.3705, device='cuda:1')}\n",
      "Checkpointing succesfull after epoch 8\n"
     ]
    },
    {
     "name": "stderr",
     "output_type": "stream",
     "text": [
      "Epoch: 9: 100%|██████████| 15/15 [00:05<00:00,  2.84it/s]\n",
      "Epoch: Validating: 100%|██████████| 40/40 [00:11<00:00,  3.54it/s]\n"
     ]
    },
    {
     "name": "stdout",
     "output_type": "stream",
     "text": [
      "Validation metrics: {'mse': tensor(0.3693, device='cuda:1')}\n",
      "Checkpointing succesfull after epoch 9\n"
     ]
    },
    {
     "name": "stderr",
     "output_type": "stream",
     "text": [
      "Epoch: 10: 100%|██████████| 15/15 [00:06<00:00,  2.41it/s]\n",
      "Epoch: Validating: 100%|██████████| 40/40 [00:07<00:00,  5.60it/s]\n"
     ]
    },
    {
     "name": "stdout",
     "output_type": "stream",
     "text": [
      "Validation metrics: {'mse': tensor(0.3664, device='cuda:1')}\n",
      "Checkpointing succesfull after epoch 10\n"
     ]
    },
    {
     "name": "stderr",
     "output_type": "stream",
     "text": [
      "Epoch: 11: 100%|██████████| 15/15 [00:08<00:00,  1.77it/s]\n",
      "Epoch: Validating: 100%|██████████| 40/40 [00:08<00:00,  4.93it/s]\n"
     ]
    },
    {
     "name": "stdout",
     "output_type": "stream",
     "text": [
      "Validation metrics: {'mse': tensor(0.3662, device='cuda:1')}\n",
      "Checkpointing succesfull after epoch 11\n"
     ]
    },
    {
     "name": "stderr",
     "output_type": "stream",
     "text": [
      "Epoch: 12: 100%|██████████| 15/15 [00:05<00:00,  2.71it/s]\n",
      "Epoch: Validating: 100%|██████████| 40/40 [00:09<00:00,  4.23it/s]\n"
     ]
    },
    {
     "name": "stdout",
     "output_type": "stream",
     "text": [
      "Validation metrics: {'mse': tensor(0.3648, device='cuda:1')}\n",
      "Checkpointing succesfull after epoch 12\n"
     ]
    },
    {
     "name": "stderr",
     "output_type": "stream",
     "text": [
      "Epoch: 13: 100%|██████████| 15/15 [00:07<00:00,  1.95it/s]\n",
      "Epoch: Validating: 100%|██████████| 40/40 [00:06<00:00,  6.20it/s]\n"
     ]
    },
    {
     "name": "stdout",
     "output_type": "stream",
     "text": [
      "Validation metrics: {'mse': tensor(0.3724, device='cuda:1')}\n",
      "Checkpointing succesfull after epoch 13\n"
     ]
    },
    {
     "name": "stderr",
     "output_type": "stream",
     "text": [
      "Epoch: 14: 100%|██████████| 15/15 [00:07<00:00,  2.02it/s]\n",
      "Epoch: Validating: 100%|██████████| 40/40 [00:04<00:00,  8.53it/s]\n"
     ]
    },
    {
     "name": "stdout",
     "output_type": "stream",
     "text": [
      "Validation metrics: {'mse': tensor(0.3656, device='cuda:1')}\n",
      "Checkpointing succesfull after epoch 14\n"
     ]
    },
    {
     "name": "stderr",
     "output_type": "stream",
     "text": [
      "Epoch: 15: 100%|██████████| 15/15 [00:07<00:00,  2.01it/s]\n",
      "Epoch: Validating: 100%|██████████| 40/40 [00:03<00:00, 11.53it/s]\n"
     ]
    },
    {
     "name": "stdout",
     "output_type": "stream",
     "text": [
      "Validation metrics: {'mse': tensor(0.3687, device='cuda:1')}\n",
      "Checkpointing succesfull after epoch 15\n"
     ]
    },
    {
     "name": "stderr",
     "output_type": "stream",
     "text": [
      "Epoch: Validating: 100%|██████████| 86/86 [00:23<00:00,  3.60it/s]\n"
     ]
    }
   ],
   "source": [
    "# Train on small target datasplit\n",
    "for key, value in dataset_dict.items():\n",
    "    train_and_evaluate(value, key, full_dataset=False, epoch=EPOCH)\n",
    "\n",
    "results_df.to_csv(metrics_output_path)"
   ]
  },
  {
   "cell_type": "code",
   "execution_count": 7,
   "metadata": {},
   "outputs": [
    {
     "name": "stdout",
     "output_type": "stream",
     "text": [
      "ELD\n",
      "Using device: cuda:1\n",
      "Training from scratch.\n"
     ]
    },
    {
     "name": "stderr",
     "output_type": "stream",
     "text": [
      "Epoch: 1: 100%|██████████| 151/151 [00:43<00:00,  3.46it/s]\n",
      "Epoch: Validating: 100%|██████████| 21/21 [00:04<00:00,  5.14it/s]\n"
     ]
    },
    {
     "name": "stdout",
     "output_type": "stream",
     "text": [
      "Validation metrics: {'mse': tensor(0.2502, device='cuda:1')}\n",
      "Checkpointing succesfull after epoch 1\n"
     ]
    },
    {
     "name": "stderr",
     "output_type": "stream",
     "text": [
      "Epoch: 2: 100%|██████████| 151/151 [00:27<00:00,  5.49it/s]\n",
      "Epoch: Validating: 100%|██████████| 21/21 [00:02<00:00,  9.81it/s] \n"
     ]
    },
    {
     "name": "stdout",
     "output_type": "stream",
     "text": [
      "Validation metrics: {'mse': tensor(0.2252, device='cuda:1')}\n",
      "Checkpointing succesfull after epoch 2\n"
     ]
    },
    {
     "name": "stderr",
     "output_type": "stream",
     "text": [
      "Epoch: 3: 100%|██████████| 151/151 [00:49<00:00,  3.03it/s]\n",
      "Epoch: Validating: 100%|██████████| 21/21 [00:00<00:00, 31.46it/s]\n"
     ]
    },
    {
     "name": "stdout",
     "output_type": "stream",
     "text": [
      "Validation metrics: {'mse': tensor(0.2174, device='cuda:1')}\n",
      "Checkpointing succesfull after epoch 3\n"
     ]
    },
    {
     "name": "stderr",
     "output_type": "stream",
     "text": [
      "Epoch: 4: 100%|██████████| 151/151 [00:49<00:00,  3.03it/s]\n",
      "Epoch: Validating: 100%|██████████| 21/21 [00:04<00:00,  4.56it/s]\n"
     ]
    },
    {
     "name": "stdout",
     "output_type": "stream",
     "text": [
      "Validation metrics: {'mse': tensor(0.2217, device='cuda:1')}\n",
      "Checkpointing succesfull after epoch 4\n"
     ]
    },
    {
     "name": "stderr",
     "output_type": "stream",
     "text": [
      "Epoch: 5: 100%|██████████| 151/151 [00:51<00:00,  2.95it/s]\n",
      "Epoch: Validating: 100%|██████████| 21/21 [00:01<00:00, 14.42it/s]\n"
     ]
    },
    {
     "name": "stdout",
     "output_type": "stream",
     "text": [
      "Validation metrics: {'mse': tensor(0.2418, device='cuda:1')}\n",
      "Checkpointing succesfull after epoch 5\n"
     ]
    },
    {
     "name": "stderr",
     "output_type": "stream",
     "text": [
      "Epoch: 6: 100%|██████████| 151/151 [00:56<00:00,  2.67it/s]\n",
      "Epoch: Validating: 100%|██████████| 21/21 [00:01<00:00, 11.78it/s]\n"
     ]
    },
    {
     "name": "stdout",
     "output_type": "stream",
     "text": [
      "Validation metrics: {'mse': tensor(0.2172, device='cuda:1')}\n",
      "Checkpointing succesfull after epoch 6\n"
     ]
    },
    {
     "name": "stderr",
     "output_type": "stream",
     "text": [
      "Epoch: 7: 100%|██████████| 151/151 [00:23<00:00,  6.31it/s]\n",
      "Epoch: Validating: 100%|██████████| 21/21 [00:01<00:00, 13.83it/s]\n"
     ]
    },
    {
     "name": "stdout",
     "output_type": "stream",
     "text": [
      "Validation metrics: {'mse': tensor(0.2144, device='cuda:1')}\n",
      "Checkpointing succesfull after epoch 7\n"
     ]
    },
    {
     "name": "stderr",
     "output_type": "stream",
     "text": [
      "Epoch: 8: 100%|██████████| 151/151 [00:41<00:00,  3.60it/s]\n",
      "Epoch: Validating: 100%|██████████| 21/21 [00:00<00:00, 33.67it/s]\n"
     ]
    },
    {
     "name": "stdout",
     "output_type": "stream",
     "text": [
      "Validation metrics: {'mse': tensor(0.2208, device='cuda:1')}\n",
      "Checkpointing succesfull after epoch 8\n"
     ]
    },
    {
     "name": "stderr",
     "output_type": "stream",
     "text": [
      "Epoch: 9: 100%|██████████| 151/151 [00:34<00:00,  4.35it/s]\n",
      "Epoch: Validating: 100%|██████████| 21/21 [00:01<00:00, 18.11it/s]\n"
     ]
    },
    {
     "name": "stdout",
     "output_type": "stream",
     "text": [
      "Validation metrics: {'mse': tensor(0.2128, device='cuda:1')}\n",
      "Checkpointing succesfull after epoch 9\n"
     ]
    },
    {
     "name": "stderr",
     "output_type": "stream",
     "text": [
      "Epoch: 10: 100%|██████████| 151/151 [00:54<00:00,  2.75it/s]\n",
      "Epoch: Validating: 100%|██████████| 21/21 [00:01<00:00, 14.30it/s]\n"
     ]
    },
    {
     "name": "stdout",
     "output_type": "stream",
     "text": [
      "Validation metrics: {'mse': tensor(0.2230, device='cuda:1')}\n",
      "Checkpointing succesfull after epoch 10\n"
     ]
    },
    {
     "name": "stderr",
     "output_type": "stream",
     "text": [
      "Epoch: 11: 100%|██████████| 151/151 [00:46<00:00,  3.28it/s]\n",
      "Epoch: Validating: 100%|██████████| 21/21 [00:04<00:00,  4.53it/s]\n"
     ]
    },
    {
     "name": "stdout",
     "output_type": "stream",
     "text": [
      "Validation metrics: {'mse': tensor(0.2153, device='cuda:1')}\n",
      "Checkpointing succesfull after epoch 11\n"
     ]
    },
    {
     "name": "stderr",
     "output_type": "stream",
     "text": [
      "Epoch: 12: 100%|██████████| 151/151 [00:48<00:00,  3.09it/s]\n",
      "Epoch: Validating: 100%|██████████| 21/21 [00:04<00:00,  5.11it/s]\n"
     ]
    },
    {
     "name": "stdout",
     "output_type": "stream",
     "text": [
      "Validation metrics: {'mse': tensor(0.2177, device='cuda:1')}\n",
      "Checkpointing succesfull after epoch 12\n"
     ]
    },
    {
     "name": "stderr",
     "output_type": "stream",
     "text": [
      "Epoch: 13: 100%|██████████| 151/151 [00:39<00:00,  3.79it/s]\n",
      "Epoch: Validating: 100%|██████████| 21/21 [00:07<00:00,  2.64it/s]\n"
     ]
    },
    {
     "name": "stdout",
     "output_type": "stream",
     "text": [
      "Validation metrics: {'mse': tensor(0.2171, device='cuda:1')}\n",
      "Checkpointing succesfull after epoch 13\n"
     ]
    },
    {
     "name": "stderr",
     "output_type": "stream",
     "text": [
      "Epoch: 14: 100%|██████████| 151/151 [01:02<00:00,  2.44it/s]\n",
      "Epoch: Validating: 100%|██████████| 21/21 [00:02<00:00, 10.06it/s]\n"
     ]
    },
    {
     "name": "stdout",
     "output_type": "stream",
     "text": [
      "Validation metrics: {'mse': tensor(0.2208, device='cuda:1')}\n",
      "Checkpointing succesfull after epoch 14\n"
     ]
    },
    {
     "name": "stderr",
     "output_type": "stream",
     "text": [
      "Epoch: 15: 100%|██████████| 151/151 [00:32<00:00,  4.69it/s]\n",
      "Epoch: Validating: 100%|██████████| 21/21 [00:01<00:00, 11.31it/s]\n"
     ]
    },
    {
     "name": "stdout",
     "output_type": "stream",
     "text": [
      "Validation metrics: {'mse': tensor(0.2187, device='cuda:1')}\n",
      "Checkpointing succesfull after epoch 15\n"
     ]
    },
    {
     "name": "stderr",
     "output_type": "stream",
     "text": [
      "Epoch: Validating: 100%|██████████| 86/86 [00:25<00:00,  3.34it/s]\n",
      "/tmp/ipykernel_23669/1282971071.py:42: PerformanceWarning: indexing past lexsort depth may impact performance.\n",
      "  results_df.loc[(target_dataset, learning_scenario, \"MAE\"), model_name] = mae\n",
      "/tmp/ipykernel_23669/1282971071.py:43: PerformanceWarning: indexing past lexsort depth may impact performance.\n",
      "  results_df.loc[(target_dataset, learning_scenario, \"MSE\"), model_name] = mse\n"
     ]
    },
    {
     "name": "stdout",
     "output_type": "stream",
     "text": [
      "Bavaria\n",
      "Using device: cuda:1\n",
      "Training from scratch.\n"
     ]
    },
    {
     "name": "stderr",
     "output_type": "stream",
     "text": [
      "Epoch: 1: 100%|██████████| 304/304 [00:05<00:00, 59.21it/s]\n",
      "Epoch: Validating: 100%|██████████| 39/39 [00:00<00:00, 148.31it/s]\n"
     ]
    },
    {
     "name": "stdout",
     "output_type": "stream",
     "text": [
      "Validation metrics: {'mse': tensor(0.0006, device='cuda:1')}\n",
      "Checkpointing succesfull after epoch 1\n"
     ]
    },
    {
     "name": "stderr",
     "output_type": "stream",
     "text": [
      "Epoch: 2: 100%|██████████| 304/304 [00:05<00:00, 58.81it/s]\n",
      "Epoch: Validating: 100%|██████████| 39/39 [00:00<00:00, 208.80it/s]\n"
     ]
    },
    {
     "name": "stdout",
     "output_type": "stream",
     "text": [
      "Validation metrics: {'mse': tensor(0.0004, device='cuda:1')}\n",
      "Checkpointing succesfull after epoch 2\n"
     ]
    },
    {
     "name": "stderr",
     "output_type": "stream",
     "text": [
      "Epoch: 3: 100%|██████████| 304/304 [00:05<00:00, 59.64it/s]\n",
      "Epoch: Validating: 100%|██████████| 39/39 [00:00<00:00, 274.55it/s]\n"
     ]
    },
    {
     "name": "stdout",
     "output_type": "stream",
     "text": [
      "Validation metrics: {'mse': tensor(0.0003, device='cuda:1')}\n",
      "Checkpointing succesfull after epoch 3\n"
     ]
    },
    {
     "name": "stderr",
     "output_type": "stream",
     "text": [
      "Epoch: 4: 100%|██████████| 304/304 [00:05<00:00, 60.22it/s]\n",
      "Epoch: Validating: 100%|██████████| 39/39 [00:00<00:00, 248.39it/s]\n"
     ]
    },
    {
     "name": "stdout",
     "output_type": "stream",
     "text": [
      "Validation metrics: {'mse': tensor(0.0003, device='cuda:1')}\n",
      "Checkpointing succesfull after epoch 4\n"
     ]
    },
    {
     "name": "stderr",
     "output_type": "stream",
     "text": [
      "Epoch: 5: 100%|██████████| 304/304 [00:05<00:00, 59.87it/s]\n",
      "Epoch: Validating: 100%|██████████| 39/39 [00:00<00:00, 230.35it/s]\n"
     ]
    },
    {
     "name": "stdout",
     "output_type": "stream",
     "text": [
      "Validation metrics: {'mse': tensor(0.0002, device='cuda:1')}\n",
      "Checkpointing succesfull after epoch 5\n"
     ]
    },
    {
     "name": "stderr",
     "output_type": "stream",
     "text": [
      "Epoch: 6: 100%|██████████| 304/304 [00:05<00:00, 59.14it/s]\n",
      "Epoch: Validating: 100%|██████████| 39/39 [00:00<00:00, 292.66it/s]\n"
     ]
    },
    {
     "name": "stdout",
     "output_type": "stream",
     "text": [
      "Validation metrics: {'mse': tensor(0.0003, device='cuda:1')}\n",
      "Checkpointing succesfull after epoch 6\n"
     ]
    },
    {
     "name": "stderr",
     "output_type": "stream",
     "text": [
      "Epoch: 7: 100%|██████████| 304/304 [00:04<00:00, 60.82it/s]\n",
      "Epoch: Validating: 100%|██████████| 39/39 [00:00<00:00, 208.31it/s]\n"
     ]
    },
    {
     "name": "stdout",
     "output_type": "stream",
     "text": [
      "Validation metrics: {'mse': tensor(0.0003, device='cuda:1')}\n",
      "Checkpointing succesfull after epoch 7\n"
     ]
    },
    {
     "name": "stderr",
     "output_type": "stream",
     "text": [
      "Epoch: 8: 100%|██████████| 304/304 [00:05<00:00, 60.18it/s]\n",
      "Epoch: Validating: 100%|██████████| 39/39 [00:00<00:00, 240.59it/s]\n"
     ]
    },
    {
     "name": "stdout",
     "output_type": "stream",
     "text": [
      "Validation metrics: {'mse': tensor(0.0002, device='cuda:1')}\n",
      "Checkpointing succesfull after epoch 8\n"
     ]
    },
    {
     "name": "stderr",
     "output_type": "stream",
     "text": [
      "Epoch: 9: 100%|██████████| 304/304 [00:05<00:00, 60.61it/s]\n",
      "Epoch: Validating: 100%|██████████| 39/39 [00:00<00:00, 208.58it/s]\n"
     ]
    },
    {
     "name": "stdout",
     "output_type": "stream",
     "text": [
      "Validation metrics: {'mse': tensor(0.0003, device='cuda:1')}\n",
      "Checkpointing succesfull after epoch 9\n"
     ]
    },
    {
     "name": "stderr",
     "output_type": "stream",
     "text": [
      "Epoch: 10: 100%|██████████| 304/304 [00:04<00:00, 61.27it/s]\n",
      "Epoch: Validating: 100%|██████████| 39/39 [00:00<00:00, 159.19it/s]\n"
     ]
    },
    {
     "name": "stdout",
     "output_type": "stream",
     "text": [
      "Validation metrics: {'mse': tensor(0.0002, device='cuda:1')}\n",
      "Checkpointing succesfull after epoch 10\n"
     ]
    },
    {
     "name": "stderr",
     "output_type": "stream",
     "text": [
      "Epoch: 11: 100%|██████████| 304/304 [00:05<00:00, 58.62it/s]\n",
      "Epoch: Validating: 100%|██████████| 39/39 [00:00<00:00, 170.95it/s]\n"
     ]
    },
    {
     "name": "stdout",
     "output_type": "stream",
     "text": [
      "Validation metrics: {'mse': tensor(0.0002, device='cuda:1')}\n",
      "Checkpointing succesfull after epoch 11\n"
     ]
    },
    {
     "name": "stderr",
     "output_type": "stream",
     "text": [
      "Epoch: 12: 100%|██████████| 304/304 [00:05<00:00, 58.93it/s]\n",
      "Epoch: Validating: 100%|██████████| 39/39 [00:00<00:00, 206.96it/s]\n"
     ]
    },
    {
     "name": "stdout",
     "output_type": "stream",
     "text": [
      "Validation metrics: {'mse': tensor(0.0003, device='cuda:1')}\n",
      "Checkpointing succesfull after epoch 12\n"
     ]
    },
    {
     "name": "stderr",
     "output_type": "stream",
     "text": [
      "Epoch: 13: 100%|██████████| 304/304 [00:04<00:00, 62.51it/s]\n",
      "Epoch: Validating: 100%|██████████| 39/39 [00:00<00:00, 249.34it/s]\n"
     ]
    },
    {
     "name": "stdout",
     "output_type": "stream",
     "text": [
      "Validation metrics: {'mse': tensor(0.0002, device='cuda:1')}\n",
      "Checkpointing succesfull after epoch 13\n"
     ]
    },
    {
     "name": "stderr",
     "output_type": "stream",
     "text": [
      "Epoch: 14: 100%|██████████| 304/304 [00:05<00:00, 59.12it/s]\n",
      "Epoch: Validating: 100%|██████████| 39/39 [00:00<00:00, 255.38it/s]\n"
     ]
    },
    {
     "name": "stdout",
     "output_type": "stream",
     "text": [
      "Validation metrics: {'mse': tensor(0.0002, device='cuda:1')}\n",
      "Checkpointing succesfull after epoch 14\n"
     ]
    },
    {
     "name": "stderr",
     "output_type": "stream",
     "text": [
      "Epoch: 15: 100%|██████████| 304/304 [00:05<00:00, 60.32it/s]\n",
      "Epoch: Validating: 100%|██████████| 39/39 [00:00<00:00, 206.77it/s]\n"
     ]
    },
    {
     "name": "stdout",
     "output_type": "stream",
     "text": [
      "Validation metrics: {'mse': tensor(0.0002, device='cuda:1')}\n",
      "Checkpointing succesfull after epoch 15\n"
     ]
    },
    {
     "name": "stderr",
     "output_type": "stream",
     "text": [
      "Epoch: Validating: 100%|██████████| 83/83 [00:00<00:00, 162.98it/s]\n"
     ]
    },
    {
     "name": "stdout",
     "output_type": "stream",
     "text": [
      "GP2\n",
      "Using device: cuda:1\n",
      "Training from scratch.\n"
     ]
    },
    {
     "name": "stderr",
     "output_type": "stream",
     "text": [
      "Epoch: 1: 100%|██████████| 314/314 [03:02<00:00,  1.72it/s]\n",
      "Epoch: Validating: 100%|██████████| 40/40 [00:12<00:00,  3.18it/s]\n"
     ]
    },
    {
     "name": "stdout",
     "output_type": "stream",
     "text": [
      "Validation metrics: {'mse': tensor(0.3414, device='cuda:1')}\n",
      "Checkpointing succesfull after epoch 1\n"
     ]
    },
    {
     "name": "stderr",
     "output_type": "stream",
     "text": [
      "Epoch: 2: 100%|██████████| 314/314 [02:38<00:00,  1.98it/s]\n",
      "Epoch: Validating: 100%|██████████| 40/40 [00:13<00:00,  3.06it/s]\n"
     ]
    },
    {
     "name": "stdout",
     "output_type": "stream",
     "text": [
      "Validation metrics: {'mse': tensor(0.3252, device='cuda:1')}\n",
      "Checkpointing succesfull after epoch 2\n"
     ]
    },
    {
     "name": "stderr",
     "output_type": "stream",
     "text": [
      "Epoch: 3: 100%|██████████| 314/314 [02:40<00:00,  1.96it/s]\n",
      "Epoch: Validating: 100%|██████████| 40/40 [00:03<00:00, 10.76it/s]\n"
     ]
    },
    {
     "name": "stdout",
     "output_type": "stream",
     "text": [
      "Validation metrics: {'mse': tensor(0.3261, device='cuda:1')}\n",
      "Checkpointing succesfull after epoch 3\n"
     ]
    },
    {
     "name": "stderr",
     "output_type": "stream",
     "text": [
      "Epoch: 4: 100%|██████████| 314/314 [02:28<00:00,  2.12it/s]\n",
      "Epoch: Validating: 100%|██████████| 40/40 [00:02<00:00, 16.35it/s]\n"
     ]
    },
    {
     "name": "stdout",
     "output_type": "stream",
     "text": [
      "Validation metrics: {'mse': tensor(0.3296, device='cuda:1')}\n",
      "Checkpointing succesfull after epoch 4\n"
     ]
    },
    {
     "name": "stderr",
     "output_type": "stream",
     "text": [
      "Epoch: 5: 100%|██████████| 314/314 [03:12<00:00,  1.63it/s]\n",
      "Epoch: Validating: 100%|██████████| 40/40 [00:12<00:00,  3.20it/s]\n"
     ]
    },
    {
     "name": "stdout",
     "output_type": "stream",
     "text": [
      "Validation metrics: {'mse': tensor(0.3331, device='cuda:1')}\n",
      "Checkpointing succesfull after epoch 5\n"
     ]
    },
    {
     "name": "stderr",
     "output_type": "stream",
     "text": [
      "Epoch: 6: 100%|██████████| 314/314 [02:42<00:00,  1.93it/s]\n",
      "Epoch: Validating: 100%|██████████| 40/40 [00:11<00:00,  3.56it/s]\n"
     ]
    },
    {
     "name": "stdout",
     "output_type": "stream",
     "text": [
      "Validation metrics: {'mse': tensor(0.3328, device='cuda:1')}\n",
      "Checkpointing succesfull after epoch 6\n"
     ]
    },
    {
     "name": "stderr",
     "output_type": "stream",
     "text": [
      "Epoch: 7: 100%|██████████| 314/314 [02:47<00:00,  1.87it/s]\n",
      "Epoch: Validating: 100%|██████████| 40/40 [00:13<00:00,  2.90it/s]\n"
     ]
    },
    {
     "name": "stdout",
     "output_type": "stream",
     "text": [
      "Validation metrics: {'mse': tensor(0.3264, device='cuda:1')}\n",
      "Checkpointing succesfull after epoch 7\n"
     ]
    },
    {
     "name": "stderr",
     "output_type": "stream",
     "text": [
      "Epoch: 8: 100%|██████████| 314/314 [03:39<00:00,  1.43it/s]\n",
      "Epoch: Validating: 100%|██████████| 40/40 [00:13<00:00,  2.92it/s]\n"
     ]
    },
    {
     "name": "stdout",
     "output_type": "stream",
     "text": [
      "Validation metrics: {'mse': tensor(0.3290, device='cuda:1')}\n",
      "Checkpointing succesfull after epoch 8\n"
     ]
    },
    {
     "name": "stderr",
     "output_type": "stream",
     "text": [
      "Epoch: 9: 100%|██████████| 314/314 [03:47<00:00,  1.38it/s]\n",
      "Epoch: Validating: 100%|██████████| 40/40 [00:02<00:00, 18.91it/s]\n"
     ]
    },
    {
     "name": "stdout",
     "output_type": "stream",
     "text": [
      "Validation metrics: {'mse': tensor(0.3283, device='cuda:1')}\n",
      "Checkpointing succesfull after epoch 9\n"
     ]
    },
    {
     "name": "stderr",
     "output_type": "stream",
     "text": [
      "Epoch: 10: 100%|██████████| 314/314 [02:41<00:00,  1.95it/s]\n",
      "Epoch: Validating: 100%|██████████| 40/40 [00:07<00:00,  5.14it/s]\n"
     ]
    },
    {
     "name": "stdout",
     "output_type": "stream",
     "text": [
      "Validation metrics: {'mse': tensor(0.3308, device='cuda:1')}\n",
      "Checkpointing succesfull after epoch 10\n"
     ]
    },
    {
     "name": "stderr",
     "output_type": "stream",
     "text": [
      "Epoch: 11: 100%|██████████| 314/314 [02:53<00:00,  1.81it/s]\n",
      "Epoch: Validating: 100%|██████████| 40/40 [00:10<00:00,  3.78it/s]\n"
     ]
    },
    {
     "name": "stdout",
     "output_type": "stream",
     "text": [
      "Validation metrics: {'mse': tensor(0.3350, device='cuda:1')}\n",
      "Checkpointing succesfull after epoch 11\n"
     ]
    },
    {
     "name": "stderr",
     "output_type": "stream",
     "text": [
      "Epoch: 12: 100%|██████████| 314/314 [03:38<00:00,  1.44it/s]\n",
      "Epoch: Validating: 100%|██████████| 40/40 [00:09<00:00,  4.35it/s]\n"
     ]
    },
    {
     "name": "stdout",
     "output_type": "stream",
     "text": [
      "Validation metrics: {'mse': tensor(0.3320, device='cuda:1')}\n",
      "Checkpointing succesfull after epoch 12\n"
     ]
    },
    {
     "name": "stderr",
     "output_type": "stream",
     "text": [
      "Epoch: 13: 100%|██████████| 314/314 [03:23<00:00,  1.54it/s]\n",
      "Epoch: Validating: 100%|██████████| 40/40 [00:10<00:00,  3.86it/s]\n"
     ]
    },
    {
     "name": "stdout",
     "output_type": "stream",
     "text": [
      "Validation metrics: {'mse': tensor(0.3329, device='cuda:1')}\n",
      "Checkpointing succesfull after epoch 13\n"
     ]
    },
    {
     "name": "stderr",
     "output_type": "stream",
     "text": [
      "Epoch: 14: 100%|██████████| 314/314 [02:55<00:00,  1.79it/s]\n",
      "Epoch: Validating: 100%|██████████| 40/40 [00:14<00:00,  2.80it/s]\n"
     ]
    },
    {
     "name": "stdout",
     "output_type": "stream",
     "text": [
      "Validation metrics: {'mse': tensor(0.3280, device='cuda:1')}\n",
      "Checkpointing succesfull after epoch 14\n"
     ]
    },
    {
     "name": "stderr",
     "output_type": "stream",
     "text": [
      "Epoch: 15: 100%|██████████| 314/314 [02:48<00:00,  1.86it/s]\n",
      "Epoch: Validating: 100%|██████████| 40/40 [00:03<00:00, 10.06it/s]\n"
     ]
    },
    {
     "name": "stdout",
     "output_type": "stream",
     "text": [
      "Validation metrics: {'mse': tensor(0.3350, device='cuda:1')}\n",
      "Checkpointing succesfull after epoch 15\n"
     ]
    },
    {
     "name": "stderr",
     "output_type": "stream",
     "text": [
      "Epoch: Validating: 100%|██████████| 86/86 [00:16<00:00,  5.35it/s]\n"
     ]
    }
   ],
   "source": [
    "# Train on full target train datasplit\n",
    "for key, value in dataset_dict.items():\n",
    "    print(key)\n",
    "    train_and_evaluate(value, key, full_dataset=True, epoch=EPOCH)\n",
    "results_df.to_csv(metrics_output_path)"
   ]
  }
 ],
 "metadata": {
  "kernelspec": {
   "display_name": "Python 3",
   "language": "python",
   "name": "python3"
  },
  "language_info": {
   "codemirror_mode": {
    "name": "ipython",
    "version": 3
   },
   "file_extension": ".py",
   "mimetype": "text/x-python",
   "name": "python",
   "nbconvert_exporter": "python",
   "pygments_lexer": "ipython3",
   "version": "3.10.9"
  },
  "orig_nbformat": 4
 },
 "nbformat": 4,
 "nbformat_minor": 2
}
