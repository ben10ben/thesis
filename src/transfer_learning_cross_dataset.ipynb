{
 "cells": [
  {
   "cell_type": "code",
   "execution_count": 1,
   "metadata": {},
   "outputs": [
    {
     "name": "stdout",
     "output_type": "stream",
     "text": [
      "Import succesfull\n"
     ]
    }
   ],
   "source": [
    "# TODO which one?\n",
    "#git clone https://github.com/lucidrains/iTransformer.git\n",
    "#import iTransformer\n",
    "import sys\n",
    "sys.path.append('/vol/fob-vol7/nebenf21/reinbene/bene/MA/iTransformer') \n",
    "from iTransformer import iTransformer\n",
    "import torch\n",
    "from pathlib import Path\n",
    "\n",
    "import torch\n",
    "import torch.optim as optim\n",
    "from tqdm import tqdm\n",
    "from torch.utils.tensorboard import SummaryWriter\n",
    "\n",
    "from utils import data_handling, helpers, training_functions\n",
    "import config\n",
    "import pandas as pd\n",
    "\n",
    "window_size = 96\n",
    "pred_length = (96)\n",
    "\n",
    "four_weeks = -24*7*4\n",
    "print(\"Import succesfull\")"
   ]
  },
  {
   "cell_type": "markdown",
   "metadata": {},
   "source": [
    "# Select dataset for transfer learning"
   ]
  },
  {
   "cell_type": "code",
   "execution_count": 2,
   "metadata": {},
   "outputs": [
    {
     "name": "stdout",
     "output_type": "stream",
     "text": [
      "Feature batch shape: torch.Size([32, 96, 348])\n"
     ]
    },
    {
     "name": "stdout",
     "output_type": "stream",
     "text": [
      "Feature batch shape: torch.Size([32, 96, 59])\n",
      "Feature batch shape: torch.Size([32, 96, 1454])\n"
     ]
    }
   ],
   "source": [
    "# electricity dataset\n",
    "data_dict = data_handling.load_electricity()\n",
    "\n",
    "electricity = {}\n",
    "electricity[\"dataloader_train\"], electricity[\"dataloader_validation\"], electricity[\"dataloader_test\"] = data_handling.convert_data(data_dict, window_size, pred_length)\n",
    "\n",
    "# create a smaller subset of the train dataset\n",
    "electricity[\"4_weeks_train\"] = data_dict[\"train\"][four_weeks:,:]\n",
    "electricity[\"4_weeks_train\"] = data_handling.SlidingWindowTimeSeriesDataset(electricity[\"4_weeks_train\"] , window_size, pred_length)\n",
    "electricity[\"4_weeks_train\"] = data_handling.DataLoader(electricity[\"4_weeks_train\"] , batch_size=32, shuffle=True)\n",
    "\n",
    "\n",
    "\n",
    "# bavaria dataset\n",
    "data_tensor = data_handling.load_bavaria_electricity()\n",
    "data_dict, standadizer = data_handling.train_test_split_eu_elec(data_tensor, standardize=True)\n",
    "\n",
    "# convert to datalaoder\n",
    "bavaria = {}\n",
    "bavaria[\"dataloader_train\"], bavaria[\"dataloader_validation\"], bavaria[\"dataloader_test\"] = data_handling.convert_data(data_dict, window_size, pred_length)\n",
    "\n",
    "# add fine-tuning datalaoders\n",
    "# create a smaller subset of the train dataset\n",
    "bavaria[\"4_weeks_train\"] = data_dict[\"train\"][four_weeks:,:]\n",
    "bavaria[\"4_weeks_train\"] = data_handling.SlidingWindowTimeSeriesDataset(bavaria[\"4_weeks_train\"] , window_size, pred_length)\n",
    "bavaria[\"4_weeks_train\"] = data_handling.DataLoader(bavaria[\"4_weeks_train\"] , batch_size=32, shuffle=True)\n",
    "\n",
    "\n",
    "\n",
    "# building genome project dataset\n",
    "data_tensor = data_handling.load_genome_project_data()\n",
    "gp_dict, standadizer = data_handling.train_test_split_eu_elec(data_tensor, standardize=True)\n",
    "# convert to datalaoder\n",
    "genome_project = {}\n",
    "genome_project[\"dataloader_train\"], genome_project[\"dataloader_validation\"], genome_project[\"dataloader_test\"] = data_handling.convert_data(gp_dict, window_size, pred_length)\n",
    "\n",
    "# add fine-tuning datalaoders\n",
    "# create a smaller subset of the train dataset\n",
    "genome_project[\"4_weeks_train\"] = gp_dict[\"train\"][four_weeks:,:]\n",
    "genome_project[\"4_weeks_train\"] = data_handling.SlidingWindowTimeSeriesDataset(genome_project[\"4_weeks_train\"] , window_size, pred_length)\n",
    "genome_project[\"4_weeks_train\"] = data_handling.DataLoader(genome_project[\"4_weeks_train\"] , batch_size=32, shuffle=True)\n",
    "\n",
    "\n",
    "\n",
    "# merge in dataset dict\n",
    "datasets = {\"electricity\" : electricity,\n",
    "            \"genome_project\" : genome_project,\n",
    "\t\t\t\"bavaria\" : bavaria\n",
    "            }\n",
    "\n",
    "\n",
    "# define parameters for all models\n",
    "best_parameters = {'depth': 2, 'dim': 256, 'dim_head': 56, 'heads': 4, 'attn_dropout': 0.2, 'ff_mult': 4, 'ff_dropout': 0.2, \n",
    "                        'num_mem_tokens': 4, 'learning_rate': 0.0005}"
   ]
  },
  {
   "cell_type": "markdown",
   "metadata": {},
   "source": [
    "# Zero-shot prediction on the test sets"
   ]
  },
  {
   "cell_type": "code",
   "execution_count": 3,
   "metadata": {},
   "outputs": [
    {
     "name": "stdout",
     "output_type": "stream",
     "text": [
      "Using device: cuda:1\n",
      "Non-A100 GPU detected, using math or mem efficient attention if input tensor is on cuda\n"
     ]
    },
    {
     "name": "stderr",
     "output_type": "stream",
     "text": [
      "Epoch: Validating: 100%|██████████| 86/86 [00:18<00:00,  4.70it/s]\n"
     ]
    },
    {
     "name": "stdout",
     "output_type": "stream",
     "text": [
      "Using device: cuda:1\n"
     ]
    },
    {
     "name": "stderr",
     "output_type": "stream",
     "text": [
      "Epoch: Validating: 100%|██████████| 83/83 [00:00<00:00, 236.89it/s]\n"
     ]
    },
    {
     "name": "stdout",
     "output_type": "stream",
     "text": [
      "Using device: cuda:1\n"
     ]
    },
    {
     "name": "stderr",
     "output_type": "stream",
     "text": [
      "Epoch: Validating: 100%|██████████| 86/86 [00:11<00:00,  7.40it/s]\n"
     ]
    },
    {
     "name": "stdout",
     "output_type": "stream",
     "text": [
      "Using device: cuda:1\n"
     ]
    },
    {
     "name": "stderr",
     "output_type": "stream",
     "text": [
      "Epoch: Validating: 100%|██████████| 83/83 [00:00<00:00, 238.66it/s]\n"
     ]
    },
    {
     "name": "stdout",
     "output_type": "stream",
     "text": [
      "Using device: cuda:1\n"
     ]
    },
    {
     "name": "stderr",
     "output_type": "stream",
     "text": [
      "Epoch: Validating: 100%|██████████| 86/86 [00:10<00:00,  7.88it/s]\n"
     ]
    },
    {
     "name": "stdout",
     "output_type": "stream",
     "text": [
      "Using device: cuda:1\n"
     ]
    },
    {
     "name": "stderr",
     "output_type": "stream",
     "text": [
      "Epoch: Validating: 100%|██████████| 86/86 [00:12<00:00,  7.11it/s]\n"
     ]
    },
    {
     "data": {
      "text/html": [
       "<div>\n",
       "<style scoped>\n",
       "    .dataframe tbody tr th:only-of-type {\n",
       "        vertical-align: middle;\n",
       "    }\n",
       "\n",
       "    .dataframe tbody tr th {\n",
       "        vertical-align: top;\n",
       "    }\n",
       "\n",
       "    .dataframe thead th {\n",
       "        text-align: right;\n",
       "    }\n",
       "</style>\n",
       "<table border=\"1\" class=\"dataframe\">\n",
       "  <thead>\n",
       "    <tr style=\"text-align: right;\">\n",
       "      <th></th>\n",
       "      <th>electricity_to_genome_project</th>\n",
       "      <th>electricity_to_bavaria</th>\n",
       "      <th>genome_project_to_electricity</th>\n",
       "      <th>genome_project_to_bavaria</th>\n",
       "      <th>bavaria_to_electricity</th>\n",
       "      <th>bavaria_to_genome_project</th>\n",
       "    </tr>\n",
       "  </thead>\n",
       "  <tbody>\n",
       "    <tr>\n",
       "      <th>mse_zero_shot</th>\n",
       "      <td>0.610017</td>\n",
       "      <td>0.219871</td>\n",
       "      <td>0.363649</td>\n",
       "      <td>0.174696</td>\n",
       "      <td>1.971902</td>\n",
       "      <td>1.959411</td>\n",
       "    </tr>\n",
       "    <tr>\n",
       "      <th>mae_zero_shot</th>\n",
       "      <td>0.448888</td>\n",
       "      <td>0.443461</td>\n",
       "      <td>0.411646</td>\n",
       "      <td>0.384142</td>\n",
       "      <td>1.124707</td>\n",
       "      <td>0.969583</td>\n",
       "    </tr>\n",
       "  </tbody>\n",
       "</table>\n",
       "</div>"
      ],
      "text/plain": [
       "               electricity_to_genome_project  electricity_to_bavaria  \\\n",
       "mse_zero_shot                       0.610017                0.219871   \n",
       "mae_zero_shot                       0.448888                0.443461   \n",
       "\n",
       "               genome_project_to_electricity  genome_project_to_bavaria  \\\n",
       "mse_zero_shot                       0.363649                   0.174696   \n",
       "mae_zero_shot                       0.411646                   0.384142   \n",
       "\n",
       "               bavaria_to_electricity  bavaria_to_genome_project  \n",
       "mse_zero_shot                1.971902                   1.959411  \n",
       "mae_zero_shot                1.124707                   0.969583  "
      ]
     },
     "execution_count": 3,
     "metadata": {},
     "output_type": "execute_result"
    }
   ],
   "source": [
    "zero_shot_metrics = pd.DataFrame()\n",
    "\n",
    "for source, value in datasets.items():\n",
    "    model_path = config.CONFIG_MODEL_LOCATION[\"iTransformer_baseline\"] / source / f\"{source}_full_dataset_best_val_loss.pt\"\n",
    "\n",
    "    # select the 2 target datasets\n",
    "    target_keys = [data_key for data_key in datasets if data_key != source]\n",
    "\n",
    "    # load model, fit to target dataset and predict\n",
    "    for target in target_keys:\n",
    "        dataloader = datasets[target][\"dataloader_test\"]\n",
    "\n",
    "        inputs, _ = next(iter(dataloader))\n",
    "        num_variates = inputs.size(2)\n",
    "\n",
    "        model_config = {\n",
    "            'num_variates': num_variates,\n",
    "            'lookback_len': window_size,\n",
    "            'depth': best_parameters[\"depth\"],\n",
    "            'dim': best_parameters[\"dim\"],\n",
    "            'num_tokens_per_variate': 1,\n",
    "            'pred_length': pred_length,\n",
    "            'dim_head': best_parameters[\"dim_head\"],\n",
    "            'heads': best_parameters[\"heads\"],\n",
    "            'attn_dropout': best_parameters[\"attn_dropout\"],\n",
    "            'ff_mult': best_parameters[\"ff_mult\"],\n",
    "            'ff_dropout': best_parameters[\"ff_dropout\"],\n",
    "            'num_mem_tokens': best_parameters[\"num_mem_tokens\"],\n",
    "            'use_reversible_instance_norm': True,\n",
    "            'reversible_instance_norm_affine': False,\n",
    "            'flash_attn': True\n",
    "        }\n",
    "\n",
    "        device = torch.device(\"cuda:1\" if torch.cuda.is_available() else \"cpu\")\n",
    "        print(f\"Using device: {device}\")\n",
    "\n",
    "\n",
    "        checkpoint = torch.load(model_path,map_location='cpu')\n",
    "\n",
    "        # values are all set to zero (beta) and one (gamma), array needs to be adapted to num_variates\n",
    "        # learned affine parameters are series specific and need to be relearned for new series\n",
    "        # value are kept at 1 and 0 for stationary normalization\n",
    "        checkpoint[\"model_state_dict\"][\"reversible_instance_norm.beta\"] = torch.zeros(num_variates, 1, dtype=torch.float)\n",
    "        checkpoint[\"model_state_dict\"][\"reversible_instance_norm.gamma\"] = torch.ones(num_variates, 1, dtype=torch.float)\n",
    "\n",
    "\n",
    "        model = iTransformer(**model_config).to(device)\n",
    "        model.load_state_dict(checkpoint['model_state_dict'])\n",
    "\n",
    "\n",
    "        metrics_dict = helpers.full_eval(model, dataloader, device)\n",
    "        metrics = metrics_dict[96][\"mse\"].item(),  metrics_dict[96][\"mae\"].item()\n",
    "        \n",
    "        zero_shot_metrics[f\"{source}_to_{target}\"] = pd.Series(metrics)\n",
    "\n",
    "\n",
    "zero_shot_metrics.index = [\"mse_zero_shot\", \"mae_zero_shot\"]\n",
    "zero_shot_metrics\n"
   ]
  },
  {
   "cell_type": "markdown",
   "metadata": {},
   "source": [
    "# Fine-tuning and predicitons on the test data\n",
    "\n",
    "We fine tune for 5 epochs on different target datasets training sets length. After every epoch the training and validation loss is logged. For the final evaluation the model with the best validation loss is selected. "
   ]
  },
  {
   "cell_type": "code",
   "execution_count": 5,
   "metadata": {},
   "outputs": [
    {
     "name": "stdout",
     "output_type": "stream",
     "text": [
      "Using device: cuda:0\n"
     ]
    },
    {
     "name": "stderr",
     "output_type": "stream",
     "text": [
      "Epoch: 1: 100%|██████████| 15/15 [00:05<00:00,  2.93it/s]\n",
      "Epoch: Validating: 100%|██████████| 40/40 [00:07<00:00,  5.23it/s]\n"
     ]
    },
    {
     "name": "stdout",
     "output_type": "stream",
     "text": [
      "Validation metrics: {'mse': tensor(0.3709, device='cuda:0')}\n"
     ]
    },
    {
     "name": "stderr",
     "output_type": "stream",
     "text": [
      "Epoch: 2: 100%|██████████| 15/15 [00:03<00:00,  4.01it/s]\n",
      "Epoch: Validating: 100%|██████████| 40/40 [00:05<00:00,  7.29it/s]\n"
     ]
    },
    {
     "name": "stdout",
     "output_type": "stream",
     "text": [
      "Validation metrics: {'mse': tensor(0.3638, device='cuda:0')}\n"
     ]
    },
    {
     "name": "stderr",
     "output_type": "stream",
     "text": [
      "Epoch: 3: 100%|██████████| 15/15 [00:03<00:00,  3.77it/s]\n",
      "Epoch: Validating: 100%|██████████| 40/40 [00:04<00:00,  9.11it/s]\n"
     ]
    },
    {
     "name": "stdout",
     "output_type": "stream",
     "text": [
      "Validation metrics: {'mse': tensor(0.3561, device='cuda:0')}\n"
     ]
    },
    {
     "name": "stderr",
     "output_type": "stream",
     "text": [
      "Epoch: 4: 100%|██████████| 15/15 [00:04<00:00,  3.40it/s]\n",
      "Epoch: Validating: 100%|██████████| 40/40 [00:04<00:00,  8.49it/s]\n"
     ]
    },
    {
     "name": "stdout",
     "output_type": "stream",
     "text": [
      "Validation metrics: {'mse': tensor(0.3543, device='cuda:0')}\n"
     ]
    },
    {
     "name": "stderr",
     "output_type": "stream",
     "text": [
      "Epoch: 5: 100%|██████████| 15/15 [00:04<00:00,  3.39it/s]\n",
      "Epoch: Validating: 100%|██████████| 40/40 [00:03<00:00, 10.21it/s]\n"
     ]
    },
    {
     "name": "stdout",
     "output_type": "stream",
     "text": [
      "Validation metrics: {'mse': tensor(0.3546, device='cuda:0')}\n"
     ]
    },
    {
     "name": "stderr",
     "output_type": "stream",
     "text": [
      "Epoch: Validating: 100%|██████████| 86/86 [00:09<00:00,  9.27it/s]\n",
      "Epoch: 1: 100%|██████████| 314/314 [01:32<00:00,  3.40it/s]\n",
      "Epoch: Validating: 100%|██████████| 40/40 [00:02<00:00, 13.35it/s]\n"
     ]
    },
    {
     "name": "stdout",
     "output_type": "stream",
     "text": [
      "Validation metrics: {'mse': tensor(0.3342, device='cuda:0')}\n"
     ]
    },
    {
     "name": "stderr",
     "output_type": "stream",
     "text": [
      "Epoch: 2: 100%|██████████| 314/314 [01:27<00:00,  3.59it/s]\n",
      "Epoch: Validating: 100%|██████████| 40/40 [00:04<00:00,  8.44it/s]\n"
     ]
    },
    {
     "name": "stdout",
     "output_type": "stream",
     "text": [
      "Validation metrics: {'mse': tensor(0.3250, device='cuda:0')}\n"
     ]
    },
    {
     "name": "stderr",
     "output_type": "stream",
     "text": [
      "Epoch: 3: 100%|██████████| 314/314 [01:27<00:00,  3.59it/s]\n",
      "Epoch: Validating: 100%|██████████| 40/40 [00:05<00:00,  7.31it/s]\n"
     ]
    },
    {
     "name": "stdout",
     "output_type": "stream",
     "text": [
      "Validation metrics: {'mse': tensor(0.3308, device='cuda:0')}\n"
     ]
    },
    {
     "name": "stderr",
     "output_type": "stream",
     "text": [
      "Epoch: 4: 100%|██████████| 314/314 [01:40<00:00,  3.12it/s]\n",
      "Epoch: Validating: 100%|██████████| 40/40 [00:04<00:00,  8.91it/s]\n"
     ]
    },
    {
     "name": "stdout",
     "output_type": "stream",
     "text": [
      "Validation metrics: {'mse': tensor(0.3278, device='cuda:0')}\n"
     ]
    },
    {
     "name": "stderr",
     "output_type": "stream",
     "text": [
      "Epoch: 5: 100%|██████████| 314/314 [01:37<00:00,  3.22it/s]\n",
      "Epoch: Validating: 100%|██████████| 40/40 [00:04<00:00,  8.75it/s]\n"
     ]
    },
    {
     "name": "stdout",
     "output_type": "stream",
     "text": [
      "Validation metrics: {'mse': tensor(0.3294, device='cuda:0')}\n"
     ]
    },
    {
     "name": "stderr",
     "output_type": "stream",
     "text": [
      "Epoch: Validating: 100%|██████████| 86/86 [00:10<00:00,  8.00it/s]\n"
     ]
    },
    {
     "name": "stdout",
     "output_type": "stream",
     "text": [
      "Using device: cuda:0\n"
     ]
    },
    {
     "name": "stderr",
     "output_type": "stream",
     "text": [
      "Epoch: 1: 100%|██████████| 15/15 [00:00<00:00, 105.99it/s]\n",
      "Epoch: Validating: 100%|██████████| 39/39 [00:00<00:00, 304.87it/s]\n"
     ]
    },
    {
     "name": "stdout",
     "output_type": "stream",
     "text": [
      "Validation metrics: {'mse': tensor(0.0049, device='cuda:0')}\n"
     ]
    },
    {
     "name": "stderr",
     "output_type": "stream",
     "text": [
      "Epoch: 2: 100%|██████████| 15/15 [00:00<00:00, 98.71it/s] \n",
      "Epoch: Validating: 100%|██████████| 39/39 [00:00<00:00, 309.06it/s]\n"
     ]
    },
    {
     "name": "stdout",
     "output_type": "stream",
     "text": [
      "Validation metrics: {'mse': tensor(0.0022, device='cuda:0')}\n"
     ]
    },
    {
     "name": "stderr",
     "output_type": "stream",
     "text": [
      "Epoch: 3: 100%|██████████| 15/15 [00:00<00:00, 96.82it/s]\n",
      "Epoch: Validating: 100%|██████████| 39/39 [00:00<00:00, 283.72it/s]\n"
     ]
    },
    {
     "name": "stdout",
     "output_type": "stream",
     "text": [
      "Validation metrics: {'mse': tensor(0.0011, device='cuda:0')}\n"
     ]
    },
    {
     "name": "stderr",
     "output_type": "stream",
     "text": [
      "Epoch: 4: 100%|██████████| 15/15 [00:00<00:00, 92.52it/s]\n",
      "Epoch: Validating: 100%|██████████| 39/39 [00:00<00:00, 298.46it/s]\n"
     ]
    },
    {
     "name": "stdout",
     "output_type": "stream",
     "text": [
      "Validation metrics: {'mse': tensor(0.0006, device='cuda:0')}\n"
     ]
    },
    {
     "name": "stderr",
     "output_type": "stream",
     "text": [
      "Epoch: 5: 100%|██████████| 15/15 [00:00<00:00, 87.52it/s]\n",
      "Epoch: Validating: 100%|██████████| 39/39 [00:00<00:00, 310.77it/s]\n"
     ]
    },
    {
     "name": "stdout",
     "output_type": "stream",
     "text": [
      "Validation metrics: {'mse': tensor(0.0005, device='cuda:0')}\n"
     ]
    },
    {
     "name": "stderr",
     "output_type": "stream",
     "text": [
      "Epoch: Validating: 100%|██████████| 83/83 [00:00<00:00, 253.18it/s]\n",
      "Epoch: 1: 100%|██████████| 304/304 [00:03<00:00, 88.62it/s]\n",
      "Epoch: Validating: 100%|██████████| 39/39 [00:00<00:00, 226.83it/s]\n"
     ]
    },
    {
     "name": "stdout",
     "output_type": "stream",
     "text": [
      "Validation metrics: {'mse': tensor(0.0004, device='cuda:0')}\n"
     ]
    },
    {
     "name": "stderr",
     "output_type": "stream",
     "text": [
      "Epoch: 2: 100%|██████████| 304/304 [00:03<00:00, 89.48it/s] \n",
      "Epoch: Validating: 100%|██████████| 39/39 [00:00<00:00, 299.68it/s]\n"
     ]
    },
    {
     "name": "stdout",
     "output_type": "stream",
     "text": [
      "Validation metrics: {'mse': tensor(0.0003, device='cuda:0')}\n"
     ]
    },
    {
     "name": "stderr",
     "output_type": "stream",
     "text": [
      "Epoch: 3: 100%|██████████| 304/304 [00:03<00:00, 88.69it/s]\n",
      "Epoch: Validating: 100%|██████████| 39/39 [00:00<00:00, 297.63it/s]\n"
     ]
    },
    {
     "name": "stdout",
     "output_type": "stream",
     "text": [
      "Validation metrics: {'mse': tensor(0.0003, device='cuda:0')}\n"
     ]
    },
    {
     "name": "stderr",
     "output_type": "stream",
     "text": [
      "Epoch: 4: 100%|██████████| 304/304 [00:03<00:00, 89.37it/s]\n",
      "Epoch: Validating: 100%|██████████| 39/39 [00:00<00:00, 264.13it/s]\n"
     ]
    },
    {
     "name": "stdout",
     "output_type": "stream",
     "text": [
      "Validation metrics: {'mse': tensor(0.0002, device='cuda:0')}\n"
     ]
    },
    {
     "name": "stderr",
     "output_type": "stream",
     "text": [
      "Epoch: 5: 100%|██████████| 304/304 [00:03<00:00, 84.47it/s]\n",
      "Epoch: Validating: 100%|██████████| 39/39 [00:00<00:00, 267.05it/s]\n"
     ]
    },
    {
     "name": "stdout",
     "output_type": "stream",
     "text": [
      "Validation metrics: {'mse': tensor(0.0003, device='cuda:0')}\n"
     ]
    },
    {
     "name": "stderr",
     "output_type": "stream",
     "text": [
      "Epoch: Validating: 100%|██████████| 83/83 [00:00<00:00, 237.30it/s]\n"
     ]
    },
    {
     "name": "stdout",
     "output_type": "stream",
     "text": [
      "Using device: cuda:0\n"
     ]
    },
    {
     "name": "stderr",
     "output_type": "stream",
     "text": [
      "Epoch: 1: 100%|██████████| 15/15 [00:01<00:00,  8.88it/s]\n",
      "Epoch: Validating: 100%|██████████| 21/21 [00:01<00:00, 11.17it/s]\n"
     ]
    },
    {
     "name": "stdout",
     "output_type": "stream",
     "text": [
      "Validation metrics: {'mse': tensor(0.2473, device='cuda:0')}\n"
     ]
    },
    {
     "name": "stderr",
     "output_type": "stream",
     "text": [
      "Epoch: 2: 100%|██████████| 15/15 [00:02<00:00,  5.19it/s]\n",
      "Epoch: Validating: 100%|██████████| 21/21 [00:01<00:00, 10.61it/s]\n"
     ]
    },
    {
     "name": "stdout",
     "output_type": "stream",
     "text": [
      "Validation metrics: {'mse': tensor(0.2336, device='cuda:0')}\n"
     ]
    },
    {
     "name": "stderr",
     "output_type": "stream",
     "text": [
      "Epoch: 3: 100%|██████████| 15/15 [00:01<00:00,  7.63it/s]\n",
      "Epoch: Validating: 100%|██████████| 21/21 [00:01<00:00, 13.14it/s]\n"
     ]
    },
    {
     "name": "stdout",
     "output_type": "stream",
     "text": [
      "Validation metrics: {'mse': tensor(0.2302, device='cuda:0')}\n"
     ]
    },
    {
     "name": "stderr",
     "output_type": "stream",
     "text": [
      "Epoch: 4: 100%|██████████| 15/15 [00:01<00:00, 10.75it/s]\n",
      "Epoch: Validating: 100%|██████████| 21/21 [00:02<00:00, 10.49it/s]\n"
     ]
    },
    {
     "name": "stdout",
     "output_type": "stream",
     "text": [
      "Validation metrics: {'mse': tensor(0.2288, device='cuda:0')}\n"
     ]
    },
    {
     "name": "stderr",
     "output_type": "stream",
     "text": [
      "Epoch: 5: 100%|██████████| 15/15 [00:01<00:00, 10.11it/s]\n",
      "Epoch: Validating: 100%|██████████| 21/21 [00:01<00:00, 10.52it/s]\n"
     ]
    },
    {
     "name": "stdout",
     "output_type": "stream",
     "text": [
      "Validation metrics: {'mse': tensor(0.2298, device='cuda:0')}\n"
     ]
    },
    {
     "name": "stderr",
     "output_type": "stream",
     "text": [
      "Epoch: Validating: 100%|██████████| 86/86 [00:07<00:00, 11.33it/s]\n",
      "Epoch: 1: 100%|██████████| 151/151 [00:24<00:00,  6.04it/s]\n",
      "Epoch: Validating: 100%|██████████| 21/21 [00:01<00:00, 14.30it/s]\n"
     ]
    },
    {
     "name": "stdout",
     "output_type": "stream",
     "text": [
      "Validation metrics: {'mse': tensor(0.2090, device='cuda:0')}\n"
     ]
    },
    {
     "name": "stderr",
     "output_type": "stream",
     "text": [
      "Epoch: 2: 100%|██████████| 151/151 [00:20<00:00,  7.25it/s]\n",
      "Epoch: Validating: 100%|██████████| 21/21 [00:01<00:00, 12.43it/s]\n"
     ]
    },
    {
     "name": "stdout",
     "output_type": "stream",
     "text": [
      "Validation metrics: {'mse': tensor(0.2154, device='cuda:0')}\n"
     ]
    },
    {
     "name": "stderr",
     "output_type": "stream",
     "text": [
      "Epoch: 3: 100%|██████████| 151/151 [00:30<00:00,  4.97it/s]\n",
      "Epoch: Validating: 100%|██████████| 21/21 [00:02<00:00,  7.50it/s]\n"
     ]
    },
    {
     "name": "stdout",
     "output_type": "stream",
     "text": [
      "Validation metrics: {'mse': tensor(0.2100, device='cuda:0')}\n"
     ]
    },
    {
     "name": "stderr",
     "output_type": "stream",
     "text": [
      "Epoch: 4: 100%|██████████| 151/151 [00:27<00:00,  5.41it/s]\n",
      "Epoch: Validating: 100%|██████████| 21/21 [00:02<00:00,  8.61it/s]\n"
     ]
    },
    {
     "name": "stdout",
     "output_type": "stream",
     "text": [
      "Validation metrics: {'mse': tensor(0.2147, device='cuda:0')}\n"
     ]
    },
    {
     "name": "stderr",
     "output_type": "stream",
     "text": [
      "Epoch: 5: 100%|██████████| 151/151 [00:26<00:00,  5.76it/s]\n",
      "Epoch: Validating: 100%|██████████| 21/21 [00:02<00:00,  7.72it/s]\n"
     ]
    },
    {
     "name": "stdout",
     "output_type": "stream",
     "text": [
      "Validation metrics: {'mse': tensor(0.2119, device='cuda:0')}\n"
     ]
    },
    {
     "name": "stderr",
     "output_type": "stream",
     "text": [
      "Epoch: Validating: 100%|██████████| 86/86 [00:10<00:00,  8.13it/s]\n"
     ]
    },
    {
     "name": "stdout",
     "output_type": "stream",
     "text": [
      "Using device: cuda:0\n"
     ]
    },
    {
     "name": "stderr",
     "output_type": "stream",
     "text": [
      "Epoch: 1: 100%|██████████| 15/15 [00:00<00:00, 104.97it/s]\n",
      "Epoch: Validating: 100%|██████████| 39/39 [00:00<00:00, 266.29it/s]\n"
     ]
    },
    {
     "name": "stdout",
     "output_type": "stream",
     "text": [
      "Validation metrics: {'mse': tensor(0.0045, device='cuda:0')}\n"
     ]
    },
    {
     "name": "stderr",
     "output_type": "stream",
     "text": [
      "Epoch: 2: 100%|██████████| 15/15 [00:00<00:00, 79.43it/s]\n",
      "Epoch: Validating: 100%|██████████| 39/39 [00:00<00:00, 220.98it/s]\n"
     ]
    },
    {
     "name": "stdout",
     "output_type": "stream",
     "text": [
      "Validation metrics: {'mse': tensor(0.0013, device='cuda:0')}\n"
     ]
    },
    {
     "name": "stderr",
     "output_type": "stream",
     "text": [
      "Epoch: 3: 100%|██████████| 15/15 [00:00<00:00, 98.75it/s]\n",
      "Epoch: Validating: 100%|██████████| 39/39 [00:00<00:00, 295.83it/s]\n"
     ]
    },
    {
     "name": "stdout",
     "output_type": "stream",
     "text": [
      "Validation metrics: {'mse': tensor(0.0008, device='cuda:0')}\n"
     ]
    },
    {
     "name": "stderr",
     "output_type": "stream",
     "text": [
      "Epoch: 4: 100%|██████████| 15/15 [00:00<00:00, 86.97it/s] \n",
      "Epoch: Validating: 100%|██████████| 39/39 [00:00<00:00, 294.76it/s]\n"
     ]
    },
    {
     "name": "stdout",
     "output_type": "stream",
     "text": [
      "Validation metrics: {'mse': tensor(0.0005, device='cuda:0')}\n"
     ]
    },
    {
     "name": "stderr",
     "output_type": "stream",
     "text": [
      "Epoch: 5: 100%|██████████| 15/15 [00:00<00:00, 97.73it/s]\n",
      "Epoch: Validating: 100%|██████████| 39/39 [00:00<00:00, 289.02it/s]\n"
     ]
    },
    {
     "name": "stdout",
     "output_type": "stream",
     "text": [
      "Validation metrics: {'mse': tensor(0.0004, device='cuda:0')}\n"
     ]
    },
    {
     "name": "stderr",
     "output_type": "stream",
     "text": [
      "Epoch: Validating: 100%|██████████| 83/83 [00:00<00:00, 207.66it/s]\n",
      "Epoch: 1: 100%|██████████| 304/304 [00:03<00:00, 87.61it/s]\n",
      "Epoch: Validating: 100%|██████████| 39/39 [00:00<00:00, 294.90it/s]\n"
     ]
    },
    {
     "name": "stdout",
     "output_type": "stream",
     "text": [
      "Validation metrics: {'mse': tensor(0.0003, device='cuda:0')}\n"
     ]
    },
    {
     "name": "stderr",
     "output_type": "stream",
     "text": [
      "Epoch: 2: 100%|██████████| 304/304 [00:03<00:00, 89.91it/s]\n",
      "Epoch: Validating: 100%|██████████| 39/39 [00:00<00:00, 226.57it/s]\n"
     ]
    },
    {
     "name": "stdout",
     "output_type": "stream",
     "text": [
      "Validation metrics: {'mse': tensor(0.0003, device='cuda:0')}\n"
     ]
    },
    {
     "name": "stderr",
     "output_type": "stream",
     "text": [
      "Epoch: 3: 100%|██████████| 304/304 [00:03<00:00, 90.29it/s] \n",
      "Epoch: Validating: 100%|██████████| 39/39 [00:00<00:00, 256.31it/s]\n"
     ]
    },
    {
     "name": "stdout",
     "output_type": "stream",
     "text": [
      "Validation metrics: {'mse': tensor(0.0003, device='cuda:0')}\n"
     ]
    },
    {
     "name": "stderr",
     "output_type": "stream",
     "text": [
      "Epoch: 4: 100%|██████████| 304/304 [00:03<00:00, 87.51it/s]\n",
      "Epoch: Validating: 100%|██████████| 39/39 [00:00<00:00, 273.31it/s]\n"
     ]
    },
    {
     "name": "stdout",
     "output_type": "stream",
     "text": [
      "Validation metrics: {'mse': tensor(0.0003, device='cuda:0')}\n"
     ]
    },
    {
     "name": "stderr",
     "output_type": "stream",
     "text": [
      "Epoch: 5: 100%|██████████| 304/304 [00:03<00:00, 86.00it/s]\n",
      "Epoch: Validating: 100%|██████████| 39/39 [00:00<00:00, 217.10it/s]\n"
     ]
    },
    {
     "name": "stdout",
     "output_type": "stream",
     "text": [
      "Validation metrics: {'mse': tensor(0.0013, device='cuda:0')}\n"
     ]
    },
    {
     "name": "stderr",
     "output_type": "stream",
     "text": [
      "Epoch: Validating: 100%|██████████| 83/83 [00:00<00:00, 188.91it/s]\n"
     ]
    },
    {
     "name": "stdout",
     "output_type": "stream",
     "text": [
      "Using device: cuda:0\n"
     ]
    },
    {
     "name": "stderr",
     "output_type": "stream",
     "text": [
      "Epoch: 1: 100%|██████████| 15/15 [00:01<00:00,  9.37it/s]\n",
      "Epoch: Validating: 100%|██████████| 21/21 [00:02<00:00,  8.63it/s]\n"
     ]
    },
    {
     "name": "stdout",
     "output_type": "stream",
     "text": [
      "Validation metrics: {'mse': tensor(0.4325, device='cuda:0')}\n"
     ]
    },
    {
     "name": "stderr",
     "output_type": "stream",
     "text": [
      "Epoch: 2: 100%|██████████| 15/15 [00:01<00:00,  8.85it/s]\n",
      "Epoch: Validating: 100%|██████████| 21/21 [00:01<00:00, 10.77it/s]\n"
     ]
    },
    {
     "name": "stdout",
     "output_type": "stream",
     "text": [
      "Validation metrics: {'mse': tensor(0.3815, device='cuda:0')}\n"
     ]
    },
    {
     "name": "stderr",
     "output_type": "stream",
     "text": [
      "Epoch: 3: 100%|██████████| 15/15 [00:02<00:00,  6.80it/s]\n",
      "Epoch: Validating: 100%|██████████| 21/21 [00:01<00:00, 17.88it/s]\n"
     ]
    },
    {
     "name": "stdout",
     "output_type": "stream",
     "text": [
      "Validation metrics: {'mse': tensor(0.3532, device='cuda:0')}\n"
     ]
    },
    {
     "name": "stderr",
     "output_type": "stream",
     "text": [
      "Epoch: 4: 100%|██████████| 15/15 [00:02<00:00,  6.89it/s]\n",
      "Epoch: Validating: 100%|██████████| 21/21 [00:02<00:00, 10.03it/s]\n"
     ]
    },
    {
     "name": "stdout",
     "output_type": "stream",
     "text": [
      "Validation metrics: {'mse': tensor(0.3345, device='cuda:0')}\n"
     ]
    },
    {
     "name": "stderr",
     "output_type": "stream",
     "text": [
      "Epoch: 5: 100%|██████████| 15/15 [00:01<00:00,  9.90it/s]\n",
      "Epoch: Validating: 100%|██████████| 21/21 [00:02<00:00,  9.96it/s]\n"
     ]
    },
    {
     "name": "stdout",
     "output_type": "stream",
     "text": [
      "Validation metrics: {'mse': tensor(0.3122, device='cuda:0')}\n"
     ]
    },
    {
     "name": "stderr",
     "output_type": "stream",
     "text": [
      "Epoch: Validating: 100%|██████████| 86/86 [00:08<00:00, 10.18it/s]\n",
      "Epoch: 1: 100%|██████████| 151/151 [00:22<00:00,  6.78it/s]\n",
      "Epoch: Validating: 100%|██████████| 21/21 [00:01<00:00, 11.62it/s]\n"
     ]
    },
    {
     "name": "stdout",
     "output_type": "stream",
     "text": [
      "Validation metrics: {'mse': tensor(0.2763, device='cuda:0')}\n"
     ]
    },
    {
     "name": "stderr",
     "output_type": "stream",
     "text": [
      "Epoch: 2: 100%|██████████| 151/151 [00:23<00:00,  6.39it/s]\n",
      "Epoch: Validating: 100%|██████████| 21/21 [00:01<00:00, 10.92it/s]\n"
     ]
    },
    {
     "name": "stdout",
     "output_type": "stream",
     "text": [
      "Validation metrics: {'mse': tensor(0.2405, device='cuda:0')}\n"
     ]
    },
    {
     "name": "stderr",
     "output_type": "stream",
     "text": [
      "Epoch: 3: 100%|██████████| 151/151 [00:22<00:00,  6.72it/s]\n",
      "Epoch: Validating: 100%|██████████| 21/21 [00:02<00:00,  7.39it/s]\n"
     ]
    },
    {
     "name": "stdout",
     "output_type": "stream",
     "text": [
      "Validation metrics: {'mse': tensor(0.2218, device='cuda:0')}\n"
     ]
    },
    {
     "name": "stderr",
     "output_type": "stream",
     "text": [
      "Epoch: 4: 100%|██████████| 151/151 [00:27<00:00,  5.41it/s]\n",
      "Epoch: Validating: 100%|██████████| 21/21 [00:04<00:00,  4.91it/s]\n"
     ]
    },
    {
     "name": "stdout",
     "output_type": "stream",
     "text": [
      "Validation metrics: {'mse': tensor(0.2411, device='cuda:0')}\n"
     ]
    },
    {
     "name": "stderr",
     "output_type": "stream",
     "text": [
      "Epoch: 5: 100%|██████████| 151/151 [00:29<00:00,  5.09it/s]\n",
      "Epoch: Validating: 100%|██████████| 21/21 [00:04<00:00,  5.02it/s]\n"
     ]
    },
    {
     "name": "stdout",
     "output_type": "stream",
     "text": [
      "Validation metrics: {'mse': tensor(0.2188, device='cuda:0')}\n"
     ]
    },
    {
     "name": "stderr",
     "output_type": "stream",
     "text": [
      "Epoch: Validating: 100%|██████████| 86/86 [00:08<00:00,  9.77it/s]\n"
     ]
    },
    {
     "name": "stdout",
     "output_type": "stream",
     "text": [
      "Using device: cuda:0\n"
     ]
    },
    {
     "name": "stderr",
     "output_type": "stream",
     "text": [
      "Epoch: 1: 100%|██████████| 15/15 [00:04<00:00,  3.26it/s]\n",
      "Epoch: Validating: 100%|██████████| 40/40 [00:04<00:00,  8.35it/s]\n"
     ]
    },
    {
     "name": "stdout",
     "output_type": "stream",
     "text": [
      "Validation metrics: {'mse': tensor(0.5539, device='cuda:0')}\n"
     ]
    },
    {
     "name": "stderr",
     "output_type": "stream",
     "text": [
      "Epoch: 2: 100%|██████████| 15/15 [00:04<00:00,  3.17it/s]\n",
      "Epoch: Validating: 100%|██████████| 40/40 [00:04<00:00,  9.08it/s]\n"
     ]
    },
    {
     "name": "stdout",
     "output_type": "stream",
     "text": [
      "Validation metrics: {'mse': tensor(0.4837, device='cuda:0')}\n"
     ]
    },
    {
     "name": "stderr",
     "output_type": "stream",
     "text": [
      "Epoch: 3: 100%|██████████| 15/15 [00:04<00:00,  3.61it/s]\n",
      "Epoch: Validating: 100%|██████████| 40/40 [00:04<00:00,  9.99it/s]\n"
     ]
    },
    {
     "name": "stdout",
     "output_type": "stream",
     "text": [
      "Validation metrics: {'mse': tensor(0.4515, device='cuda:0')}\n"
     ]
    },
    {
     "name": "stderr",
     "output_type": "stream",
     "text": [
      "Epoch: 4: 100%|██████████| 15/15 [00:06<00:00,  2.36it/s]\n",
      "Epoch: Validating: 100%|██████████| 40/40 [00:05<00:00,  6.82it/s]\n"
     ]
    },
    {
     "name": "stdout",
     "output_type": "stream",
     "text": [
      "Validation metrics: {'mse': tensor(0.4281, device='cuda:0')}\n"
     ]
    },
    {
     "name": "stderr",
     "output_type": "stream",
     "text": [
      "Epoch: 5: 100%|██████████| 15/15 [00:05<00:00,  2.82it/s]\n",
      "Epoch: Validating: 100%|██████████| 40/40 [00:04<00:00,  9.41it/s]\n"
     ]
    },
    {
     "name": "stdout",
     "output_type": "stream",
     "text": [
      "Validation metrics: {'mse': tensor(0.4133, device='cuda:0')}\n"
     ]
    },
    {
     "name": "stderr",
     "output_type": "stream",
     "text": [
      "Epoch: Validating: 100%|██████████| 86/86 [00:33<00:00,  2.54it/s]\n",
      "Epoch: 1: 100%|██████████| 314/314 [03:29<00:00,  1.50it/s]\n",
      "Epoch: Validating: 100%|██████████| 40/40 [00:18<00:00,  2.21it/s]\n"
     ]
    },
    {
     "name": "stdout",
     "output_type": "stream",
     "text": [
      "Validation metrics: {'mse': tensor(0.3591, device='cuda:0')}\n"
     ]
    },
    {
     "name": "stderr",
     "output_type": "stream",
     "text": [
      "Epoch: 2: 100%|██████████| 314/314 [03:28<00:00,  1.51it/s]\n",
      "Epoch: Validating: 100%|██████████| 40/40 [00:18<00:00,  2.15it/s]\n"
     ]
    },
    {
     "name": "stdout",
     "output_type": "stream",
     "text": [
      "Validation metrics: {'mse': tensor(0.3335, device='cuda:0')}\n"
     ]
    },
    {
     "name": "stderr",
     "output_type": "stream",
     "text": [
      "Epoch: 3: 100%|██████████| 314/314 [03:30<00:00,  1.49it/s]\n",
      "Epoch: Validating: 100%|██████████| 40/40 [00:20<00:00,  1.99it/s]\n"
     ]
    },
    {
     "name": "stdout",
     "output_type": "stream",
     "text": [
      "Validation metrics: {'mse': tensor(0.3262, device='cuda:0')}\n"
     ]
    },
    {
     "name": "stderr",
     "output_type": "stream",
     "text": [
      "Epoch: 4: 100%|██████████| 314/314 [03:38<00:00,  1.43it/s]\n",
      "Epoch: Validating: 100%|██████████| 40/40 [00:19<00:00,  2.09it/s]\n"
     ]
    },
    {
     "name": "stdout",
     "output_type": "stream",
     "text": [
      "Validation metrics: {'mse': tensor(0.3234, device='cuda:0')}\n"
     ]
    },
    {
     "name": "stderr",
     "output_type": "stream",
     "text": [
      "Epoch: 5: 100%|██████████| 314/314 [03:35<00:00,  1.46it/s]\n",
      "Epoch: Validating: 100%|██████████| 40/40 [00:19<00:00,  2.04it/s]\n"
     ]
    },
    {
     "name": "stdout",
     "output_type": "stream",
     "text": [
      "Validation metrics: {'mse': tensor(0.3271, device='cuda:0')}\n"
     ]
    },
    {
     "name": "stderr",
     "output_type": "stream",
     "text": [
      "Epoch: Validating: 100%|██████████| 86/86 [00:47<00:00,  1.83it/s]\n"
     ]
    },
    {
     "data": {
      "text/html": [
       "<div>\n",
       "<style scoped>\n",
       "    .dataframe tbody tr th:only-of-type {\n",
       "        vertical-align: middle;\n",
       "    }\n",
       "\n",
       "    .dataframe tbody tr th {\n",
       "        vertical-align: top;\n",
       "    }\n",
       "\n",
       "    .dataframe thead th {\n",
       "        text-align: right;\n",
       "    }\n",
       "</style>\n",
       "<table border=\"1\" class=\"dataframe\">\n",
       "  <thead>\n",
       "    <tr style=\"text-align: right;\">\n",
       "      <th></th>\n",
       "      <th>electricity_to_genome_project</th>\n",
       "      <th>electricity_to_bavaria</th>\n",
       "      <th>genome_project_to_electricity</th>\n",
       "      <th>genome_project_to_bavaria</th>\n",
       "      <th>bavaria_to_electricity</th>\n",
       "      <th>bavaria_to_genome_project</th>\n",
       "    </tr>\n",
       "  </thead>\n",
       "  <tbody>\n",
       "    <tr>\n",
       "      <th>mse_4_weeks_tuning</th>\n",
       "      <td>0.521376</td>\n",
       "      <td>0.001411</td>\n",
       "      <td>0.221595</td>\n",
       "      <td>0.000589</td>\n",
       "      <td>0.322062</td>\n",
       "      <td>0.576865</td>\n",
       "    </tr>\n",
       "    <tr>\n",
       "      <th>mae_4_weeks_tuning</th>\n",
       "      <td>0.387570</td>\n",
       "      <td>0.028127</td>\n",
       "      <td>0.303785</td>\n",
       "      <td>0.017151</td>\n",
       "      <td>0.394773</td>\n",
       "      <td>0.441728</td>\n",
       "    </tr>\n",
       "    <tr>\n",
       "      <th>mse_full_tuning</th>\n",
       "      <td>0.464582</td>\n",
       "      <td>0.000374</td>\n",
       "      <td>0.180445</td>\n",
       "      <td>0.002362</td>\n",
       "      <td>0.189756</td>\n",
       "      <td>0.461987</td>\n",
       "    </tr>\n",
       "    <tr>\n",
       "      <th>mae_full_tuning</th>\n",
       "      <td>0.361495</td>\n",
       "      <td>0.013917</td>\n",
       "      <td>0.265282</td>\n",
       "      <td>0.031661</td>\n",
       "      <td>0.278883</td>\n",
       "      <td>0.366178</td>\n",
       "    </tr>\n",
       "  </tbody>\n",
       "</table>\n",
       "</div>"
      ],
      "text/plain": [
       "                    electricity_to_genome_project  electricity_to_bavaria  \\\n",
       "mse_4_weeks_tuning                       0.521376                0.001411   \n",
       "mae_4_weeks_tuning                       0.387570                0.028127   \n",
       "mse_full_tuning                          0.464582                0.000374   \n",
       "mae_full_tuning                          0.361495                0.013917   \n",
       "\n",
       "                    genome_project_to_electricity  genome_project_to_bavaria  \\\n",
       "mse_4_weeks_tuning                       0.221595                   0.000589   \n",
       "mae_4_weeks_tuning                       0.303785                   0.017151   \n",
       "mse_full_tuning                          0.180445                   0.002362   \n",
       "mae_full_tuning                          0.265282                   0.031661   \n",
       "\n",
       "                    bavaria_to_electricity  bavaria_to_genome_project  \n",
       "mse_4_weeks_tuning                0.322062                   0.576865  \n",
       "mae_4_weeks_tuning                0.394773                   0.441728  \n",
       "mse_full_tuning                   0.189756                   0.461987  \n",
       "mae_full_tuning                   0.278883                   0.366178  "
      ]
     },
     "execution_count": 5,
     "metadata": {},
     "output_type": "execute_result"
    }
   ],
   "source": [
    "def fine_tune(model, dataloader_train, dataloader_validation, device, epoch=1):\n",
    "\n",
    "    # defining all needed instances\n",
    "    optimizer = optim.Adam(model.parameters(), lr=0.0005)\n",
    "    scheduler = optim.lr_scheduler.StepLR(optimizer, step_size=10, gamma=0.1)\n",
    "    writer = SummaryWriter(log_dir=config.CONFIG_LOGS_PATH[\"iTransformer_baseline\"])\n",
    "\n",
    "    # run model training as mentioned in the original paper\n",
    "    metrics, model = training_functions.train_one_epoch(epoch, model, device, dataloader_train, dataloader_validation, optimizer, scheduler, writer, save_model=False)\n",
    "    return model, device\n",
    "\n",
    "\n",
    "\n",
    "\n",
    "fine_tuning_metrics_df = pd.DataFrame()\n",
    "epoch=5\n",
    "\n",
    "# select a source dataset\n",
    "for source, value in datasets.items():\n",
    "    print(f\"Using {source} as a source dataset.\")\n",
    "    model_path = config.CONFIG_MODEL_LOCATION[\"iTransformer_baseline\"] / source / f\"{source}_full_dataset_best_val_loss.pt\"\n",
    "\n",
    "    # select both target datasets\n",
    "    target_keys = [data_key for data_key in datasets if data_key != source]\n",
    "\n",
    "    # do test predictions for both target datasets\n",
    "    for target in target_keys:\n",
    "        fine_tuning_metrics_list = []\n",
    "        dataloader_test = datasets[target][\"dataloader_test\"]\n",
    "        datalaoder_val = datasets[target][\"dataloader_validation\"]\n",
    "\n",
    "        inputs, _ = next(iter(dataloader_test))\n",
    "        num_variates = inputs.size(2)\n",
    "\n",
    "        model_config = {\n",
    "            'num_variates': num_variates,\n",
    "            'lookback_len': window_size,\n",
    "            'depth': best_parameters[\"depth\"],\n",
    "            'dim': best_parameters[\"dim\"],\n",
    "            'num_tokens_per_variate': 1,\n",
    "            'pred_length': pred_length,\n",
    "            'dim_head': best_parameters[\"dim_head\"],\n",
    "            'heads': best_parameters[\"heads\"],\n",
    "            'attn_dropout': best_parameters[\"attn_dropout\"],\n",
    "            'ff_mult': best_parameters[\"ff_mult\"],\n",
    "            'ff_dropout': best_parameters[\"ff_dropout\"],\n",
    "            'num_mem_tokens': best_parameters[\"num_mem_tokens\"],\n",
    "            'use_reversible_instance_norm': True,\n",
    "            'reversible_instance_norm_affine': True,\n",
    "            'flash_attn': True\n",
    "        }\n",
    "\n",
    "        device = torch.device(\"cuda:0\" if torch.cuda.is_available() else \"cpu\")\n",
    "        print(f\"Using device: {device}\")\n",
    "\n",
    "\n",
    "        checkpoint = torch.load(model_path,map_location='cpu')\n",
    "\n",
    "        # values are all set to zero (beta) and one (gamma), array needs to be adapted to num_variates\n",
    "        # learned affine parameters are series specific and need to be relearned for new series\n",
    "        # value are kept at 1 and 0 for stationary normalization\n",
    "        checkpoint[\"model_state_dict\"][\"reversible_instance_norm.beta\"] = torch.zeros(num_variates, 1, dtype=torch.float)\n",
    "        checkpoint[\"model_state_dict\"][\"reversible_instance_norm.gamma\"] = torch.ones(num_variates, 1, dtype=torch.float)\n",
    "\n",
    "\n",
    "        model = iTransformer(**model_config).to(device)\n",
    "        model.load_state_dict(checkpoint['model_state_dict'])\n",
    "\n",
    "        \n",
    "        # fne tuning on 4 weeks of target data\n",
    "        fine_tune_dataloader = datasets[target][\"4_weeks_train\"]        \n",
    "        model, device = fine_tune(model, fine_tune_dataloader, datalaoder_val, device, epoch=epoch)\n",
    "\n",
    "\n",
    "        metrics_fine_tuned = helpers.full_eval(model, dataloader_test, device)\n",
    "        fine_tuning_metrics_list.append(metrics_fine_tuned[96][\"mse\"].item())\n",
    "        fine_tuning_metrics_list.append(metrics_fine_tuned[96][\"mae\"].item())\n",
    "\n",
    "\n",
    "        # train on full target dataset\n",
    "        checkpoint = torch.load(model_path,map_location='cpu')\n",
    "\n",
    "        # values are all set to zero (beta) and one (gamma), array needs to be adapted to num_variates\n",
    "        # learned affine parameters are series specific and need to be relearned for new series\n",
    "        # value are kept at 1 and 0 for stationary normalization\n",
    "        checkpoint[\"model_state_dict\"][\"reversible_instance_norm.beta\"] = torch.zeros(num_variates, 1, dtype=torch.float)\n",
    "        checkpoint[\"model_state_dict\"][\"reversible_instance_norm.gamma\"] = torch.ones(num_variates, 1, dtype=torch.float)\n",
    "\n",
    "        model = iTransformer(**model_config).to(device)\n",
    "        model.load_state_dict(checkpoint['model_state_dict'])\n",
    "\n",
    "        # fne tuning on 4 weeks of target data\n",
    "        fine_tune_dataloader = datasets[target][\"dataloader_train\"]        \n",
    "        model, device = fine_tune(model, fine_tune_dataloader, datalaoder_val, device, epoch=epoch)\n",
    "\n",
    "        metrics_fine_tuned = helpers.full_eval(model, dataloader_test, device)\n",
    "        fine_tuning_metrics_list.append(metrics_fine_tuned[96][\"mse\"].item())\n",
    "        fine_tuning_metrics_list.append(metrics_fine_tuned[96][\"mae\"].item())\n",
    "\n",
    "\n",
    "        fine_tuning_metrics_df[f\"{source}_to_{target}\"] = pd.Series(fine_tuning_metrics_list)\n",
    "\n",
    "\n",
    "\n",
    "fine_tuning_metrics_df.index = [\"mse_4_weeks_tuning\", \"mae_4_weeks_tuning\", \"mse_full_tuning\", \"mae_full_tuning\"]\n",
    "fine_tuning_metrics_df"
   ]
  },
  {
   "cell_type": "code",
   "execution_count": 6,
   "metadata": {},
   "outputs": [],
   "source": [
    "result = pd.concat([zero_shot_metrics, fine_tuning_metrics_df], ignore_index=False)\n",
    "\n",
    "output_path = config.CONFIG_OUTPUT_PATH[\"iTransformer_baseline\"] / \"itransformer_full_tl_metrics.csv\"\n",
    "\n",
    "result.to_csv(output_path)"
   ]
  }
 ],
 "metadata": {
  "kernelspec": {
   "display_name": "Python 3",
   "language": "python",
   "name": "python3"
  },
  "language_info": {
   "codemirror_mode": {
    "name": "ipython",
    "version": 3
   },
   "file_extension": ".py",
   "mimetype": "text/x-python",
   "name": "python",
   "nbconvert_exporter": "python",
   "pygments_lexer": "ipython3",
   "version": "3.10.9"
  },
  "orig_nbformat": 4
 },
 "nbformat": 4,
 "nbformat_minor": 2
}
