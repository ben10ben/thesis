{
 "cells": [
  {
   "cell_type": "code",
   "execution_count": 2,
   "metadata": {},
   "outputs": [
    {
     "name": "stdout",
     "output_type": "stream",
     "text": [
      "Import succesfull\n"
     ]
    }
   ],
   "source": [
    "# TODO which one?\n",
    "#git clone https://github.com/lucidrains/iTransformer.git\n",
    "#import iTransformer\n",
    "import sys\n",
    "sys.path.append('/vol/fob-vol7/nebenf21/reinbene/bene/MA/iTransformer') \n",
    "from iTransformer import iTransformer\n",
    "import torch\n",
    "from pathlib import Path\n",
    "\n",
    "import torch\n",
    "import torch.optim as optim\n",
    "from tqdm import tqdm\n",
    "from torch.utils.tensorboard import SummaryWriter\n",
    "\n",
    "from utils import data_handling, helpers, training_functions\n",
    "import config\n",
    "import pandas as pd\n",
    "import random\n",
    "\n",
    "window_size = 96\n",
    "pred_length = (96)\n",
    "\n",
    "print(\"Import succesfull\")"
   ]
  },
  {
   "cell_type": "markdown",
   "metadata": {},
   "source": [
    "# Zero shot evaluation\n",
    "\n",
    "In the following we train and evaluate iTransformer in a 5-fold cross-validation zero shot setting on a 96 timestep input and foecasting horizon.\n",
    "Each dataset is split into a ratio of 80% for training and 20% for zero-shot evaluation. This is done 5 times. The mse loss of each run is saved for all three datasets."
   ]
  },
  {
   "cell_type": "code",
   "execution_count": 49,
   "metadata": {},
   "outputs": [],
   "source": [
    "# the following functions are needed for cross-validation splitting, selecting the correct data chunks\n",
    "# and doing the training and zero-shot prediction\n",
    "\n",
    "def cross_validaiton_split(data_dict):\n",
    "    # define split point\n",
    "    num_ids = data_dict[\"train\"].size(1)\n",
    "    columns_per_fold = num_ids // 5\n",
    "\n",
    "    # define dicts for pre-train/fine-tune splits\n",
    "    data_dict_source = {}\n",
    "    data_dict_target = {}\n",
    "\n",
    "    for key, value in data_dict.items():\n",
    "        # select 1/5 of ids with each full series\n",
    "        folds = [value[:, i * columns_per_fold : (i + 1) * columns_per_fold] for i in range(5)]\n",
    "\n",
    "\n",
    "        # add remainder iteratively to folds if present\n",
    "        remainder = num_ids % 5\n",
    "        if remainder:\n",
    "            for i in range(remainder):\n",
    "                folds[i] = torch.cat((folds[i], value[:, num_ids - remainder + i:num_ids - remainder + i + 1]), axis=1)\n",
    "\n",
    "        # define pre-training folds\n",
    "        source = []\n",
    "        source.append(torch.cat(folds[1:], dim=1))\n",
    "        source.append(torch.cat((folds[0], folds[2], folds[3], folds[4]), dim=1))\n",
    "        source.append(torch.cat((folds[0], folds[1], folds[3], folds[4]), dim=1))\n",
    "        source.append(torch.cat((folds[0], folds[1], folds[3], folds[4]), dim=1))\n",
    "        source.append(torch.cat(folds[:4], dim=1))\n",
    "\n",
    "        data_dict_source[key] = source\n",
    "        data_dict_target[key] = folds\n",
    "\n",
    "    return data_dict_source, data_dict_target\n",
    "\n",
    "def select_cross_val_split(dataset_dict, num_split=0):\n",
    "\n",
    "    temp_dict = dataset_dict.copy()\n",
    "    for key, value in temp_dict.items():\n",
    "       # print(value)\n",
    "        temp_dict[key] = value[num_split]\n",
    "\n",
    "    return data_handling.convert_data(temp_dict, window_size, pred_length)\n",
    "\n",
    "\n",
    "def cross_val_train(dataloader_train, dataloader_val):\n",
    "\n",
    "\n",
    "    inputs, _ = next(iter(dataloader_train))\n",
    "    print(inputs.size(2))\n",
    "    num_variates = inputs.size(2)\n",
    "    \n",
    "    # define parameters and create config \n",
    "    best_parameters = {'depth': 2, 'dim': 256, 'dim_head': 56, 'heads': 4, 'attn_dropout': 0.2, 'ff_mult': 4, 'ff_dropout': 0.1, \n",
    "                    'num_mem_tokens': 4, 'learning_rate': 0.0005}\n",
    "\n",
    "\n",
    "    model_config = {\n",
    "        'num_variates': num_variates,\n",
    "        'lookback_len': window_size,\n",
    "        'depth': best_parameters[\"depth\"],\n",
    "        'dim': best_parameters[\"dim\"],\n",
    "        'num_tokens_per_variate': 1,\n",
    "        'pred_length': pred_length,\n",
    "        'dim_head': best_parameters[\"dim_head\"],\n",
    "        'heads': best_parameters[\"heads\"],\n",
    "        'attn_dropout': best_parameters[\"attn_dropout\"],\n",
    "        'ff_mult': best_parameters[\"ff_mult\"],\n",
    "        'ff_dropout': best_parameters[\"ff_dropout\"],\n",
    "        'num_mem_tokens': best_parameters[\"num_mem_tokens\"],\n",
    "        'use_reversible_instance_norm': True,\n",
    "        'reversible_instance_norm_affine': True,\n",
    "        'flash_attn': True\n",
    "    }\n",
    "\n",
    "    # select available deviec\n",
    "    device = torch.device(\"cuda:1\" if torch.cuda.is_available() else \"cpu\")\n",
    "\n",
    "    print(f\"Using device: {device}\")\n",
    "\n",
    "    # defining all needed instances\n",
    "    model = iTransformer(**model_config).to(device)\n",
    "    optimizer = optim.Adam(model.parameters(), lr=best_parameters[\"learning_rate\"])\n",
    "    scheduler = optim.lr_scheduler.StepLR(optimizer, step_size=10, gamma=0.1)\n",
    "    writer = SummaryWriter(log_dir=config.CONFIG_LOGS_PATH[\"iTransformer_baseline\"])\n",
    "\n",
    "    # run model training as mentioned in the original paper\n",
    "    epoch = 1\n",
    "\n",
    "    for epoch in range(1, epoch + 1):\n",
    "        training_functions.train_one_epoch(epoch, model, device, dataloader_train, dataloader_val, optimizer, scheduler, writer)\n",
    "    return model.state_dict()\n",
    "\n",
    "\n",
    "def zero_shot_prediction(test, state_dict):\n",
    "    best_parameters = {'depth': 2, 'dim': 256, 'dim_head': 56, 'heads': 4, 'attn_dropout': 0.2, 'ff_mult': 4, 'ff_dropout': 0.1, \n",
    "                    'num_mem_tokens': 4, 'learning_rate': 0.0005}\n",
    "\n",
    "    inputs, _ = next(iter(test))\n",
    "    num_variates = inputs.size(2)\n",
    "\n",
    "    model_config = {\n",
    "        'num_variates': num_variates,\n",
    "        'lookback_len': window_size,\n",
    "        'depth': best_parameters[\"depth\"],\n",
    "        'dim': best_parameters[\"dim\"],\n",
    "        'num_tokens_per_variate': 1,\n",
    "        'pred_length': pred_length,\n",
    "        'dim_head': best_parameters[\"dim_head\"],\n",
    "        'heads': best_parameters[\"heads\"],\n",
    "        'attn_dropout': best_parameters[\"attn_dropout\"],\n",
    "        'ff_mult': best_parameters[\"ff_mult\"],\n",
    "        'ff_dropout': best_parameters[\"ff_dropout\"],\n",
    "        'num_mem_tokens': best_parameters[\"num_mem_tokens\"],\n",
    "        'use_reversible_instance_norm': True,\n",
    "        'reversible_instance_norm_affine': True,\n",
    "        'flash_attn': True\n",
    "    }\n",
    "\n",
    "    device = torch.device(\"cuda:1\" if torch.cuda.is_available() else \"cpu\")\n",
    "\n",
    "    # values are all set to zero (beta) and one (gamma), array needs to be adapted to num_variates\n",
    "    # learned affine parameters are series specific and need to be relearned for new series\n",
    "    # value are kept at 1 and 0 for stationary normalization\n",
    "    state_dict[\"reversible_instance_norm.beta\"] = torch.zeros(num_variates, 1, dtype=torch.float)\n",
    "    state_dict[\"reversible_instance_norm.gamma\"] = torch.ones(num_variates, 1, dtype=torch.float)\n",
    "\n",
    "    model = iTransformer(**model_config).to(device)\n",
    "    model.load_state_dict(state_dict)\n",
    "\n",
    "    return model, device\n",
    "\n",
    "\n",
    "def fine_tune(model, dataloader_train, dataloader_validation):\n",
    "\n",
    "        # select available deviec\n",
    "    device = torch.device(\"cuda:1\" if torch.cuda.is_available() else \"cpu\")\n",
    "\n",
    "    print(f\"Using device: {device}\")\n",
    "\n",
    "    # defining all needed instances\n",
    "    optimizer = optim.Adam(model.parameters(), lr=0.0005)\n",
    "    scheduler = optim.lr_scheduler.StepLR(optimizer, step_size=10, gamma=0.1)\n",
    "    writer = SummaryWriter(log_dir=config.CONFIG_LOGS_PATH[\"iTransformer_baseline\"])\n",
    "\n",
    "    # run model training as mentioned in the original paper\n",
    "    epoch = 1\n",
    "\n",
    "    for epoch in range(1, epoch + 1):\n",
    "        training_functions.train_one_epoch(epoch, model, device, dataloader_train, dataloader_validation, optimizer, scheduler, writer)\n",
    "    return model, device"
   ]
  },
  {
   "cell_type": "code",
   "execution_count": 51,
   "metadata": {},
   "outputs": [],
   "source": [
    "# ETL electricity dataset\n",
    "electricity = data_handling.load_electricity()\n",
    "\n",
    "# eu electricity dataset\n",
    "data_tensor = data_handling.eu_electricity_to_tensor()\n",
    "eu_electricity, _ =  data_handling.train_test_split_eu_elec(data_tensor, standardize=True)\n",
    "\n",
    "# bavaria dataset\n",
    "data_tensor = data_handling.load_bavaria_electricity()\n",
    "bavaria_electricity, _ = data_handling.train_test_split_eu_elec(data_tensor, standardize=True)\n",
    "\n",
    "datasets = {\"electricity\" : electricity,\n",
    "\t\t\t\"europe\" : eu_electricity,\n",
    "\t\t\t\"bavaria\" : bavaria_electricity\n",
    "            }"
   ]
  },
  {
   "cell_type": "code",
   "execution_count": 52,
   "metadata": {},
   "outputs": [
    {
     "data": {
      "text/html": [
       "<div>\n",
       "<style scoped>\n",
       "    .dataframe tbody tr th:only-of-type {\n",
       "        vertical-align: middle;\n",
       "    }\n",
       "\n",
       "    .dataframe tbody tr th {\n",
       "        vertical-align: top;\n",
       "    }\n",
       "\n",
       "    .dataframe thead th {\n",
       "        text-align: right;\n",
       "    }\n",
       "</style>\n",
       "<table border=\"1\" class=\"dataframe\">\n",
       "  <thead>\n",
       "    <tr style=\"text-align: right;\">\n",
       "      <th></th>\n",
       "      <th>electricity_zero_shot</th>\n",
       "      <th>electricity_fine_tuned</th>\n",
       "      <th>europe_zero_shot</th>\n",
       "      <th>europe_fine_tuned</th>\n",
       "      <th>bavaria_zero_shot</th>\n",
       "      <th>bavaria_fine_tuned</th>\n",
       "    </tr>\n",
       "  </thead>\n",
       "  <tbody>\n",
       "    <tr>\n",
       "      <th>0</th>\n",
       "      <td>1</td>\n",
       "      <td>1</td>\n",
       "      <td>1</td>\n",
       "      <td>1</td>\n",
       "      <td>1</td>\n",
       "      <td>1</td>\n",
       "    </tr>\n",
       "    <tr>\n",
       "      <th>1</th>\n",
       "      <td>2</td>\n",
       "      <td>2</td>\n",
       "      <td>2</td>\n",
       "      <td>2</td>\n",
       "      <td>2</td>\n",
       "      <td>2</td>\n",
       "    </tr>\n",
       "    <tr>\n",
       "      <th>2</th>\n",
       "      <td>3</td>\n",
       "      <td>3</td>\n",
       "      <td>3</td>\n",
       "      <td>3</td>\n",
       "      <td>3</td>\n",
       "      <td>3</td>\n",
       "    </tr>\n",
       "    <tr>\n",
       "      <th>3</th>\n",
       "      <td>4</td>\n",
       "      <td>4</td>\n",
       "      <td>4</td>\n",
       "      <td>4</td>\n",
       "      <td>4</td>\n",
       "      <td>4</td>\n",
       "    </tr>\n",
       "  </tbody>\n",
       "</table>\n",
       "</div>"
      ],
      "text/plain": [
       "   electricity_zero_shot  electricity_fine_tuned  europe_zero_shot  \\\n",
       "0                      1                       1                 1   \n",
       "1                      2                       2                 2   \n",
       "2                      3                       3                 3   \n",
       "3                      4                       4                 4   \n",
       "\n",
       "   europe_fine_tuned  bavaria_zero_shot  bavaria_fine_tuned  \n",
       "0                  1                  1                   1  \n",
       "1                  2                  2                   2  \n",
       "2                  3                  3                   3  \n",
       "3                  4                  4                   4  "
      ]
     },
     "execution_count": 52,
     "metadata": {},
     "output_type": "execute_result"
    }
   ],
   "source": [
    "metrics_df = pd.DataFrame()\n",
    "\n",
    "for key, values in datasets.items():\n",
    " \n",
    "    metrics_df[f\"{key}_zero_shot\"] = [1, 2, 3, 4]\n",
    "    metrics_df[f\"{key}_fine_tuned\"] = [1, 2, 3, 4]\n",
    "metrics_df"
   ]
  },
  {
   "cell_type": "code",
   "execution_count": 60,
   "metadata": {},
   "outputs": [
    {
     "data": {
      "text/html": [
       "<div>\n",
       "<style scoped>\n",
       "    .dataframe tbody tr th:only-of-type {\n",
       "        vertical-align: middle;\n",
       "    }\n",
       "\n",
       "    .dataframe tbody tr th {\n",
       "        vertical-align: top;\n",
       "    }\n",
       "\n",
       "    .dataframe thead th {\n",
       "        text-align: right;\n",
       "    }\n",
       "</style>\n",
       "<table border=\"1\" class=\"dataframe\">\n",
       "  <thead>\n",
       "    <tr style=\"text-align: right;\">\n",
       "      <th></th>\n",
       "      <th>electricity_split_0_fine_tuned</th>\n",
       "      <th>electricity_split_1_fine_tuned</th>\n",
       "      <th>electricity_split_2_fine_tuned</th>\n",
       "      <th>electricity_split_3_fine_tuned</th>\n",
       "      <th>electricity_split_4_fine_tuned</th>\n",
       "      <th>europe_split_0_fine_tuned</th>\n",
       "      <th>europe_split_1_fine_tuned</th>\n",
       "      <th>europe_split_2_fine_tuned</th>\n",
       "      <th>europe_split_3_fine_tuned</th>\n",
       "      <th>europe_split_4_fine_tuned</th>\n",
       "      <th>bavaria_split_0_fine_tuned</th>\n",
       "      <th>bavaria_split_1_fine_tuned</th>\n",
       "      <th>bavaria_split_2_fine_tuned</th>\n",
       "      <th>bavaria_split_3_fine_tuned</th>\n",
       "      <th>bavaria_split_4_fine_tuned</th>\n",
       "    </tr>\n",
       "  </thead>\n",
       "  <tbody>\n",
       "    <tr>\n",
       "      <th>0</th>\n",
       "      <td>0.441730</td>\n",
       "      <td>0.426408</td>\n",
       "      <td>0.169339</td>\n",
       "      <td>0.103869</td>\n",
       "      <td>0.191036</td>\n",
       "      <td>0.675382</td>\n",
       "      <td>1.472324</td>\n",
       "      <td>0.530454</td>\n",
       "      <td>0.541847</td>\n",
       "      <td>0.558232</td>\n",
       "      <td>0.008321</td>\n",
       "      <td>0.007407</td>\n",
       "      <td>0.005138</td>\n",
       "      <td>0.006817</td>\n",
       "      <td>0.005887</td>\n",
       "    </tr>\n",
       "    <tr>\n",
       "      <th>1</th>\n",
       "      <td>0.412498</td>\n",
       "      <td>0.414669</td>\n",
       "      <td>0.164688</td>\n",
       "      <td>0.103434</td>\n",
       "      <td>0.185381</td>\n",
       "      <td>0.665795</td>\n",
       "      <td>1.339377</td>\n",
       "      <td>0.546929</td>\n",
       "      <td>0.521824</td>\n",
       "      <td>0.558134</td>\n",
       "      <td>0.001467</td>\n",
       "      <td>0.001440</td>\n",
       "      <td>0.001646</td>\n",
       "      <td>0.001427</td>\n",
       "      <td>0.001091</td>\n",
       "    </tr>\n",
       "    <tr>\n",
       "      <th>2</th>\n",
       "      <td>0.425070</td>\n",
       "      <td>0.408218</td>\n",
       "      <td>0.163697</td>\n",
       "      <td>0.103895</td>\n",
       "      <td>0.173125</td>\n",
       "      <td>0.676515</td>\n",
       "      <td>1.349056</td>\n",
       "      <td>0.577132</td>\n",
       "      <td>0.534754</td>\n",
       "      <td>0.569630</td>\n",
       "      <td>0.003116</td>\n",
       "      <td>0.003292</td>\n",
       "      <td>0.002944</td>\n",
       "      <td>0.003014</td>\n",
       "      <td>0.002521</td>\n",
       "    </tr>\n",
       "    <tr>\n",
       "      <th>3</th>\n",
       "      <td>0.422773</td>\n",
       "      <td>0.409275</td>\n",
       "      <td>0.157537</td>\n",
       "      <td>0.101667</td>\n",
       "      <td>0.172354</td>\n",
       "      <td>0.690056</td>\n",
       "      <td>1.373630</td>\n",
       "      <td>0.610376</td>\n",
       "      <td>0.551018</td>\n",
       "      <td>0.584444</td>\n",
       "      <td>0.001868</td>\n",
       "      <td>0.001653</td>\n",
       "      <td>0.001763</td>\n",
       "      <td>0.001729</td>\n",
       "      <td>0.001356</td>\n",
       "    </tr>\n",
       "    <tr>\n",
       "      <th>4</th>\n",
       "      <td>0.416225</td>\n",
       "      <td>0.401024</td>\n",
       "      <td>0.157231</td>\n",
       "      <td>0.101949</td>\n",
       "      <td>0.166394</td>\n",
       "      <td>0.703655</td>\n",
       "      <td>1.392761</td>\n",
       "      <td>0.625553</td>\n",
       "      <td>0.563173</td>\n",
       "      <td>0.598695</td>\n",
       "      <td>0.002689</td>\n",
       "      <td>0.002841</td>\n",
       "      <td>0.002973</td>\n",
       "      <td>0.002613</td>\n",
       "      <td>0.002253</td>\n",
       "    </tr>\n",
       "  </tbody>\n",
       "</table>\n",
       "</div>"
      ],
      "text/plain": [
       "   electricity_split_0_fine_tuned  electricity_split_1_fine_tuned  \\\n",
       "0                        0.441730                        0.426408   \n",
       "1                        0.412498                        0.414669   \n",
       "2                        0.425070                        0.408218   \n",
       "3                        0.422773                        0.409275   \n",
       "4                        0.416225                        0.401024   \n",
       "\n",
       "   electricity_split_2_fine_tuned  electricity_split_3_fine_tuned  \\\n",
       "0                        0.169339                        0.103869   \n",
       "1                        0.164688                        0.103434   \n",
       "2                        0.163697                        0.103895   \n",
       "3                        0.157537                        0.101667   \n",
       "4                        0.157231                        0.101949   \n",
       "\n",
       "   electricity_split_4_fine_tuned  europe_split_0_fine_tuned  \\\n",
       "0                        0.191036                   0.675382   \n",
       "1                        0.185381                   0.665795   \n",
       "2                        0.173125                   0.676515   \n",
       "3                        0.172354                   0.690056   \n",
       "4                        0.166394                   0.703655   \n",
       "\n",
       "   europe_split_1_fine_tuned  europe_split_2_fine_tuned  \\\n",
       "0                   1.472324                   0.530454   \n",
       "1                   1.339377                   0.546929   \n",
       "2                   1.349056                   0.577132   \n",
       "3                   1.373630                   0.610376   \n",
       "4                   1.392761                   0.625553   \n",
       "\n",
       "   europe_split_3_fine_tuned  europe_split_4_fine_tuned  \\\n",
       "0                   0.541847                   0.558232   \n",
       "1                   0.521824                   0.558134   \n",
       "2                   0.534754                   0.569630   \n",
       "3                   0.551018                   0.584444   \n",
       "4                   0.563173                   0.598695   \n",
       "\n",
       "   bavaria_split_0_fine_tuned  bavaria_split_1_fine_tuned  \\\n",
       "0                    0.008321                    0.007407   \n",
       "1                    0.001467                    0.001440   \n",
       "2                    0.003116                    0.003292   \n",
       "3                    0.001868                    0.001653   \n",
       "4                    0.002689                    0.002841   \n",
       "\n",
       "   bavaria_split_2_fine_tuned  bavaria_split_3_fine_tuned  \\\n",
       "0                    0.005138                    0.006817   \n",
       "1                    0.001646                    0.001427   \n",
       "2                    0.002944                    0.003014   \n",
       "3                    0.001763                    0.001729   \n",
       "4                    0.002973                    0.002613   \n",
       "\n",
       "   bavaria_split_4_fine_tuned  \n",
       "0                    0.005887  \n",
       "1                    0.001091  \n",
       "2                    0.002521  \n",
       "3                    0.001356  \n",
       "4                    0.002253  "
      ]
     },
     "execution_count": 60,
     "metadata": {},
     "output_type": "execute_result"
    }
   ],
   "source": [
    "metrics_df_fine_tuned"
   ]
  },
  {
   "cell_type": "code",
   "execution_count": 57,
   "metadata": {},
   "outputs": [
    {
     "name": "stdout",
     "output_type": "stream",
     "text": [
      "Feature batch shape: torch.Size([32, 96, 278])\n",
      "278\n",
      "Using device: cuda:1\n"
     ]
    },
    {
     "name": "stderr",
     "output_type": "stream",
     "text": [
      "Epoch: 1: 100%|██████████| 151/151 [00:06<00:00, 22.44it/s]\n",
      "Epoch: Validating: 100%|██████████| 86/86 [00:01<00:00, 78.71it/s]\n"
     ]
    },
    {
     "name": "stdout",
     "output_type": "stream",
     "text": [
      "Validation metrics: {96: {'mse': tensor(0.2126, device='cuda:1')}, 192: {'mse': 0}, 336: {'mse': 0}, 720: {'mse': 0}}\n",
      "Feature batch shape: torch.Size([32, 96, 70])\n"
     ]
    },
    {
     "name": "stderr",
     "output_type": "stream",
     "text": [
      "Epoch: Validating: 100%|██████████| 21/21 [00:00<00:00, 146.50it/s]\n"
     ]
    },
    {
     "name": "stdout",
     "output_type": "stream",
     "text": [
      "Feature batch shape: torch.Size([32, 96, 70])\n",
      "Using device: cuda:1\n"
     ]
    },
    {
     "name": "stderr",
     "output_type": "stream",
     "text": [
      "Epoch: 1: 100%|██████████| 6/6 [00:00<00:00, 62.09it/s]\n",
      "Epoch: Validating: 100%|██████████| 86/86 [00:00<00:00, 226.59it/s]\n"
     ]
    },
    {
     "name": "stdout",
     "output_type": "stream",
     "text": [
      "Validation metrics: {96: {'mse': tensor(0.4064, device='cuda:1')}, 192: {'mse': 0}, 336: {'mse': 0}, 720: {'mse': 0}}\n"
     ]
    },
    {
     "name": "stderr",
     "output_type": "stream",
     "text": [
      "Epoch: Validating: 100%|██████████| 21/21 [00:00<00:00, 183.60it/s]\n"
     ]
    },
    {
     "name": "stdout",
     "output_type": "stream",
     "text": [
      "Using device: cuda:1\n"
     ]
    },
    {
     "name": "stderr",
     "output_type": "stream",
     "text": [
      "Epoch: 1: 100%|██████████| 6/6 [00:00<00:00, 67.91it/s]\n",
      "Epoch: Validating: 100%|██████████| 86/86 [00:00<00:00, 220.24it/s]\n"
     ]
    },
    {
     "name": "stdout",
     "output_type": "stream",
     "text": [
      "Validation metrics: {96: {'mse': tensor(0.3648, device='cuda:1')}, 192: {'mse': 0}, 336: {'mse': 0}, 720: {'mse': 0}}\n"
     ]
    },
    {
     "name": "stderr",
     "output_type": "stream",
     "text": [
      "Epoch: Validating: 100%|██████████| 21/21 [00:00<00:00, 181.48it/s]\n"
     ]
    },
    {
     "name": "stdout",
     "output_type": "stream",
     "text": [
      "Using device: cuda:1\n"
     ]
    },
    {
     "name": "stderr",
     "output_type": "stream",
     "text": [
      "Epoch: 1: 100%|██████████| 6/6 [00:00<00:00, 65.04it/s]\n",
      "Epoch: Validating: 100%|██████████| 86/86 [00:00<00:00, 251.32it/s]\n"
     ]
    },
    {
     "name": "stdout",
     "output_type": "stream",
     "text": [
      "Validation metrics: {96: {'mse': tensor(0.3826, device='cuda:1')}, 192: {'mse': 0}, 336: {'mse': 0}, 720: {'mse': 0}}\n"
     ]
    },
    {
     "name": "stderr",
     "output_type": "stream",
     "text": [
      "Epoch: Validating: 100%|██████████| 21/21 [00:00<00:00, 182.85it/s]\n"
     ]
    },
    {
     "name": "stdout",
     "output_type": "stream",
     "text": [
      "Using device: cuda:1\n"
     ]
    },
    {
     "name": "stderr",
     "output_type": "stream",
     "text": [
      "Epoch: 1: 100%|██████████| 6/6 [00:00<00:00, 64.86it/s]\n",
      "Epoch: Validating: 100%|██████████| 86/86 [00:00<00:00, 243.60it/s]\n"
     ]
    },
    {
     "name": "stdout",
     "output_type": "stream",
     "text": [
      "Validation metrics: {96: {'mse': tensor(0.3695, device='cuda:1')}, 192: {'mse': 0}, 336: {'mse': 0}, 720: {'mse': 0}}\n"
     ]
    },
    {
     "name": "stderr",
     "output_type": "stream",
     "text": [
      "Epoch: Validating: 100%|██████████| 21/21 [00:00<00:00, 178.72it/s]\n"
     ]
    },
    {
     "name": "stdout",
     "output_type": "stream",
     "text": [
      "Using device: cuda:1\n"
     ]
    },
    {
     "name": "stderr",
     "output_type": "stream",
     "text": [
      "Epoch: 1: 100%|██████████| 6/6 [00:00<00:00, 65.26it/s]\n",
      "Epoch: Validating: 100%|██████████| 86/86 [00:00<00:00, 236.18it/s]\n"
     ]
    },
    {
     "name": "stdout",
     "output_type": "stream",
     "text": [
      "Validation metrics: {96: {'mse': tensor(0.3433, device='cuda:1')}, 192: {'mse': 0}, 336: {'mse': 0}, 720: {'mse': 0}}\n"
     ]
    },
    {
     "name": "stderr",
     "output_type": "stream",
     "text": [
      "Epoch: Validating: 100%|██████████| 21/21 [00:00<00:00, 179.49it/s]\n"
     ]
    },
    {
     "name": "stdout",
     "output_type": "stream",
     "text": [
      "Feature batch shape: torch.Size([32, 96, 278])\n",
      "278\n",
      "Using device: cuda:1\n"
     ]
    },
    {
     "name": "stderr",
     "output_type": "stream",
     "text": [
      "Epoch: 1: 100%|██████████| 151/151 [00:06<00:00, 22.74it/s]\n",
      "Epoch: Validating: 100%|██████████| 86/86 [00:01<00:00, 82.78it/s]\n"
     ]
    },
    {
     "name": "stdout",
     "output_type": "stream",
     "text": [
      "Validation metrics: {96: {'mse': tensor(0.1953, device='cuda:1')}, 192: {'mse': 0}, 336: {'mse': 0}, 720: {'mse': 0}}\n",
      "Feature batch shape: torch.Size([32, 96, 70])\n"
     ]
    },
    {
     "name": "stderr",
     "output_type": "stream",
     "text": [
      "Epoch: Validating: 100%|██████████| 21/21 [00:00<00:00, 178.52it/s]\n"
     ]
    },
    {
     "name": "stdout",
     "output_type": "stream",
     "text": [
      "Feature batch shape: torch.Size([32, 96, 70])\n",
      "Using device: cuda:1\n"
     ]
    },
    {
     "name": "stderr",
     "output_type": "stream",
     "text": [
      "Epoch: 1: 100%|██████████| 6/6 [00:00<00:00, 65.88it/s]\n",
      "Epoch: Validating: 100%|██████████| 86/86 [00:00<00:00, 226.06it/s]\n"
     ]
    },
    {
     "name": "stdout",
     "output_type": "stream",
     "text": [
      "Validation metrics: {96: {'mse': tensor(0.3939, device='cuda:1')}, 192: {'mse': 0}, 336: {'mse': 0}, 720: {'mse': 0}}\n"
     ]
    },
    {
     "name": "stderr",
     "output_type": "stream",
     "text": [
      "Epoch: Validating: 100%|██████████| 21/21 [00:00<00:00, 178.56it/s]\n"
     ]
    },
    {
     "name": "stdout",
     "output_type": "stream",
     "text": [
      "Using device: cuda:1\n"
     ]
    },
    {
     "name": "stderr",
     "output_type": "stream",
     "text": [
      "Epoch: 1: 100%|██████████| 6/6 [00:00<00:00, 70.01it/s]\n",
      "Epoch: Validating: 100%|██████████| 86/86 [00:00<00:00, 243.63it/s]\n"
     ]
    },
    {
     "name": "stdout",
     "output_type": "stream",
     "text": [
      "Validation metrics: {96: {'mse': tensor(0.3864, device='cuda:1')}, 192: {'mse': 0}, 336: {'mse': 0}, 720: {'mse': 0}}\n"
     ]
    },
    {
     "name": "stderr",
     "output_type": "stream",
     "text": [
      "Epoch: Validating: 100%|██████████| 21/21 [00:00<00:00, 181.87it/s]\n"
     ]
    },
    {
     "name": "stdout",
     "output_type": "stream",
     "text": [
      "Using device: cuda:1\n"
     ]
    },
    {
     "name": "stderr",
     "output_type": "stream",
     "text": [
      "Epoch: 1: 100%|██████████| 6/6 [00:00<00:00, 65.02it/s]\n",
      "Epoch: Validating: 100%|██████████| 86/86 [00:00<00:00, 248.20it/s]\n"
     ]
    },
    {
     "name": "stdout",
     "output_type": "stream",
     "text": [
      "Validation metrics: {96: {'mse': tensor(0.3864, device='cuda:1')}, 192: {'mse': 0}, 336: {'mse': 0}, 720: {'mse': 0}}\n"
     ]
    },
    {
     "name": "stderr",
     "output_type": "stream",
     "text": [
      "Epoch: Validating: 100%|██████████| 21/21 [00:00<00:00, 174.39it/s]\n"
     ]
    },
    {
     "name": "stdout",
     "output_type": "stream",
     "text": [
      "Using device: cuda:1\n"
     ]
    },
    {
     "name": "stderr",
     "output_type": "stream",
     "text": [
      "Epoch: 1: 100%|██████████| 6/6 [00:00<00:00, 65.84it/s]\n",
      "Epoch: Validating: 100%|██████████| 86/86 [00:00<00:00, 258.58it/s]\n"
     ]
    },
    {
     "name": "stdout",
     "output_type": "stream",
     "text": [
      "Validation metrics: {96: {'mse': tensor(0.3858, device='cuda:1')}, 192: {'mse': 0}, 336: {'mse': 0}, 720: {'mse': 0}}\n"
     ]
    },
    {
     "name": "stderr",
     "output_type": "stream",
     "text": [
      "Epoch: Validating: 100%|██████████| 21/21 [00:00<00:00, 178.60it/s]\n"
     ]
    },
    {
     "name": "stdout",
     "output_type": "stream",
     "text": [
      "Using device: cuda:1\n"
     ]
    },
    {
     "name": "stderr",
     "output_type": "stream",
     "text": [
      "Epoch: 1: 100%|██████████| 6/6 [00:00<00:00, 65.86it/s]\n",
      "Epoch: Validating: 100%|██████████| 86/86 [00:00<00:00, 249.61it/s]\n"
     ]
    },
    {
     "name": "stdout",
     "output_type": "stream",
     "text": [
      "Validation metrics: {96: {'mse': tensor(0.3807, device='cuda:1')}, 192: {'mse': 0}, 336: {'mse': 0}, 720: {'mse': 0}}\n"
     ]
    },
    {
     "name": "stderr",
     "output_type": "stream",
     "text": [
      "Epoch: Validating: 100%|██████████| 21/21 [00:00<00:00, 184.33it/s]\n"
     ]
    },
    {
     "name": "stdout",
     "output_type": "stream",
     "text": [
      "Feature batch shape: torch.Size([32, 96, 278])\n",
      "278\n",
      "Using device: cuda:1\n"
     ]
    },
    {
     "name": "stderr",
     "output_type": "stream",
     "text": [
      "Epoch: 1: 100%|██████████| 151/151 [00:05<00:00, 25.33it/s]\n",
      "Epoch: Validating: 100%|██████████| 86/86 [00:00<00:00, 142.41it/s]\n"
     ]
    },
    {
     "name": "stdout",
     "output_type": "stream",
     "text": [
      "Validation metrics: {96: {'mse': tensor(0.2333, device='cuda:1')}, 192: {'mse': 0}, 336: {'mse': 0}, 720: {'mse': 0}}\n",
      "Feature batch shape: torch.Size([32, 96, 70])\n"
     ]
    },
    {
     "name": "stderr",
     "output_type": "stream",
     "text": [
      "Epoch: Validating: 100%|██████████| 21/21 [00:00<00:00, 193.86it/s]\n"
     ]
    },
    {
     "name": "stdout",
     "output_type": "stream",
     "text": [
      "Feature batch shape: torch.Size([32, 96, 70])\n",
      "Using device: cuda:1\n"
     ]
    },
    {
     "name": "stderr",
     "output_type": "stream",
     "text": [
      "Epoch: 1: 100%|██████████| 6/6 [00:00<00:00, 68.33it/s]\n",
      "Epoch: Validating: 100%|██████████| 86/86 [00:00<00:00, 226.61it/s]\n"
     ]
    },
    {
     "name": "stdout",
     "output_type": "stream",
     "text": [
      "Validation metrics: {96: {'mse': tensor(0.1950, device='cuda:1')}, 192: {'mse': 0}, 336: {'mse': 0}, 720: {'mse': 0}}\n"
     ]
    },
    {
     "name": "stderr",
     "output_type": "stream",
     "text": [
      "Epoch: Validating: 100%|██████████| 21/21 [00:00<00:00, 181.89it/s]\n"
     ]
    },
    {
     "name": "stdout",
     "output_type": "stream",
     "text": [
      "Using device: cuda:1\n"
     ]
    },
    {
     "name": "stderr",
     "output_type": "stream",
     "text": [
      "Epoch: 1: 100%|██████████| 6/6 [00:00<00:00, 60.27it/s]\n",
      "Epoch: Validating: 100%|██████████| 86/86 [00:00<00:00, 247.37it/s]\n"
     ]
    },
    {
     "name": "stdout",
     "output_type": "stream",
     "text": [
      "Validation metrics: {96: {'mse': tensor(0.1946, device='cuda:1')}, 192: {'mse': 0}, 336: {'mse': 0}, 720: {'mse': 0}}\n"
     ]
    },
    {
     "name": "stderr",
     "output_type": "stream",
     "text": [
      "Epoch: Validating: 100%|██████████| 21/21 [00:00<00:00, 199.98it/s]\n"
     ]
    },
    {
     "name": "stdout",
     "output_type": "stream",
     "text": [
      "Using device: cuda:1\n"
     ]
    },
    {
     "name": "stderr",
     "output_type": "stream",
     "text": [
      "Epoch: 1: 100%|██████████| 6/6 [00:00<00:00, 74.17it/s]\n",
      "Epoch: Validating: 100%|██████████| 86/86 [00:00<00:00, 217.45it/s]\n"
     ]
    },
    {
     "name": "stdout",
     "output_type": "stream",
     "text": [
      "Validation metrics: {96: {'mse': tensor(0.1945, device='cuda:1')}, 192: {'mse': 0}, 336: {'mse': 0}, 720: {'mse': 0}}\n"
     ]
    },
    {
     "name": "stderr",
     "output_type": "stream",
     "text": [
      "Epoch: Validating: 100%|██████████| 21/21 [00:00<00:00, 186.38it/s]\n"
     ]
    },
    {
     "name": "stdout",
     "output_type": "stream",
     "text": [
      "Using device: cuda:1\n"
     ]
    },
    {
     "name": "stderr",
     "output_type": "stream",
     "text": [
      "Epoch: 1: 100%|██████████| 6/6 [00:00<00:00, 76.60it/s]\n",
      "Epoch: Validating: 100%|██████████| 86/86 [00:00<00:00, 242.34it/s]\n"
     ]
    },
    {
     "name": "stdout",
     "output_type": "stream",
     "text": [
      "Validation metrics: {96: {'mse': tensor(0.1967, device='cuda:1')}, 192: {'mse': 0}, 336: {'mse': 0}, 720: {'mse': 0}}\n"
     ]
    },
    {
     "name": "stderr",
     "output_type": "stream",
     "text": [
      "Epoch: Validating: 100%|██████████| 21/21 [00:00<00:00, 180.37it/s]\n"
     ]
    },
    {
     "name": "stdout",
     "output_type": "stream",
     "text": [
      "Using device: cuda:1\n"
     ]
    },
    {
     "name": "stderr",
     "output_type": "stream",
     "text": [
      "Epoch: 1: 100%|██████████| 6/6 [00:00<00:00, 89.95it/s]\n",
      "Epoch: Validating: 100%|██████████| 86/86 [00:00<00:00, 270.77it/s]\n"
     ]
    },
    {
     "name": "stdout",
     "output_type": "stream",
     "text": [
      "Validation metrics: {96: {'mse': tensor(0.1978, device='cuda:1')}, 192: {'mse': 0}, 336: {'mse': 0}, 720: {'mse': 0}}\n"
     ]
    },
    {
     "name": "stderr",
     "output_type": "stream",
     "text": [
      "Epoch: Validating: 100%|██████████| 21/21 [00:00<00:00, 181.00it/s]\n"
     ]
    },
    {
     "name": "stdout",
     "output_type": "stream",
     "text": [
      "Feature batch shape: torch.Size([32, 96, 278])\n",
      "278\n",
      "Using device: cuda:1\n"
     ]
    },
    {
     "name": "stderr",
     "output_type": "stream",
     "text": [
      "Epoch: 1: 100%|██████████| 151/151 [00:04<00:00, 31.54it/s]\n",
      "Epoch: Validating: 100%|██████████| 86/86 [00:01<00:00, 81.69it/s]\n"
     ]
    },
    {
     "name": "stdout",
     "output_type": "stream",
     "text": [
      "Validation metrics: {96: {'mse': tensor(0.2360, device='cuda:1')}, 192: {'mse': 0}, 336: {'mse': 0}, 720: {'mse': 0}}\n",
      "Feature batch shape: torch.Size([32, 96, 69])\n"
     ]
    },
    {
     "name": "stderr",
     "output_type": "stream",
     "text": [
      "Epoch: Validating: 100%|██████████| 21/21 [00:00<00:00, 152.09it/s]\n"
     ]
    },
    {
     "name": "stdout",
     "output_type": "stream",
     "text": [
      "Feature batch shape: torch.Size([32, 96, 69])\n",
      "Using device: cuda:1\n"
     ]
    },
    {
     "name": "stderr",
     "output_type": "stream",
     "text": [
      "Epoch: 1: 100%|██████████| 6/6 [00:00<00:00, 67.47it/s]\n",
      "Epoch: Validating: 100%|██████████| 86/86 [00:00<00:00, 215.42it/s]\n"
     ]
    },
    {
     "name": "stdout",
     "output_type": "stream",
     "text": [
      "Validation metrics: {96: {'mse': tensor(0.1418, device='cuda:1')}, 192: {'mse': 0}, 336: {'mse': 0}, 720: {'mse': 0}}\n"
     ]
    },
    {
     "name": "stderr",
     "output_type": "stream",
     "text": [
      "Epoch: Validating: 100%|██████████| 21/21 [00:00<00:00, 169.91it/s]\n"
     ]
    },
    {
     "name": "stdout",
     "output_type": "stream",
     "text": [
      "Using device: cuda:1\n"
     ]
    },
    {
     "name": "stderr",
     "output_type": "stream",
     "text": [
      "Epoch: 1: 100%|██████████| 6/6 [00:00<00:00, 62.81it/s]\n",
      "Epoch: Validating: 100%|██████████| 86/86 [00:00<00:00, 210.71it/s]\n"
     ]
    },
    {
     "name": "stdout",
     "output_type": "stream",
     "text": [
      "Validation metrics: {96: {'mse': tensor(0.1456, device='cuda:1')}, 192: {'mse': 0}, 336: {'mse': 0}, 720: {'mse': 0}}\n"
     ]
    },
    {
     "name": "stderr",
     "output_type": "stream",
     "text": [
      "Epoch: Validating: 100%|██████████| 21/21 [00:00<00:00, 161.94it/s]\n"
     ]
    },
    {
     "name": "stdout",
     "output_type": "stream",
     "text": [
      "Using device: cuda:1\n"
     ]
    },
    {
     "name": "stderr",
     "output_type": "stream",
     "text": [
      "Epoch: 1: 100%|██████████| 6/6 [00:00<00:00, 64.73it/s]\n",
      "Epoch: Validating: 100%|██████████| 86/86 [00:00<00:00, 239.33it/s]\n"
     ]
    },
    {
     "name": "stdout",
     "output_type": "stream",
     "text": [
      "Validation metrics: {96: {'mse': tensor(0.1459, device='cuda:1')}, 192: {'mse': 0}, 336: {'mse': 0}, 720: {'mse': 0}}\n"
     ]
    },
    {
     "name": "stderr",
     "output_type": "stream",
     "text": [
      "Epoch: Validating: 100%|██████████| 21/21 [00:00<00:00, 194.02it/s]\n"
     ]
    },
    {
     "name": "stdout",
     "output_type": "stream",
     "text": [
      "Using device: cuda:1\n"
     ]
    },
    {
     "name": "stderr",
     "output_type": "stream",
     "text": [
      "Epoch: 1: 100%|██████████| 6/6 [00:00<00:00, 60.53it/s]\n",
      "Epoch: Validating: 100%|██████████| 86/86 [00:00<00:00, 190.37it/s]\n"
     ]
    },
    {
     "name": "stdout",
     "output_type": "stream",
     "text": [
      "Validation metrics: {96: {'mse': tensor(0.1449, device='cuda:1')}, 192: {'mse': 0}, 336: {'mse': 0}, 720: {'mse': 0}}\n"
     ]
    },
    {
     "name": "stderr",
     "output_type": "stream",
     "text": [
      "Epoch: Validating: 100%|██████████| 21/21 [00:00<00:00, 210.16it/s]\n"
     ]
    },
    {
     "name": "stdout",
     "output_type": "stream",
     "text": [
      "Using device: cuda:1\n"
     ]
    },
    {
     "name": "stderr",
     "output_type": "stream",
     "text": [
      "Epoch: 1: 100%|██████████| 6/6 [00:00<00:00, 71.54it/s]\n",
      "Epoch: Validating: 100%|██████████| 86/86 [00:00<00:00, 200.48it/s]\n"
     ]
    },
    {
     "name": "stdout",
     "output_type": "stream",
     "text": [
      "Validation metrics: {96: {'mse': tensor(0.1444, device='cuda:1')}, 192: {'mse': 0}, 336: {'mse': 0}, 720: {'mse': 0}}\n"
     ]
    },
    {
     "name": "stderr",
     "output_type": "stream",
     "text": [
      "Epoch: Validating: 100%|██████████| 21/21 [00:00<00:00, 152.61it/s]\n"
     ]
    },
    {
     "name": "stdout",
     "output_type": "stream",
     "text": [
      "Feature batch shape: torch.Size([32, 96, 279])\n",
      "279\n",
      "Using device: cuda:1\n"
     ]
    },
    {
     "name": "stderr",
     "output_type": "stream",
     "text": [
      "Epoch: 1: 100%|██████████| 151/151 [00:06<00:00, 23.32it/s]\n",
      "Epoch: Validating: 100%|██████████| 86/86 [00:01<00:00, 84.19it/s]\n"
     ]
    },
    {
     "name": "stdout",
     "output_type": "stream",
     "text": [
      "Validation metrics: {96: {'mse': tensor(0.2445, device='cuda:1')}, 192: {'mse': 0}, 336: {'mse': 0}, 720: {'mse': 0}}\n",
      "Feature batch shape: torch.Size([32, 96, 69])\n"
     ]
    },
    {
     "name": "stderr",
     "output_type": "stream",
     "text": [
      "Epoch: Validating: 100%|██████████| 21/21 [00:00<00:00, 201.49it/s]\n"
     ]
    },
    {
     "name": "stdout",
     "output_type": "stream",
     "text": [
      "Feature batch shape: torch.Size([32, 96, 69])\n",
      "Using device: cuda:1\n"
     ]
    },
    {
     "name": "stderr",
     "output_type": "stream",
     "text": [
      "Epoch: 1: 100%|██████████| 6/6 [00:00<00:00, 64.27it/s]\n",
      "Epoch: Validating: 100%|██████████| 86/86 [00:00<00:00, 224.47it/s]\n"
     ]
    },
    {
     "name": "stdout",
     "output_type": "stream",
     "text": [
      "Validation metrics: {96: {'mse': tensor(0.1524, device='cuda:1')}, 192: {'mse': 0}, 336: {'mse': 0}, 720: {'mse': 0}}\n"
     ]
    },
    {
     "name": "stderr",
     "output_type": "stream",
     "text": [
      "Epoch: Validating: 100%|██████████| 21/21 [00:00<00:00, 203.90it/s]\n"
     ]
    },
    {
     "name": "stdout",
     "output_type": "stream",
     "text": [
      "Using device: cuda:1\n"
     ]
    },
    {
     "name": "stderr",
     "output_type": "stream",
     "text": [
      "Epoch: 1: 100%|██████████| 6/6 [00:00<00:00, 64.45it/s]\n",
      "Epoch: Validating: 100%|██████████| 86/86 [00:00<00:00, 251.04it/s]\n"
     ]
    },
    {
     "name": "stdout",
     "output_type": "stream",
     "text": [
      "Validation metrics: {96: {'mse': tensor(0.1491, device='cuda:1')}, 192: {'mse': 0}, 336: {'mse': 0}, 720: {'mse': 0}}\n"
     ]
    },
    {
     "name": "stderr",
     "output_type": "stream",
     "text": [
      "Epoch: Validating: 100%|██████████| 21/21 [00:00<00:00, 212.55it/s]\n"
     ]
    },
    {
     "name": "stdout",
     "output_type": "stream",
     "text": [
      "Using device: cuda:1\n"
     ]
    },
    {
     "name": "stderr",
     "output_type": "stream",
     "text": [
      "Epoch: 1: 100%|██████████| 6/6 [00:00<00:00, 65.00it/s]\n",
      "Epoch: Validating: 100%|██████████| 86/86 [00:00<00:00, 203.01it/s]\n"
     ]
    },
    {
     "name": "stdout",
     "output_type": "stream",
     "text": [
      "Validation metrics: {96: {'mse': tensor(0.1520, device='cuda:1')}, 192: {'mse': 0}, 336: {'mse': 0}, 720: {'mse': 0}}\n"
     ]
    },
    {
     "name": "stderr",
     "output_type": "stream",
     "text": [
      "Epoch: Validating: 100%|██████████| 21/21 [00:00<00:00, 153.14it/s]\n"
     ]
    },
    {
     "name": "stdout",
     "output_type": "stream",
     "text": [
      "Using device: cuda:1\n"
     ]
    },
    {
     "name": "stderr",
     "output_type": "stream",
     "text": [
      "Epoch: 1: 100%|██████████| 6/6 [00:00<00:00, 63.79it/s]\n",
      "Epoch: Validating: 100%|██████████| 86/86 [00:00<00:00, 203.54it/s]\n"
     ]
    },
    {
     "name": "stdout",
     "output_type": "stream",
     "text": [
      "Validation metrics: {96: {'mse': tensor(0.1557, device='cuda:1')}, 192: {'mse': 0}, 336: {'mse': 0}, 720: {'mse': 0}}\n"
     ]
    },
    {
     "name": "stderr",
     "output_type": "stream",
     "text": [
      "Epoch: Validating: 100%|██████████| 21/21 [00:00<00:00, 186.07it/s]\n"
     ]
    },
    {
     "name": "stdout",
     "output_type": "stream",
     "text": [
      "Using device: cuda:1\n"
     ]
    },
    {
     "name": "stderr",
     "output_type": "stream",
     "text": [
      "Epoch: 1: 100%|██████████| 6/6 [00:00<00:00, 67.12it/s]\n",
      "Epoch: Validating: 100%|██████████| 86/86 [00:00<00:00, 259.92it/s]\n"
     ]
    },
    {
     "name": "stdout",
     "output_type": "stream",
     "text": [
      "Validation metrics: {96: {'mse': tensor(0.1580, device='cuda:1')}, 192: {'mse': 0}, 336: {'mse': 0}, 720: {'mse': 0}}\n"
     ]
    },
    {
     "name": "stderr",
     "output_type": "stream",
     "text": [
      "Epoch: Validating: 100%|██████████| 21/21 [00:00<00:00, 211.50it/s]\n"
     ]
    },
    {
     "name": "stdout",
     "output_type": "stream",
     "text": [
      "Feature batch shape: torch.Size([32, 96, 166])\n",
      "166\n",
      "Using device: cuda:1\n"
     ]
    },
    {
     "name": "stderr",
     "output_type": "stream",
     "text": [
      "Epoch: 1: 100%|██████████| 948/948 [00:17<00:00, 54.61it/s]\n",
      "Epoch: Validating: 100%|██████████| 267/267 [00:02<00:00, 129.21it/s]\n"
     ]
    },
    {
     "name": "stdout",
     "output_type": "stream",
     "text": [
      "Validation metrics: {96: {'mse': tensor(1.0179, device='cuda:1')}, 192: {'mse': 0}, 336: {'mse': 0}, 720: {'mse': 0}}\n",
      "Feature batch shape: torch.Size([32, 96, 42])\n"
     ]
    },
    {
     "name": "stderr",
     "output_type": "stream",
     "text": [
      "Epoch: Validating: 100%|██████████| 131/131 [00:00<00:00, 194.46it/s]\n"
     ]
    },
    {
     "name": "stdout",
     "output_type": "stream",
     "text": [
      "Feature batch shape: torch.Size([32, 96, 42])\n",
      "Using device: cuda:1\n"
     ]
    },
    {
     "name": "stderr",
     "output_type": "stream",
     "text": [
      "Epoch: 1: 100%|██████████| 6/6 [00:00<00:00, 81.10it/s]\n",
      "Epoch: Validating: 100%|██████████| 267/267 [00:00<00:00, 269.78it/s]\n"
     ]
    },
    {
     "name": "stdout",
     "output_type": "stream",
     "text": [
      "Validation metrics: {96: {'mse': tensor(0.9321, device='cuda:1')}, 192: {'mse': 0}, 336: {'mse': 0}, 720: {'mse': 0}}\n"
     ]
    },
    {
     "name": "stderr",
     "output_type": "stream",
     "text": [
      "Epoch: Validating: 100%|██████████| 131/131 [00:00<00:00, 174.77it/s]\n"
     ]
    },
    {
     "name": "stdout",
     "output_type": "stream",
     "text": [
      "Using device: cuda:1\n"
     ]
    },
    {
     "name": "stderr",
     "output_type": "stream",
     "text": [
      "Epoch: 1: 100%|██████████| 6/6 [00:00<00:00, 85.23it/s]\n",
      "Epoch: Validating: 100%|██████████| 267/267 [00:00<00:00, 272.19it/s]\n"
     ]
    },
    {
     "name": "stdout",
     "output_type": "stream",
     "text": [
      "Validation metrics: {96: {'mse': tensor(0.9009, device='cuda:1')}, 192: {'mse': 0}, 336: {'mse': 0}, 720: {'mse': 0}}\n"
     ]
    },
    {
     "name": "stderr",
     "output_type": "stream",
     "text": [
      "Epoch: Validating: 100%|██████████| 131/131 [00:00<00:00, 166.39it/s]\n"
     ]
    },
    {
     "name": "stdout",
     "output_type": "stream",
     "text": [
      "Using device: cuda:1\n"
     ]
    },
    {
     "name": "stderr",
     "output_type": "stream",
     "text": [
      "Epoch: 1: 100%|██████████| 6/6 [00:00<00:00, 73.03it/s]\n",
      "Epoch: Validating: 100%|██████████| 267/267 [00:01<00:00, 260.07it/s]\n"
     ]
    },
    {
     "name": "stdout",
     "output_type": "stream",
     "text": [
      "Validation metrics: {96: {'mse': tensor(0.9242, device='cuda:1')}, 192: {'mse': 0}, 336: {'mse': 0}, 720: {'mse': 0}}\n"
     ]
    },
    {
     "name": "stderr",
     "output_type": "stream",
     "text": [
      "Epoch: Validating: 100%|██████████| 131/131 [00:00<00:00, 196.19it/s]\n"
     ]
    },
    {
     "name": "stdout",
     "output_type": "stream",
     "text": [
      "Using device: cuda:1\n"
     ]
    },
    {
     "name": "stderr",
     "output_type": "stream",
     "text": [
      "Epoch: 1: 100%|██████████| 6/6 [00:00<00:00, 87.10it/s]\n",
      "Epoch: Validating: 100%|██████████| 267/267 [00:00<00:00, 278.60it/s]\n"
     ]
    },
    {
     "name": "stdout",
     "output_type": "stream",
     "text": [
      "Validation metrics: {96: {'mse': tensor(0.9391, device='cuda:1')}, 192: {'mse': 0}, 336: {'mse': 0}, 720: {'mse': 0}}\n"
     ]
    },
    {
     "name": "stderr",
     "output_type": "stream",
     "text": [
      "Epoch: Validating: 100%|██████████| 131/131 [00:00<00:00, 255.20it/s]\n"
     ]
    },
    {
     "name": "stdout",
     "output_type": "stream",
     "text": [
      "Using device: cuda:1\n"
     ]
    },
    {
     "name": "stderr",
     "output_type": "stream",
     "text": [
      "Epoch: 1: 100%|██████████| 6/6 [00:00<00:00, 89.30it/s]\n",
      "Epoch: Validating: 100%|██████████| 267/267 [00:00<00:00, 286.49it/s]\n"
     ]
    },
    {
     "name": "stdout",
     "output_type": "stream",
     "text": [
      "Validation metrics: {96: {'mse': tensor(0.9615, device='cuda:1')}, 192: {'mse': 0}, 336: {'mse': 0}, 720: {'mse': 0}}\n"
     ]
    },
    {
     "name": "stderr",
     "output_type": "stream",
     "text": [
      "Epoch: Validating: 100%|██████████| 131/131 [00:00<00:00, 191.20it/s]\n"
     ]
    },
    {
     "name": "stdout",
     "output_type": "stream",
     "text": [
      "Feature batch shape: torch.Size([32, 96, 166])\n",
      "166\n",
      "Using device: cuda:1\n"
     ]
    },
    {
     "name": "stderr",
     "output_type": "stream",
     "text": [
      "Epoch: 1: 100%|██████████| 948/948 [00:26<00:00, 36.01it/s]\n",
      "Epoch: Validating: 100%|██████████| 267/267 [00:02<00:00, 128.67it/s]\n"
     ]
    },
    {
     "name": "stdout",
     "output_type": "stream",
     "text": [
      "Validation metrics: {96: {'mse': tensor(0.6369, device='cuda:1')}, 192: {'mse': 0}, 336: {'mse': 0}, 720: {'mse': 0}}\n",
      "Feature batch shape: torch.Size([32, 96, 42])\n"
     ]
    },
    {
     "name": "stderr",
     "output_type": "stream",
     "text": [
      "Epoch: Validating: 100%|██████████| 131/131 [00:00<00:00, 177.95it/s]\n"
     ]
    },
    {
     "name": "stdout",
     "output_type": "stream",
     "text": [
      "Feature batch shape: torch.Size([32, 96, 42])\n",
      "Using device: cuda:1\n"
     ]
    },
    {
     "name": "stderr",
     "output_type": "stream",
     "text": [
      "Epoch: 1: 100%|██████████| 6/6 [00:00<00:00, 73.33it/s]\n",
      "Epoch: Validating: 100%|██████████| 267/267 [00:01<00:00, 266.22it/s]\n"
     ]
    },
    {
     "name": "stdout",
     "output_type": "stream",
     "text": [
      "Validation metrics: {96: {'mse': tensor(1.9317, device='cuda:1')}, 192: {'mse': 0}, 336: {'mse': 0}, 720: {'mse': 0}}\n"
     ]
    },
    {
     "name": "stderr",
     "output_type": "stream",
     "text": [
      "Epoch: Validating: 100%|██████████| 131/131 [00:00<00:00, 196.34it/s]\n"
     ]
    },
    {
     "name": "stdout",
     "output_type": "stream",
     "text": [
      "Using device: cuda:1\n"
     ]
    },
    {
     "name": "stderr",
     "output_type": "stream",
     "text": [
      "Epoch: 1: 100%|██████████| 6/6 [00:00<00:00, 83.26it/s]\n",
      "Epoch: Validating: 100%|██████████| 267/267 [00:00<00:00, 267.90it/s]\n"
     ]
    },
    {
     "name": "stdout",
     "output_type": "stream",
     "text": [
      "Validation metrics: {96: {'mse': tensor(1.7207, device='cuda:1')}, 192: {'mse': 0}, 336: {'mse': 0}, 720: {'mse': 0}}\n"
     ]
    },
    {
     "name": "stderr",
     "output_type": "stream",
     "text": [
      "Epoch: Validating: 100%|██████████| 131/131 [00:00<00:00, 170.02it/s]\n"
     ]
    },
    {
     "name": "stdout",
     "output_type": "stream",
     "text": [
      "Using device: cuda:1\n"
     ]
    },
    {
     "name": "stderr",
     "output_type": "stream",
     "text": [
      "Epoch: 1: 100%|██████████| 6/6 [00:00<00:00, 74.04it/s]\n",
      "Epoch: Validating: 100%|██████████| 267/267 [00:01<00:00, 266.55it/s]\n"
     ]
    },
    {
     "name": "stdout",
     "output_type": "stream",
     "text": [
      "Validation metrics: {96: {'mse': tensor(1.5208, device='cuda:1')}, 192: {'mse': 0}, 336: {'mse': 0}, 720: {'mse': 0}}\n"
     ]
    },
    {
     "name": "stderr",
     "output_type": "stream",
     "text": [
      "Epoch: Validating: 100%|██████████| 131/131 [00:00<00:00, 175.59it/s]\n"
     ]
    },
    {
     "name": "stdout",
     "output_type": "stream",
     "text": [
      "Using device: cuda:1\n"
     ]
    },
    {
     "name": "stderr",
     "output_type": "stream",
     "text": [
      "Epoch: 1: 100%|██████████| 6/6 [00:00<00:00, 73.45it/s]\n",
      "Epoch: Validating: 100%|██████████| 267/267 [00:01<00:00, 258.18it/s]\n"
     ]
    },
    {
     "name": "stdout",
     "output_type": "stream",
     "text": [
      "Validation metrics: {96: {'mse': tensor(1.5074, device='cuda:1')}, 192: {'mse': 0}, 336: {'mse': 0}, 720: {'mse': 0}}\n"
     ]
    },
    {
     "name": "stderr",
     "output_type": "stream",
     "text": [
      "Epoch: Validating: 100%|██████████| 131/131 [00:00<00:00, 240.53it/s]\n"
     ]
    },
    {
     "name": "stdout",
     "output_type": "stream",
     "text": [
      "Using device: cuda:1\n"
     ]
    },
    {
     "name": "stderr",
     "output_type": "stream",
     "text": [
      "Epoch: 1: 100%|██████████| 6/6 [00:00<00:00, 72.96it/s]\n",
      "Epoch: Validating: 100%|██████████| 267/267 [00:01<00:00, 261.80it/s]\n"
     ]
    },
    {
     "name": "stdout",
     "output_type": "stream",
     "text": [
      "Validation metrics: {96: {'mse': tensor(1.3179, device='cuda:1')}, 192: {'mse': 0}, 336: {'mse': 0}, 720: {'mse': 0}}\n"
     ]
    },
    {
     "name": "stderr",
     "output_type": "stream",
     "text": [
      "Epoch: Validating: 100%|██████████| 131/131 [00:00<00:00, 188.95it/s]\n"
     ]
    },
    {
     "name": "stdout",
     "output_type": "stream",
     "text": [
      "Feature batch shape: torch.Size([32, 96, 166])\n",
      "166\n",
      "Using device: cuda:1\n"
     ]
    },
    {
     "name": "stderr",
     "output_type": "stream",
     "text": [
      "Epoch: 1: 100%|██████████| 948/948 [00:26<00:00, 36.12it/s]\n",
      "Epoch: Validating: 100%|██████████| 267/267 [00:02<00:00, 128.45it/s]\n"
     ]
    },
    {
     "name": "stdout",
     "output_type": "stream",
     "text": [
      "Validation metrics: {96: {'mse': tensor(1.3020, device='cuda:1')}, 192: {'mse': 0}, 336: {'mse': 0}, 720: {'mse': 0}}\n",
      "Feature batch shape: torch.Size([32, 96, 42])\n"
     ]
    },
    {
     "name": "stderr",
     "output_type": "stream",
     "text": [
      "Epoch: Validating: 100%|██████████| 131/131 [00:00<00:00, 220.69it/s]\n"
     ]
    },
    {
     "name": "stdout",
     "output_type": "stream",
     "text": [
      "Feature batch shape: torch.Size([32, 96, 42])\n",
      "Using device: cuda:1\n"
     ]
    },
    {
     "name": "stderr",
     "output_type": "stream",
     "text": [
      "Epoch: 1: 100%|██████████| 6/6 [00:00<00:00, 78.49it/s]\n",
      "Epoch: Validating: 100%|██████████| 267/267 [00:01<00:00, 261.29it/s]\n"
     ]
    },
    {
     "name": "stdout",
     "output_type": "stream",
     "text": [
      "Validation metrics: {96: {'mse': tensor(0.6458, device='cuda:1')}, 192: {'mse': 0}, 336: {'mse': 0}, 720: {'mse': 0}}\n"
     ]
    },
    {
     "name": "stderr",
     "output_type": "stream",
     "text": [
      "Epoch: Validating: 100%|██████████| 131/131 [00:00<00:00, 178.91it/s]\n"
     ]
    },
    {
     "name": "stdout",
     "output_type": "stream",
     "text": [
      "Using device: cuda:1\n"
     ]
    },
    {
     "name": "stderr",
     "output_type": "stream",
     "text": [
      "Epoch: 1: 100%|██████████| 6/6 [00:00<00:00, 73.17it/s]\n",
      "Epoch: Validating: 100%|██████████| 267/267 [00:00<00:00, 268.12it/s]\n"
     ]
    },
    {
     "name": "stdout",
     "output_type": "stream",
     "text": [
      "Validation metrics: {96: {'mse': tensor(0.6540, device='cuda:1')}, 192: {'mse': 0}, 336: {'mse': 0}, 720: {'mse': 0}}\n"
     ]
    },
    {
     "name": "stderr",
     "output_type": "stream",
     "text": [
      "Epoch: Validating: 100%|██████████| 131/131 [00:00<00:00, 249.59it/s]\n"
     ]
    },
    {
     "name": "stdout",
     "output_type": "stream",
     "text": [
      "Using device: cuda:1\n"
     ]
    },
    {
     "name": "stderr",
     "output_type": "stream",
     "text": [
      "Epoch: 1: 100%|██████████| 6/6 [00:00<00:00, 71.58it/s]\n",
      "Epoch: Validating: 100%|██████████| 267/267 [00:00<00:00, 289.11it/s]\n"
     ]
    },
    {
     "name": "stdout",
     "output_type": "stream",
     "text": [
      "Validation metrics: {96: {'mse': tensor(0.7014, device='cuda:1')}, 192: {'mse': 0}, 336: {'mse': 0}, 720: {'mse': 0}}\n"
     ]
    },
    {
     "name": "stderr",
     "output_type": "stream",
     "text": [
      "Epoch: Validating: 100%|██████████| 131/131 [00:00<00:00, 238.92it/s]\n"
     ]
    },
    {
     "name": "stdout",
     "output_type": "stream",
     "text": [
      "Using device: cuda:1\n"
     ]
    },
    {
     "name": "stderr",
     "output_type": "stream",
     "text": [
      "Epoch: 1: 100%|██████████| 6/6 [00:00<00:00, 62.66it/s]\n",
      "Epoch: Validating: 100%|██████████| 267/267 [00:00<00:00, 276.75it/s]\n"
     ]
    },
    {
     "name": "stdout",
     "output_type": "stream",
     "text": [
      "Validation metrics: {96: {'mse': tensor(0.7481, device='cuda:1')}, 192: {'mse': 0}, 336: {'mse': 0}, 720: {'mse': 0}}\n"
     ]
    },
    {
     "name": "stderr",
     "output_type": "stream",
     "text": [
      "Epoch: Validating: 100%|██████████| 131/131 [00:00<00:00, 251.99it/s]\n"
     ]
    },
    {
     "name": "stdout",
     "output_type": "stream",
     "text": [
      "Using device: cuda:1\n"
     ]
    },
    {
     "name": "stderr",
     "output_type": "stream",
     "text": [
      "Epoch: 1: 100%|██████████| 6/6 [00:00<00:00, 68.46it/s]\n",
      "Epoch: Validating: 100%|██████████| 267/267 [00:00<00:00, 280.14it/s]\n"
     ]
    },
    {
     "name": "stdout",
     "output_type": "stream",
     "text": [
      "Validation metrics: {96: {'mse': tensor(0.7567, device='cuda:1')}, 192: {'mse': 0}, 336: {'mse': 0}, 720: {'mse': 0}}\n"
     ]
    },
    {
     "name": "stderr",
     "output_type": "stream",
     "text": [
      "Epoch: Validating: 100%|██████████| 131/131 [00:00<00:00, 240.18it/s]\n"
     ]
    },
    {
     "name": "stdout",
     "output_type": "stream",
     "text": [
      "Feature batch shape: torch.Size([32, 96, 166])\n",
      "166\n",
      "Using device: cuda:1\n"
     ]
    },
    {
     "name": "stderr",
     "output_type": "stream",
     "text": [
      "Epoch: 1: 100%|██████████| 948/948 [00:26<00:00, 36.04it/s]\n",
      "Epoch: Validating: 100%|██████████| 267/267 [00:02<00:00, 128.20it/s]\n"
     ]
    },
    {
     "name": "stdout",
     "output_type": "stream",
     "text": [
      "Validation metrics: {96: {'mse': tensor(1.4922, device='cuda:1')}, 192: {'mse': 0}, 336: {'mse': 0}, 720: {'mse': 0}}\n",
      "Feature batch shape: torch.Size([32, 96, 41])\n"
     ]
    },
    {
     "name": "stderr",
     "output_type": "stream",
     "text": [
      "Epoch: Validating: 100%|██████████| 131/131 [00:00<00:00, 165.18it/s]\n"
     ]
    },
    {
     "name": "stdout",
     "output_type": "stream",
     "text": [
      "Feature batch shape: torch.Size([32, 96, 41])\n",
      "Using device: cuda:1\n"
     ]
    },
    {
     "name": "stderr",
     "output_type": "stream",
     "text": [
      "Epoch: 1: 100%|██████████| 6/6 [00:00<00:00, 74.81it/s]\n",
      "Epoch: Validating: 100%|██████████| 267/267 [00:01<00:00, 234.20it/s]\n"
     ]
    },
    {
     "name": "stdout",
     "output_type": "stream",
     "text": [
      "Validation metrics: {96: {'mse': tensor(0.6071, device='cuda:1')}, 192: {'mse': 0}, 336: {'mse': 0}, 720: {'mse': 0}}\n"
     ]
    },
    {
     "name": "stderr",
     "output_type": "stream",
     "text": [
      "Epoch: Validating: 100%|██████████| 131/131 [00:00<00:00, 163.50it/s]\n"
     ]
    },
    {
     "name": "stdout",
     "output_type": "stream",
     "text": [
      "Using device: cuda:1\n"
     ]
    },
    {
     "name": "stderr",
     "output_type": "stream",
     "text": [
      "Epoch: 1: 100%|██████████| 6/6 [00:00<00:00, 72.20it/s]\n",
      "Epoch: Validating: 100%|██████████| 267/267 [00:01<00:00, 254.10it/s]\n"
     ]
    },
    {
     "name": "stdout",
     "output_type": "stream",
     "text": [
      "Validation metrics: {96: {'mse': tensor(0.6129, device='cuda:1')}, 192: {'mse': 0}, 336: {'mse': 0}, 720: {'mse': 0}}\n"
     ]
    },
    {
     "name": "stderr",
     "output_type": "stream",
     "text": [
      "Epoch: Validating: 100%|██████████| 131/131 [00:00<00:00, 189.09it/s]\n"
     ]
    },
    {
     "name": "stdout",
     "output_type": "stream",
     "text": [
      "Using device: cuda:1\n"
     ]
    },
    {
     "name": "stderr",
     "output_type": "stream",
     "text": [
      "Epoch: 1: 100%|██████████| 6/6 [00:00<00:00, 69.69it/s]\n",
      "Epoch: Validating: 100%|██████████| 267/267 [00:01<00:00, 234.36it/s]\n"
     ]
    },
    {
     "name": "stdout",
     "output_type": "stream",
     "text": [
      "Validation metrics: {96: {'mse': tensor(0.6290, device='cuda:1')}, 192: {'mse': 0}, 336: {'mse': 0}, 720: {'mse': 0}}\n"
     ]
    },
    {
     "name": "stderr",
     "output_type": "stream",
     "text": [
      "Epoch: Validating: 100%|██████████| 131/131 [00:00<00:00, 169.35it/s]\n"
     ]
    },
    {
     "name": "stdout",
     "output_type": "stream",
     "text": [
      "Using device: cuda:1\n"
     ]
    },
    {
     "name": "stderr",
     "output_type": "stream",
     "text": [
      "Epoch: 1: 100%|██████████| 6/6 [00:00<00:00, 67.84it/s]\n",
      "Epoch: Validating: 100%|██████████| 267/267 [00:01<00:00, 227.39it/s]\n"
     ]
    },
    {
     "name": "stdout",
     "output_type": "stream",
     "text": [
      "Validation metrics: {96: {'mse': tensor(0.6496, device='cuda:1')}, 192: {'mse': 0}, 336: {'mse': 0}, 720: {'mse': 0}}\n"
     ]
    },
    {
     "name": "stderr",
     "output_type": "stream",
     "text": [
      "Epoch: Validating: 100%|██████████| 131/131 [00:00<00:00, 196.16it/s]\n"
     ]
    },
    {
     "name": "stdout",
     "output_type": "stream",
     "text": [
      "Using device: cuda:1\n"
     ]
    },
    {
     "name": "stderr",
     "output_type": "stream",
     "text": [
      "Epoch: 1: 100%|██████████| 6/6 [00:00<00:00, 75.01it/s]\n",
      "Epoch: Validating: 100%|██████████| 267/267 [00:01<00:00, 235.09it/s]\n"
     ]
    },
    {
     "name": "stdout",
     "output_type": "stream",
     "text": [
      "Validation metrics: {96: {'mse': tensor(0.6729, device='cuda:1')}, 192: {'mse': 0}, 336: {'mse': 0}, 720: {'mse': 0}}\n"
     ]
    },
    {
     "name": "stderr",
     "output_type": "stream",
     "text": [
      "Epoch: Validating: 100%|██████████| 131/131 [00:00<00:00, 227.08it/s]\n"
     ]
    },
    {
     "name": "stdout",
     "output_type": "stream",
     "text": [
      "Feature batch shape: torch.Size([32, 96, 167])\n",
      "167\n",
      "Using device: cuda:1\n"
     ]
    },
    {
     "name": "stderr",
     "output_type": "stream",
     "text": [
      "Epoch: 1: 100%|██████████| 948/948 [00:26<00:00, 35.77it/s]\n",
      "Epoch: Validating: 100%|██████████| 267/267 [00:02<00:00, 127.37it/s]\n"
     ]
    },
    {
     "name": "stdout",
     "output_type": "stream",
     "text": [
      "Validation metrics: {96: {'mse': tensor(1.1571, device='cuda:1')}, 192: {'mse': 0}, 336: {'mse': 0}, 720: {'mse': 0}}\n",
      "Feature batch shape: torch.Size([32, 96, 41])\n"
     ]
    },
    {
     "name": "stderr",
     "output_type": "stream",
     "text": [
      "Epoch: Validating: 100%|██████████| 131/131 [00:00<00:00, 254.12it/s]\n"
     ]
    },
    {
     "name": "stdout",
     "output_type": "stream",
     "text": [
      "Feature batch shape: torch.Size([32, 96, 41])\n",
      "Using device: cuda:1\n"
     ]
    },
    {
     "name": "stderr",
     "output_type": "stream",
     "text": [
      "Epoch: 1: 100%|██████████| 6/6 [00:00<00:00, 76.49it/s]\n",
      "Epoch: Validating: 100%|██████████| 267/267 [00:00<00:00, 283.42it/s]\n"
     ]
    },
    {
     "name": "stdout",
     "output_type": "stream",
     "text": [
      "Validation metrics: {96: {'mse': tensor(0.6801, device='cuda:1')}, 192: {'mse': 0}, 336: {'mse': 0}, 720: {'mse': 0}}\n"
     ]
    },
    {
     "name": "stderr",
     "output_type": "stream",
     "text": [
      "Epoch: Validating: 100%|██████████| 131/131 [00:00<00:00, 253.69it/s]\n"
     ]
    },
    {
     "name": "stdout",
     "output_type": "stream",
     "text": [
      "Using device: cuda:1\n"
     ]
    },
    {
     "name": "stderr",
     "output_type": "stream",
     "text": [
      "Epoch: 1: 100%|██████████| 6/6 [00:00<00:00, 72.83it/s]\n",
      "Epoch: Validating: 100%|██████████| 267/267 [00:00<00:00, 286.84it/s]\n"
     ]
    },
    {
     "name": "stdout",
     "output_type": "stream",
     "text": [
      "Validation metrics: {96: {'mse': tensor(0.6759, device='cuda:1')}, 192: {'mse': 0}, 336: {'mse': 0}, 720: {'mse': 0}}\n"
     ]
    },
    {
     "name": "stderr",
     "output_type": "stream",
     "text": [
      "Epoch: Validating: 100%|██████████| 131/131 [00:00<00:00, 212.01it/s]\n"
     ]
    },
    {
     "name": "stdout",
     "output_type": "stream",
     "text": [
      "Using device: cuda:1\n"
     ]
    },
    {
     "name": "stderr",
     "output_type": "stream",
     "text": [
      "Epoch: 1: 100%|██████████| 6/6 [00:00<00:00, 73.34it/s]\n",
      "Epoch: Validating: 100%|██████████| 267/267 [00:01<00:00, 231.90it/s]\n"
     ]
    },
    {
     "name": "stdout",
     "output_type": "stream",
     "text": [
      "Validation metrics: {96: {'mse': tensor(0.6875, device='cuda:1')}, 192: {'mse': 0}, 336: {'mse': 0}, 720: {'mse': 0}}\n"
     ]
    },
    {
     "name": "stderr",
     "output_type": "stream",
     "text": [
      "Epoch: Validating: 100%|██████████| 131/131 [00:00<00:00, 174.60it/s]\n"
     ]
    },
    {
     "name": "stdout",
     "output_type": "stream",
     "text": [
      "Using device: cuda:1\n"
     ]
    },
    {
     "name": "stderr",
     "output_type": "stream",
     "text": [
      "Epoch: 1: 100%|██████████| 6/6 [00:00<00:00, 73.75it/s]\n",
      "Epoch: Validating: 100%|██████████| 267/267 [00:01<00:00, 238.85it/s]\n"
     ]
    },
    {
     "name": "stdout",
     "output_type": "stream",
     "text": [
      "Validation metrics: {96: {'mse': tensor(0.7064, device='cuda:1')}, 192: {'mse': 0}, 336: {'mse': 0}, 720: {'mse': 0}}\n"
     ]
    },
    {
     "name": "stderr",
     "output_type": "stream",
     "text": [
      "Epoch: Validating: 100%|██████████| 131/131 [00:00<00:00, 245.76it/s]\n"
     ]
    },
    {
     "name": "stdout",
     "output_type": "stream",
     "text": [
      "Using device: cuda:1\n"
     ]
    },
    {
     "name": "stderr",
     "output_type": "stream",
     "text": [
      "Epoch: 1: 100%|██████████| 6/6 [00:00<00:00, 72.87it/s]\n",
      "Epoch: Validating: 100%|██████████| 267/267 [00:00<00:00, 291.40it/s]\n"
     ]
    },
    {
     "name": "stdout",
     "output_type": "stream",
     "text": [
      "Validation metrics: {96: {'mse': tensor(0.7183, device='cuda:1')}, 192: {'mse': 0}, 336: {'mse': 0}, 720: {'mse': 0}}\n"
     ]
    },
    {
     "name": "stderr",
     "output_type": "stream",
     "text": [
      "Epoch: Validating: 100%|██████████| 131/131 [00:00<00:00, 249.38it/s]\n"
     ]
    },
    {
     "name": "stdout",
     "output_type": "stream",
     "text": [
      "Feature batch shape: torch.Size([32, 96, 53])\n",
      "53\n",
      "Using device: cuda:1\n"
     ]
    },
    {
     "name": "stderr",
     "output_type": "stream",
     "text": [
      "Epoch: 1: 100%|██████████| 264/264 [00:03<00:00, 69.66it/s]\n",
      "Epoch: Validating: 100%|██████████| 71/71 [00:00<00:00, 268.68it/s]\n"
     ]
    },
    {
     "name": "stdout",
     "output_type": "stream",
     "text": [
      "Validation metrics: {96: {'mse': tensor(0.0006, device='cuda:1')}, 192: {'mse': 0}, 336: {'mse': 0}, 720: {'mse': 0}}\n",
      "Feature batch shape: torch.Size([32, 96, 14])\n"
     ]
    },
    {
     "name": "stderr",
     "output_type": "stream",
     "text": [
      "Epoch: Validating: 100%|██████████| 33/33 [00:00<00:00, 259.74it/s]\n"
     ]
    },
    {
     "name": "stdout",
     "output_type": "stream",
     "text": [
      "Feature batch shape: torch.Size([32, 96, 14])\n",
      "Using device: cuda:1\n"
     ]
    },
    {
     "name": "stderr",
     "output_type": "stream",
     "text": [
      "Epoch: 1: 100%|██████████| 6/6 [00:00<00:00, 84.65it/s]\n",
      "Epoch: Validating: 100%|██████████| 71/71 [00:00<00:00, 323.77it/s]\n"
     ]
    },
    {
     "name": "stdout",
     "output_type": "stream",
     "text": [
      "Validation metrics: {96: {'mse': tensor(0.0135, device='cuda:1')}, 192: {'mse': 0}, 336: {'mse': 0}, 720: {'mse': 0}}\n"
     ]
    },
    {
     "name": "stderr",
     "output_type": "stream",
     "text": [
      "Epoch: Validating: 100%|██████████| 33/33 [00:00<00:00, 220.59it/s]\n"
     ]
    },
    {
     "name": "stdout",
     "output_type": "stream",
     "text": [
      "Using device: cuda:1\n"
     ]
    },
    {
     "name": "stderr",
     "output_type": "stream",
     "text": [
      "Epoch: 1: 100%|██████████| 6/6 [00:00<00:00, 65.96it/s]\n",
      "Epoch: Validating: 100%|██████████| 71/71 [00:00<00:00, 275.22it/s]\n"
     ]
    },
    {
     "name": "stdout",
     "output_type": "stream",
     "text": [
      "Validation metrics: {96: {'mse': tensor(0.0022, device='cuda:1')}, 192: {'mse': 0}, 336: {'mse': 0}, 720: {'mse': 0}}\n"
     ]
    },
    {
     "name": "stderr",
     "output_type": "stream",
     "text": [
      "Epoch: Validating: 100%|██████████| 33/33 [00:00<00:00, 217.58it/s]\n"
     ]
    },
    {
     "name": "stdout",
     "output_type": "stream",
     "text": [
      "Using device: cuda:1\n"
     ]
    },
    {
     "name": "stderr",
     "output_type": "stream",
     "text": [
      "Epoch: 1: 100%|██████████| 6/6 [00:00<00:00, 94.33it/s]\n",
      "Epoch: Validating: 100%|██████████| 71/71 [00:00<00:00, 333.62it/s]\n"
     ]
    },
    {
     "name": "stdout",
     "output_type": "stream",
     "text": [
      "Validation metrics: {96: {'mse': tensor(0.0049, device='cuda:1')}, 192: {'mse': 0}, 336: {'mse': 0}, 720: {'mse': 0}}\n"
     ]
    },
    {
     "name": "stderr",
     "output_type": "stream",
     "text": [
      "Epoch: Validating: 100%|██████████| 33/33 [00:00<00:00, 254.67it/s]\n"
     ]
    },
    {
     "name": "stdout",
     "output_type": "stream",
     "text": [
      "Using device: cuda:1\n"
     ]
    },
    {
     "name": "stderr",
     "output_type": "stream",
     "text": [
      "Epoch: 1: 100%|██████████| 6/6 [00:00<00:00, 95.70it/s]\n",
      "Epoch: Validating: 100%|██████████| 71/71 [00:00<00:00, 323.67it/s]\n"
     ]
    },
    {
     "name": "stdout",
     "output_type": "stream",
     "text": [
      "Validation metrics: {96: {'mse': tensor(0.0028, device='cuda:1')}, 192: {'mse': 0}, 336: {'mse': 0}, 720: {'mse': 0}}\n"
     ]
    },
    {
     "name": "stderr",
     "output_type": "stream",
     "text": [
      "Epoch: Validating: 100%|██████████| 33/33 [00:00<00:00, 270.01it/s]\n"
     ]
    },
    {
     "name": "stdout",
     "output_type": "stream",
     "text": [
      "Using device: cuda:1\n"
     ]
    },
    {
     "name": "stderr",
     "output_type": "stream",
     "text": [
      "Epoch: 1: 100%|██████████| 6/6 [00:00<00:00, 75.33it/s]\n",
      "Epoch: Validating: 100%|██████████| 71/71 [00:00<00:00, 244.99it/s]\n"
     ]
    },
    {
     "name": "stdout",
     "output_type": "stream",
     "text": [
      "Validation metrics: {96: {'mse': tensor(0.0042, device='cuda:1')}, 192: {'mse': 0}, 336: {'mse': 0}, 720: {'mse': 0}}\n"
     ]
    },
    {
     "name": "stderr",
     "output_type": "stream",
     "text": [
      "Epoch: Validating: 100%|██████████| 33/33 [00:00<00:00, 173.87it/s]"
     ]
    },
    {
     "name": "stdout",
     "output_type": "stream",
     "text": [
      "Feature batch shape: torch.Size([32, 96, 53])\n",
      "53\n",
      "Using device: cuda:1\n"
     ]
    },
    {
     "name": "stderr",
     "output_type": "stream",
     "text": [
      "\n",
      "Epoch: 1: 100%|██████████| 264/264 [00:03<00:00, 73.91it/s]\n",
      "Epoch: Validating: 100%|██████████| 71/71 [00:00<00:00, 263.13it/s]\n"
     ]
    },
    {
     "name": "stdout",
     "output_type": "stream",
     "text": [
      "Validation metrics: {96: {'mse': tensor(0.0005, device='cuda:1')}, 192: {'mse': 0}, 336: {'mse': 0}, 720: {'mse': 0}}\n",
      "Feature batch shape: torch.Size([32, 96, 14])\n"
     ]
    },
    {
     "name": "stderr",
     "output_type": "stream",
     "text": [
      "Epoch: Validating: 100%|██████████| 33/33 [00:00<00:00, 181.08it/s]\n"
     ]
    },
    {
     "name": "stdout",
     "output_type": "stream",
     "text": [
      "Feature batch shape: torch.Size([32, 96, 14])\n",
      "Using device: cuda:1\n"
     ]
    },
    {
     "name": "stderr",
     "output_type": "stream",
     "text": [
      "Epoch: 1: 100%|██████████| 6/6 [00:00<00:00, 82.85it/s]\n",
      "Epoch: Validating: 100%|██████████| 71/71 [00:00<00:00, 270.06it/s]\n"
     ]
    },
    {
     "name": "stdout",
     "output_type": "stream",
     "text": [
      "Validation metrics: {96: {'mse': tensor(0.0127, device='cuda:1')}, 192: {'mse': 0}, 336: {'mse': 0}, 720: {'mse': 0}}\n"
     ]
    },
    {
     "name": "stderr",
     "output_type": "stream",
     "text": [
      "Epoch: Validating: 100%|██████████| 33/33 [00:00<00:00, 175.47it/s]\n"
     ]
    },
    {
     "name": "stdout",
     "output_type": "stream",
     "text": [
      "Using device: cuda:1\n"
     ]
    },
    {
     "name": "stderr",
     "output_type": "stream",
     "text": [
      "Epoch: 1: 100%|██████████| 6/6 [00:00<00:00, 80.33it/s]\n",
      "Epoch: Validating: 100%|██████████| 71/71 [00:00<00:00, 247.32it/s]\n"
     ]
    },
    {
     "name": "stdout",
     "output_type": "stream",
     "text": [
      "Validation metrics: {96: {'mse': tensor(0.0029, device='cuda:1')}, 192: {'mse': 0}, 336: {'mse': 0}, 720: {'mse': 0}}\n"
     ]
    },
    {
     "name": "stderr",
     "output_type": "stream",
     "text": [
      "Epoch: Validating: 100%|██████████| 33/33 [00:00<00:00, 177.95it/s]\n"
     ]
    },
    {
     "name": "stdout",
     "output_type": "stream",
     "text": [
      "Using device: cuda:1\n"
     ]
    },
    {
     "name": "stderr",
     "output_type": "stream",
     "text": [
      "Epoch: 1: 100%|██████████| 6/6 [00:00<00:00, 82.65it/s]\n",
      "Epoch: Validating: 100%|██████████| 71/71 [00:00<00:00, 241.87it/s]\n"
     ]
    },
    {
     "name": "stdout",
     "output_type": "stream",
     "text": [
      "Validation metrics: {96: {'mse': tensor(0.0059, device='cuda:1')}, 192: {'mse': 0}, 336: {'mse': 0}, 720: {'mse': 0}}\n"
     ]
    },
    {
     "name": "stderr",
     "output_type": "stream",
     "text": [
      "Epoch: Validating: 100%|██████████| 33/33 [00:00<00:00, 173.81it/s]"
     ]
    },
    {
     "name": "stdout",
     "output_type": "stream",
     "text": [
      "Using device: cuda:1\n"
     ]
    },
    {
     "name": "stderr",
     "output_type": "stream",
     "text": [
      "\n",
      "Epoch: 1: 100%|██████████| 6/6 [00:00<00:00, 69.51it/s]\n",
      "Epoch: Validating: 100%|██████████| 71/71 [00:00<00:00, 188.03it/s]\n"
     ]
    },
    {
     "name": "stdout",
     "output_type": "stream",
     "text": [
      "Validation metrics: {96: {'mse': tensor(0.0032, device='cuda:1')}, 192: {'mse': 0}, 336: {'mse': 0}, 720: {'mse': 0}}\n"
     ]
    },
    {
     "name": "stderr",
     "output_type": "stream",
     "text": [
      "Epoch: Validating: 100%|██████████| 33/33 [00:00<00:00, 168.68it/s]"
     ]
    },
    {
     "name": "stdout",
     "output_type": "stream",
     "text": [
      "Using device: cuda:1"
     ]
    },
    {
     "name": "stderr",
     "output_type": "stream",
     "text": [
      "\n"
     ]
    },
    {
     "name": "stdout",
     "output_type": "stream",
     "text": [
      "\n"
     ]
    },
    {
     "name": "stderr",
     "output_type": "stream",
     "text": [
      "Epoch: 1: 100%|██████████| 6/6 [00:00<00:00, 67.82it/s]\n",
      "Epoch: Validating: 100%|██████████| 71/71 [00:00<00:00, 189.15it/s]\n"
     ]
    },
    {
     "name": "stdout",
     "output_type": "stream",
     "text": [
      "Validation metrics: {96: {'mse': tensor(0.0051, device='cuda:1')}, 192: {'mse': 0}, 336: {'mse': 0}, 720: {'mse': 0}}\n"
     ]
    },
    {
     "name": "stderr",
     "output_type": "stream",
     "text": [
      "Epoch: Validating: 100%|██████████| 33/33 [00:00<00:00, 171.07it/s]\n"
     ]
    },
    {
     "name": "stdout",
     "output_type": "stream",
     "text": [
      "Feature batch shape: torch.Size([32, 96, 54])\n",
      "54\n",
      "Using device: cuda:1\n"
     ]
    },
    {
     "name": "stderr",
     "output_type": "stream",
     "text": [
      "Epoch: 1: 100%|██████████| 264/264 [00:03<00:00, 69.67it/s]\n",
      "Epoch: Validating: 100%|██████████| 71/71 [00:00<00:00, 234.86it/s]\n"
     ]
    },
    {
     "name": "stdout",
     "output_type": "stream",
     "text": [
      "Validation metrics: {96: {'mse': tensor(0.0007, device='cuda:1')}, 192: {'mse': 0}, 336: {'mse': 0}, 720: {'mse': 0}}\n",
      "Feature batch shape: torch.Size([32, 96, 13])\n"
     ]
    },
    {
     "name": "stderr",
     "output_type": "stream",
     "text": [
      "Epoch: Validating: 100%|██████████| 33/33 [00:00<00:00, 173.81it/s]\n"
     ]
    },
    {
     "name": "stdout",
     "output_type": "stream",
     "text": [
      "Feature batch shape: torch.Size([32, 96, 13])\n",
      "Using device: cuda:1\n"
     ]
    },
    {
     "name": "stderr",
     "output_type": "stream",
     "text": [
      "Epoch: 1: 100%|██████████| 6/6 [00:00<00:00, 80.66it/s]\n",
      "Epoch: Validating: 100%|██████████| 71/71 [00:00<00:00, 254.03it/s]\n"
     ]
    },
    {
     "name": "stdout",
     "output_type": "stream",
     "text": [
      "Validation metrics: {96: {'mse': tensor(0.0068, device='cuda:1')}, 192: {'mse': 0}, 336: {'mse': 0}, 720: {'mse': 0}}\n"
     ]
    },
    {
     "name": "stderr",
     "output_type": "stream",
     "text": [
      "Epoch: Validating: 100%|██████████| 33/33 [00:00<00:00, 176.57it/s]\n"
     ]
    },
    {
     "name": "stdout",
     "output_type": "stream",
     "text": [
      "Using device: cuda:1\n"
     ]
    },
    {
     "name": "stderr",
     "output_type": "stream",
     "text": [
      "Epoch: 1: 100%|██████████| 6/6 [00:00<00:00, 81.18it/s]\n",
      "Epoch: Validating: 100%|██████████| 71/71 [00:00<00:00, 273.29it/s]\n"
     ]
    },
    {
     "name": "stdout",
     "output_type": "stream",
     "text": [
      "Validation metrics: {96: {'mse': tensor(0.0015, device='cuda:1')}, 192: {'mse': 0}, 336: {'mse': 0}, 720: {'mse': 0}}\n"
     ]
    },
    {
     "name": "stderr",
     "output_type": "stream",
     "text": [
      "Epoch: Validating: 100%|██████████| 33/33 [00:00<00:00, 176.30it/s]\n"
     ]
    },
    {
     "name": "stdout",
     "output_type": "stream",
     "text": [
      "Using device: cuda:1\n"
     ]
    },
    {
     "name": "stderr",
     "output_type": "stream",
     "text": [
      "Epoch: 1: 100%|██████████| 6/6 [00:00<00:00, 81.90it/s]\n",
      "Epoch: Validating: 100%|██████████| 71/71 [00:00<00:00, 268.82it/s]\n"
     ]
    },
    {
     "name": "stdout",
     "output_type": "stream",
     "text": [
      "Validation metrics: {96: {'mse': tensor(0.0033, device='cuda:1')}, 192: {'mse': 0}, 336: {'mse': 0}, 720: {'mse': 0}}\n"
     ]
    },
    {
     "name": "stderr",
     "output_type": "stream",
     "text": [
      "Epoch: Validating: 100%|██████████| 33/33 [00:00<00:00, 177.42it/s]\n"
     ]
    },
    {
     "name": "stdout",
     "output_type": "stream",
     "text": [
      "Using device: cuda:1\n"
     ]
    },
    {
     "name": "stderr",
     "output_type": "stream",
     "text": [
      "Epoch: 1: 100%|██████████| 6/6 [00:00<00:00, 80.83it/s]\n",
      "Epoch: Validating: 100%|██████████| 71/71 [00:00<00:00, 278.45it/s]\n"
     ]
    },
    {
     "name": "stdout",
     "output_type": "stream",
     "text": [
      "Validation metrics: {96: {'mse': tensor(0.0016, device='cuda:1')}, 192: {'mse': 0}, 336: {'mse': 0}, 720: {'mse': 0}}\n"
     ]
    },
    {
     "name": "stderr",
     "output_type": "stream",
     "text": [
      "Epoch: Validating: 100%|██████████| 33/33 [00:00<00:00, 284.99it/s]\n"
     ]
    },
    {
     "name": "stdout",
     "output_type": "stream",
     "text": [
      "Using device: cuda:1\n"
     ]
    },
    {
     "name": "stderr",
     "output_type": "stream",
     "text": [
      "Epoch: 1: 100%|██████████| 6/6 [00:00<00:00, 84.28it/s]\n",
      "Epoch: Validating: 100%|██████████| 71/71 [00:00<00:00, 327.08it/s]\n"
     ]
    },
    {
     "name": "stdout",
     "output_type": "stream",
     "text": [
      "Validation metrics: {96: {'mse': tensor(0.0033, device='cuda:1')}, 192: {'mse': 0}, 336: {'mse': 0}, 720: {'mse': 0}}\n"
     ]
    },
    {
     "name": "stderr",
     "output_type": "stream",
     "text": [
      "Epoch: Validating: 100%|██████████| 33/33 [00:00<00:00, 285.17it/s]\n"
     ]
    },
    {
     "name": "stdout",
     "output_type": "stream",
     "text": [
      "Feature batch shape: torch.Size([32, 96, 54])\n",
      "54\n",
      "Using device: cuda:1\n"
     ]
    },
    {
     "name": "stderr",
     "output_type": "stream",
     "text": [
      "Epoch: 1: 100%|██████████| 264/264 [00:03<00:00, 77.00it/s]\n",
      "Epoch: Validating: 100%|██████████| 71/71 [00:00<00:00, 280.44it/s]\n"
     ]
    },
    {
     "name": "stdout",
     "output_type": "stream",
     "text": [
      "Validation metrics: {96: {'mse': tensor(0.0007, device='cuda:1')}, 192: {'mse': 0}, 336: {'mse': 0}, 720: {'mse': 0}}\n",
      "Feature batch shape: torch.Size([32, 96, 13])\n"
     ]
    },
    {
     "name": "stderr",
     "output_type": "stream",
     "text": [
      "Epoch: Validating: 100%|██████████| 33/33 [00:00<00:00, 295.24it/s]\n"
     ]
    },
    {
     "name": "stdout",
     "output_type": "stream",
     "text": [
      "Feature batch shape: torch.Size([32, 96, 13])\n",
      "Using device: cuda:1\n"
     ]
    },
    {
     "name": "stderr",
     "output_type": "stream",
     "text": [
      "Epoch: 1: 100%|██████████| 6/6 [00:00<00:00, 95.08it/s]\n",
      "Epoch: Validating: 100%|██████████| 71/71 [00:00<00:00, 334.59it/s]\n"
     ]
    },
    {
     "name": "stdout",
     "output_type": "stream",
     "text": [
      "Validation metrics: {96: {'mse': tensor(0.0119, device='cuda:1')}, 192: {'mse': 0}, 336: {'mse': 0}, 720: {'mse': 0}}\n"
     ]
    },
    {
     "name": "stderr",
     "output_type": "stream",
     "text": [
      "Epoch: Validating: 100%|██████████| 33/33 [00:00<00:00, 294.68it/s]\n"
     ]
    },
    {
     "name": "stdout",
     "output_type": "stream",
     "text": [
      "Using device: cuda:1\n"
     ]
    },
    {
     "name": "stderr",
     "output_type": "stream",
     "text": [
      "Epoch: 1: 100%|██████████| 6/6 [00:00<00:00, 82.58it/s]\n",
      "Epoch: Validating: 100%|██████████| 71/71 [00:00<00:00, 267.56it/s]\n"
     ]
    },
    {
     "name": "stdout",
     "output_type": "stream",
     "text": [
      "Validation metrics: {96: {'mse': tensor(0.0022, device='cuda:1')}, 192: {'mse': 0}, 336: {'mse': 0}, 720: {'mse': 0}}\n"
     ]
    },
    {
     "name": "stderr",
     "output_type": "stream",
     "text": [
      "Epoch: Validating: 100%|██████████| 33/33 [00:00<00:00, 264.81it/s]\n"
     ]
    },
    {
     "name": "stdout",
     "output_type": "stream",
     "text": [
      "Using device: cuda:1\n"
     ]
    },
    {
     "name": "stderr",
     "output_type": "stream",
     "text": [
      "Epoch: 1: 100%|██████████| 6/6 [00:00<00:00, 101.14it/s]\n",
      "Epoch: Validating: 100%|██████████| 71/71 [00:00<00:00, 330.92it/s]\n"
     ]
    },
    {
     "name": "stdout",
     "output_type": "stream",
     "text": [
      "Validation metrics: {96: {'mse': tensor(0.0050, device='cuda:1')}, 192: {'mse': 0}, 336: {'mse': 0}, 720: {'mse': 0}}\n"
     ]
    },
    {
     "name": "stderr",
     "output_type": "stream",
     "text": [
      "Epoch: Validating: 100%|██████████| 33/33 [00:00<00:00, 290.76it/s]\n"
     ]
    },
    {
     "name": "stdout",
     "output_type": "stream",
     "text": [
      "Using device: cuda:1\n"
     ]
    },
    {
     "name": "stderr",
     "output_type": "stream",
     "text": [
      "Epoch: 1: 100%|██████████| 6/6 [00:00<00:00, 87.16it/s]\n",
      "Epoch: Validating: 100%|██████████| 71/71 [00:00<00:00, 329.29it/s]\n"
     ]
    },
    {
     "name": "stdout",
     "output_type": "stream",
     "text": [
      "Validation metrics: {96: {'mse': tensor(0.0028, device='cuda:1')}, 192: {'mse': 0}, 336: {'mse': 0}, 720: {'mse': 0}}\n"
     ]
    },
    {
     "name": "stderr",
     "output_type": "stream",
     "text": [
      "Epoch: Validating: 100%|██████████| 33/33 [00:00<00:00, 285.87it/s]\n"
     ]
    },
    {
     "name": "stdout",
     "output_type": "stream",
     "text": [
      "Using device: cuda:1\n"
     ]
    },
    {
     "name": "stderr",
     "output_type": "stream",
     "text": [
      "Epoch: 1: 100%|██████████| 6/6 [00:00<00:00, 85.43it/s]\n",
      "Epoch: Validating: 100%|██████████| 71/71 [00:00<00:00, 267.69it/s]\n"
     ]
    },
    {
     "name": "stdout",
     "output_type": "stream",
     "text": [
      "Validation metrics: {96: {'mse': tensor(0.0043, device='cuda:1')}, 192: {'mse': 0}, 336: {'mse': 0}, 720: {'mse': 0}}\n"
     ]
    },
    {
     "name": "stderr",
     "output_type": "stream",
     "text": [
      "Epoch: Validating: 100%|██████████| 33/33 [00:00<00:00, 176.82it/s]"
     ]
    },
    {
     "name": "stdout",
     "output_type": "stream",
     "text": [
      "Feature batch shape: torch.Size([32, 96, 54])\n",
      "54\n",
      "Using device: cuda:1\n"
     ]
    },
    {
     "name": "stderr",
     "output_type": "stream",
     "text": [
      "\n",
      "Epoch: 1: 100%|██████████| 264/264 [00:03<00:00, 84.03it/s]\n",
      "Epoch: Validating: 100%|██████████| 71/71 [00:00<00:00, 280.29it/s]\n"
     ]
    },
    {
     "name": "stdout",
     "output_type": "stream",
     "text": [
      "Validation metrics: {96: {'mse': tensor(0.0006, device='cuda:1')}, 192: {'mse': 0}, 336: {'mse': 0}, 720: {'mse': 0}}\n",
      "Feature batch shape: torch.Size([32, 96, 13])\n"
     ]
    },
    {
     "name": "stderr",
     "output_type": "stream",
     "text": [
      "Epoch: Validating: 100%|██████████| 33/33 [00:00<00:00, 232.53it/s]\n"
     ]
    },
    {
     "name": "stdout",
     "output_type": "stream",
     "text": [
      "Feature batch shape: torch.Size([32, 96, 13])\n",
      "Using device: cuda:1\n"
     ]
    },
    {
     "name": "stderr",
     "output_type": "stream",
     "text": [
      "Epoch: 1: 100%|██████████| 6/6 [00:00<00:00, 94.18it/s]\n",
      "Epoch: Validating: 100%|██████████| 71/71 [00:00<00:00, 324.99it/s]\n"
     ]
    },
    {
     "name": "stdout",
     "output_type": "stream",
     "text": [
      "Validation metrics: {96: {'mse': tensor(0.0117, device='cuda:1')}, 192: {'mse': 0}, 336: {'mse': 0}, 720: {'mse': 0}}\n"
     ]
    },
    {
     "name": "stderr",
     "output_type": "stream",
     "text": [
      "Epoch: Validating: 100%|██████████| 33/33 [00:00<00:00, 326.61it/s]\n"
     ]
    },
    {
     "name": "stdout",
     "output_type": "stream",
     "text": [
      "Using device: cuda:1\n"
     ]
    },
    {
     "name": "stderr",
     "output_type": "stream",
     "text": [
      "Epoch: 1: 100%|██████████| 6/6 [00:00<00:00, 93.47it/s]\n",
      "Epoch: Validating: 100%|██████████| 71/71 [00:00<00:00, 302.95it/s]\n"
     ]
    },
    {
     "name": "stdout",
     "output_type": "stream",
     "text": [
      "Validation metrics: {96: {'mse': tensor(0.0021, device='cuda:1')}, 192: {'mse': 0}, 336: {'mse': 0}, 720: {'mse': 0}}\n"
     ]
    },
    {
     "name": "stderr",
     "output_type": "stream",
     "text": [
      "Epoch: Validating: 100%|██████████| 33/33 [00:00<00:00, 173.82it/s]\n"
     ]
    },
    {
     "name": "stdout",
     "output_type": "stream",
     "text": [
      "Using device: cuda:1\n"
     ]
    },
    {
     "name": "stderr",
     "output_type": "stream",
     "text": [
      "Epoch: 1: 100%|██████████| 6/6 [00:00<00:00, 69.98it/s]\n",
      "Epoch: Validating: 100%|██████████| 71/71 [00:00<00:00, 235.11it/s]\n"
     ]
    },
    {
     "name": "stdout",
     "output_type": "stream",
     "text": [
      "Validation metrics: {96: {'mse': tensor(0.0049, device='cuda:1')}, 192: {'mse': 0}, 336: {'mse': 0}, 720: {'mse': 0}}\n"
     ]
    },
    {
     "name": "stderr",
     "output_type": "stream",
     "text": [
      "Epoch: Validating: 100%|██████████| 33/33 [00:00<00:00, 174.20it/s]"
     ]
    },
    {
     "name": "stdout",
     "output_type": "stream",
     "text": [
      "Using device: cuda:1\n"
     ]
    },
    {
     "name": "stderr",
     "output_type": "stream",
     "text": [
      "\n",
      "Epoch: 1: 100%|██████████| 6/6 [00:00<00:00, 78.23it/s]\n",
      "Epoch: Validating: 100%|██████████| 71/71 [00:00<00:00, 279.04it/s]\n"
     ]
    },
    {
     "name": "stdout",
     "output_type": "stream",
     "text": [
      "Validation metrics: {96: {'mse': tensor(0.0026, device='cuda:1')}, 192: {'mse': 0}, 336: {'mse': 0}, 720: {'mse': 0}}\n"
     ]
    },
    {
     "name": "stderr",
     "output_type": "stream",
     "text": [
      "Epoch: Validating: 100%|██████████| 33/33 [00:00<00:00, 213.05it/s]\n"
     ]
    },
    {
     "name": "stdout",
     "output_type": "stream",
     "text": [
      "Using device: cuda:1\n"
     ]
    },
    {
     "name": "stderr",
     "output_type": "stream",
     "text": [
      "Epoch: 1: 100%|██████████| 6/6 [00:00<00:00, 82.77it/s]\n",
      "Epoch: Validating: 100%|██████████| 71/71 [00:00<00:00, 278.46it/s]\n"
     ]
    },
    {
     "name": "stdout",
     "output_type": "stream",
     "text": [
      "Validation metrics: {96: {'mse': tensor(0.0044, device='cuda:1')}, 192: {'mse': 0}, 336: {'mse': 0}, 720: {'mse': 0}}\n"
     ]
    },
    {
     "name": "stderr",
     "output_type": "stream",
     "text": [
      "Epoch: Validating: 100%|██████████| 33/33 [00:00<00:00, 211.77it/s]\n"
     ]
    }
   ],
   "source": [
    "metrics_df_zero_shot = pd.DataFrame()\n",
    "metrics_df_fine_tuned = pd.DataFrame()\n",
    "\n",
    "for key, values in datasets.items():\n",
    "\n",
    "    # load dataset and create 5 folds 80/20\n",
    "    data_dict = values\n",
    "    data_dict_source, data_dict_target = cross_validaiton_split(data_dict)\n",
    "\n",
    "    # for saving metrics\n",
    "    metrics_list_zero_shot = []\n",
    "\n",
    "    # train on 4 splits and predict on the 5th\n",
    "    for num_split in range(5):\n",
    "        # select source split\n",
    "        train_source, _, val_source = select_cross_val_split(data_dict_source, num_split)\n",
    "        \n",
    "        # train model on split\n",
    "        state_dict = cross_val_train(train_source, val_source)\n",
    "\n",
    "        # select target split\n",
    "        train_target, test_target, val_target = select_cross_val_split(data_dict_target, num_split)\n",
    "\n",
    "        \n",
    "        # reshape model\n",
    "        model, device = zero_shot_prediction(test_target, state_dict)\n",
    "\n",
    "        # evaluate\n",
    "        metrics_zero_shot = helpers.full_eval(model, test_target, device)\n",
    "        metrics_list_zero_shot.append(metrics_zero_shot[96][\"mse\"].item())\n",
    "\n",
    "        # fine tune on 4 weeks\n",
    "        # reshape each fold to be 4 weeks long\n",
    "        input_size = 24*16\n",
    "\n",
    "        data_dict_target[\"train\"][num_split] = data_dict_target[\"train\"][num_split][-input_size:,:]\n",
    "        train_target, test_target, val_target = select_cross_val_split(data_dict_target, num_split)\n",
    "\n",
    "        metrics_list_fine_tuned = []\n",
    "        for epochs in range(5):\n",
    "            model, device = fine_tune(model, train_target, val_target)\n",
    "\n",
    "            metrics_fine_tuned = helpers.full_eval(model, test_target, device)\n",
    "            metrics_list_fine_tuned.append(metrics_fine_tuned[96][\"mse\"].item())\n",
    "\n",
    "        metrics_df_fine_tuned[f\"{key}_split_{num_split}_fine_tuned\"] = metrics_list_fine_tuned\n",
    "\n",
    "\n",
    "        # TODO same with double length\n",
    "        #input_size = 24*32\n",
    "\n",
    "\n",
    "    metrics_df_zero_shot[f\"{key}_zero_shot\"] = metrics_list_zero_shot\n",
    "\n",
    "metrics_df.index.name = \"Split for zero-shot\"\n",
    "metrics_df.to_csv(config.CONFIG_OUTPUT_PATH[\"iTransformer_baseline\"] / \"zero_shot_split_dataset.csv\")"
   ]
  },
  {
   "cell_type": "code",
   "execution_count": 48,
   "metadata": {},
   "outputs": [
    {
     "data": {
      "text/html": [
       "<div>\n",
       "<style scoped>\n",
       "    .dataframe tbody tr th:only-of-type {\n",
       "        vertical-align: middle;\n",
       "    }\n",
       "\n",
       "    .dataframe tbody tr th {\n",
       "        vertical-align: top;\n",
       "    }\n",
       "\n",
       "    .dataframe thead th {\n",
       "        text-align: right;\n",
       "    }\n",
       "</style>\n",
       "<table border=\"1\" class=\"dataframe\">\n",
       "  <thead>\n",
       "    <tr style=\"text-align: right;\">\n",
       "      <th></th>\n",
       "      <th>bavaria_zero_shot</th>\n",
       "      <th>bavaria_fine_tuned</th>\n",
       "    </tr>\n",
       "    <tr>\n",
       "      <th>Split for zero-shot</th>\n",
       "      <th></th>\n",
       "      <th></th>\n",
       "    </tr>\n",
       "  </thead>\n",
       "  <tbody>\n",
       "    <tr>\n",
       "      <th>0</th>\n",
       "      <td>0.000392</td>\n",
       "      <td>0.000647</td>\n",
       "    </tr>\n",
       "    <tr>\n",
       "      <th>1</th>\n",
       "      <td>0.000368</td>\n",
       "      <td>0.000552</td>\n",
       "    </tr>\n",
       "    <tr>\n",
       "      <th>2</th>\n",
       "      <td>0.000859</td>\n",
       "      <td>0.001618</td>\n",
       "    </tr>\n",
       "    <tr>\n",
       "      <th>3</th>\n",
       "      <td>0.000369</td>\n",
       "      <td>0.000347</td>\n",
       "    </tr>\n",
       "    <tr>\n",
       "      <th>4</th>\n",
       "      <td>0.000291</td>\n",
       "      <td>0.000374</td>\n",
       "    </tr>\n",
       "  </tbody>\n",
       "</table>\n",
       "</div>"
      ],
      "text/plain": [
       "                     bavaria_zero_shot  bavaria_fine_tuned\n",
       "Split for zero-shot                                       \n",
       "0                             0.000392            0.000647\n",
       "1                             0.000368            0.000552\n",
       "2                             0.000859            0.001618\n",
       "3                             0.000369            0.000347\n",
       "4                             0.000291            0.000374"
      ]
     },
     "execution_count": 48,
     "metadata": {},
     "output_type": "execute_result"
    }
   ],
   "source": [
    "metrics_df"
   ]
  },
  {
   "cell_type": "markdown",
   "metadata": {},
   "source": [
    "# Fine-tune pretrained model on small subset of training dataset and predict on the same test dataset"
   ]
  },
  {
   "cell_type": "code",
   "execution_count": 21,
   "metadata": {},
   "outputs": [
    {
     "name": "stderr",
     "output_type": "stream",
     "text": [
      "Epoch: 1: 100%|██████████| 948/948 [00:27<00:00, 34.14it/s]\n"
     ]
    },
    {
     "name": "stdout",
     "output_type": "stream",
     "text": [
      "Epoch 1, MSE-Loss: 0.09739486943883231, LR: 0.0005\n"
     ]
    },
    {
     "name": "stderr",
     "output_type": "stream",
     "text": [
      "Epoch: Validating: 100%|██████████| 131/131 [00:01<00:00, 103.51it/s]\n"
     ]
    },
    {
     "name": "stdout",
     "output_type": "stream",
     "text": [
      "Validation metrics: {96: {'mse': tensor(0.6840, device='cuda:1')}, 192: {'mse': 0}, 336: {'mse': 0}, 720: {'mse': 0}}\n"
     ]
    },
    {
     "name": "stderr",
     "output_type": "stream",
     "text": [
      "Epoch: Validating: 100%|██████████| 267/267 [00:03<00:00, 86.97it/s]\n"
     ]
    },
    {
     "data": {
      "text/plain": [
       "{96: {'mse': 1.006528615951538,\n",
       "  'mae': 0.5427948236465454,\n",
       "  'p10': 0.0423695333302021,\n",
       "  'p50': 0.2917636036872864,\n",
       "  'p90': 1.3048157691955566},\n",
       " 192: {'mse': 0, 'mae': 0, 'p10': 0, 'p50': 0, 'p90': 0},\n",
       " 336: {'mse': 0, 'mae': 0, 'p10': 0, 'p50': 0, 'p90': 0},\n",
       " 720: {'mse': 0, 'mae': 0, 'p10': 0, 'p50': 0, 'p90': 0}}"
      ]
     },
     "execution_count": 21,
     "metadata": {},
     "output_type": "execute_result"
    }
   ],
   "source": [
    "# now we train on a small subset of the training data for multiple epochs and evaluate again\n",
    "\n",
    "epoch = 1\n",
    "\n",
    "for epoch in range(1, epoch + 1):\n",
    "    training_functions.train_one_epoch(epoch, model, device, dataloader_train, dataloader_validation, optimizer, scheduler, writer)\n",
    "\n",
    "metrics = helpers.full_eval(model, dataloader_test, device)\n",
    "metrics\n",
    "\n",
    "for eval_metric, value in metrics[96].items():\n",
    "    metrics[96][eval_metric] = value.item()\n",
    "\n",
    "metrics_df = pd.DataFrame.from_dict(metrics[96], orient='index')\n",
    "metrics_df.rename(columns={0: key}, inplace=True)\n",
    "\n",
    "#metrics_df.to_csv(f\"{config.CONFIG_OUTPUT_PATH['iTransformer_baseline']}/metrics_{key}_epochs{epoch}_revin.csv\")\n",
    "\n",
    "metrics"
   ]
  },
  {
   "cell_type": "code",
   "execution_count": null,
   "metadata": {},
   "outputs": [],
   "source": [
    "# we load the pretrained model again and do full fine tuning on the target dataset\n",
    "\n",
    "best_parameters = {'depth': 2, 'dim': 256, 'dim_head': 56, 'heads': 4, 'attn_dropout': 0.2, 'ff_mult': 4, 'ff_dropout': 0.1, \n",
    "                   'num_mem_tokens': 4, 'learning_rate': 0.0005}\n",
    "\n",
    "\n",
    "model_config = {\n",
    "    'num_variates': data_dict[\"train\"].size(1),\n",
    "    'lookback_len': window_size,\n",
    "    'depth': best_parameters[\"depth\"],\n",
    "    'dim': best_parameters[\"dim\"],\n",
    "    'num_tokens_per_variate': 1,\n",
    "    'pred_length': pred_length,\n",
    "    'dim_head': best_parameters[\"dim_head\"],\n",
    "    'heads': best_parameters[\"heads\"],\n",
    "    'attn_dropout': best_parameters[\"attn_dropout\"],\n",
    "    'ff_mult': best_parameters[\"ff_mult\"],\n",
    "    'ff_dropout': best_parameters[\"ff_dropout\"],\n",
    "    'num_mem_tokens': best_parameters[\"num_mem_tokens\"],\n",
    "    'use_reversible_instance_norm': False,\n",
    "    'reversible_instance_norm_affine': False,\n",
    "    'flash_attn': True\n",
    "}\n",
    "\n",
    "device = torch.device(\"cuda\" if torch.cuda.is_available() else \"cpu\")\n",
    "print(f\"Using device: {device}\")\n",
    "\n",
    "model_path = config.CONFIG_MODEL_LOCATION[normalization_strategie]\n",
    "checkpoint = torch.load(model_path)\n",
    "model = iTransformer(**model_config).to(device)\n",
    "model.load_state_dict(checkpoint['model_state_dict'])\n",
    "\n",
    "\n",
    "# defining all needed instances\n",
    "optimizer = optim.Adam(model.parameters(), lr=best_parameters[\"learning_rate\"])\n",
    "scheduler = optim.lr_scheduler.StepLR(optimizer, step_size=5, gamma=0.1)\n",
    "writer = SummaryWriter(log_dir=config.CONFIG_LOGS_PATH[normalization_strategie])"
   ]
  },
  {
   "cell_type": "markdown",
   "metadata": {},
   "source": [
    "# Fine-tuning with the full bavaria dataset and prediciton on the same test dataset"
   ]
  },
  {
   "cell_type": "code",
   "execution_count": null,
   "metadata": {},
   "outputs": [],
   "source": [
    "# bavaria dataset\n",
    "data_tensor = data_handling.load_bavaria_electricity()\n",
    "data_dict, standadizer = data_handling.train_test_split_eu_elec(data_tensor, standardize=True)\n",
    "\n",
    "# convert to datalaoder\n",
    "dataloader_train, dataloader_validation, dataloader_test = data_handling.convert_data(data_dict, window_size, pred_length)"
   ]
  },
  {
   "cell_type": "code",
   "execution_count": null,
   "metadata": {},
   "outputs": [],
   "source": [
    "# now we train on a small subset of the training data for multiple epochs and evaluate again\n",
    "\n",
    "epoch = 10\n",
    "training_functions.train_one_epoch(epoch, model, device, dataloader_train, dataloader_validation, optimizer, scheduler, writer)\n",
    "\n",
    "metrics = training_functions.full_eval(model, dataloader_test)\n",
    "metrics\n",
    "\n",
    "for eval_metric, value in metrics[96].items():\n",
    "    metrics[96][eval_metric] = value.item()\n",
    "\n",
    "metrics_df = pd.DataFrame.from_dict(metrics[96], orient='index')\n",
    "metrics_df.rename(columns={0: key}, inplace=True)\n",
    "\n",
    "metrics_df.to_csv(f\"{config.CONFIG_OUTPUT_PATH['iTransformer_baseline']}/metrics_{key}_epochs{epoch}_revin.csv\")\n"
   ]
  }
 ],
 "metadata": {
  "kernelspec": {
   "display_name": "Python 3",
   "language": "python",
   "name": "python3"
  },
  "language_info": {
   "codemirror_mode": {
    "name": "ipython",
    "version": 3
   },
   "file_extension": ".py",
   "mimetype": "text/x-python",
   "name": "python",
   "nbconvert_exporter": "python",
   "pygments_lexer": "ipython3",
   "version": "3.10.9"
  },
  "orig_nbformat": 4
 },
 "nbformat": 4,
 "nbformat_minor": 2
}
