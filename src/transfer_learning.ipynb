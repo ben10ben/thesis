{
 "cells": [
  {
   "cell_type": "code",
   "execution_count": 2,
   "metadata": {},
   "outputs": [
    {
     "name": "stdout",
     "output_type": "stream",
     "text": [
      "Import succesfull\n"
     ]
    }
   ],
   "source": [
    "# TODO which one?\n",
    "#git clone https://github.com/lucidrains/iTransformer.git\n",
    "#import iTransformer\n",
    "import sys\n",
    "sys.path.append('/vol/fob-vol7/nebenf21/reinbene/bene/MA/iTransformer') \n",
    "from iTransformer import iTransformer\n",
    "import torch\n",
    "from pathlib import Path\n",
    "\n",
    "import torch\n",
    "import torch.optim as optim\n",
    "from tqdm import tqdm\n",
    "from torch.utils.tensorboard import SummaryWriter\n",
    "\n",
    "from utils import data_handling, helpers, training_functions\n",
    "import config\n",
    "\n",
    "window_size = 96\n",
    "pred_length = (96)#, 192, 336, 720)\n",
    "\n",
    "print(\"Import succesfull\")\n"
   ]
  },
  {
   "cell_type": "markdown",
   "metadata": {},
   "source": [
    "# Select dataset for training"
   ]
  },
  {
   "cell_type": "code",
   "execution_count": 2,
   "metadata": {},
   "outputs": [
    {
     "name": "stdout",
     "output_type": "stream",
     "text": [
      "Feature batch shape: torch.Size([32, 96, 208])\n"
     ]
    }
   ],
   "source": [
    "# eu electricity data\n",
    "data_tensor = data_handling.eu_electricity_to_tensor()\n",
    "data_dict, standardize_values =  data_handling.train_test_split_eu_elec(data_tensor, standardize=True)\n",
    "\n",
    "# convert to dataloader\n",
    "dataloader_train, dataloader_validation, dataloader_test = data_handling.convert_data(data_dict, window_size, pred_length)"
   ]
  },
  {
   "cell_type": "code",
   "execution_count": 8,
   "metadata": {},
   "outputs": [
    {
     "name": "stdout",
     "output_type": "stream",
     "text": [
      "Feature batch shape: torch.Size([32, 96, 348])\n"
     ]
    },
    {
     "data": {
      "text/plain": [
       "131"
      ]
     },
     "execution_count": 8,
     "metadata": {},
     "output_type": "execute_result"
    }
   ],
   "source": [
    "# electricity dataset\n",
    "data_dict = data_handling.load_electricity()\n",
    "\n",
    "# convert to dataloader\n",
    "dataloader_train, dataloader_validation, dataloader_test = data_handling.convert_data(data_dict, window_size, pred_length)\n"
   ]
  },
  {
   "cell_type": "code",
   "execution_count": 3,
   "metadata": {},
   "outputs": [],
   "source": [
    "# bavaria dataset\n",
    "data_tensor = data_handling.load_bavaria_electricity()\n",
    "\n",
    "data_dict, standadizer = data_handling.train_test_split_eu_elec(data_tensor, standardize=True)\n",
    "\n",
    "dataloader_train, dataloader_validation, dataloader_test = data_handling.convert_data(data_dict, window_size, pred_length)\n",
    "\n",
    "len(dataloader_train)"
   ]
  },
  {
   "cell_type": "code",
   "execution_count": 4,
   "metadata": {},
   "outputs": [
    {
     "name": "stdout",
     "output_type": "stream",
     "text": [
      "Feature batch shape: torch.Size([32, 96, 67])\n"
     ]
    },
    {
     "data": {
      "text/plain": [
       "52"
      ]
     },
     "execution_count": 4,
     "metadata": {},
     "output_type": "execute_result"
    }
   ],
   "source": []
  },
  {
   "cell_type": "markdown",
   "metadata": {},
   "source": [
    "# Train model on selected dataset"
   ]
  },
  {
   "cell_type": "code",
   "execution_count": 3,
   "metadata": {},
   "outputs": [],
   "source": [
    "# for electricity / eu electricity\n",
    "#best_parameters = {'depth': 3, 'dim': 818, 'dim_head': 58, 'heads': 4, 'attn_dropout': 0.17358586508257956, 'ff_mult': 4,\n",
    " #                'ff_dropout': 0.07147101457460232, 'num_mem_tokens': 4, 'learning_rate': 0.0008061714887745944}\n",
    "\n",
    "#paper_parameters = {'depth': 2, 'dim': 256, 'learning_rate': 0.0005}\n",
    "\n",
    "best_parameters = {'depth': 2, 'dim': 256, 'dim_head': 56, 'heads': 4, 'attn_dropout': 0.2, 'ff_mult': 4, 'ff_dropout': 0.1, \n",
    "                   'num_mem_tokens': 4, 'learning_rate': 0.0005}\n",
    "\n",
    "model_config = {\n",
    "    'num_variates': data_dict[\"train\"].size(1),\n",
    "    'lookback_len': window_size,\n",
    "    'depth': best_parameters[\"depth\"],\n",
    "    'dim': best_parameters[\"dim\"],\n",
    "    'num_tokens_per_variate': 1,\n",
    "    'pred_length': pred_length,\n",
    "    'dim_head': best_parameters[\"dim_head\"],\n",
    "    'heads': best_parameters[\"heads\"],\n",
    "    'attn_dropout': best_parameters[\"attn_dropout\"],\n",
    "    'ff_mult': best_parameters[\"ff_mult\"],\n",
    "    'ff_dropout': best_parameters[\"ff_dropout\"],\n",
    "    'num_mem_tokens': best_parameters[\"num_mem_tokens\"],\n",
    "    'use_reversible_instance_norm': False,\n",
    "    'reversible_instance_norm_affine': False,\n",
    "    'flash_attn': True\n",
    "}"
   ]
  },
  {
   "cell_type": "code",
   "execution_count": 4,
   "metadata": {},
   "outputs": [
    {
     "name": "stdout",
     "output_type": "stream",
     "text": [
      "Using device: cuda\n",
      "Non-A100 GPU detected, using math or mem efficient attention if input tensor is on cuda\n"
     ]
    }
   ],
   "source": [
    "device = torch.device(\"cuda\" if torch.cuda.is_available() else \"cpu\")\n",
    "print(f\"Using device: {device}\")\n",
    "\n",
    "# defining all needed instances\n",
    "model = iTransformer(**model_config).to(device)\n",
    "optimizer = optim.Adam(model.parameters(), lr=best_parameters[\"learning_rate\"])\n",
    "scheduler = optim.lr_scheduler.StepLR(optimizer, step_size=5, gamma=0.1)\n",
    "writer = SummaryWriter(log_dir=config.CONFIG_LOGS_PATH[\"revin\"])\n"
   ]
  },
  {
   "cell_type": "code",
   "execution_count": 6,
   "metadata": {},
   "outputs": [
    {
     "name": "stderr",
     "output_type": "stream",
     "text": [
      "Epoch: 1: 100%|██████████| 131/131 [00:10<00:00, 12.26it/s]\n"
     ]
    },
    {
     "name": "stdout",
     "output_type": "stream",
     "text": [
      "Epoch 1, MSE-Loss: 0.3245384626033652, LR: 0.0005\n"
     ]
    },
    {
     "name": "stderr",
     "output_type": "stream",
     "text": [
      "Epoch: Validating: 100%|██████████| 1/1 [00:00<00:00, 27.19it/s]\n",
      "Epoch: 2: 100%|██████████| 131/131 [00:09<00:00, 13.34it/s]\n"
     ]
    },
    {
     "name": "stdout",
     "output_type": "stream",
     "text": [
      "Epoch 2, MSE-Loss: 0.21381669497216932, LR: 0.0005\n"
     ]
    },
    {
     "name": "stderr",
     "output_type": "stream",
     "text": [
      "Epoch: Validating: 100%|██████████| 1/1 [00:00<00:00, 28.07it/s]\n",
      "Epoch: 3: 100%|██████████| 131/131 [00:09<00:00, 13.55it/s]\n"
     ]
    },
    {
     "name": "stdout",
     "output_type": "stream",
     "text": [
      "Epoch 3, MSE-Loss: 0.19579051309869488, LR: 0.0005\n"
     ]
    },
    {
     "name": "stderr",
     "output_type": "stream",
     "text": [
      "Epoch: Validating: 100%|██████████| 1/1 [00:00<00:00, 29.38it/s]\n",
      "Epoch: 4: 100%|██████████| 131/131 [00:08<00:00, 15.09it/s]\n"
     ]
    },
    {
     "name": "stdout",
     "output_type": "stream",
     "text": [
      "Epoch 4, MSE-Loss: 0.18562474607966328, LR: 0.0005\n"
     ]
    },
    {
     "name": "stderr",
     "output_type": "stream",
     "text": [
      "Epoch: Validating: 100%|██████████| 1/1 [00:00<00:00, 32.96it/s]\n",
      "Epoch: 5: 100%|██████████| 131/131 [00:08<00:00, 15.36it/s]\n"
     ]
    },
    {
     "name": "stdout",
     "output_type": "stream",
     "text": [
      "Epoch 5, MSE-Loss: 0.1787018676978031, LR: 0.0005\n",
      "Checkpointing succesfull after epoch 5\n"
     ]
    },
    {
     "name": "stderr",
     "output_type": "stream",
     "text": [
      "Epoch: Validating: 100%|██████████| 1/1 [00:00<00:00, 33.90it/s]\n",
      "Epoch: 6: 100%|██████████| 131/131 [00:08<00:00, 15.11it/s]\n"
     ]
    },
    {
     "name": "stdout",
     "output_type": "stream",
     "text": [
      "Epoch 6, MSE-Loss: 0.17065464983914644, LR: 5e-05\n"
     ]
    },
    {
     "name": "stderr",
     "output_type": "stream",
     "text": [
      "Epoch: Validating: 100%|██████████| 1/1 [00:00<00:00, 35.90it/s]\n",
      "Epoch: 7: 100%|██████████| 131/131 [00:08<00:00, 14.78it/s]\n"
     ]
    },
    {
     "name": "stdout",
     "output_type": "stream",
     "text": [
      "Epoch 7, MSE-Loss: 0.16918820552243533, LR: 5e-05\n"
     ]
    },
    {
     "name": "stderr",
     "output_type": "stream",
     "text": [
      "Epoch: Validating: 100%|██████████| 1/1 [00:00<00:00, 34.25it/s]\n",
      "Epoch: 8: 100%|██████████| 131/131 [00:08<00:00, 15.88it/s]\n"
     ]
    },
    {
     "name": "stdout",
     "output_type": "stream",
     "text": [
      "Epoch 8, MSE-Loss: 0.16830884636813448, LR: 5e-05\n"
     ]
    },
    {
     "name": "stderr",
     "output_type": "stream",
     "text": [
      "Epoch: Validating: 100%|██████████| 1/1 [00:00<00:00, 37.31it/s]\n",
      "Epoch: 9: 100%|██████████| 131/131 [00:08<00:00, 16.31it/s]\n"
     ]
    },
    {
     "name": "stdout",
     "output_type": "stream",
     "text": [
      "Epoch 9, MSE-Loss: 0.16760651824128536, LR: 5e-05\n"
     ]
    },
    {
     "name": "stderr",
     "output_type": "stream",
     "text": [
      "Epoch: Validating: 100%|██████████| 1/1 [00:00<00:00, 34.02it/s]\n",
      "Epoch: 10: 100%|██████████| 131/131 [00:08<00:00, 16.01it/s]\n"
     ]
    },
    {
     "name": "stdout",
     "output_type": "stream",
     "text": [
      "Epoch 10, MSE-Loss: 0.16684571010920837, LR: 5e-05\n",
      "Checkpointing succesfull after epoch 10\n"
     ]
    },
    {
     "name": "stderr",
     "output_type": "stream",
     "text": [
      "Epoch: Validating: 100%|██████████| 1/1 [00:00<00:00, 33.51it/s]\n",
      "Epoch: 11: 100%|██████████| 131/131 [00:08<00:00, 14.87it/s]\n"
     ]
    },
    {
     "name": "stdout",
     "output_type": "stream",
     "text": [
      "Epoch 11, MSE-Loss: 0.16598104850481485, LR: 5e-06\n"
     ]
    },
    {
     "name": "stderr",
     "output_type": "stream",
     "text": [
      "Epoch: Validating: 100%|██████████| 1/1 [00:00<00:00, 31.82it/s]\n"
     ]
    }
   ],
   "source": [
    "epoch = 11\n",
    "\n",
    "for epoch in range(1, epoch + 1):\n",
    "\ttraining_functions.train_one_epoch(epoch, model, device, dataloader_train, dataloader_validation, optimizer, scheduler, writer)\n",
    "\n"
   ]
  },
  {
   "cell_type": "code",
   "execution_count": 10,
   "metadata": {},
   "outputs": [
    {
     "name": "stderr",
     "output_type": "stream",
     "text": [
      "Epoch: Validating: 100%|██████████| 67/67 [00:02<00:00, 27.98it/s]\n"
     ]
    },
    {
     "data": {
      "text/plain": [
       "{96: {'mse': tensor(0.1657, device='cuda:0'),\n",
       "  'mae': tensor(0.2497, device='cuda:0'),\n",
       "  'smape': tensor(105.7122, device='cuda:0'),\n",
       "  'p10': tensor(0.0286, device='cuda:0'),\n",
       "  'p50': tensor(0.1653, device='cuda:0'),\n",
       "  'p90': tensor(0.5340, device='cuda:0')},\n",
       " 192: {'mse': tensor(0.1915, device='cuda:0'),\n",
       "  'mae': tensor(0.2865, device='cuda:0'),\n",
       "  'smape': tensor(116.4241, device='cuda:0'),\n",
       "  'p10': tensor(0.0336, device='cuda:0'),\n",
       "  'p50': tensor(0.1921, device='cuda:0'),\n",
       "  'p90': tensor(0.6345, device='cuda:0')},\n",
       " 336: {'mse': tensor(0.2228, device='cuda:0'),\n",
       "  'mae': tensor(0.3165, device='cuda:0'),\n",
       "  'smape': tensor(122.2620, device='cuda:0'),\n",
       "  'p10': tensor(0.0365, device='cuda:0'),\n",
       "  'p50': tensor(0.2094, device='cuda:0'),\n",
       "  'p90': tensor(0.7290, device='cuda:0')},\n",
       " 720: {'mse': tensor(0.4058, device='cuda:0'),\n",
       "  'mae': tensor(0.4179, device='cuda:0'),\n",
       "  'smape': tensor(141.5883, device='cuda:0'),\n",
       "  'p10': tensor(0.0432, device='cuda:0'),\n",
       "  'p50': tensor(0.2558, device='cuda:0'),\n",
       "  'p90': tensor(1.0151, device='cuda:0')}}"
      ]
     },
     "execution_count": 10,
     "metadata": {},
     "output_type": "execute_result"
    }
   ],
   "source": [
    "metrics = training_functions.fast_eval(model, dataloader_test)\n",
    "metrics"
   ]
  },
  {
   "cell_type": "code",
   "execution_count": 23,
   "metadata": {},
   "outputs": [
    {
     "name": "stderr",
     "output_type": "stream",
     "text": [
      "Epoch: Validating: 100%|██████████| 248/248 [00:08<00:00, 28.32it/s]"
     ]
    },
    {
     "name": "stdout",
     "output_type": "stream",
     "text": [
      "Pred_len 96 MSE:  tensor(1.0267, device='cuda:0')\n"
     ]
    },
    {
     "name": "stderr",
     "output_type": "stream",
     "text": [
      "\n"
     ]
    },
    {
     "data": {
      "text/plain": [
       "{96: {'mse': tensor(1.0267, device='cuda:0'),\n",
       "  'mae': tensor(0.6372, device='cuda:0'),\n",
       "  'smape': tensor(157.1326, device='cuda:0'),\n",
       "  'p10': tensor(0.0509, device='cuda:0'),\n",
       "  'p50': tensor(0.3867, device='cuda:0'),\n",
       "  'p90': tensor(1.4745, device='cuda:0')},\n",
       " 192: {'mse': tensor(1.6828, device='cuda:0'),\n",
       "  'mae': tensor(0.8021, device='cuda:0'),\n",
       "  'smape': tensor(170.9238, device='cuda:0'),\n",
       "  'p10': tensor(0.0637, device='cuda:0'),\n",
       "  'p50': tensor(0.4290, device='cuda:0'),\n",
       "  'p90': tensor(2.1294, device='cuda:0')},\n",
       " 336: {'mse': tensor(1.9419, device='cuda:0'),\n",
       "  'mae': tensor(0.8371, device='cuda:0'),\n",
       "  'smape': tensor(170.4025, device='cuda:0'),\n",
       "  'p10': tensor(0.0720, device='cuda:0'),\n",
       "  'p50': tensor(0.4566, device='cuda:0'),\n",
       "  'p90': tensor(2.1610, device='cuda:0')},\n",
       " 720: {'mse': tensor(2.1341, device='cuda:0'),\n",
       "  'mae': tensor(0.8491, device='cuda:0'),\n",
       "  'smape': tensor(180.1998, device='cuda:0'),\n",
       "  'p10': tensor(0.0843, device='cuda:0'),\n",
       "  'p50': tensor(0.4829, device='cuda:0'),\n",
       "  'p90': tensor(2.0571, device='cuda:0')}}"
      ]
     },
     "execution_count": 23,
     "metadata": {},
     "output_type": "execute_result"
    }
   ],
   "source": [
    "# predict on eu electricity\n",
    "metrics = training_functions.fast_eval(dataloader_test)\n",
    "metrics"
   ]
  },
  {
   "cell_type": "markdown",
   "metadata": {},
   "source": [
    "# Load saved model and predict on specified dataset\n",
    "\n",
    "We load the model trained for 10 epoch on the original electricity dataset.\n",
    "\n",
    "-Try zero shot prediction on the test dataset\n",
    "\n",
    "-Re-train on train or validation dataset\n",
    "\n",
    "-Test again on test dataset\n",
    "\n"
   ]
  },
  {
   "cell_type": "code",
   "execution_count": 6,
   "metadata": {},
   "outputs": [
    {
     "name": "stdout",
     "output_type": "stream",
     "text": [
      "Non-A100 GPU detected, using math or mem efficient attention if input tensor is on cuda\n"
     ]
    }
   ],
   "source": [
    "# use electricity dataset\n",
    "#data_dict = data_handling.load_electricity()\n",
    "\n",
    "# train for eu_electricity\n",
    "#for key, values in data_dict.items():\n",
    "#    data_dict[key] = values[:, 0:208]\n",
    "\n",
    "#dataloader_train, dataloader_validation, dataloader_test = data_handling.convert_data(data_dict, window_size, pred_length)\n",
    "\n",
    "# for electricity\n",
    "#best_parameters = {'depth': 3, 'dim': 818, 'dim_head': 58, 'heads': 4, 'attn_dropout': 0.2, 'ff_mult': 4, 'ff_dropout': 0.1, \n",
    " #                  'num_mem_tokens': 4, 'learning_rate': 0.0005}\n",
    "\n",
    "best_parameters = {'depth': 2, 'dim': 256, 'dim_head': 56, 'heads': 4, 'attn_dropout': 0.2, 'ff_mult': 4, 'ff_dropout': 0.1, \n",
    "                   'num_mem_tokens': 4, 'learning_rate': 0.0005}\n",
    "\n",
    "model_config = {\n",
    "    'num_variates': data_dict[\"train\"].size(1),\n",
    "    'lookback_len': window_size,\n",
    "    'depth': best_parameters[\"depth\"],\n",
    "    'dim': best_parameters[\"dim\"],\n",
    "    'num_tokens_per_variate': 1,\n",
    "    'pred_length': pred_length,\n",
    "    'dim_head': best_parameters[\"dim_head\"],\n",
    "    'heads': best_parameters[\"heads\"],\n",
    "    'attn_dropout': best_parameters[\"attn_dropout\"],\n",
    "    'ff_mult': best_parameters[\"ff_mult\"],\n",
    "    'ff_dropout': best_parameters[\"ff_dropout\"],\n",
    "    'num_mem_tokens': best_parameters[\"num_mem_tokens\"],\n",
    "    'use_reversible_instance_norm': False,\n",
    "    'reversible_instance_norm_affine': False,\n",
    "    'flash_attn': True\n",
    "}\n",
    "\n",
    "device = torch.device(\"cuda\" if torch.cuda.is_available() else \"cpu\")\n",
    "model = iTransformer(**model_config).to(device)\n",
    "optimizer = optim.Adam(model.parameters(), lr=best_parameters[\"learning_rate\"])\n",
    "scheduler = optim.lr_scheduler.StepLR(optimizer, step_size=5, gamma=0.1)\n",
    "writer = SummaryWriter(log_dir=config.CONFIG_LOGS_PATH[\"revin\"])"
   ]
  },
  {
   "cell_type": "code",
   "execution_count": 7,
   "metadata": {},
   "outputs": [
    {
     "data": {
      "text/plain": [
       "<All keys matched successfully>"
      ]
     },
     "execution_count": 7,
     "metadata": {},
     "output_type": "execute_result"
    }
   ],
   "source": [
    "model_path = \"/vol/fob-vol7/nebenf21/reinbene/bene/MA/outputs/models/revin/trial_epoch_10_loss_0.6577947735786438.pt\"\n",
    "checkpoint = torch.load(model_path)\n",
    "model.load_state_dict(checkpoint['model_state_dict'])\n",
    "\n",
    "#model.load_state_dict(model.state_dict())\n"
   ]
  },
  {
   "cell_type": "code",
   "execution_count": 10,
   "metadata": {},
   "outputs": [
    {
     "name": "stderr",
     "output_type": "stream",
     "text": [
      "Epoch: Validating: 100%|██████████| 52/52 [00:01<00:00, 30.91it/s]\n"
     ]
    },
    {
     "data": {
      "text/plain": [
       "{96: {'mse': tensor(3.6800, device='cuda:0'),\n",
       "  'mae': tensor(1.7944, device='cuda:0'),\n",
       "  'smape': tensor(180.0295, device='cuda:0'),\n",
       "  'p10': tensor(0.9925, device='cuda:0'),\n",
       "  'p50': tensor(1.7757, device='cuda:0'),\n",
       "  'p90': tensor(2.5852, device='cuda:0')},\n",
       " 192: {'mse': tensor(3.7270, device='cuda:0'),\n",
       "  'mae': tensor(1.8051, device='cuda:0'),\n",
       "  'smape': tensor(179.4368, device='cuda:0'),\n",
       "  'p10': tensor(1.0039, device='cuda:0'),\n",
       "  'p50': tensor(1.7916, device='cuda:0'),\n",
       "  'p90': tensor(2.6064, device='cuda:0')},\n",
       " 336: {'mse': tensor(3.6725, device='cuda:0'),\n",
       "  'mae': tensor(1.7834, device='cuda:0'),\n",
       "  'smape': tensor(173.9219, device='cuda:0'),\n",
       "  'p10': tensor(0.9526, device='cuda:0'),\n",
       "  'p50': tensor(1.7725, device='cuda:0'),\n",
       "  'p90': tensor(2.6025, device='cuda:0')},\n",
       " 720: {'mse': tensor(3.3147, device='cuda:0'),\n",
       "  'mae': tensor(1.6667, device='cuda:0'),\n",
       "  'smape': tensor(153.6199, device='cuda:0'),\n",
       "  'p10': tensor(0.7585, device='cuda:0'),\n",
       "  'p50': tensor(1.6460, device='cuda:0'),\n",
       "  'p90': tensor(2.5405, device='cuda:0')}}"
      ]
     },
     "execution_count": 10,
     "metadata": {},
     "output_type": "execute_result"
    }
   ],
   "source": [
    "metrics = training_functions.fast_eval(model, dataloader_test)\n",
    "metrics"
   ]
  },
  {
   "cell_type": "code",
   "execution_count": 11,
   "metadata": {},
   "outputs": [
    {
     "ename": "NameError",
     "evalue": "name 'train_one_epoch' is not defined",
     "output_type": "error",
     "traceback": [
      "\u001b[0;31m---------------------------------------------------------------------------\u001b[0m",
      "\u001b[0;31mNameError\u001b[0m                                 Traceback (most recent call last)",
      "Cell \u001b[0;32mIn[11], line 2\u001b[0m\n\u001b[1;32m      1\u001b[0m epoch \u001b[38;5;241m=\u001b[39m \u001b[38;5;241m1\u001b[39m\n\u001b[0;32m----> 2\u001b[0m \u001b[43mtrain_one_epoch\u001b[49m(epoch, model, device, dataloader_validation, dataloader_test, optimizer, scheduler, writer)\n",
      "\u001b[0;31mNameError\u001b[0m: name 'train_one_epoch' is not defined"
     ]
    }
   ],
   "source": [
    "epoch = 1\n",
    "train_one_epoch(epoch, model, device, dataloader_validation, dataloader_test, optimizer, scheduler, writer)\n"
   ]
  }
 ],
 "metadata": {
  "kernelspec": {
   "display_name": "Python 3",
   "language": "python",
   "name": "python3"
  },
  "language_info": {
   "codemirror_mode": {
    "name": "ipython",
    "version": 3
   },
   "file_extension": ".py",
   "mimetype": "text/x-python",
   "name": "python",
   "nbconvert_exporter": "python",
   "pygments_lexer": "ipython3",
   "version": "3.10.9"
  },
  "orig_nbformat": 4
 },
 "nbformat": 4,
 "nbformat_minor": 2
}
