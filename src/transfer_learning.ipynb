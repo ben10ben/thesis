{
 "cells": [
  {
   "cell_type": "code",
   "execution_count": 4,
   "metadata": {},
   "outputs": [
    {
     "name": "stdout",
     "output_type": "stream",
     "text": [
      "Import succesfull\n"
     ]
    }
   ],
   "source": [
    "# TODO which one?\n",
    "#git clone https://github.com/lucidrains/iTransformer.git\n",
    "#import iTransformer\n",
    "import sys\n",
    "sys.path.append('/vol/fob-vol7/nebenf21/reinbene/bene/MA/iTransformer') \n",
    "from iTransformer import iTransformer\n",
    "import torch\n",
    "from pathlib import Path\n",
    "\n",
    "import torch\n",
    "import torch.optim as optim\n",
    "from tqdm import tqdm\n",
    "from torch.utils.tensorboard import SummaryWriter\n",
    "\n",
    "from utils import data_handling, helpers, training_functions\n",
    "import config\n",
    "import pandas as pd\n",
    "\n",
    "window_size = 96\n",
    "pred_length = (96, 192, 336, 720)\n",
    "\n",
    "print(\"Import succesfull\")\n"
   ]
  },
  {
   "cell_type": "markdown",
   "metadata": {},
   "source": [
    "# Select dataset for training"
   ]
  },
  {
   "cell_type": "code",
   "execution_count": 5,
   "metadata": {},
   "outputs": [
    {
     "name": "stdout",
     "output_type": "stream",
     "text": [
      "Feature batch shape: torch.Size([32, 96, 208])\n"
     ]
    },
    {
     "data": {
      "text/plain": [
       "948"
      ]
     },
     "execution_count": 5,
     "metadata": {},
     "output_type": "execute_result"
    }
   ],
   "source": [
    "# eu electricity data\n",
    "data_tensor = data_handling.eu_electricity_to_tensor()\n",
    "data_dict, standardize_values =  data_handling.train_test_split_eu_elec(data_tensor, standardize=True)\n",
    "\n",
    "# convert to dataloader\n",
    "dataloader_train, dataloader_validation, dataloader_test = data_handling.convert_data(data_dict, window_size, pred_length)"
   ]
  },
  {
   "cell_type": "markdown",
   "metadata": {},
   "source": [
    "# Load model that has been trained on electricity dataset"
   ]
  },
  {
   "cell_type": "code",
   "execution_count": 5,
   "metadata": {},
   "outputs": [
    {
     "name": "stdout",
     "output_type": "stream",
     "text": [
      "Using device: cuda\n"
     ]
    }
   ],
   "source": [
    "best_parameters = {'depth': 2, 'dim': 256, 'dim_head': 56, 'heads': 4, 'attn_dropout': 0.2, 'ff_mult': 4, 'ff_dropout': 0.1, \n",
    "                   'num_mem_tokens': 4, 'learning_rate': 0.0005}\n",
    "\n",
    "\n",
    "model_config = {\n",
    "    'num_variates': data_dict[\"train\"].size(1),\n",
    "    'lookback_len': window_size,\n",
    "    'depth': best_parameters[\"depth\"],\n",
    "    'dim': best_parameters[\"dim\"],\n",
    "    'num_tokens_per_variate': 1,\n",
    "    'pred_length': pred_length,\n",
    "    'dim_head': best_parameters[\"dim_head\"],\n",
    "    'heads': best_parameters[\"heads\"],\n",
    "    'attn_dropout': best_parameters[\"attn_dropout\"],\n",
    "    'ff_mult': best_parameters[\"ff_mult\"],\n",
    "    'ff_dropout': best_parameters[\"ff_dropout\"],\n",
    "    'num_mem_tokens': best_parameters[\"num_mem_tokens\"],\n",
    "    'use_reversible_instance_norm': False,\n",
    "    'reversible_instance_norm_affine': False,\n",
    "    'flash_attn': True\n",
    "}\n",
    "\n",
    "device = torch.device(\"cuda\" if torch.cuda.is_available() else \"cpu\")\n",
    "print(f\"Using device: {device}\")\n",
    "\n",
    "model_path = config.CONFIG_MODEL_LOCATION[\"base\"] / \"electricity_base_epoch_15_loss_0.15809133648872375.pt\"\n",
    "\n",
    "#model_path = \"/vol/fob-vol7/nebenf21/reinbene/bene/MA/outputs/models/revin/trial_epoch_15_loss_0.12157157808542252.pt\"\n",
    "#model_path = \"/vol/fob-vol7/nebenf21/reinbene/bene/MA/outputs/models/stationary/stationary_for_transfer.pt\"\n",
    "model_path = \"/vol/fob-vol7/nebenf21/reinbene/bene/MA/outputs/models/base/electricity_base_epoch_15_loss_0.15809133648872375.pt\"\n",
    "checkpoint = torch.load(model_path)\n",
    "model = iTransformer(**model_config).to(device)\n",
    "model.load_state_dict(checkpoint['model_state_dict'])\n",
    "\n",
    "\n",
    "# defining all needed instances\n",
    "optimizer = optim.Adam(model.parameters(), lr=best_parameters[\"learning_rate\"])\n",
    "scheduler = optim.lr_scheduler.StepLR(optimizer, step_size=5, gamma=0.1)\n",
    "writer = SummaryWriter(log_dir=config.CONFIG_LOGS_PATH[\"revin\"])"
   ]
  },
  {
   "cell_type": "code",
   "execution_count": 11,
   "metadata": {},
   "outputs": [],
   "source": [
    "checkpoint[\"model_state_dict\"][\"reversible_instance_norm.beta\"] = checkpoint[\"model_state_dict\"][\"reversible_instance_norm.beta\"][:67, :]\n",
    "checkpoint[\"model_state_dict\"][\"reversible_instance_norm.gamma\"] = checkpoint[\"model_state_dict\"][\"reversible_instance_norm.gamma\"][:67, :]"
   ]
  },
  {
   "cell_type": "code",
   "execution_count": 9,
   "metadata": {},
   "outputs": [
    {
     "data": {
      "text/plain": [
       "torch.Size([67, 1])"
      ]
     },
     "execution_count": 9,
     "metadata": {},
     "output_type": "execute_result"
    }
   ],
   "source": [
    "checkpoint[\"model_state_dict\"][\"reversible_instance_norm.beta\"].size()"
   ]
  },
  {
   "cell_type": "markdown",
   "metadata": {},
   "source": [
    "# Load bavaria dataset and try zero shot prediciton on the test data"
   ]
  },
  {
   "cell_type": "code",
   "execution_count": 2,
   "metadata": {},
   "outputs": [
    {
     "name": "stdout",
     "output_type": "stream",
     "text": [
      "Feature batch shape: torch.Size([32, 96, 67])\n"
     ]
    }
   ],
   "source": [
    "# bavaria dataset\n",
    "data_tensor = data_handling.load_bavaria_electricity()\n",
    "data_dict, standadizer = data_handling.train_test_split_eu_elec(data_tensor, standardize=True)\n",
    "\n",
    "# create a smaller subset of the train dataset\n",
    "#percentage = 0.1\n",
    "#ten_percent_length = int(percentage * data_dict[\"train\"].shape[0])\n",
    "#data_dict[\"train\"] = data_dict[\"train\"][:ten_percent_length, :]\n",
    "\n",
    "# convert to datalaoder\n",
    "dataloader_train, dataloader_validation, dataloader_test = data_handling.convert_data(data_dict, window_size, pred_length)"
   ]
  },
  {
   "cell_type": "code",
   "execution_count": 15,
   "metadata": {},
   "outputs": [
    {
     "name": "stderr",
     "output_type": "stream",
     "text": [
      "Epoch: Validating: 100%|██████████| 71/71 [00:01<00:00, 49.79it/s]\n"
     ]
    }
   ],
   "source": [
    "# first we try zero shot\n",
    "\n",
    "metrics = helpers.full_eval(model, dataloader_test, device)\n",
    "metrics\n",
    "\n",
    "for eval_metric, value in metrics[96].items():\n",
    "    metrics[96][eval_metric] = value.item()\n",
    "\n",
    "metrics_df = pd.DataFrame.from_dict(metrics[96], orient='index')\n",
    "metrics_df.rename(columns={0: \"metrics\"}, inplace=True)\n",
    "\n",
    "metrics_df.to_csv(f\"{config.CONFIG_OUTPUT_PATH['iTransformer_baseline']}/transfer.csv\")"
   ]
  },
  {
   "cell_type": "code",
   "execution_count": 16,
   "metadata": {},
   "outputs": [
    {
     "data": {
      "text/plain": [
       "{96: {'mse': 0.19589269161224365,\n",
       "  'mae': 0.414349764585495,\n",
       "  'p10': 0.22389757633209229,\n",
       "  'p50': 0.4057007431983948,\n",
       "  'p90': 0.6108494400978088},\n",
       " 192: {'mse': 0, 'mae': 0, 'p10': 0, 'p50': 0, 'p90': 0},\n",
       " 336: {'mse': 0, 'mae': 0, 'p10': 0, 'p50': 0, 'p90': 0},\n",
       " 720: {'mse': 0, 'mae': 0, 'p10': 0, 'p50': 0, 'p90': 0}}"
      ]
     },
     "execution_count": 16,
     "metadata": {},
     "output_type": "execute_result"
    }
   ],
   "source": [
    "metrics"
   ]
  },
  {
   "cell_type": "markdown",
   "metadata": {},
   "source": [
    "# Fine-tune pretrained model on small subset of training dataset and predict on the same test dataset"
   ]
  },
  {
   "cell_type": "code",
   "execution_count": 11,
   "metadata": {},
   "outputs": [
    {
     "ename": "NameError",
     "evalue": "name 'train_one_epoch' is not defined",
     "output_type": "error",
     "traceback": [
      "\u001b[0;31m---------------------------------------------------------------------------\u001b[0m",
      "\u001b[0;31mNameError\u001b[0m                                 Traceback (most recent call last)",
      "Cell \u001b[0;32mIn[11], line 2\u001b[0m\n\u001b[1;32m      1\u001b[0m epoch \u001b[38;5;241m=\u001b[39m \u001b[38;5;241m1\u001b[39m\n\u001b[0;32m----> 2\u001b[0m \u001b[43mtrain_one_epoch\u001b[49m(epoch, model, device, dataloader_validation, dataloader_test, optimizer, scheduler, writer)\n",
      "\u001b[0;31mNameError\u001b[0m: name 'train_one_epoch' is not defined"
     ]
    }
   ],
   "source": [
    "# now we train on a small subset of the training data for multiple epochs and evaluate again\n",
    "\n",
    "epoch = 10\n",
    "training_functions.train_one_epoch(epoch, model, device, dataloader_train, dataloader_validation, optimizer, scheduler, writer)\n",
    "\n",
    "metrics = training_functions.full_eval(model, dataloader_test)\n",
    "metrics\n",
    "\n",
    "for eval_metric, value in metrics[96].items():\n",
    "    metrics[96][eval_metric] = value.item()\n",
    "\n",
    "metrics_df = pd.DataFrame.from_dict(metrics[96], orient='index')\n",
    "metrics_df.rename(columns={0: key}, inplace=True)\n",
    "\n",
    "metrics_df.to_csv(f\"{config.CONFIG_OUTPUT_PATH['iTransformer_baseline']}/metrics_{key}_epochs{epoch}_revin.csv\")\n"
   ]
  },
  {
   "cell_type": "code",
   "execution_count": null,
   "metadata": {},
   "outputs": [],
   "source": [
    "# we load the pretrained model again and do full fine tuning on the target dataset\n",
    "\n",
    "best_parameters = {'depth': 2, 'dim': 256, 'dim_head': 56, 'heads': 4, 'attn_dropout': 0.2, 'ff_mult': 4, 'ff_dropout': 0.1, \n",
    "                   'num_mem_tokens': 4, 'learning_rate': 0.0005}\n",
    "\n",
    "\n",
    "model_config = {\n",
    "    'num_variates': data_dict[\"train\"].size(1),\n",
    "    'lookback_len': window_size,\n",
    "    'depth': best_parameters[\"depth\"],\n",
    "    'dim': best_parameters[\"dim\"],\n",
    "    'num_tokens_per_variate': 1,\n",
    "    'pred_length': pred_length,\n",
    "    'dim_head': best_parameters[\"dim_head\"],\n",
    "    'heads': best_parameters[\"heads\"],\n",
    "    'attn_dropout': best_parameters[\"attn_dropout\"],\n",
    "    'ff_mult': best_parameters[\"ff_mult\"],\n",
    "    'ff_dropout': best_parameters[\"ff_dropout\"],\n",
    "    'num_mem_tokens': best_parameters[\"num_mem_tokens\"],\n",
    "    'use_reversible_instance_norm': False,\n",
    "    'reversible_instance_norm_affine': False,\n",
    "    'flash_attn': True\n",
    "}\n",
    "\n",
    "device = torch.device(\"cuda\" if torch.cuda.is_available() else \"cpu\")\n",
    "print(f\"Using device: {device}\")\n",
    "\n",
    "model_path = config.CONFIG_MODEL_LOCATION[normalization_strategie]\n",
    "checkpoint = torch.load(model_path)\n",
    "model = iTransformer(**model_config).to(device)\n",
    "model.load_state_dict(checkpoint['model_state_dict'])\n",
    "\n",
    "\n",
    "# defining all needed instances\n",
    "optimizer = optim.Adam(model.parameters(), lr=best_parameters[\"learning_rate\"])\n",
    "scheduler = optim.lr_scheduler.StepLR(optimizer, step_size=5, gamma=0.1)\n",
    "writer = SummaryWriter(log_dir=config.CONFIG_LOGS_PATH[normalization_strategie])"
   ]
  },
  {
   "cell_type": "markdown",
   "metadata": {},
   "source": [
    "# Fine-tuning with the full bavaria dataset and prediciton on the same test dataset"
   ]
  },
  {
   "cell_type": "code",
   "execution_count": null,
   "metadata": {},
   "outputs": [],
   "source": [
    "# bavaria dataset\n",
    "data_tensor = data_handling.load_bavaria_electricity()\n",
    "data_dict, standadizer = data_handling.train_test_split_eu_elec(data_tensor, standardize=True)\n",
    "\n",
    "# convert to datalaoder\n",
    "dataloader_train, dataloader_validation, dataloader_test = data_handling.convert_data(data_dict, window_size, pred_length)"
   ]
  },
  {
   "cell_type": "code",
   "execution_count": null,
   "metadata": {},
   "outputs": [],
   "source": [
    "# now we train on a small subset of the training data for multiple epochs and evaluate again\n",
    "\n",
    "epoch = 10\n",
    "training_functions.train_one_epoch(epoch, model, device, dataloader_train, dataloader_validation, optimizer, scheduler, writer)\n",
    "\n",
    "metrics = training_functions.full_eval(model, dataloader_test)\n",
    "metrics\n",
    "\n",
    "for eval_metric, value in metrics[96].items():\n",
    "    metrics[96][eval_metric] = value.item()\n",
    "\n",
    "metrics_df = pd.DataFrame.from_dict(metrics[96], orient='index')\n",
    "metrics_df.rename(columns={0: key}, inplace=True)\n",
    "\n",
    "metrics_df.to_csv(f\"{config.CONFIG_OUTPUT_PATH['iTransformer_baseline']}/metrics_{key}_epochs{epoch}_revin.csv\")\n"
   ]
  }
 ],
 "metadata": {
  "kernelspec": {
   "display_name": "Python 3",
   "language": "python",
   "name": "python3"
  },
  "language_info": {
   "codemirror_mode": {
    "name": "ipython",
    "version": 3
   },
   "file_extension": ".py",
   "mimetype": "text/x-python",
   "name": "python",
   "nbconvert_exporter": "python",
   "pygments_lexer": "ipython3",
   "version": "3.10.9"
  },
  "orig_nbformat": 4
 },
 "nbformat": 4,
 "nbformat_minor": 2
}
