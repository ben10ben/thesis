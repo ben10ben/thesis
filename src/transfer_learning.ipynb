{
 "cells": [
  {
   "cell_type": "code",
   "execution_count": 1,
   "metadata": {},
   "outputs": [
    {
     "name": "stdout",
     "output_type": "stream",
     "text": [
      "Import succesfull\n"
     ]
    }
   ],
   "source": [
    "# TODO which one?\n",
    "#git clone https://github.com/lucidrains/iTransformer.git\n",
    "#import iTransformer\n",
    "import sys\n",
    "sys.path.append('/vol/fob-vol7/nebenf21/reinbene/bene/MA/iTransformer') \n",
    "from iTransformer import iTransformer\n",
    "import torch\n",
    "from pathlib import Path\n",
    "\n",
    "import torch\n",
    "import torch.optim as optim\n",
    "from tqdm import tqdm\n",
    "from torch.utils.tensorboard import SummaryWriter\n",
    "\n",
    "from utils import data_handling, helpers, training_functions\n",
    "import config\n",
    "import pandas as pd\n",
    "\n",
    "window_size = 96\n",
    "pred_length = (96)\n",
    "\n",
    "print(\"Import succesfull\")\n"
   ]
  },
  {
   "cell_type": "markdown",
   "metadata": {},
   "source": [
    "# Select dataset for transfer learning"
   ]
  },
  {
   "cell_type": "code",
   "execution_count": 5,
   "metadata": {},
   "outputs": [
    {
     "name": "stdout",
     "output_type": "stream",
     "text": [
      "Feature batch shape: torch.Size([32, 96, 208])\n"
     ]
    },
    {
     "data": {
      "text/plain": [
       "948"
      ]
     },
     "execution_count": 5,
     "metadata": {},
     "output_type": "execute_result"
    }
   ],
   "source": [
    "# eu electricity data\n",
    "data_tensor = data_handling.eu_electricity_to_tensor()\n",
    "data_dict, standardize_values =  data_handling.train_test_split_eu_elec(data_tensor, standardize=True)\n",
    "\n",
    "# convert to dataloader\n",
    "dataloader_train, dataloader_validation, dataloader_test = data_handling.convert_data(data_dict, window_size, pred_length)"
   ]
  },
  {
   "cell_type": "code",
   "execution_count": 2,
   "metadata": {},
   "outputs": [
    {
     "name": "stdout",
     "output_type": "stream",
     "text": [
      "Feature batch shape: torch.Size([32, 96, 67])\n"
     ]
    }
   ],
   "source": [
    "# bavaria dataset\n",
    "data_tensor = data_handling.load_bavaria_electricity()\n",
    "data_dict, standadizer = data_handling.train_test_split_eu_elec(data_tensor, standardize=True)\n",
    "\n",
    "# create a smaller subset of the train dataset\n",
    "#percentage = 0.1\n",
    "#ten_percent_length = int(percentage * data_dict[\"train\"].shape[0])\n",
    "#data_dict[\"train\"] = data_dict[\"train\"][:ten_percent_length, :]\n",
    "\n",
    "# convert to datalaoder\n",
    "dataloader_train, dataloader_validation, dataloader_test = data_handling.convert_data(data_dict, window_size, pred_length)"
   ]
  },
  {
   "cell_type": "markdown",
   "metadata": {},
   "source": [
    "# Load model that has been trained on electricity dataset"
   ]
  },
  {
   "cell_type": "code",
   "execution_count": 3,
   "metadata": {},
   "outputs": [],
   "source": [
    "normalization_strategies = {#\"base\" : [False, False] #,\n",
    "\t\t\t\t\t\t\t\"revin\" : [True, True],\n",
    "\t\t\t\t#\t\t\t\"stationary\" : [True, False]\n",
    "}\n"
   ]
  },
  {
   "cell_type": "code",
   "execution_count": 4,
   "metadata": {},
   "outputs": [
    {
     "name": "stdout",
     "output_type": "stream",
     "text": [
      "Using device: cuda:1\n",
      "Non-A100 GPU detected, using math or mem efficient attention if input tensor is on cuda\n"
     ]
    }
   ],
   "source": [
    "for key, value in normalization_strategies.items():\n",
    "    model_path = config.CONFIG_MODEL_LOCATION[key] / f\"electricity_{key}_epoch_15_transfer_learning.pt\"\n",
    "\n",
    "    best_parameters = {'depth': 2, 'dim': 256, 'dim_head': 56, 'heads': 4, 'attn_dropout': 0.2, 'ff_mult': 4, 'ff_dropout': 0.1, \n",
    "                    'num_mem_tokens': 4, 'learning_rate': 0.0005}\n",
    "\n",
    "\n",
    "    num_variates = data_dict[\"train\"].size(1)\n",
    "\n",
    "    model_config = {\n",
    "        'num_variates': num_variates,\n",
    "        'lookback_len': window_size,\n",
    "        'depth': best_parameters[\"depth\"],\n",
    "        'dim': best_parameters[\"dim\"],\n",
    "        'num_tokens_per_variate': 1,\n",
    "        'pred_length': pred_length,\n",
    "        'dim_head': best_parameters[\"dim_head\"],\n",
    "        'heads': best_parameters[\"heads\"],\n",
    "        'attn_dropout': best_parameters[\"attn_dropout\"],\n",
    "        'ff_mult': best_parameters[\"ff_mult\"],\n",
    "        'ff_dropout': best_parameters[\"ff_dropout\"],\n",
    "        'num_mem_tokens': best_parameters[\"num_mem_tokens\"],\n",
    "        'use_reversible_instance_norm': value[0],\n",
    "        'reversible_instance_norm_affine': value[1],\n",
    "        'flash_attn': True\n",
    "    }\n",
    "\n",
    "    device = torch.device(\"cuda:1\" if torch.cuda.is_available() else \"cpu\")\n",
    "    print(f\"Using device: {device}\")\n",
    "\n",
    "\n",
    "    checkpoint = torch.load(model_path,map_location='cpu')\n",
    "\n",
    "    # values are all set to zero (beta) and one (gamma), array needs to be adapted to num_variates\n",
    "    # learned affine parameters are series specific and need to be relearned for new series\n",
    "    # value are kept at 1 and 0 for stationary normalization\n",
    "    if key != \"base\":\n",
    "        checkpoint[\"model_state_dict\"][\"reversible_instance_norm.beta\"] = torch.zeros(num_variates, 1, dtype=torch.float)\n",
    "        checkpoint[\"model_state_dict\"][\"reversible_instance_norm.gamma\"] = torch.ones(num_variates, 1, dtype=torch.float)\n",
    "\n",
    "\n",
    "    model = iTransformer(**model_config).to(device)\n",
    "    model.load_state_dict(checkpoint['model_state_dict'])\n",
    "\n",
    "\n",
    "    # defining all needed instances\n",
    "    optimizer = optim.Adam(model.parameters(), lr=best_parameters[\"learning_rate\"])\n",
    "    scheduler = optim.lr_scheduler.StepLR(optimizer, step_size=10, gamma=0.1)\n",
    "    writer = SummaryWriter(log_dir=config.CONFIG_LOGS_PATH[\"revin\"])"
   ]
  },
  {
   "cell_type": "markdown",
   "metadata": {},
   "source": [
    "# Zero shot prediciton on the test data"
   ]
  },
  {
   "cell_type": "code",
   "execution_count": 5,
   "metadata": {},
   "outputs": [
    {
     "name": "stderr",
     "output_type": "stream",
     "text": [
      "Epoch: Validating: 100%|██████████| 71/71 [00:01<00:00, 48.26it/s]\n"
     ]
    },
    {
     "data": {
      "text/plain": [
       "{96: {'mse': 0.2319260984659195,\n",
       "  'mae': 0.4541567265987396,\n",
       "  'p10': 0.2563699781894684,\n",
       "  'p50': 0.46192002296447754,\n",
       "  'p90': 0.631241500377655},\n",
       " 192: {'mse': 0, 'mae': 0, 'p10': 0, 'p50': 0, 'p90': 0},\n",
       " 336: {'mse': 0, 'mae': 0, 'p10': 0, 'p50': 0, 'p90': 0},\n",
       " 720: {'mse': 0, 'mae': 0, 'p10': 0, 'p50': 0, 'p90': 0}}"
      ]
     },
     "execution_count": 5,
     "metadata": {},
     "output_type": "execute_result"
    }
   ],
   "source": [
    "# first we try zero shot\n",
    "\n",
    "metrics = helpers.full_eval(model, dataloader_test, device)\n",
    "metrics\n",
    "\n",
    "for eval_metric, value in metrics[96].items():\n",
    "    metrics[96][eval_metric] = value.item()\n",
    "\n",
    "metrics_df = pd.DataFrame.from_dict(metrics[96], orient='index')\n",
    "metrics_df.rename(columns={0: \"metrics\"}, inplace=True)\n",
    "\n",
    "metrics_df.to_csv(f\"{config.CONFIG_OUTPUT_PATH['iTransformer_baseline']}/transfer.csv\")\n",
    "\n",
    "metrics"
   ]
  },
  {
   "cell_type": "markdown",
   "metadata": {},
   "source": [
    "# Fine-tune pretrained model on small subset of training dataset and predict on the same test dataset"
   ]
  },
  {
   "cell_type": "code",
   "execution_count": 6,
   "metadata": {},
   "outputs": [
    {
     "name": "stderr",
     "output_type": "stream",
     "text": [
      "Epoch: 1: 100%|██████████| 264/264 [00:05<00:00, 48.59it/s]\n"
     ]
    },
    {
     "name": "stdout",
     "output_type": "stream",
     "text": [
      "Epoch 1, MSE-Loss: 0.00021337445714104405, LR: 0.0005\n"
     ]
    },
    {
     "name": "stderr",
     "output_type": "stream",
     "text": [
      "Epoch: Validating: 100%|██████████| 33/33 [00:00<00:00, 117.58it/s]\n"
     ]
    },
    {
     "name": "stdout",
     "output_type": "stream",
     "text": [
      "Validation metrics: {96: {'mse': tensor(0.0002, device='cuda:1')}, 192: {'mse': 0}, 336: {'mse': 0}, 720: {'mse': 0}}\n"
     ]
    },
    {
     "name": "stderr",
     "output_type": "stream",
     "text": [
      "Epoch: 2: 100%|██████████| 264/264 [00:05<00:00, 48.82it/s]\n"
     ]
    },
    {
     "name": "stdout",
     "output_type": "stream",
     "text": [
      "Epoch 2, MSE-Loss: 7.339455322091288e-05, LR: 0.0005\n"
     ]
    },
    {
     "name": "stderr",
     "output_type": "stream",
     "text": [
      "Epoch: Validating: 100%|██████████| 33/33 [00:00<00:00, 122.79it/s]\n"
     ]
    },
    {
     "name": "stdout",
     "output_type": "stream",
     "text": [
      "Validation metrics: {96: {'mse': tensor(0.0002, device='cuda:1')}, 192: {'mse': 0}, 336: {'mse': 0}, 720: {'mse': 0}}\n"
     ]
    },
    {
     "name": "stderr",
     "output_type": "stream",
     "text": [
      "Epoch: 3: 100%|██████████| 264/264 [00:05<00:00, 49.50it/s]\n"
     ]
    },
    {
     "name": "stdout",
     "output_type": "stream",
     "text": [
      "Epoch 3, MSE-Loss: 6.824183313283632e-05, LR: 0.0005\n"
     ]
    },
    {
     "name": "stderr",
     "output_type": "stream",
     "text": [
      "Epoch: Validating: 100%|██████████| 33/33 [00:00<00:00, 123.39it/s]\n"
     ]
    },
    {
     "name": "stdout",
     "output_type": "stream",
     "text": [
      "Validation metrics: {96: {'mse': tensor(0.0002, device='cuda:1')}, 192: {'mse': 0}, 336: {'mse': 0}, 720: {'mse': 0}}\n"
     ]
    },
    {
     "name": "stderr",
     "output_type": "stream",
     "text": [
      "Epoch: 4: 100%|██████████| 264/264 [00:05<00:00, 48.69it/s]\n"
     ]
    },
    {
     "name": "stdout",
     "output_type": "stream",
     "text": [
      "Epoch 4, MSE-Loss: 6.587290732623484e-05, LR: 0.0005\n"
     ]
    },
    {
     "name": "stderr",
     "output_type": "stream",
     "text": [
      "Epoch: Validating: 100%|██████████| 33/33 [00:00<00:00, 123.76it/s]\n"
     ]
    },
    {
     "name": "stdout",
     "output_type": "stream",
     "text": [
      "Validation metrics: {96: {'mse': tensor(0.0002, device='cuda:1')}, 192: {'mse': 0}, 336: {'mse': 0}, 720: {'mse': 0}}\n"
     ]
    },
    {
     "name": "stderr",
     "output_type": "stream",
     "text": [
      "Epoch: 5: 100%|██████████| 264/264 [00:04<00:00, 54.78it/s]\n"
     ]
    },
    {
     "name": "stdout",
     "output_type": "stream",
     "text": [
      "Epoch 5, MSE-Loss: 6.382154680812329e-05, LR: 0.0005\n"
     ]
    },
    {
     "name": "stderr",
     "output_type": "stream",
     "text": [
      "Epoch: Validating: 100%|██████████| 33/33 [00:00<00:00, 147.11it/s]\n"
     ]
    },
    {
     "name": "stdout",
     "output_type": "stream",
     "text": [
      "Validation metrics: {96: {'mse': tensor(0.0002, device='cuda:1')}, 192: {'mse': 0}, 336: {'mse': 0}, 720: {'mse': 0}}\n"
     ]
    },
    {
     "name": "stderr",
     "output_type": "stream",
     "text": [
      "Epoch: 6: 100%|██████████| 264/264 [00:04<00:00, 54.42it/s]\n"
     ]
    },
    {
     "name": "stdout",
     "output_type": "stream",
     "text": [
      "Epoch 6, MSE-Loss: 6.27673820913928e-05, LR: 0.0005\n"
     ]
    },
    {
     "name": "stderr",
     "output_type": "stream",
     "text": [
      "Epoch: Validating: 100%|██████████| 33/33 [00:00<00:00, 143.28it/s]\n"
     ]
    },
    {
     "name": "stdout",
     "output_type": "stream",
     "text": [
      "Validation metrics: {96: {'mse': tensor(0.0002, device='cuda:1')}, 192: {'mse': 0}, 336: {'mse': 0}, 720: {'mse': 0}}\n"
     ]
    },
    {
     "name": "stderr",
     "output_type": "stream",
     "text": [
      "Epoch: 7: 100%|██████████| 264/264 [00:04<00:00, 54.86it/s]\n"
     ]
    },
    {
     "name": "stdout",
     "output_type": "stream",
     "text": [
      "Epoch 7, MSE-Loss: 6.14265230923951e-05, LR: 0.0005\n"
     ]
    },
    {
     "name": "stderr",
     "output_type": "stream",
     "text": [
      "Epoch: Validating: 100%|██████████| 33/33 [00:00<00:00, 145.97it/s]\n"
     ]
    },
    {
     "name": "stdout",
     "output_type": "stream",
     "text": [
      "Validation metrics: {96: {'mse': tensor(0.0002, device='cuda:1')}, 192: {'mse': 0}, 336: {'mse': 0}, 720: {'mse': 0}}\n"
     ]
    },
    {
     "name": "stderr",
     "output_type": "stream",
     "text": [
      "Epoch: 8: 100%|██████████| 264/264 [00:04<00:00, 52.93it/s]\n"
     ]
    },
    {
     "name": "stdout",
     "output_type": "stream",
     "text": [
      "Epoch 8, MSE-Loss: 6.101696927048165e-05, LR: 0.0005\n"
     ]
    },
    {
     "name": "stderr",
     "output_type": "stream",
     "text": [
      "Epoch: Validating: 100%|██████████| 33/33 [00:00<00:00, 146.23it/s]\n"
     ]
    },
    {
     "name": "stdout",
     "output_type": "stream",
     "text": [
      "Validation metrics: {96: {'mse': tensor(0.0003, device='cuda:1')}, 192: {'mse': 0}, 336: {'mse': 0}, 720: {'mse': 0}}\n"
     ]
    },
    {
     "name": "stderr",
     "output_type": "stream",
     "text": [
      "Epoch: 9: 100%|██████████| 264/264 [00:04<00:00, 55.01it/s]\n"
     ]
    },
    {
     "name": "stdout",
     "output_type": "stream",
     "text": [
      "Epoch 9, MSE-Loss: 6.542301003498847e-05, LR: 0.0005\n"
     ]
    },
    {
     "name": "stderr",
     "output_type": "stream",
     "text": [
      "Epoch: Validating: 100%|██████████| 33/33 [00:00<00:00, 146.54it/s]\n"
     ]
    },
    {
     "name": "stdout",
     "output_type": "stream",
     "text": [
      "Validation metrics: {96: {'mse': tensor(0.0003, device='cuda:1')}, 192: {'mse': 0}, 336: {'mse': 0}, 720: {'mse': 0}}\n"
     ]
    },
    {
     "name": "stderr",
     "output_type": "stream",
     "text": [
      "Epoch: 10: 100%|██████████| 264/264 [00:04<00:00, 54.86it/s]\n"
     ]
    },
    {
     "name": "stdout",
     "output_type": "stream",
     "text": [
      "Epoch 10, MSE-Loss: 5.696125617071106e-05, LR: 0.0005\n"
     ]
    },
    {
     "name": "stderr",
     "output_type": "stream",
     "text": [
      "Epoch: Validating: 100%|██████████| 33/33 [00:00<00:00, 147.85it/s]\n"
     ]
    },
    {
     "name": "stdout",
     "output_type": "stream",
     "text": [
      "Validation metrics: {96: {'mse': tensor(0.0003, device='cuda:1')}, 192: {'mse': 0}, 336: {'mse': 0}, 720: {'mse': 0}}\n"
     ]
    },
    {
     "name": "stderr",
     "output_type": "stream",
     "text": [
      "Epoch: Validating: 100%|██████████| 71/71 [00:00<00:00, 115.80it/s]\n"
     ]
    },
    {
     "data": {
      "text/plain": [
       "{96: {'mse': 0.0006206694524735212,\n",
       "  'mae': 0.016521599143743515,\n",
       "  'p10': 0.0018361103720963001,\n",
       "  'p50': 0.011818939819931984,\n",
       "  'p90': 0.03546810522675514},\n",
       " 192: {'mse': 0, 'mae': 0, 'p10': 0, 'p50': 0, 'p90': 0},\n",
       " 336: {'mse': 0, 'mae': 0, 'p10': 0, 'p50': 0, 'p90': 0},\n",
       " 720: {'mse': 0, 'mae': 0, 'p10': 0, 'p50': 0, 'p90': 0}}"
      ]
     },
     "execution_count": 6,
     "metadata": {},
     "output_type": "execute_result"
    }
   ],
   "source": [
    "# now we train on a small subset of the training data for multiple epochs and evaluate again\n",
    "\n",
    "epoch = 10\n",
    "\n",
    "for epoch in range(1, epoch + 1):\n",
    "    training_functions.train_one_epoch(epoch, model, device, dataloader_train, dataloader_validation, optimizer, scheduler, writer)\n",
    "\n",
    "metrics = helpers.full_eval(model, dataloader_test, device)\n",
    "metrics\n",
    "\n",
    "for eval_metric, value in metrics[96].items():\n",
    "    metrics[96][eval_metric] = value.item()\n",
    "\n",
    "metrics_df = pd.DataFrame.from_dict(metrics[96], orient='index')\n",
    "metrics_df.rename(columns={0: key}, inplace=True)\n",
    "\n",
    "metrics_df.to_csv(f\"{config.CONFIG_OUTPUT_PATH['iTransformer_baseline']}/metrics_{key}_epochs{epoch}_revin.csv\")\n",
    "\n",
    "metrics"
   ]
  },
  {
   "cell_type": "code",
   "execution_count": null,
   "metadata": {},
   "outputs": [],
   "source": [
    "# we load the pretrained model again and do full fine tuning on the target dataset\n",
    "\n",
    "best_parameters = {'depth': 2, 'dim': 256, 'dim_head': 56, 'heads': 4, 'attn_dropout': 0.2, 'ff_mult': 4, 'ff_dropout': 0.1, \n",
    "                   'num_mem_tokens': 4, 'learning_rate': 0.0005}\n",
    "\n",
    "\n",
    "model_config = {\n",
    "    'num_variates': data_dict[\"train\"].size(1),\n",
    "    'lookback_len': window_size,\n",
    "    'depth': best_parameters[\"depth\"],\n",
    "    'dim': best_parameters[\"dim\"],\n",
    "    'num_tokens_per_variate': 1,\n",
    "    'pred_length': pred_length,\n",
    "    'dim_head': best_parameters[\"dim_head\"],\n",
    "    'heads': best_parameters[\"heads\"],\n",
    "    'attn_dropout': best_parameters[\"attn_dropout\"],\n",
    "    'ff_mult': best_parameters[\"ff_mult\"],\n",
    "    'ff_dropout': best_parameters[\"ff_dropout\"],\n",
    "    'num_mem_tokens': best_parameters[\"num_mem_tokens\"],\n",
    "    'use_reversible_instance_norm': False,\n",
    "    'reversible_instance_norm_affine': False,\n",
    "    'flash_attn': True\n",
    "}\n",
    "\n",
    "device = torch.device(\"cuda\" if torch.cuda.is_available() else \"cpu\")\n",
    "print(f\"Using device: {device}\")\n",
    "\n",
    "model_path = config.CONFIG_MODEL_LOCATION[normalization_strategie]\n",
    "checkpoint = torch.load(model_path)\n",
    "model = iTransformer(**model_config).to(device)\n",
    "model.load_state_dict(checkpoint['model_state_dict'])\n",
    "\n",
    "\n",
    "# defining all needed instances\n",
    "optimizer = optim.Adam(model.parameters(), lr=best_parameters[\"learning_rate\"])\n",
    "scheduler = optim.lr_scheduler.StepLR(optimizer, step_size=5, gamma=0.1)\n",
    "writer = SummaryWriter(log_dir=config.CONFIG_LOGS_PATH[normalization_strategie])"
   ]
  },
  {
   "cell_type": "markdown",
   "metadata": {},
   "source": [
    "# Fine-tuning with the full bavaria dataset and prediciton on the same test dataset"
   ]
  },
  {
   "cell_type": "code",
   "execution_count": null,
   "metadata": {},
   "outputs": [],
   "source": [
    "# bavaria dataset\n",
    "data_tensor = data_handling.load_bavaria_electricity()\n",
    "data_dict, standadizer = data_handling.train_test_split_eu_elec(data_tensor, standardize=True)\n",
    "\n",
    "# convert to datalaoder\n",
    "dataloader_train, dataloader_validation, dataloader_test = data_handling.convert_data(data_dict, window_size, pred_length)"
   ]
  },
  {
   "cell_type": "code",
   "execution_count": null,
   "metadata": {},
   "outputs": [],
   "source": [
    "# now we train on a small subset of the training data for multiple epochs and evaluate again\n",
    "\n",
    "epoch = 10\n",
    "training_functions.train_one_epoch(epoch, model, device, dataloader_train, dataloader_validation, optimizer, scheduler, writer)\n",
    "\n",
    "metrics = training_functions.full_eval(model, dataloader_test)\n",
    "metrics\n",
    "\n",
    "for eval_metric, value in metrics[96].items():\n",
    "    metrics[96][eval_metric] = value.item()\n",
    "\n",
    "metrics_df = pd.DataFrame.from_dict(metrics[96], orient='index')\n",
    "metrics_df.rename(columns={0: key}, inplace=True)\n",
    "\n",
    "metrics_df.to_csv(f\"{config.CONFIG_OUTPUT_PATH['iTransformer_baseline']}/metrics_{key}_epochs{epoch}_revin.csv\")\n"
   ]
  }
 ],
 "metadata": {
  "kernelspec": {
   "display_name": "Python 3",
   "language": "python",
   "name": "python3"
  },
  "language_info": {
   "codemirror_mode": {
    "name": "ipython",
    "version": 3
   },
   "file_extension": ".py",
   "mimetype": "text/x-python",
   "name": "python",
   "nbconvert_exporter": "python",
   "pygments_lexer": "ipython3",
   "version": "3.10.9"
  },
  "orig_nbformat": 4
 },
 "nbformat": 4,
 "nbformat_minor": 2
}
