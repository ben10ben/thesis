{
 "cells": [
  {
   "cell_type": "code",
   "execution_count": null,
   "metadata": {},
   "outputs": [],
   "source": [
    "#git clone https://github.com/lucidrains/iTransformer.git"
   ]
  },
  {
   "cell_type": "code",
   "execution_count": 1,
   "metadata": {},
   "outputs": [
    {
     "name": "stdout",
     "output_type": "stream",
     "text": [
      "Import succesfull\n"
     ]
    }
   ],
   "source": [
    "# TODO which one?\n",
    "#import iTransformer\n",
    "import sys\n",
    "sys.path.append('/vol/fob-vol7/nebenf21/reinbene/bene/MA/iTransformer') \n",
    "from iTransformer import iTransformer\n",
    "import torch\n",
    "from pathlib import Path\n",
    "\n",
    "import torch\n",
    "import torch.optim as optim\n",
    "from tqdm import tqdm\n",
    "from torch.utils.tensorboard import SummaryWriter\n",
    "\n",
    "from utils import data_handling, helpers\n",
    "import config\n",
    "print(\"Import succesfull\")\n"
   ]
  },
  {
   "cell_type": "code",
   "execution_count": 2,
   "metadata": {},
   "outputs": [
    {
     "name": "stdout",
     "output_type": "stream",
     "text": [
      "Using device: cuda\n",
      "Feature batch shape: torch.Size([32, 96, 348])\n",
      "Labels batch shape: torch.Size([32, 96, 348])\n"
     ]
    }
   ],
   "source": [
    "window_size = 96\n",
    "pred_length = 96\n",
    "dataset_size = 1.0 # float as percentage\n",
    "\n",
    "device = torch.device(\"cuda\" if torch.cuda.is_available() else \"cpu\")\n",
    "print(f\"Using device: {device}\")\n",
    "\n",
    "electricity_dict = data_handling.load_electricity()\n",
    "dataloader_train, dataloader_validation, dataloader_test = data_handling.convert_data(electricity_dict, window_size, pred_length)"
   ]
  },
  {
   "cell_type": "code",
   "execution_count": 5,
   "metadata": {},
   "outputs": [
    {
     "name": "stdout",
     "output_type": "stream",
     "text": [
      "Non-A100 GPU detected, using math or mem efficient attention if input tensor is on cuda\n"
     ]
    }
   ],
   "source": [
    "model_config = {\n",
    "    'num_variates': electricity_dict[\"train\"].size(1),\n",
    "    'lookback_len': window_size,\n",
    "    'depth': 6,\n",
    "    'dim': 512,\n",
    "    'num_tokens_per_variate': 1,\n",
    "    'pred_length': pred_length,\n",
    "    'dim_head': 32,\n",
    "    'heads': 4,\n",
    "    'attn_dropout': 0.1,\n",
    "    'ff_mult': 4,\n",
    "    'ff_dropout': 0.1,\n",
    "    'num_mem_tokens': 4,\n",
    "    'use_reversible_instance_norm': True,\n",
    "    'reversible_instance_norm_affine': False,\n",
    "    'flash_attn': True\n",
    "}\n",
    "\n",
    "# defining all needed instances\n",
    "model = iTransformer(**model_config).to(device)\n",
    "optimizer = optim.Adam(model.parameters(), lr=0.001)\n",
    "scheduler = optim.lr_scheduler.StepLR(optimizer, step_size=5, gamma=0.1)\n",
    "writer = SummaryWriter(log_dir=config.CONFIG_LOGS_PATH[\"revin\"])\n"
   ]
  },
  {
   "cell_type": "code",
   "execution_count": 6,
   "metadata": {},
   "outputs": [
    {
     "name": "stderr",
     "output_type": "stream",
     "text": [
      "Epoch: 1:  14%|█▍        | 24/170 [00:05<00:32,  4.49it/s]\n"
     ]
    },
    {
     "ename": "KeyboardInterrupt",
     "evalue": "",
     "output_type": "error",
     "traceback": [
      "\u001b[0;31m---------------------------------------------------------------------------\u001b[0m",
      "\u001b[0;31mKeyboardInterrupt\u001b[0m                         Traceback (most recent call last)",
      "\u001b[1;32m/vol/fob-vol7/nebenf21/reinbene/bene/MA/src/training_script.ipynb Cell 5\u001b[0m line \u001b[0;36m3\n\u001b[1;32m     <a href='vscode-notebook-cell://ssh-remote%2B7b22686f73744e616d65223a22677275656e6175312e696e666f726d6174696b2e68752d6265726c696e2e6465222c2275736572223a227265696e62656e65227d/vol/fob-vol7/nebenf21/reinbene/bene/MA/src/training_script.ipynb#W4sdnNjb2RlLXJlbW90ZQ%3D%3D?line=27'>28</a>\u001b[0m \t\thelpers\u001b[39m.\u001b[39mcreate_checkpoint(model, optimizer, scheduler, epoch, loss, global_step, \u001b[39m\"\u001b[39m\u001b[39miTransfomrer_electricity\u001b[39m\u001b[39m\"\u001b[39m)\n\u001b[1;32m     <a href='vscode-notebook-cell://ssh-remote%2B7b22686f73744e616d65223a22677275656e6175312e696e666f726d6174696b2e68752d6265726c696e2e6465222c2275736572223a227265696e62656e65227d/vol/fob-vol7/nebenf21/reinbene/bene/MA/src/training_script.ipynb#W4sdnNjb2RlLXJlbW90ZQ%3D%3D?line=29'>30</a>\u001b[0m \u001b[39mfor\u001b[39;00m epoch \u001b[39min\u001b[39;00m \u001b[39mrange\u001b[39m(\u001b[39m1\u001b[39m, epoch \u001b[39m+\u001b[39m \u001b[39m1\u001b[39m):\n\u001b[0;32m---> <a href='vscode-notebook-cell://ssh-remote%2B7b22686f73744e616d65223a22677275656e6175312e696e666f726d6174696b2e68752d6265726c696e2e6465222c2275736572223a227265696e62656e65227d/vol/fob-vol7/nebenf21/reinbene/bene/MA/src/training_script.ipynb#W4sdnNjb2RlLXJlbW90ZQ%3D%3D?line=30'>31</a>\u001b[0m \ttrain_one_epoch(epoch, model, device, dataloader_train, optimizer, scheduler, writer)\n",
      "\u001b[1;32m/vol/fob-vol7/nebenf21/reinbene/bene/MA/src/training_script.ipynb Cell 5\u001b[0m line \u001b[0;36m1\n\u001b[1;32m     <a href='vscode-notebook-cell://ssh-remote%2B7b22686f73744e616d65223a22677275656e6175312e696e666f726d6174696b2e68752d6265726c696e2e6465222c2275736572223a227265696e62656e65227d/vol/fob-vol7/nebenf21/reinbene/bene/MA/src/training_script.ipynb#W4sdnNjb2RlLXJlbW90ZQ%3D%3D?line=12'>13</a>\u001b[0m loss\u001b[39m.\u001b[39mbackward()\n\u001b[1;32m     <a href='vscode-notebook-cell://ssh-remote%2B7b22686f73744e616d65223a22677275656e6175312e696e666f726d6174696b2e68752d6265726c696e2e6465222c2275736572223a227265696e62656e65227d/vol/fob-vol7/nebenf21/reinbene/bene/MA/src/training_script.ipynb#W4sdnNjb2RlLXJlbW90ZQ%3D%3D?line=13'>14</a>\u001b[0m optimizer\u001b[39m.\u001b[39mstep()\n\u001b[0;32m---> <a href='vscode-notebook-cell://ssh-remote%2B7b22686f73744e616d65223a22677275656e6175312e696e666f726d6174696b2e68752d6265726c696e2e6465222c2275736572223a227265696e62656e65227d/vol/fob-vol7/nebenf21/reinbene/bene/MA/src/training_script.ipynb#W4sdnNjb2RlLXJlbW90ZQ%3D%3D?line=14'>15</a>\u001b[0m total_loss \u001b[39m+\u001b[39m\u001b[39m=\u001b[39m loss\u001b[39m.\u001b[39;49mitem()\n\u001b[1;32m     <a href='vscode-notebook-cell://ssh-remote%2B7b22686f73744e616d65223a22677275656e6175312e696e666f726d6174696b2e68752d6265726c696e2e6465222c2275736572223a227265696e62656e65227d/vol/fob-vol7/nebenf21/reinbene/bene/MA/src/training_script.ipynb#W4sdnNjb2RlLXJlbW90ZQ%3D%3D?line=16'>17</a>\u001b[0m writer\u001b[39m.\u001b[39madd_scalar(\u001b[39m'\u001b[39m\u001b[39mtrain_loss\u001b[39m\u001b[39m'\u001b[39m, loss, global_step)\n\u001b[1;32m     <a href='vscode-notebook-cell://ssh-remote%2B7b22686f73744e616d65223a22677275656e6175312e696e666f726d6174696b2e68752d6265726c696e2e6465222c2275736572223a227265696e62656e65227d/vol/fob-vol7/nebenf21/reinbene/bene/MA/src/training_script.ipynb#W4sdnNjb2RlLXJlbW90ZQ%3D%3D?line=17'>18</a>\u001b[0m writer\u001b[39m.\u001b[39madd_scalar(\u001b[39m'\u001b[39m\u001b[39mtrain_lr\u001b[39m\u001b[39m'\u001b[39m, optimizer\u001b[39m.\u001b[39mparam_groups[\u001b[39m0\u001b[39m][\u001b[39m'\u001b[39m\u001b[39mlr\u001b[39m\u001b[39m'\u001b[39m], global_step)\n",
      "\u001b[0;31mKeyboardInterrupt\u001b[0m: "
     ]
    }
   ],
   "source": [
    "epoch = 1\n",
    "\n",
    "def train_one_epoch(epoch, model, device, dataloader_train, optimizer, scheduler, writer):\n",
    "\tglobal_step = 0\n",
    "\tmodel.train()\n",
    "\ttotal_loss = 0\n",
    "\tfor input, target in tqdm(dataloader_train, desc=f\"Epoch: {epoch}\"):\n",
    "\t\toptimizer.zero_grad()\n",
    "\t\tinput = input.to(device)\n",
    "\t\ttarget = target.to(device)\n",
    "\t\tloss = model(input, target)\n",
    "\t\t\n",
    "\t\tloss.backward()\n",
    "\t\toptimizer.step()\n",
    "\t\ttotal_loss += loss.item()\n",
    "\n",
    "\t\twriter.add_scalar('train_loss', loss, global_step)\n",
    "\t\twriter.add_scalar('train_lr', optimizer.param_groups[0]['lr'], global_step)\n",
    "\t\tlr =  optimizer.param_groups[0]['lr']\n",
    "\t\tglobal_step+=1\n",
    "\n",
    "\tprint(f'Epoch {epoch}, Loss: {total_loss / len(dataloader_train)}, LR: {lr}')\n",
    "\n",
    "\tscheduler.step()\n",
    "\n",
    "\twriter.close()\n",
    "\tif epoch % 5 == 0:\n",
    "\t\thelpers.create_checkpoint(model, optimizer, scheduler, epoch, loss, global_step, \"iTransfomrer_electricity\")\n",
    "\n",
    "for epoch in range(1, epoch + 1):\n",
    "\ttrain_one_epoch(epoch, model, device, dataloader_train, optimizer, scheduler, writer)\n"
   ]
  },
  {
   "cell_type": "code",
   "execution_count": 31,
   "metadata": {},
   "outputs": [],
   "source": [
    "def eval_function(valid_dataloader):\n",
    "\tif model == None:\n",
    "\t\tmodel = iTransformer(**config)\n",
    "\t\tcheckpoint = torch.load(\"/vol/fob-vol7/nebenf21/reinbene/bene/MA/outputs/series_standardized/model_first_20_ids_full_epoch_10.pt\")\n",
    "\t\tmodel.load_state_dict(checkpoint['model_state_dict'])\n",
    "\t\toptimizer.load_state_dict(checkpoint['optimizer_state_dict'])\n",
    "\t\tstart_epoch = checkpoint['epoch'] + 1  # Start training from \n",
    "\t\tscheduler = optim.lr_scheduler.StepLR(optimizer, step_size=10, gamma=0.1)\n",
    "\t\tscheduler.load_state_dict(checkpoint['scheduler_state_dict'])\n",
    "\t\twriter = SummaryWriter(log_dir='logs')\n",
    "\t\tglobal_step = checkpoint['global_step_writer']\n",
    "\t\tdevice = torch.device(\"cuda:0\" if torch.cuda.is_available() else \"cpu\")\n",
    "\t\tmodel.to(device)\n",
    "\n",
    "\tmodel.eval()\n",
    "\tglobal_step_eval = 1\n",
    "\ttotal_p10_eval = 0\n",
    "\ttotal_p50_eval = 0\n",
    "\ttotal_p90_eval = 0\n",
    "\n",
    "\t# Example inference code\n",
    "\twith torch.no_grad():\n",
    "\t\ttotal_loss_eval = 0\n",
    "\t\tfor input, target in tqdm(valid_dataloader, desc=f\"Epoch: Validating\"):\n",
    "\t\t\tinput = input.to(device)\n",
    "\t\t\ttarget = target.to(device)\n",
    "\t\t\toutput = model(input)\n",
    "\n",
    "\t\t\tloss = torch.nn.MSELoss()\n",
    "\t\t\tloss = loss(output[96], target)  # compute loss on all variates\n",
    "\t\t\t#computed_loss = loss(output, target)  # compute loss on target variate\n",
    "\n",
    "\t\t\ttotal_loss_eval += loss.item()\n",
    "\t\t\t#total_p10_eval += calc_percentiles(output[12].cpu(), target.cpu(), 10)\n",
    "\t\t\t#total_p50_eval += calc_percentiles(output[12].cpu(), target.cpu(), 50)\n",
    "\t\t\t#total_p90_eval += calc_percentiles(output[12].cpu(), target.cpu(), 90)\n",
    "\n",
    "\n",
    "\tprint(f'MSE Loss: {total_loss_eval / len(valid_dataloader)}')#\\nP10: { total_p10_eval/ len(valid_dataloader)}\\n\\\n",
    "\t#P50: {total_p50_eval/ len(valid_dataloader)}\\nP90: { total_p90_eval/ len(valid_dataloader)}')\n",
    "\n",
    "\t#writer.add_scalar('MSE/valid', total_loss_eval/ len(valid_dataloader), global_step_eval)\n",
    "\t#writer.add_scalar('P10/valid', total_p10_eval/ len(valid_dataloader), global_step_eval)\n",
    "\t#writer.add_scalar('P50/valid', total_p50_eval/ len(valid_dataloader), global_step_eval)\n",
    "\t#writer.add_scalar('P90/valid', total_p90_eval/ len(valid_dataloader), global_step_eval)\n",
    "\n",
    "\twriter.close()"
   ]
  },
  {
   "cell_type": "code",
   "execution_count": 22,
   "metadata": {},
   "outputs": [
    {
     "name": "stderr",
     "output_type": "stream",
     "text": [
      "Epoch: Validating: 100%|██████████| 1/1 [00:00<00:00, 27.98it/s]"
     ]
    },
    {
     "name": "stdout",
     "output_type": "stream",
     "text": [
      "MSE Loss: 0.1835039108991623\n"
     ]
    },
    {
     "name": "stderr",
     "output_type": "stream",
     "text": [
      "\n"
     ]
    }
   ],
   "source": [
    "eval_function(dataloader_validation)"
   ]
  },
  {
   "cell_type": "code",
   "execution_count": 32,
   "metadata": {},
   "outputs": [
    {
     "name": "stderr",
     "output_type": "stream",
     "text": [
      "Epoch: Validating: 100%|██████████| 86/86 [00:04<00:00, 19.86it/s]"
     ]
    },
    {
     "name": "stdout",
     "output_type": "stream",
     "text": [
      "MSE Loss: 0.1695066345639007\n"
     ]
    },
    {
     "name": "stderr",
     "output_type": "stream",
     "text": [
      "\n"
     ]
    }
   ],
   "source": [
    "eval_function(dataloader_test)"
   ]
  }
 ],
 "metadata": {
  "kernelspec": {
   "display_name": "Python 3",
   "language": "python",
   "name": "python3"
  },
  "language_info": {
   "codemirror_mode": {
    "name": "ipython",
    "version": 3
   },
   "file_extension": ".py",
   "mimetype": "text/x-python",
   "name": "python",
   "nbconvert_exporter": "python",
   "pygments_lexer": "ipython3",
   "version": "3.10.9"
  },
  "orig_nbformat": 4
 },
 "nbformat": 4,
 "nbformat_minor": 2
}
