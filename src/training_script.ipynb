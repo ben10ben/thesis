{
 "cells": [
  {
   "cell_type": "code",
   "execution_count": null,
   "metadata": {},
   "outputs": [],
   "source": [
    "#git clone https://github.com/lucidrains/iTransformer.git"
   ]
  },
  {
   "cell_type": "code",
   "execution_count": 1,
   "metadata": {},
   "outputs": [
    {
     "name": "stdout",
     "output_type": "stream",
     "text": [
      "Import succesfull\n"
     ]
    }
   ],
   "source": [
    "# TODO which one?\n",
    "#import iTransformer\n",
    "import sys\n",
    "sys.path.append('/vol/fob-vol7/nebenf21/reinbene/bene/MA/iTransformer') \n",
    "from iTransformer import iTransformer\n",
    "import torch\n",
    "from pathlib import Path\n",
    "\n",
    "import torch\n",
    "import torch.optim as optim\n",
    "from tqdm import tqdm\n",
    "from torch.utils.tensorboard import SummaryWriter\n",
    "\n",
    "from utils import data_handling, helpers\n",
    "import config\n",
    "\n",
    "window_size = 96\n",
    "pred_length = (96, 192, 336, 720)\n",
    "\n",
    "print(\"Import succesfull\")\n"
   ]
  },
  {
   "cell_type": "code",
   "execution_count": 19,
   "metadata": {},
   "outputs": [
    {
     "name": "stdout",
     "output_type": "stream",
     "text": [
      "Feature batch shape: torch.Size([32, 96, 208])\n"
     ]
    }
   ],
   "source": [
    "# eu electricity data\n",
    "data_tensor = data_handling.eu_electricity_to_tensor()\n",
    "data_dict, standardize_values =  data_handling.train_test_split_eu_elec(data_tensor, standardize=True)\n",
    "\n",
    "# convert to dataloader\n",
    "dataloader_train, dataloader_validation, dataloader_test = data_handling.convert_data(data_dict, window_size, pred_length)"
   ]
  },
  {
   "cell_type": "code",
   "execution_count": 13,
   "metadata": {},
   "outputs": [
    {
     "name": "stdout",
     "output_type": "stream",
     "text": [
      "Feature batch shape: torch.Size([32, 96, 208])\n"
     ]
    }
   ],
   "source": [
    "# use electricity dataset\n",
    "data_dict = data_handling.load_electricity()\n",
    "\n",
    "# train for eu_electricity\n",
    "for key, values in data_dict.items():\n",
    "    data_dict[key] = values[:, 0:208]\n",
    "\n",
    "dataloader_train, dataloader_validation, dataloader_test = data_handling.convert_data(data_dict, window_size, pred_length)"
   ]
  },
  {
   "cell_type": "code",
   "execution_count": 14,
   "metadata": {},
   "outputs": [],
   "source": [
    "# for electricity\n",
    "best_parameters = {'depth': 3, 'dim': 818, 'dim_head': 58, 'heads': 4, 'attn_dropout': 0.17358586508257956, 'ff_mult': 4, 'ff_dropout': 0.07147101457460232, 'num_mem_tokens': 4, 'learning_rate': 0.0008061714887745944}\n",
    "\n",
    "model_config = {\n",
    "    'num_variates': data_dict[\"train\"].size(1),\n",
    "    'lookback_len': window_size,\n",
    "    'depth': best_parameters[\"depth\"],\n",
    "    'dim': best_parameters[\"dim\"],\n",
    "    'num_tokens_per_variate': 1,\n",
    "    'pred_length': pred_length,\n",
    "    'dim_head': best_parameters[\"dim_head\"],\n",
    "    'heads': best_parameters[\"heads\"],\n",
    "    'attn_dropout': best_parameters[\"attn_dropout\"],\n",
    "    'ff_mult': best_parameters[\"ff_mult\"],\n",
    "    'ff_dropout': best_parameters[\"ff_dropout\"],\n",
    "    'num_mem_tokens': best_parameters[\"num_mem_tokens\"],\n",
    "    'use_reversible_instance_norm': True,\n",
    "    'reversible_instance_norm_affine': False,\n",
    "    'flash_attn': True\n",
    "}"
   ]
  },
  {
   "cell_type": "code",
   "execution_count": 15,
   "metadata": {},
   "outputs": [
    {
     "name": "stdout",
     "output_type": "stream",
     "text": [
      "Using device: cuda\n"
     ]
    }
   ],
   "source": [
    "device = torch.device(\"cuda\" if torch.cuda.is_available() else \"cpu\")\n",
    "print(f\"Using device: {device}\")\n",
    "\n",
    "# defining all needed instances\n",
    "model = iTransformer(**model_config).to(device)\n",
    "optimizer = optim.Adam(model.parameters(), lr=best_parameters[\"learning_rate\"])\n",
    "scheduler = optim.lr_scheduler.StepLR(optimizer, step_size=5, gamma=0.1)\n",
    "writer = SummaryWriter(log_dir=config.CONFIG_LOGS_PATH[\"revin\"])\n"
   ]
  },
  {
   "cell_type": "code",
   "execution_count": 16,
   "metadata": {},
   "outputs": [],
   "source": [
    "def fast_eval(dataloader):\n",
    "\tmodel.eval()\n",
    "\tpreds_dict = {\n",
    "\t\t96 : {\n",
    "\t\t\t\t\"mse\" : 0, \"mae\" : 0, \"smape\":0, \"p10\" : 0, \"p50\" : 0, \"p90\" : 0\n",
    "\t\t},\n",
    "\t\t192 : {\n",
    "\t\t\t\t\"mse\" : 0, \"mae\" : 0, \"smape\":0, \"p10\" : 0, \"p50\" : 0, \"p90\" : 0\n",
    "\t\t},\n",
    "\t\t336 : {\n",
    "\t\t\t\t\"mse\" : 0, \"mae\" : 0, \"smape\":0, \"p10\" : 0, \"p50\" : 0, \"p90\" : 0\n",
    "\t\t},\n",
    "\t\t720: {\n",
    "\t\t\t\t\"mse\" : 0, \"mae\" : 0, \"smape\":0, \"p10\" : 0, \"p50\" : 0, \"p90\" : 0\n",
    "\t\t}}\n",
    "\n",
    "\twith torch.no_grad():\n",
    "\t\tfor input, target in tqdm(dataloader, desc=f\"Epoch: Validating\"):\n",
    "\t\t\n",
    "\t\t\t# targets are saved as list, send each to device\n",
    "\t\t\ttargets = (target[0].to(device), target[1].to(device), target[2].to(device), target[3].to(device))\n",
    "\t\t\toutputs = model(input.to(device))\n",
    "\t\t\n",
    "\t\t# for each prediciton length we calculate the metrics\n",
    "\t\tfor target, output in zip(targets, outputs.values()):\n",
    "\t\t\tpreds_dict[output.size(1)][\"mse\"] = preds_dict[output.size(1)][\"mse\"] + helpers.mean_squared_error(output, target)\n",
    "\t\t\tpreds_dict[output.size(1)][\"mae\"] = preds_dict[output.size(1)][\"mae\"] + helpers.mean_absolute_error(output, target)\n",
    "\t\t\tpreds_dict[output.size(1)][\"smape\"] = preds_dict[output.size(1)][\"smape\"] + helpers.symmetric_mean_absolute_percentage_error(output, target)\n",
    "\t\t\tpreds_dict[output.size(1)][\"p10\"] = preds_dict[output.size(1)][\"p10\"] + helpers.percentile(output, target, 0.1)\n",
    "\t\t\tpreds_dict[output.size(1)][\"p50\"] = preds_dict[output.size(1)][\"p50\"] + helpers.percentile(output, target, 0.5)\n",
    "\t\t\tpreds_dict[output.size(1)][\"p90\"] = preds_dict[output.size(1)][\"p90\"] + helpers.percentile(output, target, 0.9)\n",
    "\n",
    "\t#print(\"Pred_len 96 MSE: \", preds_dict[96][\"mse\"])\n",
    "\t\n",
    "\treturn preds_dict"
   ]
  },
  {
   "cell_type": "code",
   "execution_count": 22,
   "metadata": {},
   "outputs": [
    {
     "name": "stderr",
     "output_type": "stream",
     "text": [
      "Epoch: 1: 100%|██████████| 111/111 [00:11<00:00,  9.30it/s]\n"
     ]
    },
    {
     "name": "stdout",
     "output_type": "stream",
     "text": [
      "Epoch 1, MSE-Loss: 0.7487929769464441, LR: 8.061714887745946e-07\n"
     ]
    },
    {
     "name": "stderr",
     "output_type": "stream",
     "text": [
      "Epoch: Validating: 100%|██████████| 111/111 [00:03<00:00, 29.65it/s]"
     ]
    },
    {
     "name": "stdout",
     "output_type": "stream",
     "text": [
      "Pred_len 96 MSE:  tensor(0.7798, device='cuda:0')\n"
     ]
    },
    {
     "name": "stderr",
     "output_type": "stream",
     "text": [
      "\n"
     ]
    }
   ],
   "source": [
    "def train_one_epoch(epoch, model, device, dataloader_train, dataloader_validation, optimizer, scheduler, writer):\n",
    "\tglobal_step = 0\n",
    "\tmodel.train()\n",
    "\ttotal_loss = 0\n",
    "\t\n",
    "\tfor input, target in tqdm(dataloader_train, desc=f\"Epoch: {epoch}\"):\n",
    "\t\toptimizer.zero_grad()\n",
    "\t\tif len(target) == 4:\n",
    "\t\t\tloss = model(input.to(device), (target[0].to(device), target[1].to(device), target[2].to(device), target[3].to(device)))\n",
    "\t\telse:\n",
    "\t\t\tloss = model(input.to(device), target.to(device))\n",
    "\t\t\n",
    "\t\tloss.backward()\n",
    "\t\toptimizer.step()\n",
    "\t\ttotal_loss += loss.item()\n",
    "\n",
    "\t\twriter.add_scalar('train_loss', loss, global_step)\n",
    "\t\twriter.add_scalar('train_lr', optimizer.param_groups[0]['lr'], global_step)\n",
    "\t\tlr =  optimizer.param_groups[0]['lr']\n",
    "\t\tglobal_step+=1\n",
    "\n",
    "\tprint(f'Epoch {epoch}, MSE-Loss: {total_loss / (len(dataloader_train) * 4)}, LR: {lr}')\n",
    "\n",
    "\tscheduler.step()\n",
    "\twriter.close()\n",
    "\tif epoch % 5 == 0:\n",
    "\t\thelpers.create_checkpoint(model, optimizer, scheduler, epoch, loss, global_step, \"iTransfomrer_electricity\")\n",
    "\teval_metrics_dict = fast_eval(dataloader_validation)\n",
    "\n",
    "epoch = 1\n",
    "\n",
    "for epoch in range(1, epoch + 1):\n",
    "\ttrain_one_epoch(epoch, model, device, dataloader_validation, dataloader_validation, optimizer, scheduler, writer)\n"
   ]
  },
  {
   "cell_type": "code",
   "execution_count": 7,
   "metadata": {},
   "outputs": [
    {
     "name": "stderr",
     "output_type": "stream",
     "text": [
      "Epoch: Validating: 100%|██████████| 67/67 [00:03<00:00, 17.15it/s]"
     ]
    },
    {
     "name": "stdout",
     "output_type": "stream",
     "text": [
      "dict_items([('mse', tensor(0.1776, device='cuda:0')), ('mae', tensor(0.2737, device='cuda:0')), ('smape', tensor(112.4903, device='cuda:0')), ('p10', tensor(0.0357, device='cuda:0')), ('p50', tensor(0.1899, device='cuda:0')), ('p90', tensor(0.5723, device='cuda:0'))])\n"
     ]
    },
    {
     "name": "stderr",
     "output_type": "stream",
     "text": [
      "\n"
     ]
    },
    {
     "data": {
      "text/plain": [
       "{96: {'mse': tensor(0.1501, device='cuda:0'),\n",
       "  'mae': tensor(0.2374, device='cuda:0'),\n",
       "  'smape': tensor(101.7728, device='cuda:0'),\n",
       "  'p10': tensor(0.0307, device='cuda:0'),\n",
       "  'p50': tensor(0.1633, device='cuda:0'),\n",
       "  'p90': tensor(0.4853, device='cuda:0')},\n",
       " 192: {'mse': tensor(0.1776, device='cuda:0'),\n",
       "  'mae': tensor(0.2737, device='cuda:0'),\n",
       "  'smape': tensor(112.4903, device='cuda:0'),\n",
       "  'p10': tensor(0.0357, device='cuda:0'),\n",
       "  'p50': tensor(0.1899, device='cuda:0'),\n",
       "  'p90': tensor(0.5723, device='cuda:0')},\n",
       " 336: {'mse': tensor(0.1840, device='cuda:0'),\n",
       "  'mae': tensor(0.2865, device='cuda:0'),\n",
       "  'smape': tensor(114.6408, device='cuda:0'),\n",
       "  'p10': tensor(0.0380, device='cuda:0'),\n",
       "  'p50': tensor(0.1987, device='cuda:0'),\n",
       "  'p90': tensor(0.6163, device='cuda:0')},\n",
       " 720: {'mse': tensor(0.3362, device='cuda:0'),\n",
       "  'mae': tensor(0.3728, device='cuda:0'),\n",
       "  'smape': tensor(132.2587, device='cuda:0'),\n",
       "  'p10': tensor(0.0414, device='cuda:0'),\n",
       "  'p50': tensor(0.2288, device='cuda:0'),\n",
       "  'p90': tensor(0.8809, device='cuda:0')}}"
      ]
     },
     "execution_count": 7,
     "metadata": {},
     "output_type": "execute_result"
    }
   ],
   "source": [
    "metrics = fast_eval(dataloader_test)\n",
    "metrics"
   ]
  },
  {
   "cell_type": "code",
   "execution_count": 23,
   "metadata": {},
   "outputs": [
    {
     "name": "stderr",
     "output_type": "stream",
     "text": [
      "Epoch: Validating: 100%|██████████| 248/248 [00:08<00:00, 28.32it/s]"
     ]
    },
    {
     "name": "stdout",
     "output_type": "stream",
     "text": [
      "Pred_len 96 MSE:  tensor(1.0267, device='cuda:0')\n"
     ]
    },
    {
     "name": "stderr",
     "output_type": "stream",
     "text": [
      "\n"
     ]
    },
    {
     "data": {
      "text/plain": [
       "{96: {'mse': tensor(1.0267, device='cuda:0'),\n",
       "  'mae': tensor(0.6372, device='cuda:0'),\n",
       "  'smape': tensor(157.1326, device='cuda:0'),\n",
       "  'p10': tensor(0.0509, device='cuda:0'),\n",
       "  'p50': tensor(0.3867, device='cuda:0'),\n",
       "  'p90': tensor(1.4745, device='cuda:0')},\n",
       " 192: {'mse': tensor(1.6828, device='cuda:0'),\n",
       "  'mae': tensor(0.8021, device='cuda:0'),\n",
       "  'smape': tensor(170.9238, device='cuda:0'),\n",
       "  'p10': tensor(0.0637, device='cuda:0'),\n",
       "  'p50': tensor(0.4290, device='cuda:0'),\n",
       "  'p90': tensor(2.1294, device='cuda:0')},\n",
       " 336: {'mse': tensor(1.9419, device='cuda:0'),\n",
       "  'mae': tensor(0.8371, device='cuda:0'),\n",
       "  'smape': tensor(170.4025, device='cuda:0'),\n",
       "  'p10': tensor(0.0720, device='cuda:0'),\n",
       "  'p50': tensor(0.4566, device='cuda:0'),\n",
       "  'p90': tensor(2.1610, device='cuda:0')},\n",
       " 720: {'mse': tensor(2.1341, device='cuda:0'),\n",
       "  'mae': tensor(0.8491, device='cuda:0'),\n",
       "  'smape': tensor(180.1998, device='cuda:0'),\n",
       "  'p10': tensor(0.0843, device='cuda:0'),\n",
       "  'p50': tensor(0.4829, device='cuda:0'),\n",
       "  'p90': tensor(2.0571, device='cuda:0')}}"
      ]
     },
     "execution_count": 23,
     "metadata": {},
     "output_type": "execute_result"
    }
   ],
   "source": [
    "# predict on eu electricity\n",
    "metrics = fast_eval(dataloader_test)\n",
    "metrics"
   ]
  }
 ],
 "metadata": {
  "kernelspec": {
   "display_name": "Python 3",
   "language": "python",
   "name": "python3"
  },
  "language_info": {
   "codemirror_mode": {
    "name": "ipython",
    "version": 3
   },
   "file_extension": ".py",
   "mimetype": "text/x-python",
   "name": "python",
   "nbconvert_exporter": "python",
   "pygments_lexer": "ipython3",
   "version": "3.10.9"
  },
  "orig_nbformat": 4
 },
 "nbformat": 4,
 "nbformat_minor": 2
}
