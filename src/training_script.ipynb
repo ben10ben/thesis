{
 "cells": [
  {
   "cell_type": "code",
   "execution_count": null,
   "metadata": {},
   "outputs": [],
   "source": [
    "#git clone https://github.com/lucidrains/iTransformer.git"
   ]
  },
  {
   "cell_type": "code",
   "execution_count": 1,
   "metadata": {},
   "outputs": [
    {
     "name": "stdout",
     "output_type": "stream",
     "text": [
      "Import succesfull\n"
     ]
    }
   ],
   "source": [
    "# TODO which one?\n",
    "#import iTransformer\n",
    "import sys\n",
    "sys.path.append('/vol/fob-vol7/nebenf21/reinbene/bene/MA/iTransformer') \n",
    "from iTransformer import iTransformer\n",
    "import torch\n",
    "from pathlib import Path\n",
    "\n",
    "import torch\n",
    "import torch.optim as optim\n",
    "from tqdm import tqdm\n",
    "from torch.utils.tensorboard import SummaryWriter\n",
    "\n",
    "from utils import data_handling, helpers\n",
    "import config\n",
    "print(\"Import succesfull\")\n"
   ]
  },
  {
   "cell_type": "code",
   "execution_count": 3,
   "metadata": {},
   "outputs": [
    {
     "name": "stderr",
     "output_type": "stream",
     "text": [
      "/vol/fob-vol7/nebenf21/reinbene/bene/MA/myenv/lib/python3.10/site-packages/tqdm/auto.py:21: TqdmWarning: IProgress not found. Please update jupyter and ipywidgets. See https://ipywidgets.readthedocs.io/en/stable/user_install.html\n",
      "  from .autonotebook import tqdm as notebook_tqdm\n",
      "Downloading builder script: 100%|██████████| 9.74k/9.74k [00:00<00:00, 14.9MB/s]\n",
      "Downloading metadata: 100%|██████████| 10.0k/10.0k [00:00<00:00, 15.8MB/s]\n",
      "Downloading readme: 100%|██████████| 10.0k/10.0k [00:00<00:00, 13.9MB/s]\n",
      "Downloading data: 2.59MB [00:00, 45.1MB/s]                  \n",
      "Generating train split: 100%|██████████| 1/1 [00:00<00:00,  5.86 examples/s]\n",
      "Generating test split: 100%|██████████| 240/240 [00:30<00:00,  7.88 examples/s]\n",
      "Generating validation split: 100%|██████████| 120/120 [00:13<00:00,  8.99 examples/s]\n"
     ]
    }
   ],
   "source": [
    "from datasets import load_dataset\n",
    "dataset_name = \"ett\"\n",
    "dataset = load_dataset(dataset_name)\n",
    "train_data = dataset[\"train\"]"
   ]
  },
  {
   "cell_type": "code",
   "execution_count": 9,
   "metadata": {},
   "outputs": [
    {
     "name": "stdout",
     "output_type": "stream",
     "text": [
      "Feature batch shape: torch.Size([32, 96, 208])\n",
      "Using device: cuda\n",
      "Dataloader shapes 929 111 248\n"
     ]
    }
   ],
   "source": [
    "data_tensor = data_handling.eu_electricity_to_tensor()\n",
    "data_dict, standardize_values =  data_handling.train_test_split_eu_elec(data_tensor, standardize=True)\n",
    "\n",
    "window_size = 96\n",
    "pred_length = (96, 192, 336, 720)\n",
    "\n",
    "# convert to dataloader\n",
    "dataloader_train, dataloader_validation, dataloader_test = data_handling.convert_data(data_dict, window_size, pred_length)\n",
    "\n",
    "device = torch.device(\"cuda\" if torch.cuda.is_available() else \"cpu\")\n",
    "print(f\"Using device: {device}\")\n",
    "\n",
    "print(\"Dataloader lengths\", len(dataloader_train), len(dataloader_validation), len(dataloader_test))"
   ]
  },
  {
   "cell_type": "code",
   "execution_count": 10,
   "metadata": {},
   "outputs": [
    {
     "data": {
      "text/plain": [
       "torch.Size([32, 96, 208])"
      ]
     },
     "execution_count": 10,
     "metadata": {},
     "output_type": "execute_result"
    }
   ],
   "source": [
    "variable, target = next(iter(dataloader_validation))\n",
    "variable.shape"
   ]
  },
  {
   "cell_type": "code",
   "execution_count": 24,
   "metadata": {},
   "outputs": [
    {
     "name": "stdout",
     "output_type": "stream",
     "text": [
      "Using device: cuda\n",
      "Feature batch shape: torch.Size([32, 96, 348])\n"
     ]
    }
   ],
   "source": [
    "window_size = 96\n",
    "pred_length = (96, 192, 336, 720)\n",
    "\n",
    "device = torch.device(\"cuda\" if torch.cuda.is_available() else \"cpu\")\n",
    "print(f\"Using device: {device}\")\n",
    "\n",
    "data_dict = data_handling.load_electricity()\n",
    "dataloader_train, dataloader_validation, dataloader_test = data_handling.convert_data(data_dict, window_size, pred_length)"
   ]
  },
  {
   "cell_type": "code",
   "execution_count": 11,
   "metadata": {},
   "outputs": [
    {
     "name": "stdout",
     "output_type": "stream",
     "text": [
      "Non-A100 GPU detected, using math or mem efficient attention if input tensor is on cuda\n"
     ]
    }
   ],
   "source": [
    "model_config = {\n",
    "    'num_variates': data_dict[\"train\"].size(1),\n",
    "    'lookback_len': window_size,\n",
    "    'depth': 6,\n",
    "    'dim': 512,\n",
    "    'num_tokens_per_variate': 1,\n",
    "    'pred_length': pred_length,\n",
    "    'dim_head': 32,\n",
    "    'heads': 4,\n",
    "    'attn_dropout': 0.1,\n",
    "    'ff_mult': 4,\n",
    "    'ff_dropout': 0.1,\n",
    "    'num_mem_tokens': 4,\n",
    "    'use_reversible_instance_norm': True,\n",
    "    'reversible_instance_norm_affine': False,\n",
    "    'flash_attn': True\n",
    "}\n",
    "\n",
    "# defining all needed instances\n",
    "model = iTransformer(**model_config).to(device)\n",
    "optimizer = optim.Adam(model.parameters(), lr=0.001)\n",
    "scheduler = optim.lr_scheduler.StepLR(optimizer, step_size=5, gamma=0.1)\n",
    "writer = SummaryWriter(log_dir=config.CONFIG_LOGS_PATH[\"revin\"])\n"
   ]
  },
  {
   "cell_type": "code",
   "execution_count": 12,
   "metadata": {},
   "outputs": [],
   "source": [
    "def fast_eval(dataloader):\n",
    "\tmodel.eval()\n",
    "\tpreds_dict = {\n",
    "\t\t96 : {\n",
    "\t\t\t\t\"mse\" : 0, \"mae\" : 0, \"smape\":0, \"p10\" : 0, \"p50\" : 0, \"p90\" : 0\n",
    "\t\t},\n",
    "\t\t192 : {\n",
    "\t\t\t\t\"mse\" : 0, \"mae\" : 0, \"smape\":0, \"p10\" : 0, \"p50\" : 0, \"p90\" : 0\n",
    "\t\t},\n",
    "\t\t336 : {\n",
    "\t\t\t\t\"mse\" : 0, \"mae\" : 0, \"smape\":0, \"p10\" : 0, \"p50\" : 0, \"p90\" : 0\n",
    "\t\t},\n",
    "\t\t720: {\n",
    "\t\t\t\t\"mse\" : 0, \"mae\" : 0, \"smape\":0, \"p10\" : 0, \"p50\" : 0, \"p90\" : 0\n",
    "\t\t}}\n",
    "\n",
    "\twith torch.no_grad():\n",
    "\t\tfor input, target in tqdm(dataloader, desc=f\"Epoch: Validating\"):\n",
    "\t\t\tinput = input.to(device)\n",
    "\t\t\n",
    "\t\t\t# targets are saved as dict, send each to device\n",
    "\t\t\ttargets = (target[0].to(device), target[1].to(device), target[2].to(device), target[3].to(device))\n",
    "\t\t\toutputs = model(input)\n",
    "\t\t\n",
    "\t\t# for each prediciton length we calculate the metrics\n",
    "\t\tfor target, output in zip(targets, outputs.values()):\n",
    "\t\t\tpreds_dict[output.size(1)][\"mse\"] = preds_dict[output.size(1)][\"mse\"] + helpers.mean_squared_error(output, target)\n",
    "\t\t\tpreds_dict[output.size(1)][\"mae\"] = preds_dict[output.size(1)][\"mae\"] + helpers.mean_absolute_error(output, target)\n",
    "\t\t\tpreds_dict[output.size(1)][\"smape\"] = preds_dict[output.size(1)][\"smape\"] + helpers.symmetric_mean_absolute_percentage_error(output, target)\n",
    "\t\t\tpreds_dict[output.size(1)][\"p10\"] = preds_dict[output.size(1)][\"p10\"] + helpers.percentile(output, target, 0.1)\n",
    "\t\t\tpreds_dict[output.size(1)][\"p50\"] = preds_dict[output.size(1)][\"p50\"] + helpers.percentile(output, target, 0.5)\n",
    "\t\t\tpreds_dict[output.size(1)][\"p90\"] = preds_dict[output.size(1)][\"p90\"] + helpers.percentile(output, target, 0.9)\n",
    "\n",
    "\tprint(preds_dict[192].items())\n",
    "\n",
    "\t\n",
    "\treturn preds_dict"
   ]
  },
  {
   "cell_type": "code",
   "execution_count": 13,
   "metadata": {},
   "outputs": [
    {
     "name": "stderr",
     "output_type": "stream",
     "text": [
      "Epoch: 1: 100%|██████████| 929/929 [01:37<00:00,  9.50it/s]\n"
     ]
    },
    {
     "name": "stdout",
     "output_type": "stream",
     "text": [
      "Epoch 1, MSE-Loss: 0.5183737718763854, LR: 0.001\n"
     ]
    },
    {
     "name": "stderr",
     "output_type": "stream",
     "text": [
      "Epoch: Validating: 100%|██████████| 111/111 [00:03<00:00, 32.55it/s]\n"
     ]
    },
    {
     "name": "stdout",
     "output_type": "stream",
     "text": [
      "dict_items([('mse', tensor(0.7613, device='cuda:0')), ('mae', tensor(0.5744, device='cuda:0')), ('smape', tensor(144.4348, device='cuda:0')), ('p10', tensor(0.0543, device='cuda:0')), ('p50', tensor(0.3518, device='cuda:0')), ('p90', tensor(1.4103, device='cuda:0'))])\n"
     ]
    },
    {
     "name": "stderr",
     "output_type": "stream",
     "text": [
      "Epoch: 2: 100%|██████████| 929/929 [01:36<00:00,  9.61it/s]\n"
     ]
    },
    {
     "name": "stdout",
     "output_type": "stream",
     "text": [
      "Epoch 2, MSE-Loss: 0.5424141466810064, LR: 0.001\n"
     ]
    },
    {
     "name": "stderr",
     "output_type": "stream",
     "text": [
      "Epoch: Validating: 100%|██████████| 111/111 [00:03<00:00, 32.68it/s]"
     ]
    },
    {
     "name": "stdout",
     "output_type": "stream",
     "text": [
      "dict_items([('mse', tensor(1.0175, device='cuda:0')), ('mae', tensor(0.7578, device='cuda:0')), ('smape', tensor(183.1415, device='cuda:0')), ('p10', tensor(0.1222, device='cuda:0')), ('p50', tensor(0.5651, device='cuda:0')), ('p90', tensor(1.6145, device='cuda:0'))])\n"
     ]
    },
    {
     "name": "stderr",
     "output_type": "stream",
     "text": [
      "\n"
     ]
    }
   ],
   "source": [
    "def train_one_epoch(epoch, model, device, dataloader_train, dataloader_validation, optimizer, scheduler, writer):\n",
    "\tglobal_step = 0\n",
    "\tmodel.train()\n",
    "\ttotal_loss = 0\n",
    "\t\n",
    "\tfor input, target in tqdm(dataloader_train, desc=f\"Epoch: {epoch}\"):\n",
    "\t\toptimizer.zero_grad()\n",
    "\t\tif len(target) == 4:\n",
    "\t\t\tloss = model(input.to(device), (target[0].to(device), target[1].to(device), target[2].to(device), target[3].to(device)))\n",
    "\t\telse:\n",
    "\t\t\tloss = model(input.to(device), target.to(device))\n",
    "\t\t\n",
    "\t\tloss.backward()\n",
    "\t\toptimizer.step()\n",
    "\t\ttotal_loss += loss.item()\n",
    "\n",
    "\t\twriter.add_scalar('train_loss', loss, global_step)\n",
    "\t\twriter.add_scalar('train_lr', optimizer.param_groups[0]['lr'], global_step)\n",
    "\t\tlr =  optimizer.param_groups[0]['lr']\n",
    "\t\tglobal_step+=1\n",
    "\n",
    "\tprint(f'Epoch {epoch}, MSE-Loss: {total_loss / (len(dataloader_train) * 4)}, LR: {lr}')\n",
    "\n",
    "\tscheduler.step()\n",
    "\twriter.close()\n",
    "\tif epoch % 5 == 0:\n",
    "\t\thelpers.create_checkpoint(model, optimizer, scheduler, epoch, loss, global_step, \"iTransfomrer_electricity\")\n",
    "\teval_metrics_dict = fast_eval(dataloader_validation)\n",
    "\n",
    "epoch = 2\n",
    "\n",
    "for epoch in range(1, epoch + 1):\n",
    "\ttrain_one_epoch(epoch, model, device, dataloader_train, dataloader_validation, optimizer, scheduler, writer)\n"
   ]
  },
  {
   "cell_type": "code",
   "execution_count": null,
   "metadata": {},
   "outputs": [],
   "source": [
    "eval_metrics_dict"
   ]
  },
  {
   "cell_type": "code",
   "execution_count": 33,
   "metadata": {},
   "outputs": [],
   "source": [
    "def eval_function(valid_dataloader):\n",
    "\ttry:\n",
    "\t\tmodel = iTransformer(**model_config)\n",
    "\n",
    "\texcept UnboundLocalError:\n",
    "\t\tcheckpoint = torch.load(\"/vol/fob-vol7/nebenf21/reinbene/bene/MA/outputs/series_standardized/model_first_20_ids_full_epoch_10.pt\")\n",
    "\t\tmodel.load_state_dict(checkpoint['model_state_dict'])\n",
    "\t\toptimizer.load_state_dict(checkpoint['optimizer_state_dict'])\n",
    "\t\tscheduler = optim.lr_scheduler.StepLR(optimizer, step_size=10, gamma=0.1)\n",
    "\t\tscheduler.load_state_dict(checkpoint['scheduler_state_dict'])\n",
    "\t\twriter = SummaryWriter(log_dir='logs')\n",
    "\t\tdevice = torch.device(\"cuda:0\" if torch.cuda.is_available() else \"cpu\")\n",
    "\t\tmodel.to(device)\n",
    "\n",
    "\tmodel.eval()\n",
    "\tglobal_loss_dict = {\n",
    "\t\t\t\t\t\"mse\" : 0,\n",
    "\t\t\t\t\t\"mae\" : 0,\n",
    "\t\t\t\t\t\"p10\" : 0,\n",
    "\t\t\t\t\t\"p50\" : 0,\n",
    "\t\t\t\t\t\"p90\" : 0\n",
    "\t\t\t\t}\n",
    "\t\n",
    "\twith torch.no_grad():\n",
    "\t\tfor input, target in tqdm(valid_dataloader, desc=f\"Epoch: Validating\"):\n",
    "\t\t\tinput = input.to(device)\n",
    "\t\t\ttarget = target.to(device)\n",
    "\t\t\t\n",
    "\t\t\toutput = model(input)\n",
    "\n",
    "\t\t\tglobal_loss_dict = helpers.evaluate(global_loss_dict, output, target.to(device))\n",
    "\n",
    "\tfor key, values in global_loss_dict.items():\n",
    "\t\tprint(f\"{key} loss: {values}\")\n",
    "\t\twriter.add_scalar(key, value/len(valid_dataloader))\n",
    "\twriter.close()"
   ]
  },
  {
   "cell_type": "code",
   "execution_count": 34,
   "metadata": {},
   "outputs": [
    {
     "ename": "ValueError",
     "evalue": "__len__() should return >= 0",
     "output_type": "error",
     "traceback": [
      "\u001b[0;31m---------------------------------------------------------------------------\u001b[0m",
      "\u001b[0;31mValueError\u001b[0m                                Traceback (most recent call last)",
      "\u001b[1;32m/vol/fob-vol7/nebenf21/reinbene/bene/MA/src/training_script.ipynb Cell 10\u001b[0m line \u001b[0;36m1\n\u001b[0;32m----> <a href='vscode-notebook-cell://ssh-remote%2B7b22686f73744e616d65223a22677275656e6175312e696e666f726d6174696b2e68752d6265726c696e2e6465222c2275736572223a227265696e62656e65227d/vol/fob-vol7/nebenf21/reinbene/bene/MA/src/training_script.ipynb#X13sdnNjb2RlLXJlbW90ZQ%3D%3D?line=0'>1</a>\u001b[0m eval_function(dataloader_validation)\n",
      "\u001b[1;32m/vol/fob-vol7/nebenf21/reinbene/bene/MA/src/training_script.ipynb Cell 10\u001b[0m line \u001b[0;36m2\n\u001b[1;32m     <a href='vscode-notebook-cell://ssh-remote%2B7b22686f73744e616d65223a22677275656e6175312e696e666f726d6174696b2e68752d6265726c696e2e6465222c2275736572223a227265696e62656e65227d/vol/fob-vol7/nebenf21/reinbene/bene/MA/src/training_script.ipynb#X13sdnNjb2RlLXJlbW90ZQ%3D%3D?line=15'>16</a>\u001b[0m global_loss_dict \u001b[39m=\u001b[39m {\n\u001b[1;32m     <a href='vscode-notebook-cell://ssh-remote%2B7b22686f73744e616d65223a22677275656e6175312e696e666f726d6174696b2e68752d6265726c696e2e6465222c2275736572223a227265696e62656e65227d/vol/fob-vol7/nebenf21/reinbene/bene/MA/src/training_script.ipynb#X13sdnNjb2RlLXJlbW90ZQ%3D%3D?line=16'>17</a>\u001b[0m \t\t\t\t\u001b[39m\"\u001b[39m\u001b[39mmse\u001b[39m\u001b[39m\"\u001b[39m : \u001b[39m0\u001b[39m,\n\u001b[1;32m     <a href='vscode-notebook-cell://ssh-remote%2B7b22686f73744e616d65223a22677275656e6175312e696e666f726d6174696b2e68752d6265726c696e2e6465222c2275736572223a227265696e62656e65227d/vol/fob-vol7/nebenf21/reinbene/bene/MA/src/training_script.ipynb#X13sdnNjb2RlLXJlbW90ZQ%3D%3D?line=17'>18</a>\u001b[0m \t\t\t\t\u001b[39m\"\u001b[39m\u001b[39mmae\u001b[39m\u001b[39m\"\u001b[39m : \u001b[39m0\u001b[39m,\n\u001b[0;32m   (...)\u001b[0m\n\u001b[1;32m     <a href='vscode-notebook-cell://ssh-remote%2B7b22686f73744e616d65223a22677275656e6175312e696e666f726d6174696b2e68752d6265726c696e2e6465222c2275736572223a227265696e62656e65227d/vol/fob-vol7/nebenf21/reinbene/bene/MA/src/training_script.ipynb#X13sdnNjb2RlLXJlbW90ZQ%3D%3D?line=20'>21</a>\u001b[0m \t\t\t\t\u001b[39m\"\u001b[39m\u001b[39mp90\u001b[39m\u001b[39m\"\u001b[39m : \u001b[39m0\u001b[39m\n\u001b[1;32m     <a href='vscode-notebook-cell://ssh-remote%2B7b22686f73744e616d65223a22677275656e6175312e696e666f726d6174696b2e68752d6265726c696e2e6465222c2275736572223a227265696e62656e65227d/vol/fob-vol7/nebenf21/reinbene/bene/MA/src/training_script.ipynb#X13sdnNjb2RlLXJlbW90ZQ%3D%3D?line=21'>22</a>\u001b[0m \t\t\t}\n\u001b[1;32m     <a href='vscode-notebook-cell://ssh-remote%2B7b22686f73744e616d65223a22677275656e6175312e696e666f726d6174696b2e68752d6265726c696e2e6465222c2275736572223a227265696e62656e65227d/vol/fob-vol7/nebenf21/reinbene/bene/MA/src/training_script.ipynb#X13sdnNjb2RlLXJlbW90ZQ%3D%3D?line=23'>24</a>\u001b[0m \u001b[39mwith\u001b[39;00m torch\u001b[39m.\u001b[39mno_grad():\n\u001b[0;32m---> <a href='vscode-notebook-cell://ssh-remote%2B7b22686f73744e616d65223a22677275656e6175312e696e666f726d6174696b2e68752d6265726c696e2e6465222c2275736572223a227265696e62656e65227d/vol/fob-vol7/nebenf21/reinbene/bene/MA/src/training_script.ipynb#X13sdnNjb2RlLXJlbW90ZQ%3D%3D?line=24'>25</a>\u001b[0m \t\u001b[39mfor\u001b[39;00m \u001b[39minput\u001b[39m, target \u001b[39min\u001b[39;00m tqdm(valid_dataloader, desc\u001b[39m=\u001b[39;49m\u001b[39mf\u001b[39;49m\u001b[39m\"\u001b[39;49m\u001b[39mEpoch: Validating\u001b[39;49m\u001b[39m\"\u001b[39;49m):\n\u001b[1;32m     <a href='vscode-notebook-cell://ssh-remote%2B7b22686f73744e616d65223a22677275656e6175312e696e666f726d6174696b2e68752d6265726c696e2e6465222c2275736572223a227265696e62656e65227d/vol/fob-vol7/nebenf21/reinbene/bene/MA/src/training_script.ipynb#X13sdnNjb2RlLXJlbW90ZQ%3D%3D?line=25'>26</a>\u001b[0m \t\t\u001b[39minput\u001b[39m \u001b[39m=\u001b[39m \u001b[39minput\u001b[39m\u001b[39m.\u001b[39mto(device)\n\u001b[1;32m     <a href='vscode-notebook-cell://ssh-remote%2B7b22686f73744e616d65223a22677275656e6175312e696e666f726d6174696b2e68752d6265726c696e2e6465222c2275736572223a227265696e62656e65227d/vol/fob-vol7/nebenf21/reinbene/bene/MA/src/training_script.ipynb#X13sdnNjb2RlLXJlbW90ZQ%3D%3D?line=26'>27</a>\u001b[0m \t\ttarget \u001b[39m=\u001b[39m target\u001b[39m.\u001b[39mto(device)\n",
      "File \u001b[0;32m~/bene/MA/myenv/lib/python3.10/site-packages/tqdm/std.py:979\u001b[0m, in \u001b[0;36mtqdm.__init__\u001b[0;34m(self, iterable, desc, total, leave, file, ncols, mininterval, maxinterval, miniters, ascii, disable, unit, unit_scale, dynamic_ncols, smoothing, bar_format, initial, position, postfix, unit_divisor, write_bytes, lock_args, nrows, colour, delay, gui, **kwargs)\u001b[0m\n\u001b[1;32m    977\u001b[0m \u001b[39mif\u001b[39;00m total \u001b[39mis\u001b[39;00m \u001b[39mNone\u001b[39;00m \u001b[39mand\u001b[39;00m iterable \u001b[39mis\u001b[39;00m \u001b[39mnot\u001b[39;00m \u001b[39mNone\u001b[39;00m:\n\u001b[1;32m    978\u001b[0m     \u001b[39mtry\u001b[39;00m:\n\u001b[0;32m--> 979\u001b[0m         total \u001b[39m=\u001b[39m \u001b[39mlen\u001b[39;49m(iterable)\n\u001b[1;32m    980\u001b[0m     \u001b[39mexcept\u001b[39;00m (\u001b[39mTypeError\u001b[39;00m, \u001b[39mAttributeError\u001b[39;00m):\n\u001b[1;32m    981\u001b[0m         total \u001b[39m=\u001b[39m \u001b[39mNone\u001b[39;00m\n",
      "File \u001b[0;32m~/bene/MA/myenv/lib/python3.10/site-packages/torch/utils/data/dataloader.py:487\u001b[0m, in \u001b[0;36mDataLoader.__len__\u001b[0;34m(self)\u001b[0m\n\u001b[1;32m    485\u001b[0m     \u001b[39mreturn\u001b[39;00m length\n\u001b[1;32m    486\u001b[0m \u001b[39melse\u001b[39;00m:\n\u001b[0;32m--> 487\u001b[0m     \u001b[39mreturn\u001b[39;00m \u001b[39mlen\u001b[39;49m(\u001b[39mself\u001b[39;49m\u001b[39m.\u001b[39;49m_index_sampler)\n",
      "File \u001b[0;32m~/bene/MA/myenv/lib/python3.10/site-packages/torch/utils/data/sampler.py:272\u001b[0m, in \u001b[0;36mBatchSampler.__len__\u001b[0;34m(self)\u001b[0m\n\u001b[1;32m    270\u001b[0m     \u001b[39mreturn\u001b[39;00m \u001b[39mlen\u001b[39m(\u001b[39mself\u001b[39m\u001b[39m.\u001b[39msampler) \u001b[39m/\u001b[39m\u001b[39m/\u001b[39m \u001b[39mself\u001b[39m\u001b[39m.\u001b[39mbatch_size  \u001b[39m# type: ignore[arg-type]\u001b[39;00m\n\u001b[1;32m    271\u001b[0m \u001b[39melse\u001b[39;00m:\n\u001b[0;32m--> 272\u001b[0m     \u001b[39mreturn\u001b[39;00m (\u001b[39mlen\u001b[39;49m(\u001b[39mself\u001b[39;49m\u001b[39m.\u001b[39;49msampler) \u001b[39m+\u001b[39m \u001b[39mself\u001b[39m\u001b[39m.\u001b[39mbatch_size \u001b[39m-\u001b[39m \u001b[39m1\u001b[39m) \u001b[39m/\u001b[39m\u001b[39m/\u001b[39m \u001b[39mself\u001b[39m\u001b[39m.\u001b[39mbatch_size\n",
      "File \u001b[0;32m~/bene/MA/myenv/lib/python3.10/site-packages/torch/utils/data/sampler.py:79\u001b[0m, in \u001b[0;36mSequentialSampler.__len__\u001b[0;34m(self)\u001b[0m\n\u001b[1;32m     78\u001b[0m \u001b[39mdef\u001b[39;00m \u001b[39m__len__\u001b[39m(\u001b[39mself\u001b[39m) \u001b[39m-\u001b[39m\u001b[39m>\u001b[39m \u001b[39mint\u001b[39m:\n\u001b[0;32m---> 79\u001b[0m     \u001b[39mreturn\u001b[39;00m \u001b[39mlen\u001b[39;49m(\u001b[39mself\u001b[39;49m\u001b[39m.\u001b[39;49mdata_source)\n",
      "\u001b[0;31mValueError\u001b[0m: __len__() should return >= 0"
     ]
    }
   ],
   "source": [
    "eval_function(dataloader_validation)"
   ]
  },
  {
   "cell_type": "code",
   "execution_count": 35,
   "metadata": {},
   "outputs": [
    {
     "name": "stderr",
     "output_type": "stream",
     "text": [
      "Epoch: Validating:   0%|          | 0/67 [00:00<?, ?it/s]\n"
     ]
    },
    {
     "ename": "UnboundLocalError",
     "evalue": "local variable 'device' referenced before assignment",
     "output_type": "error",
     "traceback": [
      "\u001b[0;31m---------------------------------------------------------------------------\u001b[0m",
      "\u001b[0;31mUnboundLocalError\u001b[0m                         Traceback (most recent call last)",
      "\u001b[1;32m/vol/fob-vol7/nebenf21/reinbene/bene/MA/src/training_script.ipynb Cell 11\u001b[0m line \u001b[0;36m1\n\u001b[0;32m----> <a href='vscode-notebook-cell://ssh-remote%2B7b22686f73744e616d65223a22677275656e6175312e696e666f726d6174696b2e68752d6265726c696e2e6465222c2275736572223a227265696e62656e65227d/vol/fob-vol7/nebenf21/reinbene/bene/MA/src/training_script.ipynb#X14sdnNjb2RlLXJlbW90ZQ%3D%3D?line=0'>1</a>\u001b[0m eval_function(dataloader_test)\n",
      "\u001b[1;32m/vol/fob-vol7/nebenf21/reinbene/bene/MA/src/training_script.ipynb Cell 11\u001b[0m line \u001b[0;36m2\n\u001b[1;32m     <a href='vscode-notebook-cell://ssh-remote%2B7b22686f73744e616d65223a22677275656e6175312e696e666f726d6174696b2e68752d6265726c696e2e6465222c2275736572223a227265696e62656e65227d/vol/fob-vol7/nebenf21/reinbene/bene/MA/src/training_script.ipynb#X14sdnNjb2RlLXJlbW90ZQ%3D%3D?line=23'>24</a>\u001b[0m \u001b[39mwith\u001b[39;00m torch\u001b[39m.\u001b[39mno_grad():\n\u001b[1;32m     <a href='vscode-notebook-cell://ssh-remote%2B7b22686f73744e616d65223a22677275656e6175312e696e666f726d6174696b2e68752d6265726c696e2e6465222c2275736572223a227265696e62656e65227d/vol/fob-vol7/nebenf21/reinbene/bene/MA/src/training_script.ipynb#X14sdnNjb2RlLXJlbW90ZQ%3D%3D?line=24'>25</a>\u001b[0m \t\u001b[39mfor\u001b[39;00m \u001b[39minput\u001b[39m, target \u001b[39min\u001b[39;00m tqdm(valid_dataloader, desc\u001b[39m=\u001b[39m\u001b[39mf\u001b[39m\u001b[39m\"\u001b[39m\u001b[39mEpoch: Validating\u001b[39m\u001b[39m\"\u001b[39m):\n\u001b[0;32m---> <a href='vscode-notebook-cell://ssh-remote%2B7b22686f73744e616d65223a22677275656e6175312e696e666f726d6174696b2e68752d6265726c696e2e6465222c2275736572223a227265696e62656e65227d/vol/fob-vol7/nebenf21/reinbene/bene/MA/src/training_script.ipynb#X14sdnNjb2RlLXJlbW90ZQ%3D%3D?line=25'>26</a>\u001b[0m \t\t\u001b[39minput\u001b[39m \u001b[39m=\u001b[39m \u001b[39minput\u001b[39m\u001b[39m.\u001b[39mto(device)\n\u001b[1;32m     <a href='vscode-notebook-cell://ssh-remote%2B7b22686f73744e616d65223a22677275656e6175312e696e666f726d6174696b2e68752d6265726c696e2e6465222c2275736572223a227265696e62656e65227d/vol/fob-vol7/nebenf21/reinbene/bene/MA/src/training_script.ipynb#X14sdnNjb2RlLXJlbW90ZQ%3D%3D?line=26'>27</a>\u001b[0m \t\ttarget \u001b[39m=\u001b[39m target\u001b[39m.\u001b[39mto(device)\n\u001b[1;32m     <a href='vscode-notebook-cell://ssh-remote%2B7b22686f73744e616d65223a22677275656e6175312e696e666f726d6174696b2e68752d6265726c696e2e6465222c2275736572223a227265696e62656e65227d/vol/fob-vol7/nebenf21/reinbene/bene/MA/src/training_script.ipynb#X14sdnNjb2RlLXJlbW90ZQ%3D%3D?line=28'>29</a>\u001b[0m \t\toutput \u001b[39m=\u001b[39m model(\u001b[39minput\u001b[39m)\n",
      "\u001b[0;31mUnboundLocalError\u001b[0m: local variable 'device' referenced before assignment"
     ]
    }
   ],
   "source": [
    "eval_function(dataloader_test)"
   ]
  }
 ],
 "metadata": {
  "kernelspec": {
   "display_name": "Python 3",
   "language": "python",
   "name": "python3"
  },
  "language_info": {
   "codemirror_mode": {
    "name": "ipython",
    "version": 3
   },
   "file_extension": ".py",
   "mimetype": "text/x-python",
   "name": "python",
   "nbconvert_exporter": "python",
   "pygments_lexer": "ipython3",
   "version": "3.10.9"
  },
  "orig_nbformat": 4
 },
 "nbformat": 4,
 "nbformat_minor": 2
}
