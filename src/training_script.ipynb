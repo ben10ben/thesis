{
 "cells": [
  {
   "cell_type": "code",
   "execution_count": null,
   "metadata": {},
   "outputs": [],
   "source": [
    "#git clone https://github.com/lucidrains/iTransformer.git"
   ]
  },
  {
   "cell_type": "code",
   "execution_count": 22,
   "metadata": {},
   "outputs": [
    {
     "name": "stdout",
     "output_type": "stream",
     "text": [
      "Import succesfull\n"
     ]
    }
   ],
   "source": [
    "# TODO which one?\n",
    "#import iTransformer\n",
    "import sys\n",
    "sys.path.append('/vol/fob-vol7/nebenf21/reinbene/bene/MA/iTransformer') \n",
    "from iTransformer import iTransformer\n",
    "import torch\n",
    "from pathlib import Path\n",
    "\n",
    "import torch\n",
    "import torch.optim as optim\n",
    "from tqdm import tqdm\n",
    "from torch.utils.tensorboard import SummaryWriter\n",
    "\n",
    "from utils import data_handling, helpers\n",
    "import config\n",
    "print(\"Import succesfull\")\n"
   ]
  },
  {
   "cell_type": "code",
   "execution_count": 18,
   "metadata": {},
   "outputs": [
    {
     "data": {
      "text/plain": [
       "tensor([1.0000, 1.0000, 1.0000, 1.0000, 1.0000, 1.0000, 1.0000, 1.0000, 1.0000,\n",
       "        1.0000, 1.0000, 1.0000, 1.0000, 1.0000, 1.0000, 1.0000, 1.0000, 1.0000,\n",
       "        1.0000, 1.0000, 1.0000, 1.0000, 1.0000, 1.0000, 1.0000, 1.0000, 1.0000,\n",
       "        1.0000, 1.0000, 1.0000, 1.0000, 1.0000, 1.0000, 1.0000, 1.0000, 1.0000,\n",
       "        1.0000, 1.0000, 1.0000, 1.0000, 1.0000, 1.0000, 1.0000, 1.0000, 1.0000,\n",
       "        1.0000, 1.0000, 1.0000, 1.0000, 1.0000, 1.0000, 1.0000, 1.0000, 1.0000,\n",
       "        1.0000, 1.0000, 1.0000, 1.0000, 1.0000, 1.0000, 1.0000, 1.0000, 1.0000,\n",
       "        1.0000, 1.0000, 1.0000, 1.0000, 1.0000, 1.0000, 1.0000, 1.0000, 1.0000,\n",
       "        1.0000, 1.0000, 1.0000, 1.0000, 1.0000, 1.0000, 1.0000, 1.0000, 1.0000,\n",
       "        1.0000, 1.0000, 1.0000, 1.0000, 1.0000, 1.0000, 1.0000, 1.0000, 1.0000,\n",
       "        1.0000, 1.0000, 1.0000, 1.0000, 1.0000, 1.0000, 1.0000, 1.0000, 1.0000,\n",
       "        1.0000, 1.0000, 1.0000, 1.0000, 1.0000, 1.0000, 1.0000, 1.0000, 1.0000,\n",
       "        1.0000, 1.0000, 1.0000, 1.0000, 1.0000, 1.0000, 1.0000, 1.0000, 1.0000,\n",
       "        1.0000, 1.0000, 1.0000, 1.0000, 1.0000, 1.0000, 1.0000, 1.0000, 1.0000,\n",
       "        1.0000, 1.0000, 1.0000, 1.0000, 1.0000, 1.0000, 1.0000, 1.0000, 1.0000,\n",
       "        1.0000, 1.0000, 1.0000, 1.0000, 1.0000, 1.0000, 1.0000, 1.0000, 1.0000,\n",
       "        1.0000, 1.0000, 1.0000, 1.0000, 1.0000, 1.0000, 1.0000, 1.0000, 1.0000,\n",
       "        1.0000, 1.0000, 1.0000, 1.0000, 1.0000, 1.0000, 1.0000, 1.0000, 1.0000,\n",
       "        1.0000, 1.0000, 1.0000, 1.0000, 1.0000, 1.0000, 1.0000, 1.0000, 1.0000,\n",
       "        1.0000, 1.0000, 1.0000, 1.0000, 1.0000, 1.0000, 1.0000, 1.0000, 1.0000,\n",
       "        1.0000, 1.0000, 1.0000, 1.0000, 1.0000, 1.0000, 1.0000, 1.0000,    nan,\n",
       "        1.0000, 1.0000, 1.0000, 1.0000, 1.0000, 1.0000, 1.0000, 1.0000, 1.0000,\n",
       "        1.0000, 1.0000, 1.0000, 1.0000, 1.0000, 1.0000, 1.0000, 1.0000, 1.0000,\n",
       "        1.0000])"
      ]
     },
     "execution_count": 18,
     "metadata": {},
     "output_type": "execute_result"
    }
   ],
   "source": [
    "df = data_handling.load_eu_electricity()\n",
    "df = df.drop('date', axis=1)\n",
    "\n",
    "tensor_list = []\n",
    "\n",
    "for column in df.columns:\n",
    "\ttensor = torch.tensor(df[column].values, dtype=torch.float32)\n",
    "\ttensor_list.append(tensor)\n",
    "\n",
    "result_tensor = torch.stack(tensor_list)\n",
    "result_tensor = result_tensor.transpose(0,1)\n",
    "\n",
    "standardize_dict = None\n",
    "\n",
    "#if standardize == True:\n",
    "result_tensor, standardize_dict = helpers.custom_standardizer(result_tensor)\n",
    "\n",
    "data_dict = {\"train\" : 0.7, \"validation\" : 0.1, \"test\" : 0.2}\n",
    "\n",
    "for key, value in data_dict.items():\n",
    "\tdata_dict[key] = value * result_tensor.shape(0)\n",
    "\n",
    "for key, value in data_dict.items():\n",
    "\tdata_dict[key] = result_tensor[0:value, :]"
   ]
  },
  {
   "cell_type": "code",
   "execution_count": 24,
   "metadata": {},
   "outputs": [
    {
     "name": "stdout",
     "output_type": "stream",
     "text": [
      "Using device: cuda\n",
      "Feature batch shape: torch.Size([32, 96, 348])\n"
     ]
    }
   ],
   "source": [
    "window_size = 96\n",
    "pred_length = (96, 192, 336, 720)\n",
    "\n",
    "device = torch.device(\"cuda\" if torch.cuda.is_available() else \"cpu\")\n",
    "print(f\"Using device: {device}\")\n",
    "\n",
    "electricity_dict = data_handling.load_electricity()\n",
    "dataloader_train, dataloader_validation, dataloader_test = data_handling.convert_data(electricity_dict, window_size, pred_length)"
   ]
  },
  {
   "cell_type": "code",
   "execution_count": 25,
   "metadata": {},
   "outputs": [],
   "source": [
    "model_config = {\n",
    "    'num_variates': electricity_dict[\"train\"].size(1),\n",
    "    'lookback_len': window_size,\n",
    "    'depth': 6,\n",
    "    'dim': 512,\n",
    "    'num_tokens_per_variate': 1,\n",
    "    'pred_length': pred_length,\n",
    "    'dim_head': 32,\n",
    "    'heads': 4,\n",
    "    'attn_dropout': 0.1,\n",
    "    'ff_mult': 4,\n",
    "    'ff_dropout': 0.1,\n",
    "    'num_mem_tokens': 4,\n",
    "    'use_reversible_instance_norm': True,\n",
    "    'reversible_instance_norm_affine': False,\n",
    "    'flash_attn': True\n",
    "}\n",
    "\n",
    "# defining all needed instances\n",
    "model = iTransformer(**model_config).to(device)\n",
    "optimizer = optim.Adam(model.parameters(), lr=0.001)\n",
    "scheduler = optim.lr_scheduler.StepLR(optimizer, step_size=5, gamma=0.1)\n",
    "writer = SummaryWriter(log_dir=config.CONFIG_LOGS_PATH[\"revin\"])\n"
   ]
  },
  {
   "cell_type": "code",
   "execution_count": 26,
   "metadata": {},
   "outputs": [],
   "source": [
    "def fast_eval(dataloader):\n",
    "\tmodel.eval()\n",
    "\tpreds_dict = {\n",
    "\t\t96 : {\n",
    "\t\t\t\t\"mse\" : 0, \"mae\" : 0, \"smape\":0, \"p10\" : 0, \"p50\" : 0, \"p90\" : 0\n",
    "\t\t},\n",
    "\t\t192 : {\n",
    "\t\t\t\t\"mse\" : 0, \"mae\" : 0, \"smape\":0, \"p10\" : 0, \"p50\" : 0, \"p90\" : 0\n",
    "\t\t},\n",
    "\t\t336 : {\n",
    "\t\t\t\t\"mse\" : 0, \"mae\" : 0, \"smape\":0, \"p10\" : 0, \"p50\" : 0, \"p90\" : 0\n",
    "\t\t},\n",
    "\t\t720: {\n",
    "\t\t\t\t\"mse\" : 0, \"mae\" : 0, \"smape\":0, \"p10\" : 0, \"p50\" : 0, \"p90\" : 0\n",
    "\t\t}}\n",
    "\n",
    "\twith torch.no_grad():\n",
    "\t\tfor input, target in tqdm(dataloader, desc=f\"Epoch: Validating\"):\n",
    "\t\t\tinput = input.to(device)\n",
    "\t\t\n",
    "\t\t\t# targets are saved as dict, send each to device\n",
    "\t\t\ttargets = (target[0].to(device), target[1].to(device), target[2].to(device), target[3].to(device))\n",
    "\t\t\toutputs = model(input)\n",
    "\t\t\n",
    "\t\t# for each prediciton length we calculate the metrics\n",
    "\t\tfor target, output in zip(targets, outputs.values()):\n",
    "\t\t\tpreds_dict[output.size(1)][\"mse\"] = preds_dict[output.size(1)][\"mse\"] + helpers.mean_squared_error(output, target)\n",
    "\t\t\tpreds_dict[output.size(1)][\"mae\"] = preds_dict[output.size(1)][\"mae\"] + helpers.mean_absolute_error(output, target)\n",
    "\t\t\tpreds_dict[output.size(1)][\"smape\"] = preds_dict[output.size(1)][\"smape\"] + helpers.symmetric_mean_absolute_percentage_error(output, target)\n",
    "\t\t\tpreds_dict[output.size(1)][\"p10\"] = preds_dict[output.size(1)][\"p10\"] + helpers.percentile(output, target, 0.1)\n",
    "\t\t\tpreds_dict[output.size(1)][\"p50\"] = preds_dict[output.size(1)][\"p50\"] + helpers.percentile(output, target, 0.5)\n",
    "\t\t\tpreds_dict[output.size(1)][\"p90\"] = preds_dict[output.size(1)][\"p90\"] + helpers.percentile(output, target, 0.9)\n",
    "\n",
    "\tprint(preds_dict[192].items())\n",
    "\n",
    "\t\n",
    "\treturn preds_dict"
   ]
  },
  {
   "cell_type": "code",
   "execution_count": 27,
   "metadata": {},
   "outputs": [
    {
     "name": "stderr",
     "output_type": "stream",
     "text": [
      "Epoch: 1: 100%|██████████| 131/131 [00:20<00:00,  6.29it/s]\n"
     ]
    },
    {
     "name": "stdout",
     "output_type": "stream",
     "text": [
      "Epoch 1, Loss: 0.25280982096686616, LR: 0.001\n"
     ]
    },
    {
     "name": "stderr",
     "output_type": "stream",
     "text": [
      "Epoch: Validating: 100%|██████████| 1/1 [00:00<00:00, 33.68it/s]\n"
     ]
    },
    {
     "name": "stdout",
     "output_type": "stream",
     "text": [
      "dict_items([('mse', tensor(0.2975, device='cuda:0')), ('mae', tensor(0.3579, device='cuda:0')), ('smape', tensor(118.9072, device='cuda:0')), ('p10', tensor(0.0390, device='cuda:0')), ('p50', tensor(0.2284, device='cuda:0')), ('p90', tensor(0.8304, device='cuda:0'))])\n"
     ]
    },
    {
     "name": "stderr",
     "output_type": "stream",
     "text": [
      "Epoch: 2: 100%|██████████| 131/131 [00:20<00:00,  6.30it/s]\n"
     ]
    },
    {
     "name": "stdout",
     "output_type": "stream",
     "text": [
      "Epoch 2, Loss: 0.19414876742672374, LR: 0.001\n"
     ]
    },
    {
     "name": "stderr",
     "output_type": "stream",
     "text": [
      "Epoch: Validating: 100%|██████████| 1/1 [00:00<00:00, 35.72it/s]\n"
     ]
    },
    {
     "name": "stdout",
     "output_type": "stream",
     "text": [
      "dict_items([('mse', tensor(0.2757, device='cuda:0')), ('mae', tensor(0.3443, device='cuda:0')), ('smape', tensor(115.4133, device='cuda:0')), ('p10', tensor(0.0374, device='cuda:0')), ('p50', tensor(0.2197, device='cuda:0')), ('p90', tensor(0.7978, device='cuda:0'))])\n"
     ]
    },
    {
     "name": "stderr",
     "output_type": "stream",
     "text": [
      "Epoch: 3: 100%|██████████| 131/131 [00:20<00:00,  6.32it/s]\n"
     ]
    },
    {
     "name": "stdout",
     "output_type": "stream",
     "text": [
      "Epoch 3, Loss: 0.18302143655205502, LR: 0.001\n"
     ]
    },
    {
     "name": "stderr",
     "output_type": "stream",
     "text": [
      "Epoch: Validating: 100%|██████████| 1/1 [00:00<00:00, 30.96it/s]\n"
     ]
    },
    {
     "name": "stdout",
     "output_type": "stream",
     "text": [
      "dict_items([('mse', tensor(0.2574, device='cuda:0')), ('mae', tensor(0.3306, device='cuda:0')), ('smape', tensor(113.1552, device='cuda:0')), ('p10', tensor(0.0351, device='cuda:0')), ('p50', tensor(0.2083, device='cuda:0')), ('p90', tensor(0.7713, device='cuda:0'))])\n"
     ]
    },
    {
     "name": "stderr",
     "output_type": "stream",
     "text": [
      "Epoch: 4: 100%|██████████| 131/131 [00:20<00:00,  6.30it/s]\n"
     ]
    },
    {
     "name": "stdout",
     "output_type": "stream",
     "text": [
      "Epoch 4, Loss: 0.17478572093803463, LR: 0.001\n"
     ]
    },
    {
     "name": "stderr",
     "output_type": "stream",
     "text": [
      "Epoch: Validating: 100%|██████████| 1/1 [00:00<00:00, 36.11it/s]\n"
     ]
    },
    {
     "name": "stdout",
     "output_type": "stream",
     "text": [
      "dict_items([('mse', tensor(0.2513, device='cuda:0')), ('mae', tensor(0.3300, device='cuda:0')), ('smape', tensor(112.9122, device='cuda:0')), ('p10', tensor(0.0362, device='cuda:0')), ('p50', tensor(0.2134, device='cuda:0')), ('p90', tensor(0.7590, device='cuda:0'))])\n"
     ]
    },
    {
     "name": "stderr",
     "output_type": "stream",
     "text": [
      "Epoch: 5: 100%|██████████| 131/131 [00:20<00:00,  6.30it/s]"
     ]
    },
    {
     "name": "stdout",
     "output_type": "stream",
     "text": [
      "Epoch 5, Loss: 0.16709839364954535, LR: 0.001\n"
     ]
    },
    {
     "name": "stderr",
     "output_type": "stream",
     "text": [
      "\n"
     ]
    },
    {
     "ename": "KeyError",
     "evalue": "'series_standardized'",
     "output_type": "error",
     "traceback": [
      "\u001b[0;31m---------------------------------------------------------------------------\u001b[0m",
      "\u001b[0;31mKeyError\u001b[0m                                  Traceback (most recent call last)",
      "\u001b[1;32m/vol/fob-vol7/nebenf21/reinbene/bene/MA/src/training_script.ipynb Cell 7\u001b[0m line \u001b[0;36m3\n\u001b[1;32m     <a href='vscode-notebook-cell://ssh-remote%2B7b22686f73744e616d65223a22677275656e6175312e696e666f726d6174696b2e68752d6265726c696e2e6465222c2275736572223a227265696e62656e65227d/vol/fob-vol7/nebenf21/reinbene/bene/MA/src/training_script.ipynb#X10sdnNjb2RlLXJlbW90ZQ%3D%3D?line=30'>31</a>\u001b[0m epoch \u001b[39m=\u001b[39m \u001b[39m6\u001b[39m\n\u001b[1;32m     <a href='vscode-notebook-cell://ssh-remote%2B7b22686f73744e616d65223a22677275656e6175312e696e666f726d6174696b2e68752d6265726c696e2e6465222c2275736572223a227265696e62656e65227d/vol/fob-vol7/nebenf21/reinbene/bene/MA/src/training_script.ipynb#X10sdnNjb2RlLXJlbW90ZQ%3D%3D?line=32'>33</a>\u001b[0m \u001b[39mfor\u001b[39;00m epoch \u001b[39min\u001b[39;00m \u001b[39mrange\u001b[39m(\u001b[39m1\u001b[39m, epoch \u001b[39m+\u001b[39m \u001b[39m1\u001b[39m):\n\u001b[0;32m---> <a href='vscode-notebook-cell://ssh-remote%2B7b22686f73744e616d65223a22677275656e6175312e696e666f726d6174696b2e68752d6265726c696e2e6465222c2275736572223a227265696e62656e65227d/vol/fob-vol7/nebenf21/reinbene/bene/MA/src/training_script.ipynb#X10sdnNjb2RlLXJlbW90ZQ%3D%3D?line=33'>34</a>\u001b[0m \ttrain_one_epoch(epoch, model, device, dataloader_train, dataloader_validation, optimizer, scheduler, writer)\n",
      "\u001b[1;32m/vol/fob-vol7/nebenf21/reinbene/bene/MA/src/training_script.ipynb Cell 7\u001b[0m line \u001b[0;36m2\n\u001b[1;32m     <a href='vscode-notebook-cell://ssh-remote%2B7b22686f73744e616d65223a22677275656e6175312e696e666f726d6174696b2e68752d6265726c696e2e6465222c2275736572223a227265696e62656e65227d/vol/fob-vol7/nebenf21/reinbene/bene/MA/src/training_script.ipynb#X10sdnNjb2RlLXJlbW90ZQ%3D%3D?line=25'>26</a>\u001b[0m writer\u001b[39m.\u001b[39mclose()\n\u001b[1;32m     <a href='vscode-notebook-cell://ssh-remote%2B7b22686f73744e616d65223a22677275656e6175312e696e666f726d6174696b2e68752d6265726c696e2e6465222c2275736572223a227265696e62656e65227d/vol/fob-vol7/nebenf21/reinbene/bene/MA/src/training_script.ipynb#X10sdnNjb2RlLXJlbW90ZQ%3D%3D?line=26'>27</a>\u001b[0m \u001b[39mif\u001b[39;00m epoch \u001b[39m%\u001b[39m \u001b[39m5\u001b[39m \u001b[39m==\u001b[39m \u001b[39m0\u001b[39m:\n\u001b[0;32m---> <a href='vscode-notebook-cell://ssh-remote%2B7b22686f73744e616d65223a22677275656e6175312e696e666f726d6174696b2e68752d6265726c696e2e6465222c2275736572223a227265696e62656e65227d/vol/fob-vol7/nebenf21/reinbene/bene/MA/src/training_script.ipynb#X10sdnNjb2RlLXJlbW90ZQ%3D%3D?line=27'>28</a>\u001b[0m \thelpers\u001b[39m.\u001b[39;49mcreate_checkpoint(model, optimizer, scheduler, epoch, loss, global_step, \u001b[39m\"\u001b[39;49m\u001b[39miTransfomrer_electricity\u001b[39;49m\u001b[39m\"\u001b[39;49m)\n\u001b[1;32m     <a href='vscode-notebook-cell://ssh-remote%2B7b22686f73744e616d65223a22677275656e6175312e696e666f726d6174696b2e68752d6265726c696e2e6465222c2275736572223a227265696e62656e65227d/vol/fob-vol7/nebenf21/reinbene/bene/MA/src/training_script.ipynb#X10sdnNjb2RlLXJlbW90ZQ%3D%3D?line=28'>29</a>\u001b[0m eval_metrics_dict \u001b[39m=\u001b[39m fast_eval(dataloader_validation)\n",
      "File \u001b[0;32m~/bene/MA/src/utils/helpers.py:16\u001b[0m, in \u001b[0;36mcreate_checkpoint\u001b[0;34m(model, optimizer, scheduler, epoch, loss, global_step, name)\u001b[0m\n\u001b[1;32m      7\u001b[0m checkpoint \u001b[39m=\u001b[39m {\n\u001b[1;32m      8\u001b[0m \t\u001b[39m'\u001b[39m\u001b[39mmodel_state_dict\u001b[39m\u001b[39m'\u001b[39m: model\u001b[39m.\u001b[39mstate_dict(),\n\u001b[1;32m      9\u001b[0m \t\u001b[39m'\u001b[39m\u001b[39moptimizer_state_dict\u001b[39m\u001b[39m'\u001b[39m: optimizer\u001b[39m.\u001b[39mstate_dict(),\n\u001b[0;32m   (...)\u001b[0m\n\u001b[1;32m     13\u001b[0m \t\u001b[39m'\u001b[39m\u001b[39mglobal_step_writer\u001b[39m\u001b[39m'\u001b[39m : global_step,\n\u001b[1;32m     14\u001b[0m }\n\u001b[1;32m     15\u001b[0m \u001b[39m# model, revin, affine, epoch, loss\u001b[39;00m\n\u001b[0;32m---> 16\u001b[0m save(checkpoint, \u001b[39mf\u001b[39m\u001b[39m'\u001b[39m\u001b[39m{\u001b[39;00mCONFIG_OUTPUT_PATH[\u001b[39m\"\u001b[39;49m\u001b[39mseries_standardized\u001b[39;49m\u001b[39m\"\u001b[39;49m]\u001b[39m}\u001b[39;00m\u001b[39m/\u001b[39m\u001b[39m{\u001b[39;00mname\u001b[39m}\u001b[39;00m\u001b[39m_epoch_\u001b[39m\u001b[39m{\u001b[39;00mepoch\u001b[39m}\u001b[39;00m\u001b[39m_loss_\u001b[39m\u001b[39m{\u001b[39;00mloss\u001b[39m}\u001b[39;00m\u001b[39m.pt\u001b[39m\u001b[39m'\u001b[39m) \u001b[39m# is this ok to do? dont want to load full torch \u001b[39;00m\n\u001b[1;32m     17\u001b[0m \u001b[39mprint\u001b[39m(\u001b[39mf\u001b[39m\u001b[39m\"\u001b[39m\u001b[39mCheckpointing succesfull after epoch \u001b[39m\u001b[39m{\u001b[39;00mepoch\u001b[39m}\u001b[39;00m\u001b[39m\"\u001b[39m)\n",
      "\u001b[0;31mKeyError\u001b[0m: 'series_standardized'"
     ]
    }
   ],
   "source": [
    "def train_one_epoch(epoch, model, device, dataloader_train, dataloader_validation, optimizer, scheduler, writer):\n",
    "\tglobal_step = 0\n",
    "\tmodel.train()\n",
    "\ttotal_loss = 0\n",
    "\t\n",
    "\tfor input, target in tqdm(dataloader_train, desc=f\"Epoch: {epoch}\"):\n",
    "\t\toptimizer.zero_grad()\n",
    "\n",
    "\t\tif len(target) == 4:\n",
    "\t\t\tloss = model(input.to(device), (target[0].to(device), target[1].to(device), target[2].to(device), target[3].to(device)))\n",
    "\t\telse:\n",
    "\t\t\tloss = model(input.to(device), target.to(device))\n",
    "\n",
    "\t\tloss.backward()\n",
    "\t\toptimizer.step()\n",
    "\t\ttotal_loss += loss.item()\n",
    "\n",
    "\t\twriter.add_scalar('train_loss', loss, global_step)\n",
    "\t\twriter.add_scalar('train_lr', optimizer.param_groups[0]['lr'], global_step)\n",
    "\t\tlr =  optimizer.param_groups[0]['lr']\n",
    "\t\tglobal_step+=1\n",
    "\n",
    "\tprint(f'Epoch {epoch}, MSE-Loss: {total_loss / (len(dataloader_train) * 4)}, LR: {lr}')\n",
    "\n",
    "\tscheduler.step()\n",
    "\twriter.close()\n",
    "\tif epoch % 5 == 0:\n",
    "\t\thelpers.create_checkpoint(model, optimizer, scheduler, epoch, loss, global_step, \"iTransfomrer_electricity\")\n",
    "\teval_metrics_dict = fast_eval(dataloader_validation)\n",
    "\n",
    "epoch = 6\n",
    "\n",
    "for epoch in range(1, epoch + 1):\n",
    "\ttrain_one_epoch(epoch, model, device, dataloader_train, dataloader_validation, optimizer, scheduler, writer)\n"
   ]
  },
  {
   "cell_type": "code",
   "execution_count": null,
   "metadata": {},
   "outputs": [],
   "source": []
  },
  {
   "cell_type": "code",
   "execution_count": 33,
   "metadata": {},
   "outputs": [],
   "source": [
    "def eval_function(valid_dataloader):\n",
    "\ttry:\n",
    "\t\tmodel = iTransformer(**model_config)\n",
    "\n",
    "\texcept UnboundLocalError:\n",
    "\t\tcheckpoint = torch.load(\"/vol/fob-vol7/nebenf21/reinbene/bene/MA/outputs/series_standardized/model_first_20_ids_full_epoch_10.pt\")\n",
    "\t\tmodel.load_state_dict(checkpoint['model_state_dict'])\n",
    "\t\toptimizer.load_state_dict(checkpoint['optimizer_state_dict'])\n",
    "\t\tscheduler = optim.lr_scheduler.StepLR(optimizer, step_size=10, gamma=0.1)\n",
    "\t\tscheduler.load_state_dict(checkpoint['scheduler_state_dict'])\n",
    "\t\twriter = SummaryWriter(log_dir='logs')\n",
    "\t\tdevice = torch.device(\"cuda:0\" if torch.cuda.is_available() else \"cpu\")\n",
    "\t\tmodel.to(device)\n",
    "\n",
    "\tmodel.eval()\n",
    "\tglobal_loss_dict = {\n",
    "\t\t\t\t\t\"mse\" : 0,\n",
    "\t\t\t\t\t\"mae\" : 0,\n",
    "\t\t\t\t\t\"p10\" : 0,\n",
    "\t\t\t\t\t\"p50\" : 0,\n",
    "\t\t\t\t\t\"p90\" : 0\n",
    "\t\t\t\t}\n",
    "\t\n",
    "\twith torch.no_grad():\n",
    "\t\tfor input, target in tqdm(valid_dataloader, desc=f\"Epoch: Validating\"):\n",
    "\t\t\tinput = input.to(device)\n",
    "\t\t\ttarget = target.to(device)\n",
    "\t\t\t\n",
    "\t\t\toutput = model(input)\n",
    "\n",
    "\t\t\tglobal_loss_dict = helpers.evaluate(global_loss_dict, output, target.to(device))\n",
    "\n",
    "\tfor key, values in global_loss_dict.items():\n",
    "\t\tprint(f\"{key} loss: {values}\")\n",
    "\t\twriter.add_scalar(key, value/len(valid_dataloader))\n",
    "\twriter.close()"
   ]
  },
  {
   "cell_type": "code",
   "execution_count": 34,
   "metadata": {},
   "outputs": [
    {
     "ename": "ValueError",
     "evalue": "__len__() should return >= 0",
     "output_type": "error",
     "traceback": [
      "\u001b[0;31m---------------------------------------------------------------------------\u001b[0m",
      "\u001b[0;31mValueError\u001b[0m                                Traceback (most recent call last)",
      "\u001b[1;32m/vol/fob-vol7/nebenf21/reinbene/bene/MA/src/training_script.ipynb Cell 10\u001b[0m line \u001b[0;36m1\n\u001b[0;32m----> <a href='vscode-notebook-cell://ssh-remote%2B7b22686f73744e616d65223a22677275656e6175312e696e666f726d6174696b2e68752d6265726c696e2e6465222c2275736572223a227265696e62656e65227d/vol/fob-vol7/nebenf21/reinbene/bene/MA/src/training_script.ipynb#X13sdnNjb2RlLXJlbW90ZQ%3D%3D?line=0'>1</a>\u001b[0m eval_function(dataloader_validation)\n",
      "\u001b[1;32m/vol/fob-vol7/nebenf21/reinbene/bene/MA/src/training_script.ipynb Cell 10\u001b[0m line \u001b[0;36m2\n\u001b[1;32m     <a href='vscode-notebook-cell://ssh-remote%2B7b22686f73744e616d65223a22677275656e6175312e696e666f726d6174696b2e68752d6265726c696e2e6465222c2275736572223a227265696e62656e65227d/vol/fob-vol7/nebenf21/reinbene/bene/MA/src/training_script.ipynb#X13sdnNjb2RlLXJlbW90ZQ%3D%3D?line=15'>16</a>\u001b[0m global_loss_dict \u001b[39m=\u001b[39m {\n\u001b[1;32m     <a href='vscode-notebook-cell://ssh-remote%2B7b22686f73744e616d65223a22677275656e6175312e696e666f726d6174696b2e68752d6265726c696e2e6465222c2275736572223a227265696e62656e65227d/vol/fob-vol7/nebenf21/reinbene/bene/MA/src/training_script.ipynb#X13sdnNjb2RlLXJlbW90ZQ%3D%3D?line=16'>17</a>\u001b[0m \t\t\t\t\u001b[39m\"\u001b[39m\u001b[39mmse\u001b[39m\u001b[39m\"\u001b[39m : \u001b[39m0\u001b[39m,\n\u001b[1;32m     <a href='vscode-notebook-cell://ssh-remote%2B7b22686f73744e616d65223a22677275656e6175312e696e666f726d6174696b2e68752d6265726c696e2e6465222c2275736572223a227265696e62656e65227d/vol/fob-vol7/nebenf21/reinbene/bene/MA/src/training_script.ipynb#X13sdnNjb2RlLXJlbW90ZQ%3D%3D?line=17'>18</a>\u001b[0m \t\t\t\t\u001b[39m\"\u001b[39m\u001b[39mmae\u001b[39m\u001b[39m\"\u001b[39m : \u001b[39m0\u001b[39m,\n\u001b[0;32m   (...)\u001b[0m\n\u001b[1;32m     <a href='vscode-notebook-cell://ssh-remote%2B7b22686f73744e616d65223a22677275656e6175312e696e666f726d6174696b2e68752d6265726c696e2e6465222c2275736572223a227265696e62656e65227d/vol/fob-vol7/nebenf21/reinbene/bene/MA/src/training_script.ipynb#X13sdnNjb2RlLXJlbW90ZQ%3D%3D?line=20'>21</a>\u001b[0m \t\t\t\t\u001b[39m\"\u001b[39m\u001b[39mp90\u001b[39m\u001b[39m\"\u001b[39m : \u001b[39m0\u001b[39m\n\u001b[1;32m     <a href='vscode-notebook-cell://ssh-remote%2B7b22686f73744e616d65223a22677275656e6175312e696e666f726d6174696b2e68752d6265726c696e2e6465222c2275736572223a227265696e62656e65227d/vol/fob-vol7/nebenf21/reinbene/bene/MA/src/training_script.ipynb#X13sdnNjb2RlLXJlbW90ZQ%3D%3D?line=21'>22</a>\u001b[0m \t\t\t}\n\u001b[1;32m     <a href='vscode-notebook-cell://ssh-remote%2B7b22686f73744e616d65223a22677275656e6175312e696e666f726d6174696b2e68752d6265726c696e2e6465222c2275736572223a227265696e62656e65227d/vol/fob-vol7/nebenf21/reinbene/bene/MA/src/training_script.ipynb#X13sdnNjb2RlLXJlbW90ZQ%3D%3D?line=23'>24</a>\u001b[0m \u001b[39mwith\u001b[39;00m torch\u001b[39m.\u001b[39mno_grad():\n\u001b[0;32m---> <a href='vscode-notebook-cell://ssh-remote%2B7b22686f73744e616d65223a22677275656e6175312e696e666f726d6174696b2e68752d6265726c696e2e6465222c2275736572223a227265696e62656e65227d/vol/fob-vol7/nebenf21/reinbene/bene/MA/src/training_script.ipynb#X13sdnNjb2RlLXJlbW90ZQ%3D%3D?line=24'>25</a>\u001b[0m \t\u001b[39mfor\u001b[39;00m \u001b[39minput\u001b[39m, target \u001b[39min\u001b[39;00m tqdm(valid_dataloader, desc\u001b[39m=\u001b[39;49m\u001b[39mf\u001b[39;49m\u001b[39m\"\u001b[39;49m\u001b[39mEpoch: Validating\u001b[39;49m\u001b[39m\"\u001b[39;49m):\n\u001b[1;32m     <a href='vscode-notebook-cell://ssh-remote%2B7b22686f73744e616d65223a22677275656e6175312e696e666f726d6174696b2e68752d6265726c696e2e6465222c2275736572223a227265696e62656e65227d/vol/fob-vol7/nebenf21/reinbene/bene/MA/src/training_script.ipynb#X13sdnNjb2RlLXJlbW90ZQ%3D%3D?line=25'>26</a>\u001b[0m \t\t\u001b[39minput\u001b[39m \u001b[39m=\u001b[39m \u001b[39minput\u001b[39m\u001b[39m.\u001b[39mto(device)\n\u001b[1;32m     <a href='vscode-notebook-cell://ssh-remote%2B7b22686f73744e616d65223a22677275656e6175312e696e666f726d6174696b2e68752d6265726c696e2e6465222c2275736572223a227265696e62656e65227d/vol/fob-vol7/nebenf21/reinbene/bene/MA/src/training_script.ipynb#X13sdnNjb2RlLXJlbW90ZQ%3D%3D?line=26'>27</a>\u001b[0m \t\ttarget \u001b[39m=\u001b[39m target\u001b[39m.\u001b[39mto(device)\n",
      "File \u001b[0;32m~/bene/MA/myenv/lib/python3.10/site-packages/tqdm/std.py:979\u001b[0m, in \u001b[0;36mtqdm.__init__\u001b[0;34m(self, iterable, desc, total, leave, file, ncols, mininterval, maxinterval, miniters, ascii, disable, unit, unit_scale, dynamic_ncols, smoothing, bar_format, initial, position, postfix, unit_divisor, write_bytes, lock_args, nrows, colour, delay, gui, **kwargs)\u001b[0m\n\u001b[1;32m    977\u001b[0m \u001b[39mif\u001b[39;00m total \u001b[39mis\u001b[39;00m \u001b[39mNone\u001b[39;00m \u001b[39mand\u001b[39;00m iterable \u001b[39mis\u001b[39;00m \u001b[39mnot\u001b[39;00m \u001b[39mNone\u001b[39;00m:\n\u001b[1;32m    978\u001b[0m     \u001b[39mtry\u001b[39;00m:\n\u001b[0;32m--> 979\u001b[0m         total \u001b[39m=\u001b[39m \u001b[39mlen\u001b[39;49m(iterable)\n\u001b[1;32m    980\u001b[0m     \u001b[39mexcept\u001b[39;00m (\u001b[39mTypeError\u001b[39;00m, \u001b[39mAttributeError\u001b[39;00m):\n\u001b[1;32m    981\u001b[0m         total \u001b[39m=\u001b[39m \u001b[39mNone\u001b[39;00m\n",
      "File \u001b[0;32m~/bene/MA/myenv/lib/python3.10/site-packages/torch/utils/data/dataloader.py:487\u001b[0m, in \u001b[0;36mDataLoader.__len__\u001b[0;34m(self)\u001b[0m\n\u001b[1;32m    485\u001b[0m     \u001b[39mreturn\u001b[39;00m length\n\u001b[1;32m    486\u001b[0m \u001b[39melse\u001b[39;00m:\n\u001b[0;32m--> 487\u001b[0m     \u001b[39mreturn\u001b[39;00m \u001b[39mlen\u001b[39;49m(\u001b[39mself\u001b[39;49m\u001b[39m.\u001b[39;49m_index_sampler)\n",
      "File \u001b[0;32m~/bene/MA/myenv/lib/python3.10/site-packages/torch/utils/data/sampler.py:272\u001b[0m, in \u001b[0;36mBatchSampler.__len__\u001b[0;34m(self)\u001b[0m\n\u001b[1;32m    270\u001b[0m     \u001b[39mreturn\u001b[39;00m \u001b[39mlen\u001b[39m(\u001b[39mself\u001b[39m\u001b[39m.\u001b[39msampler) \u001b[39m/\u001b[39m\u001b[39m/\u001b[39m \u001b[39mself\u001b[39m\u001b[39m.\u001b[39mbatch_size  \u001b[39m# type: ignore[arg-type]\u001b[39;00m\n\u001b[1;32m    271\u001b[0m \u001b[39melse\u001b[39;00m:\n\u001b[0;32m--> 272\u001b[0m     \u001b[39mreturn\u001b[39;00m (\u001b[39mlen\u001b[39;49m(\u001b[39mself\u001b[39;49m\u001b[39m.\u001b[39;49msampler) \u001b[39m+\u001b[39m \u001b[39mself\u001b[39m\u001b[39m.\u001b[39mbatch_size \u001b[39m-\u001b[39m \u001b[39m1\u001b[39m) \u001b[39m/\u001b[39m\u001b[39m/\u001b[39m \u001b[39mself\u001b[39m\u001b[39m.\u001b[39mbatch_size\n",
      "File \u001b[0;32m~/bene/MA/myenv/lib/python3.10/site-packages/torch/utils/data/sampler.py:79\u001b[0m, in \u001b[0;36mSequentialSampler.__len__\u001b[0;34m(self)\u001b[0m\n\u001b[1;32m     78\u001b[0m \u001b[39mdef\u001b[39;00m \u001b[39m__len__\u001b[39m(\u001b[39mself\u001b[39m) \u001b[39m-\u001b[39m\u001b[39m>\u001b[39m \u001b[39mint\u001b[39m:\n\u001b[0;32m---> 79\u001b[0m     \u001b[39mreturn\u001b[39;00m \u001b[39mlen\u001b[39;49m(\u001b[39mself\u001b[39;49m\u001b[39m.\u001b[39;49mdata_source)\n",
      "\u001b[0;31mValueError\u001b[0m: __len__() should return >= 0"
     ]
    }
   ],
   "source": [
    "eval_function(dataloader_validation)"
   ]
  },
  {
   "cell_type": "code",
   "execution_count": 35,
   "metadata": {},
   "outputs": [
    {
     "name": "stderr",
     "output_type": "stream",
     "text": [
      "Epoch: Validating:   0%|          | 0/67 [00:00<?, ?it/s]\n"
     ]
    },
    {
     "ename": "UnboundLocalError",
     "evalue": "local variable 'device' referenced before assignment",
     "output_type": "error",
     "traceback": [
      "\u001b[0;31m---------------------------------------------------------------------------\u001b[0m",
      "\u001b[0;31mUnboundLocalError\u001b[0m                         Traceback (most recent call last)",
      "\u001b[1;32m/vol/fob-vol7/nebenf21/reinbene/bene/MA/src/training_script.ipynb Cell 11\u001b[0m line \u001b[0;36m1\n\u001b[0;32m----> <a href='vscode-notebook-cell://ssh-remote%2B7b22686f73744e616d65223a22677275656e6175312e696e666f726d6174696b2e68752d6265726c696e2e6465222c2275736572223a227265696e62656e65227d/vol/fob-vol7/nebenf21/reinbene/bene/MA/src/training_script.ipynb#X14sdnNjb2RlLXJlbW90ZQ%3D%3D?line=0'>1</a>\u001b[0m eval_function(dataloader_test)\n",
      "\u001b[1;32m/vol/fob-vol7/nebenf21/reinbene/bene/MA/src/training_script.ipynb Cell 11\u001b[0m line \u001b[0;36m2\n\u001b[1;32m     <a href='vscode-notebook-cell://ssh-remote%2B7b22686f73744e616d65223a22677275656e6175312e696e666f726d6174696b2e68752d6265726c696e2e6465222c2275736572223a227265696e62656e65227d/vol/fob-vol7/nebenf21/reinbene/bene/MA/src/training_script.ipynb#X14sdnNjb2RlLXJlbW90ZQ%3D%3D?line=23'>24</a>\u001b[0m \u001b[39mwith\u001b[39;00m torch\u001b[39m.\u001b[39mno_grad():\n\u001b[1;32m     <a href='vscode-notebook-cell://ssh-remote%2B7b22686f73744e616d65223a22677275656e6175312e696e666f726d6174696b2e68752d6265726c696e2e6465222c2275736572223a227265696e62656e65227d/vol/fob-vol7/nebenf21/reinbene/bene/MA/src/training_script.ipynb#X14sdnNjb2RlLXJlbW90ZQ%3D%3D?line=24'>25</a>\u001b[0m \t\u001b[39mfor\u001b[39;00m \u001b[39minput\u001b[39m, target \u001b[39min\u001b[39;00m tqdm(valid_dataloader, desc\u001b[39m=\u001b[39m\u001b[39mf\u001b[39m\u001b[39m\"\u001b[39m\u001b[39mEpoch: Validating\u001b[39m\u001b[39m\"\u001b[39m):\n\u001b[0;32m---> <a href='vscode-notebook-cell://ssh-remote%2B7b22686f73744e616d65223a22677275656e6175312e696e666f726d6174696b2e68752d6265726c696e2e6465222c2275736572223a227265696e62656e65227d/vol/fob-vol7/nebenf21/reinbene/bene/MA/src/training_script.ipynb#X14sdnNjb2RlLXJlbW90ZQ%3D%3D?line=25'>26</a>\u001b[0m \t\t\u001b[39minput\u001b[39m \u001b[39m=\u001b[39m \u001b[39minput\u001b[39m\u001b[39m.\u001b[39mto(device)\n\u001b[1;32m     <a href='vscode-notebook-cell://ssh-remote%2B7b22686f73744e616d65223a22677275656e6175312e696e666f726d6174696b2e68752d6265726c696e2e6465222c2275736572223a227265696e62656e65227d/vol/fob-vol7/nebenf21/reinbene/bene/MA/src/training_script.ipynb#X14sdnNjb2RlLXJlbW90ZQ%3D%3D?line=26'>27</a>\u001b[0m \t\ttarget \u001b[39m=\u001b[39m target\u001b[39m.\u001b[39mto(device)\n\u001b[1;32m     <a href='vscode-notebook-cell://ssh-remote%2B7b22686f73744e616d65223a22677275656e6175312e696e666f726d6174696b2e68752d6265726c696e2e6465222c2275736572223a227265696e62656e65227d/vol/fob-vol7/nebenf21/reinbene/bene/MA/src/training_script.ipynb#X14sdnNjb2RlLXJlbW90ZQ%3D%3D?line=28'>29</a>\u001b[0m \t\toutput \u001b[39m=\u001b[39m model(\u001b[39minput\u001b[39m)\n",
      "\u001b[0;31mUnboundLocalError\u001b[0m: local variable 'device' referenced before assignment"
     ]
    }
   ],
   "source": [
    "eval_function(dataloader_test)"
   ]
  }
 ],
 "metadata": {
  "kernelspec": {
   "display_name": "Python 3",
   "language": "python",
   "name": "python3"
  },
  "language_info": {
   "codemirror_mode": {
    "name": "ipython",
    "version": 3
   },
   "file_extension": ".py",
   "mimetype": "text/x-python",
   "name": "python",
   "nbconvert_exporter": "python",
   "pygments_lexer": "ipython3",
   "version": "3.10.9"
  },
  "orig_nbformat": 4
 },
 "nbformat": 4,
 "nbformat_minor": 2
}
