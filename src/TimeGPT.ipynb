{
 "cells": [
  {
   "cell_type": "code",
   "execution_count": 1,
   "metadata": {},
   "outputs": [],
   "source": [
    "from nixtlats import TimeGPT\n",
    "\n",
    "timegpt = TimeGPT(\n",
    "    # defaults to os.environ.get(\"TIMEGPT_TOKEN\")\n",
    "    token = 'JxQF7I2vM8Hpbue718L2gGCfG1gflGqWJCkWb6gRjVL2r9p0TPhDmoOIMAAOgGdQG1tFUDFKgkq52cbyAM1H8Li1jTg9KtV6zWKGuejojqMV6i5wzTgppL8KnsvfcfpYidXbBRgqSLlVilfjjvWwTIMFixvHbIu1cEBdP8CUcjeRlsWlg2ZkYlLr3iiG2RojTAG4BKHRnSX2S7uIpaKMjBZcwRlVpf8KoUFXfAaQj2a5UW98o5IMPe196Iz2uqwD'\n",
    ")\n"
   ]
  },
  {
   "cell_type": "markdown",
   "metadata": {},
   "source": [
    "Nixtla's SDK for TimeGPT takes pandas DF as inputs. Here we are using an Electricity Price Forecasting (EPF) dataset.\n",
    "\n",
    "The input data will require the following columns:\n",
    "\n",
    "series identifier (column name specified with #id_col argument)\n",
    "datestamps (column name specified with #time_col argument)\n",
    "target historical values (column name specified with #target_col argument)"
   ]
  },
  {
   "cell_type": "code",
   "execution_count": 2,
   "metadata": {},
   "outputs": [
    {
     "name": "stderr",
     "output_type": "stream",
     "text": [
      "INFO:nixtlats.timegpt:Happy Forecasting! :), If you have questions or need support, please email ops@nixtla.io\n"
     ]
    },
    {
     "data": {
      "text/plain": [
       "True"
      ]
     },
     "execution_count": 2,
     "metadata": {},
     "output_type": "execute_result"
    }
   ],
   "source": [
    "timegpt.validate_token()\n"
   ]
  },
  {
   "cell_type": "code",
   "execution_count": 137,
   "metadata": {},
   "outputs": [
    {
     "name": "stdout",
     "output_type": "stream",
     "text": [
      "Feature batch shape: torch.Size([32, 96, 348])\n"
     ]
    }
   ],
   "source": [
    "from utils import data_handling, helpers\n",
    "\n",
    "window_size = 96\n",
    "pred_length = pred_length = (96)#, 192, 336, 720)\n",
    "\n",
    "data_dict = data_handling.load_electricity()\n",
    "_, _, dataloader_test = data_handling.convert_data(data_dict, window_size, pred_length)\n"
   ]
  },
  {
   "cell_type": "code",
   "execution_count": 15,
   "metadata": {},
   "outputs": [
    {
     "data": {
      "text/plain": [
       "torch.Size([96, 348])"
      ]
     },
     "execution_count": 15,
     "metadata": {},
     "output_type": "execute_result"
    }
   ],
   "source": [
    "input, target = next(iter(dataloader_test))\n",
    "input[0,:].shape\n",
    "#target[0][0,:]"
   ]
  },
  {
   "cell_type": "code",
   "execution_count": 119,
   "metadata": {},
   "outputs": [
    {
     "data": {
      "text/plain": [
       "67"
      ]
     },
     "execution_count": 119,
     "metadata": {},
     "output_type": "execute_result"
    }
   ],
   "source": [
    "len(dataloader_test)"
   ]
  },
  {
   "cell_type": "code",
   "execution_count": 12,
   "metadata": {},
   "outputs": [
    {
     "name": "stderr",
     "output_type": "stream",
     "text": [
      "/tmp/ipykernel_47855/3006045963.py:33: SettingWithCopyWarning: \n",
      "A value is trying to be set on a copy of a slice from a DataFrame.\n",
      "Try using .loc[row_indexer,col_indexer] = value instead\n",
      "\n",
      "See the caveats in the documentation: https://pandas.pydata.org/pandas-docs/stable/user_guide/indexing.html#returning-a-view-versus-a-copy\n",
      "  small_df[\"Time\"] = small_df[\"Time\"].astype(str).copy()\n"
     ]
    },
    {
     "data": {
      "text/html": [
       "<div>\n",
       "<style scoped>\n",
       "    .dataframe tbody tr th:only-of-type {\n",
       "        vertical-align: middle;\n",
       "    }\n",
       "\n",
       "    .dataframe tbody tr th {\n",
       "        vertical-align: top;\n",
       "    }\n",
       "\n",
       "    .dataframe thead th {\n",
       "        text-align: right;\n",
       "    }\n",
       "</style>\n",
       "<table border=\"1\" class=\"dataframe\">\n",
       "  <thead>\n",
       "    <tr style=\"text-align: right;\">\n",
       "      <th></th>\n",
       "      <th>Time</th>\n",
       "      <th>ID</th>\n",
       "      <th>Target</th>\n",
       "    </tr>\n",
       "  </thead>\n",
       "  <tbody>\n",
       "    <tr>\n",
       "      <th>0</th>\n",
       "      <td>2023-04-01 00:00:00</td>\n",
       "      <td>1</td>\n",
       "      <td>3.719513</td>\n",
       "    </tr>\n",
       "    <tr>\n",
       "      <th>1</th>\n",
       "      <td>2023-04-01 00:00:00</td>\n",
       "      <td>2</td>\n",
       "      <td>1.325190</td>\n",
       "    </tr>\n",
       "    <tr>\n",
       "      <th>2</th>\n",
       "      <td>2023-04-01 00:00:00</td>\n",
       "      <td>3</td>\n",
       "      <td>0.071790</td>\n",
       "    </tr>\n",
       "    <tr>\n",
       "      <th>3</th>\n",
       "      <td>2023-04-01 00:00:00</td>\n",
       "      <td>4</td>\n",
       "      <td>0.141977</td>\n",
       "    </tr>\n",
       "    <tr>\n",
       "      <th>348</th>\n",
       "      <td>2023-04-01 01:00:00</td>\n",
       "      <td>1</td>\n",
       "      <td>3.807355</td>\n",
       "    </tr>\n",
       "    <tr>\n",
       "      <th>...</th>\n",
       "      <td>...</td>\n",
       "      <td>...</td>\n",
       "      <td>...</td>\n",
       "    </tr>\n",
       "    <tr>\n",
       "      <th>32715</th>\n",
       "      <td>2023-04-04 22:00:00</td>\n",
       "      <td>4</td>\n",
       "      <td>0.667256</td>\n",
       "    </tr>\n",
       "    <tr>\n",
       "      <th>33060</th>\n",
       "      <td>2023-04-04 23:00:00</td>\n",
       "      <td>1</td>\n",
       "      <td>3.192456</td>\n",
       "    </tr>\n",
       "    <tr>\n",
       "      <th>33061</th>\n",
       "      <td>2023-04-04 23:00:00</td>\n",
       "      <td>2</td>\n",
       "      <td>1.131707</td>\n",
       "    </tr>\n",
       "    <tr>\n",
       "      <th>33062</th>\n",
       "      <td>2023-04-04 23:00:00</td>\n",
       "      <td>3</td>\n",
       "      <td>0.071790</td>\n",
       "    </tr>\n",
       "    <tr>\n",
       "      <th>33063</th>\n",
       "      <td>2023-04-04 23:00:00</td>\n",
       "      <td>4</td>\n",
       "      <td>0.325824</td>\n",
       "    </tr>\n",
       "  </tbody>\n",
       "</table>\n",
       "<p>384 rows × 3 columns</p>\n",
       "</div>"
      ],
      "text/plain": [
       "                      Time  ID    Target\n",
       "0      2023-04-01 00:00:00   1  3.719513\n",
       "1      2023-04-01 00:00:00   2  1.325190\n",
       "2      2023-04-01 00:00:00   3  0.071790\n",
       "3      2023-04-01 00:00:00   4  0.141977\n",
       "348    2023-04-01 01:00:00   1  3.807355\n",
       "...                    ...  ..       ...\n",
       "32715  2023-04-04 22:00:00   4  0.667256\n",
       "33060  2023-04-04 23:00:00   1  3.192456\n",
       "33061  2023-04-04 23:00:00   2  1.131707\n",
       "33062  2023-04-04 23:00:00   3  0.071790\n",
       "33063  2023-04-04 23:00:00   4  0.325824\n",
       "\n",
       "[384 rows x 3 columns]"
      ]
     },
     "execution_count": 12,
     "metadata": {},
     "output_type": "execute_result"
    }
   ],
   "source": [
    "import torch\n",
    "import pandas as pd\n",
    "import numpy as np\n",
    "\n",
    "# Simulate a PyTorch tensor with random data\n",
    "tensor = torch.rand(96, 348)\n",
    "\n",
    "# Convert the tensor to a numpy array and then flatten it\n",
    "targets = input[0,:].numpy().flatten()\n",
    "\n",
    "# Create a list of IDs repeated for each time step\n",
    "ids = np.tile(np.arange(1, 349), 96)  # IDs from 1 to 348\n",
    "\n",
    "time_steps = np.repeat(timestamps, 348)\n",
    "\n",
    "\n",
    "# Create a list of time steps for each ID\n",
    "#time_steps = np.repeat(np.arange(96), 348)\n",
    "\n",
    "# Create a DataFrame\n",
    "df = pd.DataFrame({\n",
    "    'Time': time_steps,\n",
    "    'ID': ids,\n",
    "    'Target': targets\n",
    "})\n",
    "\n",
    "# The DataFrame has one 'Time' column, one 'ID' column, and one 'Target' column\n",
    "small_df = df[df[\"ID\"] < 5]\n",
    "small_df\n",
    "\n",
    "\n",
    "\n",
    "small_df[\"Time\"] = small_df[\"Time\"].astype(str).copy()\n",
    "\n",
    "small_df"
   ]
  },
  {
   "cell_type": "code",
   "execution_count": 120,
   "metadata": {},
   "outputs": [
    {
     "data": {
      "text/plain": [
       "2144"
      ]
     },
     "execution_count": 120,
     "metadata": {},
     "output_type": "execute_result"
    }
   ],
   "source": [
    "67*32"
   ]
  },
  {
   "cell_type": "code",
   "execution_count": 145,
   "metadata": {},
   "outputs": [
    {
     "name": "stderr",
     "output_type": "stream",
     "text": [
      "INFO:nixtlats.timegpt:Validating inputs...\n",
      "INFO:nixtlats.timegpt:Preprocessing dataframes...\n",
      "WARNING:nixtlats.timegpt:The specified horizon \"h\" exceeds the model horizon. This may lead to less accurate forecasts. Please consider using a smaller horizon.\n",
      "INFO:nixtlats.timegpt:Calling Forecast Endpoint...\n"
     ]
    },
    {
     "data": {
      "text/plain": [
       "tensor(3.5620)"
      ]
     },
     "execution_count": 145,
     "metadata": {},
     "output_type": "execute_result"
    }
   ],
   "source": [
    "# len(dataloader) = 67 and num_batches = 32 -> this has to be done 2100 times\n",
    "\n",
    "def reshape_dataloader_to_gpt_input(dataloader, num_ids=None):\n",
    "\n",
    "    input, target = next(iter(dataloader))\n",
    "\n",
    "    input =   input[0][:,0:num_ids]\n",
    "    target = target[0][:,0:num_ids]\n",
    "\n",
    "    horizon = input.size(0)\n",
    "    if num_ids == None:\n",
    "        num_ids = input.size(1)\n",
    "\n",
    "\n",
    "    timestamps = pd.date_range(start='2023-04-01', periods=horizon, freq='H')\n",
    "    time_steps = np.repeat(timestamps, num_ids)\n",
    "\n",
    "    ids = np.tile(np.arange(0, num_ids), horizon) \n",
    "\n",
    "\n",
    "    input = input.numpy().flatten()\n",
    "\n",
    "\n",
    "    df = pd.DataFrame({\n",
    "    'Time': time_steps,\n",
    "    'ID': ids,\n",
    "    'Target': input\n",
    "    })\n",
    "    return df, target\n",
    "\n",
    "\n",
    "def reshape_gpt_output_to_eval_tensor(timegpt_fcst_df):\n",
    "    temp = timegpt_fcst_df\n",
    "\n",
    "    num_ids = temp[\"ID\"].nunique()\n",
    "    horizon = temp[\"Time\"].nunique()\n",
    "\n",
    "    preds = temp[\"TimeGPT\"]\n",
    "    preds_tensor = torch.tensor(preds.to_list())\n",
    "    preds_tensor_2d = preds_tensor.view(horizon, num_ids)\n",
    "    \n",
    "\n",
    "    return preds_tensor_2d\n",
    "\n",
    "\n",
    "df, target = reshape_dataloader_to_gpt_input(dataloader_test, 10)\n",
    "\n",
    "\n",
    "timegpt_fcst_df = timegpt.forecast(df=df, h=96, freq=\"H\", finetune_steps=0, id_col='ID', time_col='Time', target_col='Target')\n",
    "\n",
    "\n",
    "preds = reshape_gpt_output_to_eval_tensor(timegpt_fcst_df)\n",
    "\n",
    "\n",
    "error = helpers.mean_squared_error(preds, target)\n",
    "\n",
    "error"
   ]
  },
  {
   "cell_type": "code",
   "execution_count": 97,
   "metadata": {},
   "outputs": [
    {
     "name": "stderr",
     "output_type": "stream",
     "text": [
      "INFO:nixtlats.timegpt:Validating inputs...\n",
      "INFO:nixtlats.timegpt:Preprocessing dataframes...\n",
      "WARNING:nixtlats.timegpt:The specified horizon \"h\" exceeds the model horizon. This may lead to less accurate forecasts. Please consider using a smaller horizon.\n",
      "INFO:nixtlats.timegpt:Calling Forecast Endpoint...\n"
     ]
    }
   ],
   "source": [
    "\n",
    "\n",
    "#fcst_df = timegpt.forecast(df=df, h=36, model='timegpt-1-long-horizon', time_col='timestamp', target_col='value')\n"
   ]
  },
  {
   "cell_type": "code",
   "execution_count": 117,
   "metadata": {},
   "outputs": [
    {
     "data": {
      "text/html": [
       "<div>\n",
       "<style scoped>\n",
       "    .dataframe tbody tr th:only-of-type {\n",
       "        vertical-align: middle;\n",
       "    }\n",
       "\n",
       "    .dataframe tbody tr th {\n",
       "        vertical-align: top;\n",
       "    }\n",
       "\n",
       "    .dataframe thead th {\n",
       "        text-align: right;\n",
       "    }\n",
       "</style>\n",
       "<table border=\"1\" class=\"dataframe\">\n",
       "  <thead>\n",
       "    <tr style=\"text-align: right;\">\n",
       "      <th></th>\n",
       "      <th>ID</th>\n",
       "      <th>Time</th>\n",
       "      <th>TimeGPT</th>\n",
       "    </tr>\n",
       "  </thead>\n",
       "  <tbody>\n",
       "    <tr>\n",
       "      <th>0</th>\n",
       "      <td>1</td>\n",
       "      <td>2023-04-05 00:00:00</td>\n",
       "      <td>3.317608</td>\n",
       "    </tr>\n",
       "    <tr>\n",
       "      <th>1</th>\n",
       "      <td>1</td>\n",
       "      <td>2023-04-05 01:00:00</td>\n",
       "      <td>3.541721</td>\n",
       "    </tr>\n",
       "    <tr>\n",
       "      <th>2</th>\n",
       "      <td>1</td>\n",
       "      <td>2023-04-05 02:00:00</td>\n",
       "      <td>3.395764</td>\n",
       "    </tr>\n",
       "    <tr>\n",
       "      <th>3</th>\n",
       "      <td>1</td>\n",
       "      <td>2023-04-05 03:00:00</td>\n",
       "      <td>3.447697</td>\n",
       "    </tr>\n",
       "    <tr>\n",
       "      <th>4</th>\n",
       "      <td>1</td>\n",
       "      <td>2023-04-05 04:00:00</td>\n",
       "      <td>3.436582</td>\n",
       "    </tr>\n",
       "    <tr>\n",
       "      <th>...</th>\n",
       "      <td>...</td>\n",
       "      <td>...</td>\n",
       "      <td>...</td>\n",
       "    </tr>\n",
       "    <tr>\n",
       "      <th>379</th>\n",
       "      <td>4</td>\n",
       "      <td>2023-04-08 19:00:00</td>\n",
       "      <td>0.559763</td>\n",
       "    </tr>\n",
       "    <tr>\n",
       "      <th>380</th>\n",
       "      <td>4</td>\n",
       "      <td>2023-04-08 20:00:00</td>\n",
       "      <td>0.976372</td>\n",
       "    </tr>\n",
       "    <tr>\n",
       "      <th>381</th>\n",
       "      <td>4</td>\n",
       "      <td>2023-04-08 21:00:00</td>\n",
       "      <td>0.972878</td>\n",
       "    </tr>\n",
       "    <tr>\n",
       "      <th>382</th>\n",
       "      <td>4</td>\n",
       "      <td>2023-04-08 22:00:00</td>\n",
       "      <td>0.691888</td>\n",
       "    </tr>\n",
       "    <tr>\n",
       "      <th>383</th>\n",
       "      <td>4</td>\n",
       "      <td>2023-04-08 23:00:00</td>\n",
       "      <td>0.365106</td>\n",
       "    </tr>\n",
       "  </tbody>\n",
       "</table>\n",
       "<p>384 rows × 3 columns</p>\n",
       "</div>"
      ],
      "text/plain": [
       "     ID                 Time   TimeGPT\n",
       "0     1  2023-04-05 00:00:00  3.317608\n",
       "1     1  2023-04-05 01:00:00  3.541721\n",
       "2     1  2023-04-05 02:00:00  3.395764\n",
       "3     1  2023-04-05 03:00:00  3.447697\n",
       "4     1  2023-04-05 04:00:00  3.436582\n",
       "..   ..                  ...       ...\n",
       "379   4  2023-04-08 19:00:00  0.559763\n",
       "380   4  2023-04-08 20:00:00  0.976372\n",
       "381   4  2023-04-08 21:00:00  0.972878\n",
       "382   4  2023-04-08 22:00:00  0.691888\n",
       "383   4  2023-04-08 23:00:00  0.365106\n",
       "\n",
       "[384 rows x 3 columns]"
      ]
     },
     "execution_count": 117,
     "metadata": {},
     "output_type": "execute_result"
    }
   ],
   "source": [
    "timegpt_fcst_df"
   ]
  },
  {
   "cell_type": "code",
   "execution_count": 33,
   "metadata": {},
   "outputs": [
    {
     "data": {
      "text/plain": [
       "384"
      ]
     },
     "execution_count": 33,
     "metadata": {},
     "output_type": "execute_result"
    }
   ],
   "source": [
    "preds = timegpt_fcst_df[\"TimeGPT\"]\n",
    "outputs = preds.tolist()\n",
    "len(outputs)\n"
   ]
  },
  {
   "cell_type": "code",
   "execution_count": 36,
   "metadata": {},
   "outputs": [
    {
     "data": {
      "text/html": [
       "<div>\n",
       "<style scoped>\n",
       "    .dataframe tbody tr th:only-of-type {\n",
       "        vertical-align: middle;\n",
       "    }\n",
       "\n",
       "    .dataframe tbody tr th {\n",
       "        vertical-align: top;\n",
       "    }\n",
       "\n",
       "    .dataframe thead th {\n",
       "        text-align: right;\n",
       "    }\n",
       "</style>\n",
       "<table border=\"1\" class=\"dataframe\">\n",
       "  <thead>\n",
       "    <tr style=\"text-align: right;\">\n",
       "      <th></th>\n",
       "      <th>Time</th>\n",
       "      <th>ID</th>\n",
       "      <th>Target</th>\n",
       "    </tr>\n",
       "  </thead>\n",
       "  <tbody>\n",
       "    <tr>\n",
       "      <th>0</th>\n",
       "      <td>2023-04-01 00:00:00</td>\n",
       "      <td>1</td>\n",
       "      <td>3.719513</td>\n",
       "    </tr>\n",
       "    <tr>\n",
       "      <th>1</th>\n",
       "      <td>2023-04-01 00:00:00</td>\n",
       "      <td>2</td>\n",
       "      <td>1.325190</td>\n",
       "    </tr>\n",
       "    <tr>\n",
       "      <th>2</th>\n",
       "      <td>2023-04-01 00:00:00</td>\n",
       "      <td>3</td>\n",
       "      <td>0.071790</td>\n",
       "    </tr>\n",
       "    <tr>\n",
       "      <th>3</th>\n",
       "      <td>2023-04-01 00:00:00</td>\n",
       "      <td>4</td>\n",
       "      <td>0.141977</td>\n",
       "    </tr>\n",
       "    <tr>\n",
       "      <th>348</th>\n",
       "      <td>2023-04-01 01:00:00</td>\n",
       "      <td>1</td>\n",
       "      <td>3.807355</td>\n",
       "    </tr>\n",
       "    <tr>\n",
       "      <th>...</th>\n",
       "      <td>...</td>\n",
       "      <td>...</td>\n",
       "      <td>...</td>\n",
       "    </tr>\n",
       "    <tr>\n",
       "      <th>32715</th>\n",
       "      <td>2023-04-04 22:00:00</td>\n",
       "      <td>4</td>\n",
       "      <td>0.667256</td>\n",
       "    </tr>\n",
       "    <tr>\n",
       "      <th>33060</th>\n",
       "      <td>2023-04-04 23:00:00</td>\n",
       "      <td>1</td>\n",
       "      <td>3.192456</td>\n",
       "    </tr>\n",
       "    <tr>\n",
       "      <th>33061</th>\n",
       "      <td>2023-04-04 23:00:00</td>\n",
       "      <td>2</td>\n",
       "      <td>1.131707</td>\n",
       "    </tr>\n",
       "    <tr>\n",
       "      <th>33062</th>\n",
       "      <td>2023-04-04 23:00:00</td>\n",
       "      <td>3</td>\n",
       "      <td>0.071790</td>\n",
       "    </tr>\n",
       "    <tr>\n",
       "      <th>33063</th>\n",
       "      <td>2023-04-04 23:00:00</td>\n",
       "      <td>4</td>\n",
       "      <td>0.325824</td>\n",
       "    </tr>\n",
       "  </tbody>\n",
       "</table>\n",
       "<p>384 rows × 3 columns</p>\n",
       "</div>"
      ],
      "text/plain": [
       "                      Time  ID    Target\n",
       "0      2023-04-01 00:00:00   1  3.719513\n",
       "1      2023-04-01 00:00:00   2  1.325190\n",
       "2      2023-04-01 00:00:00   3  0.071790\n",
       "3      2023-04-01 00:00:00   4  0.141977\n",
       "348    2023-04-01 01:00:00   1  3.807355\n",
       "...                    ...  ..       ...\n",
       "32715  2023-04-04 22:00:00   4  0.667256\n",
       "33060  2023-04-04 23:00:00   1  3.192456\n",
       "33061  2023-04-04 23:00:00   2  1.131707\n",
       "33062  2023-04-04 23:00:00   3  0.071790\n",
       "33063  2023-04-04 23:00:00   4  0.325824\n",
       "\n",
       "[384 rows x 3 columns]"
      ]
     },
     "execution_count": 36,
     "metadata": {},
     "output_type": "execute_result"
    }
   ],
   "source": [
    "small_df"
   ]
  },
  {
   "cell_type": "code",
   "execution_count": 63,
   "metadata": {},
   "outputs": [
    {
     "name": "stderr",
     "output_type": "stream",
     "text": [
      "/tmp/ipykernel_47855/2288874174.py:1: SettingWithCopyWarning: \n",
      "A value is trying to be set on a copy of a slice from a DataFrame\n",
      "\n",
      "See the caveats in the documentation: https://pandas.pydata.org/pandas-docs/stable/user_guide/indexing.html#returning-a-view-versus-a-copy\n",
      "  x = timegpt_fcst_df[\"ID\"][-96:] = 4\n"
     ]
    },
    {
     "data": {
      "text/plain": [
       "4"
      ]
     },
     "execution_count": 63,
     "metadata": {},
     "output_type": "execute_result"
    }
   ],
   "source": [
    "x = timegpt_fcst_df[\"ID\"][-96:] = 4\n",
    "x"
   ]
  },
  {
   "cell_type": "code",
   "execution_count": 93,
   "metadata": {},
   "outputs": [
    {
     "data": {
      "text/plain": [
       "torch.Size([96, 4])"
      ]
     },
     "execution_count": 93,
     "metadata": {},
     "output_type": "execute_result"
    }
   ],
   "source": [
    "preds = timegpt_fcst_df[\"TimeGPT\"]\n",
    "preds_list = torch.tensor(preds.to_list())\n",
    "preds_list = preds_list.view(96,4)\n",
    "preds_list.shape"
   ]
  },
  {
   "cell_type": "code",
   "execution_count": 94,
   "metadata": {},
   "outputs": [
    {
     "data": {
      "text/plain": [
       "torch.Size([96, 4])"
      ]
     },
     "execution_count": 94,
     "metadata": {},
     "output_type": "execute_result"
    }
   ],
   "source": [
    "small_targets = target[0][0,:,0:4]\n",
    "small_targets.shape"
   ]
  },
  {
   "cell_type": "code",
   "execution_count": 96,
   "metadata": {},
   "outputs": [
    {
     "data": {
      "text/plain": [
       "tensor(0.0137)"
      ]
     },
     "execution_count": 96,
     "metadata": {},
     "output_type": "execute_result"
    }
   ],
   "source": [
    "helpers.mean_squared_error(preds_list, small_targets) / (96*4)"
   ]
  }
 ],
 "metadata": {
  "kernelspec": {
   "display_name": "myenv",
   "language": "python",
   "name": "python3"
  },
  "language_info": {
   "codemirror_mode": {
    "name": "ipython",
    "version": 3
   },
   "file_extension": ".py",
   "mimetype": "text/x-python",
   "name": "python",
   "nbconvert_exporter": "python",
   "pygments_lexer": "ipython3",
   "version": "3.10.9"
  }
 },
 "nbformat": 4,
 "nbformat_minor": 2
}
