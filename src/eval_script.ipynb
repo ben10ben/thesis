{
 "cells": [
  {
   "cell_type": "code",
   "execution_count": 8,
   "metadata": {},
   "outputs": [],
   "source": [
    "import torch\n",
    "from iTransformer import iTransformer\n",
    "from utils.helpers import ModelConfig, calc_percentiles\n",
    "import torch.optim as optim\n",
    "from torch.utils.tensorboard import SummaryWriter\n",
    "\n"
   ]
  },
  {
   "cell_type": "code",
   "execution_count": 9,
   "metadata": {},
   "outputs": [],
   "source": [
    "window_size = 132\n",
    "pred_length = 12\n",
    "\n",
    "electricity = \"datasets/electricity/electricity_small.csv\""
   ]
  },
  {
   "cell_type": "code",
   "execution_count": 12,
   "metadata": {},
   "outputs": [],
   "source": [
    "# defining all needed instances\n",
    "device = torch.device(\"cuda\" if torch.cuda.is_available() else \"cpu\")\n",
    "\n",
    "config = ModelConfig(lookback_len=window_size, pred_length=pred_length)\n",
    "model = iTransformer(config)\n",
    "optimizer = optim.Adam(model.parameters(), lr=0.0001)\n",
    "scheduler = optim.lr_scheduler.StepLR(optimizer, step_size=10, gamma=0.1)\n",
    "writer = SummaryWriter(log_dir='logs')"
   ]
  },
  {
   "cell_type": "code",
   "execution_count": null,
   "metadata": {},
   "outputs": [],
   "source": [
    "# loading saved model\n",
    "checkpoint = torch.load('model_epoch_1.pt')\n",
    "model.load_state_dict(checkpoint['model_state_dict'])\n",
    "writer = SummaryWriter(log_dir='eval_logs')\n",
    "valid_dataloader = my_loading_function(electricity)\n",
    "\n",
    "device = torch.device(\"cuda:0\" if torch.cuda.is_available() else \"cpu\")\n",
    "model.to(device)\n",
    "model.eval()\n",
    "global_step_eval = 1\n",
    "total_p10_eval = 0\n",
    "total_p50_eval = 0\n",
    "total_p90_eval = 0\n",
    "\n",
    "# Example inference code\n",
    "with torch.no_grad():\n",
    "\ttotal_loss_eval = 0\n",
    "\tfor input, target_covariates in tqdm(valid_dataloader, desc=f\"Epoch: Validating\"):\n",
    "\t\tinput = input.to(device)\n",
    "\t\toutput_covariates = model(input)\n",
    "\n",
    "\t\t# this can be used for target specific fine-tuning\n",
    "\t\t#output = output_covariates[12][:,:,0]\n",
    "\t\t#target = target_covariates[:,:,0]\n",
    "\n",
    "\t\tloss = torch.nn.MSELoss()\n",
    "\t\tloss = loss(output_covariates[12], target_covariates)  # compute loss on all variates\n",
    "\t\t#computed_loss = loss(output, target)  # compute loss on target variate\n",
    "\n",
    "\t\ttotal_loss_eval += loss.item()\n",
    "\t\ttotal_p10_eval += calc_percentiles(output_covariates[12], target_covariates, 10)\n",
    "\t\ttotal_p50_eval += calc_percentiles(output_covariates[12], target_covariates, 50)\n",
    "\t\ttotal_p90_eval += calc_percentiles(output_covariates[12], target_covariates, 90)\n",
    "\n",
    "#additional metrics: MASE, MAPE, sMAPE\n",
    "\n",
    "\n",
    "print(f'MSE Loss: {total_loss_eval / len(valid_dataloader)}\\nP10: { total_p10_eval/ len(valid_dataloader)}\\n\\\n",
    "P50: {total_p50_eval/ len(valid_dataloader)}\\nP90: { total_p90_eval/ len(valid_dataloader)}')\n",
    "\n",
    "writer.add_scalar('MSE/valid', total_loss_eval/ len(valid_dataloader), global_step_eval)\n",
    "writer.add_scalar('P10/valid', total_p10_eval/ len(valid_dataloader), global_step_eval)\n",
    "writer.add_scalar('P50/valid', total_p50_eval/ len(valid_dataloader), global_step_eval)\n",
    "writer.add_scalar('P90/valid', total_p90_eval/ len(valid_dataloader), global_step_eval)\n",
    "\n",
    "writer.close()"
   ]
  }
 ],
 "metadata": {
  "kernelspec": {
   "display_name": "Python 3",
   "language": "python",
   "name": "python3"
  },
  "language_info": {
   "codemirror_mode": {
    "name": "ipython",
    "version": 3
   },
   "file_extension": ".py",
   "mimetype": "text/x-python",
   "name": "python",
   "nbconvert_exporter": "python",
   "pygments_lexer": "ipython3",
   "version": "3.8.10"
  }
 },
 "nbformat": 4,
 "nbformat_minor": 2
}
