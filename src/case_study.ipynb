{
 "cells": [
  {
   "cell_type": "code",
   "execution_count": 1,
   "metadata": {},
   "outputs": [
    {
     "name": "stdout",
     "output_type": "stream",
     "text": [
      "Import succesfull\n"
     ]
    }
   ],
   "source": [
    "# TODO which one?\n",
    "#git clone https://github.com/lucidrains/iTransformer.git\n",
    "#import iTransformer\n",
    "import sys\n",
    "sys.path.append('/vol/fob-vol7/nebenf21/reinbene/bene/MA/iTransformer') \n",
    "from iTransformer import iTransformer\n",
    "\n",
    "import torch\n",
    "\n",
    "from utils import data_handling, helpers, training_functions\n",
    "import config\n",
    "from torch.utils.tensorboard import SummaryWriter\n",
    "import torch.optim as optim\n",
    "import matplotlib.pyplot as plt\n",
    "import pickle\n",
    "from torch.utils.data import Dataset\n",
    "\n",
    "\n",
    "WINDOW_SIZE = 96\n",
    "PRED_LENGTH = (96)\n",
    "TRAIN_EPOCH = 15\n",
    "TUNE_EPOCH = 5\n",
    "\n",
    "four_weeks = 24*7*4\n",
    "TRAIN_EPOCHS = 4\n",
    "TUNE_EPOCHS = 2\n",
    "\n",
    "output_path = config.CONFIG_OUTPUT_PATH[\"final_outputs\"]\n",
    "\n",
    "print(\"Import succesfull\")"
   ]
  },
  {
   "cell_type": "code",
   "execution_count": 3,
   "metadata": {},
   "outputs": [],
   "source": [
    "class SlidingWindowNoOverlap(Dataset):\n",
    "    \"\"\"\n",
    "    Extra implementation of the dataloader which does not overlap data\n",
    "    Used for inference to get overall MwH error \n",
    "    \"\"\"\n",
    "    def __init__(self, data, WINDOW_SIZE, PRED_LENGTH):\n",
    "        self.data = data\n",
    "        self.window_size = WINDOW_SIZE\n",
    "        self.pred_lengths = PRED_LENGTH\n",
    "\n",
    "        if type(PRED_LENGTH) == int:\n",
    "            self.max_pred_lengths = PRED_LENGTH\n",
    "        else:\n",
    "            self.max_pred_lengths = max(PRED_LENGTH)\n",
    "\n",
    "        # Adjust the length to ensure non-overlapping windows\n",
    "        self.num_windows = (self.data.size(0) - self.window_size) // (self.window_size + self.max_pred_lengths)\n",
    "\n",
    "    def __len__(self):\n",
    "        return self.num_windows\n",
    "\n",
    "    def __getitem__(self, idx):\n",
    "        # Calculate the start index for the current window\n",
    "        start_idx = idx * (self.window_size + self.max_pred_lengths)\n",
    "        end_idx = start_idx + self.window_size\n",
    "\n",
    "        # Check if the index is within bounds\n",
    "        if start_idx < 0 or (end_idx + self.max_pred_lengths) > self.data.size(0):\n",
    "            raise IndexError(\"Index out of bounds\")\n",
    "\n",
    "        # Get the window of data\n",
    "        window = self.data[start_idx:end_idx]\n",
    "\n",
    "        # Get the targets\n",
    "        if type(self.pred_lengths) == int:\n",
    "            targets = self.data[end_idx:end_idx + self.pred_lengths]\n",
    "        else:\n",
    "            targets = tuple(\n",
    "                self.data[end_idx:end_idx + PRED_LENGTH]\n",
    "                for pred_length in self.pred_lengths\n",
    "            )\n",
    "\n",
    "        return window, targets"
   ]
  },
  {
   "cell_type": "markdown",
   "metadata": {},
   "source": [
    "# Select dataset for transfer learning"
   ]
  },
  {
   "cell_type": "code",
   "execution_count": 4,
   "metadata": {},
   "outputs": [],
   "source": [
    "# building genome project dataset\n",
    "data_tensor = data_handling.load_genome_project_data()\n",
    "data_dict, standadizer = data_handling.train_test_split_eu_elec(data_tensor, standardize=True)\n",
    "# convert to datalaoder\n",
    "gp_dict_tensor = {1:1, 2:2, 3:3, 4:4, 5:5, 6:6, 7:7, 8:8, 9:9, 10:10, 11:11, 12:12}\n",
    "gp_dict_train =  {1:1, 2:2, 3:3, 4:4, 5:5, 6:6, 7:7, 8:8, 9:9, 10:10, 11:11, 12:12}\n",
    "gp_dict_target =  {1:1, 2:2, 3:3, 4:4, 5:5, 6:6, 7:7, 8:8, 9:9, 10:10, 11:11, 12:12}\n",
    "\n",
    "benchmark_list_name = config.CONFIG_OUTPUT_PATH[\"itransformer\"] / \"benchmark_list_case_study.pkl\"\n",
    "baseline_list_name =  config.CONFIG_OUTPUT_PATH[\"itransformer\"] / \"baseline_list_case_study.pkl\"\n",
    "benchmark_one_model_name =  config.CONFIG_OUTPUT_PATH[\"itransformer\"] / \"benchmark_one_model_case_study.pkl\"\n",
    "\n",
    "\n",
    "# Initialize empty lists\n",
    "month_mse = []\n",
    "month_mse_baseline = []\n",
    "one_model_tl = []\n",
    "load = []\n",
    "\n",
    "# Load predictions if available\n",
    "try:\n",
    "  with open(benchmark_list_name, 'rb') as file:\n",
    "    month_mse = pickle.load(file)\n",
    "except Exception as e:\n",
    "  print(f\"Could not load {benchmark_list_name}: {e}\")\n",
    "  month_mse = []\n",
    "\n",
    "try:\n",
    "  with open(baseline_list_name, \"rb\") as file:\n",
    "    month_mse_baseline = pickle.load(file)\n",
    "except Exception as e:\n",
    "  print(f\"Could not load {baseline_list_name}: {e}\")\n",
    "  month_mse_baseline = []\n",
    "\n",
    "try:\n",
    "  with open(benchmark_one_model_name, \"rb\") as file:\n",
    "    one_model_tl = pickle.load(file)\n",
    "except Exception as e:\n",
    "  print(f\"Could not load {benchmark_one_model_name}: {e}\")\n",
    "  one_model_tl = []\n",
    "\n",
    "\n",
    "# add fine-tuning datalaoders\n",
    "# create a smaller subset of the train dataset\n",
    "standadize_dict = None\n",
    "standadizer_list = []\n",
    "for key, value in gp_dict_train.items():\n",
    "  horizon = value*four_weeks\n",
    "\n",
    "  test_split = data_tensor[horizon-four_weeks:horizon:,:]\n",
    "  train_split = data_tensor[:horizon,:]\n",
    "  gp_dict_tensor[key] =  test_split\n",
    "  long_train = data_handling.SlidingWindowTimeSeriesDataset(train_split , WINDOW_SIZE, PRED_LENGTH)\n",
    "  long_target = SlidingWindowNoOverlap(test_split, WINDOW_SIZE, PRED_LENGTH)\n",
    "  gp_dict_train[key] = data_handling.DataLoader(long_train , batch_size=32, shuffle=True)\n",
    "  gp_dict_target[key] = data_handling.DataLoader(long_target , batch_size=32, shuffle=False)\n",
    "\n",
    "# define parameters for all models\n",
    "best_parameters = {'depth': 2, 'dim': 256, 'dim_head': 56, 'heads': 4, 'attn_dropout': 0.2, 'ff_mult': 4, 'ff_dropout': 0.2, \n",
    "                        'num_mem_tokens': 4, 'learning_rate': 0.0005}"
   ]
  },
  {
   "cell_type": "markdown",
   "metadata": {},
   "source": [
    "# forecast first month\n",
    "Task: day ahead forecast\n",
    "\n",
    "Our baseline is: last day lag by 24h\n",
    "\n",
    "benchmark: pre-trained itransformer zero-shot"
   ]
  },
  {
   "cell_type": "code",
   "execution_count": null,
   "metadata": {},
   "outputs": [
    {
     "name": "stdout",
     "output_type": "stream",
     "text": [
      "Using device: cuda:0\n"
     ]
    },
    {
     "data": {
      "text/plain": [
       "<All keys matched successfully>"
      ]
     },
     "execution_count": 53,
     "metadata": {},
     "output_type": "execute_result"
    }
   ],
   "source": [
    "# define needed functions\n",
    "def lag_loss(horizon, days):\n",
    "    # calc first month simple prediciton\n",
    "    hours = 3*days\n",
    "\n",
    "    preds = horizon[:-hours,:] \n",
    "    target = horizon[hours:,:]    \n",
    "    assert preds.shape == target.shape\n",
    "    mse_loss = torch.nn.L1Loss(reduction=\"sum\")\n",
    "\n",
    "    mse = mse_loss(preds, target)\n",
    "    return mse.item()\n",
    "\n",
    "# benchmark\n",
    "def fine_tune(model, dataloader_train, dataloader_validation, device, epoch=5):\n",
    "\n",
    "    # defining all needed instances\n",
    "    optimizer = optim.Adam(model.parameters(), lr=0.0005)\n",
    "    writer = SummaryWriter(log_dir=config.CONFIG_LOGS_PATH[\"itransformer\"])\n",
    "\n",
    "    # run model training as mentioned in the original paper\n",
    "    _, model = training_functions.train_one_epoch(epoch, model, device, dataloader_train, dataloader_validation, optimizer, \\\n",
    "                                                        writer, save_model=False, validate=False)\n",
    "    return model, device\n",
    "\n",
    "\n",
    "def predict_after_startup(model, loss_list, device, gp_dict=gp_dict_train):\n",
    "    for key in gp_dict.keys():\n",
    "        print(key)\n",
    "        if key == 12: break\n",
    "        if key == 1: continue\n",
    "\n",
    "        model, device = fine_tune(model, gp_dict[key], None, device, epoch=TUNE_EPOCHS)\n",
    "        metrics_fine_tuned = helpers.full_eval(model, gp_dict[key+1], device, reduction=\"sum\")[1]\n",
    "        loss_list.append(metrics_fine_tuned)   \n",
    "    return loss_list\n",
    "\n",
    "\n",
    "\n",
    "# setup base model and pre-traiend model\n",
    "model_path = config.CONFIG_MODEL_LOCATION[\"itransformer\"] / \"ELD\" / \"ELD_full_dataset_best_val_loss.pt\"\n",
    "\n",
    "dataloader = gp_dict_target[1]\n",
    "inputs, _ = next(iter(dataloader))\n",
    "num_variates = inputs.size(2)\n",
    "\n",
    "model_config = {\n",
    "            'num_variates': num_variates,\n",
    "            'lookback_len': WINDOW_SIZE,\n",
    "            'depth': best_parameters[\"depth\"],\n",
    "            'dim': best_parameters[\"dim\"],\n",
    "            'num_tokens_per_variate': 1,\n",
    "            'pred_length': PRED_LENGTH,\n",
    "            'dim_head': best_parameters[\"dim_head\"],\n",
    "            'heads': best_parameters[\"heads\"],\n",
    "            'attn_dropout': best_parameters[\"attn_dropout\"],\n",
    "            'ff_mult': best_parameters[\"ff_mult\"],\n",
    "            'ff_dropout': best_parameters[\"ff_dropout\"],\n",
    "            'num_mem_tokens': best_parameters[\"num_mem_tokens\"],\n",
    "            'use_reversible_instance_norm': True,\n",
    "            'reversible_instance_norm_affine': True,\n",
    "            'flash_attn': True\n",
    "        }\n",
    "\n",
    "device = torch.device(\"cuda:0\" if torch.cuda.is_available() else \"cpu\")\n",
    "print(f\"Using device: {device}\")\n",
    "\n",
    "\n",
    "checkpoint = torch.load(model_path,map_location='cpu')\n",
    "\n",
    "# values are all set to zero (beta) and one (gamma), array needs to be adapted to num_variates\n",
    "# learned affine parameters are series specific and need to be relearned for new series\n",
    "# value are kept at 1 and 0 for stationary normalization\n",
    "beta = checkpoint[\"model_state_dict\"][\"reversible_instance_norm.beta\"] \n",
    "gamma = checkpoint[\"model_state_dict\"][\"reversible_instance_norm.gamma\"]\n",
    "\n",
    "    # make affine parameter list longer if target series has more channels\n",
    "if beta.shape[0] < num_variates:\n",
    "    factor = (num_variates // beta.shape[0]) + 1\n",
    "    beta  = torch.cat([beta] *factor)\n",
    "    gamma = torch.cat([gamma] * factor)\n",
    "\n",
    "# shorten affine parameters to exact number\n",
    "checkpoint[\"model_state_dict\"][\"reversible_instance_norm.beta\"] = beta[:num_variates]\n",
    "checkpoint[\"model_state_dict\"][\"reversible_instance_norm.gamma\"] = gamma[:num_variates]\n",
    "\n",
    "\n",
    "# load models\n",
    "benchmark_model = iTransformer(**model_config).to(device)\n",
    "benchmark_model.load_state_dict(checkpoint['model_state_dict'])\n"
   ]
  },
  {
   "cell_type": "code",
   "execution_count": null,
   "metadata": {},
   "outputs": [],
   "source": [
    "if len(month_mse_baseline) == 0:\n",
    "    # baseline month 1\n",
    "    loss = lag_loss(gp_dict_tensor[1], 3)\n",
    "    month_mse_baseline.append(loss)\n",
    "\n",
    "if len(month_mse) == 0:\n",
    "    # benchmark month 1\n",
    "    zero_shot_loss = helpers.full_eval(benchmark_model, dataloader, device, reduction=\"sum\")[1]\n",
    "    month_mse.append(zero_shot_loss)\n",
    "    one_model_tl.append(zero_shot_loss)\n",
    "\n",
    "if len(load) == 0:\n",
    "    load.append(gp_dict_tensor[1][3:].sum().item())\n"
   ]
  },
  {
   "cell_type": "code",
   "execution_count": null,
   "metadata": {},
   "outputs": [
    {
     "name": "stderr",
     "output_type": "stream",
     "text": [
      "Epoch: 1: 100%|██████████| 15/15 [00:03<00:00,  4.78it/s]\n",
      "Epoch: 2: 100%|██████████| 15/15 [00:03<00:00,  4.25it/s]\n",
      "Epoch: 3: 100%|██████████| 15/15 [00:03<00:00,  4.19it/s]\n",
      "Epoch: Validating: 100%|██████████| 1/1 [00:00<00:00, 116.78it/s]\n",
      "Epoch: 1: 100%|██████████| 36/36 [00:07<00:00,  4.50it/s]\n",
      "Epoch: 2: 100%|██████████| 36/36 [00:08<00:00,  4.14it/s]\n",
      "Epoch: 3: 100%|██████████| 36/36 [00:08<00:00,  4.48it/s]\n",
      "Epoch: Validating: 100%|██████████| 1/1 [00:00<00:00, 149.18it/s]\n",
      "Epoch: 1: 100%|██████████| 57/57 [00:13<00:00,  4.26it/s]\n",
      "Epoch: 2: 100%|██████████| 57/57 [00:12<00:00,  4.49it/s]\n",
      "Epoch: 3: 100%|██████████| 57/57 [00:13<00:00,  4.26it/s]\n",
      "Epoch: Validating: 100%|██████████| 1/1 [00:00<00:00, 161.97it/s]\n",
      "Epoch: 1: 100%|██████████| 78/78 [00:17<00:00,  4.39it/s]\n",
      "Epoch: 2: 100%|██████████| 78/78 [00:17<00:00,  4.39it/s]\n",
      "Epoch: 3: 100%|██████████| 78/78 [00:17<00:00,  4.39it/s]\n",
      "Epoch: Validating: 100%|██████████| 1/1 [00:00<00:00, 138.09it/s]\n",
      "Epoch: 1: 100%|██████████| 99/99 [00:22<00:00,  4.42it/s]\n",
      "Epoch: 2: 100%|██████████| 99/99 [00:22<00:00,  4.30it/s]\n",
      "Epoch: 3: 100%|██████████| 99/99 [00:22<00:00,  4.38it/s]\n",
      "Epoch: Validating: 100%|██████████| 1/1 [00:00<00:00, 121.48it/s]\n",
      "Epoch: 1: 100%|██████████| 120/120 [00:27<00:00,  4.38it/s]\n",
      "Epoch: 2: 100%|██████████| 120/120 [00:27<00:00,  4.37it/s]\n",
      "Epoch: 3: 100%|██████████| 120/120 [00:27<00:00,  4.42it/s]\n",
      "Epoch: Validating: 100%|██████████| 1/1 [00:00<00:00, 148.78it/s]\n",
      "Epoch: 1: 100%|██████████| 141/141 [00:31<00:00,  4.52it/s]\n",
      "Epoch: 2: 100%|██████████| 141/141 [00:31<00:00,  4.48it/s]\n",
      "Epoch: 3: 100%|██████████| 141/141 [00:32<00:00,  4.32it/s]\n",
      "Epoch: Validating: 100%|██████████| 1/1 [00:00<00:00, 16.95it/s]\n",
      "Epoch: 1: 100%|██████████| 162/162 [00:37<00:00,  4.29it/s]\n",
      "Epoch: 2: 100%|██████████| 162/162 [00:35<00:00,  4.50it/s]\n",
      "Epoch: 3: 100%|██████████| 162/162 [00:37<00:00,  4.27it/s]\n",
      "Epoch: Validating: 100%|██████████| 1/1 [00:00<00:00, 152.93it/s]\n",
      "Epoch: 1: 100%|██████████| 183/183 [00:40<00:00,  4.50it/s]\n",
      "Epoch: 2: 100%|██████████| 183/183 [00:42<00:00,  4.32it/s]\n",
      "Epoch: 3: 100%|██████████| 183/183 [00:41<00:00,  4.39it/s]\n",
      "Epoch: Validating: 100%|██████████| 1/1 [00:00<00:00, 16.74it/s]\n",
      "Epoch: 1: 100%|██████████| 204/204 [00:47<00:00,  4.34it/s]\n",
      "Epoch: 2: 100%|██████████| 204/204 [00:46<00:00,  4.37it/s]\n",
      "Epoch: 3: 100%|██████████| 204/204 [00:45<00:00,  4.45it/s]\n",
      "Epoch: Validating: 100%|██████████| 1/1 [00:00<00:00, 157.55it/s]\n",
      "Epoch: 1: 100%|██████████| 225/225 [00:50<00:00,  4.41it/s]\n",
      "Epoch: 2: 100%|██████████| 225/225 [00:52<00:00,  4.31it/s]\n",
      "Epoch: 3: 100%|██████████| 225/225 [00:51<00:00,  4.41it/s]\n",
      "Epoch: Validating: 100%|██████████| 1/1 [00:00<00:00, 124.25it/s]\n"
     ]
    }
   ],
   "source": [
    "benchmark_model.load_state_dict(checkpoint['model_state_dict'])\n",
    "\n",
    "for key in gp_dict_train.keys():\n",
    "    if key < len(one_model_tl): break\n",
    "    if key == 12: break\n",
    "    benchmark_model, device = fine_tune(benchmark_model, gp_dict_train[key], None, device, epoch=3)\n",
    "    metrics_benchmark = helpers.full_eval(benchmark_model, gp_dict_target[key + 1], device, reduction=\"sum\")[1]\n",
    "    one_model_tl.append(metrics_benchmark)\n",
    "\n",
    "# save as pickle\n",
    "with open(benchmark_one_model_name, 'wb') as file:\n",
    "    pickle.dump(one_model_tl, file)"
   ]
  },
  {
   "cell_type": "code",
   "execution_count": null,
   "metadata": {},
   "outputs": [
    {
     "name": "stdout",
     "output_type": "stream",
     "text": [
      "1\n"
     ]
    },
    {
     "name": "stderr",
     "output_type": "stream",
     "text": [
      "Epoch: 1:   0%|          | 0/15 [00:00<?, ?it/s]"
     ]
    },
    {
     "name": "stderr",
     "output_type": "stream",
     "text": [
      "Epoch: 1: 100%|██████████| 15/15 [00:05<00:00,  2.95it/s]\n",
      "Epoch: 2: 100%|██████████| 15/15 [00:05<00:00,  2.55it/s]\n",
      "Epoch: 3: 100%|██████████| 15/15 [00:04<00:00,  3.44it/s]\n",
      "Epoch: 4: 100%|██████████| 15/15 [00:04<00:00,  3.33it/s]\n",
      "Epoch: Validating: 100%|██████████| 1/1 [00:00<00:00, 104.31it/s]\n",
      "Epoch: 1: 100%|██████████| 15/15 [00:03<00:00,  4.35it/s]\n",
      "Epoch: 2: 100%|██████████| 15/15 [00:03<00:00,  4.20it/s]\n",
      "Epoch: 3: 100%|██████████| 15/15 [00:03<00:00,  4.49it/s]\n",
      "Epoch: 4: 100%|██████████| 15/15 [00:05<00:00,  2.92it/s]\n",
      "Epoch: Validating: 100%|██████████| 1/1 [00:00<00:00, 16.06it/s]\n"
     ]
    },
    {
     "name": "stdout",
     "output_type": "stream",
     "text": [
      "2\n"
     ]
    },
    {
     "name": "stderr",
     "output_type": "stream",
     "text": [
      "Epoch: 1: 100%|██████████| 36/36 [00:10<00:00,  3.59it/s]\n",
      "Epoch: 2: 100%|██████████| 36/36 [00:09<00:00,  3.76it/s]\n",
      "Epoch: 3: 100%|██████████| 36/36 [00:10<00:00,  3.33it/s]\n",
      "Epoch: 4: 100%|██████████| 36/36 [00:12<00:00,  2.94it/s]\n",
      "Epoch: Validating: 100%|██████████| 1/1 [00:00<00:00, 108.22it/s]\n",
      "Epoch: 1: 100%|██████████| 36/36 [00:08<00:00,  4.27it/s]\n",
      "Epoch: 2: 100%|██████████| 36/36 [00:10<00:00,  3.29it/s]\n",
      "Epoch: 3: 100%|██████████| 36/36 [00:14<00:00,  2.51it/s]\n",
      "Epoch: 4: 100%|██████████| 36/36 [00:16<00:00,  2.20it/s]\n",
      "Epoch: Validating: 100%|██████████| 1/1 [00:00<00:00, 175.12it/s]\n"
     ]
    },
    {
     "name": "stdout",
     "output_type": "stream",
     "text": [
      "3\n"
     ]
    },
    {
     "name": "stderr",
     "output_type": "stream",
     "text": [
      "Epoch: 1: 100%|██████████| 57/57 [00:26<00:00,  2.17it/s]\n",
      "Epoch: 2: 100%|██████████| 57/57 [00:14<00:00,  3.85it/s]\n",
      "Epoch: 3: 100%|██████████| 57/57 [00:17<00:00,  3.30it/s]\n",
      "Epoch: 4: 100%|██████████| 57/57 [00:15<00:00,  3.72it/s]\n",
      "Epoch: Validating: 100%|██████████| 1/1 [00:00<00:00, 12.96it/s]\n",
      "Epoch: 1: 100%|██████████| 57/57 [00:18<00:00,  3.01it/s]\n",
      "Epoch: 2: 100%|██████████| 57/57 [00:16<00:00,  3.49it/s]\n",
      "Epoch: 3: 100%|██████████| 57/57 [00:18<00:00,  3.15it/s]\n",
      "Epoch: 4: 100%|██████████| 57/57 [00:17<00:00,  3.23it/s]\n",
      "Epoch: Validating: 100%|██████████| 1/1 [00:00<00:00, 19.83it/s]\n"
     ]
    },
    {
     "name": "stdout",
     "output_type": "stream",
     "text": [
      "4\n"
     ]
    },
    {
     "name": "stderr",
     "output_type": "stream",
     "text": [
      "Epoch: 1: 100%|██████████| 78/78 [00:27<00:00,  2.83it/s]\n",
      "Epoch: 2: 100%|██████████| 78/78 [00:26<00:00,  2.96it/s]\n",
      "Epoch: 3: 100%|██████████| 78/78 [00:22<00:00,  3.44it/s]\n",
      "Epoch: 4: 100%|██████████| 78/78 [00:20<00:00,  3.76it/s]\n",
      "Epoch: Validating: 100%|██████████| 1/1 [00:00<00:00, 37.68it/s]\n",
      "Epoch: 1: 100%|██████████| 78/78 [00:24<00:00,  3.12it/s]\n",
      "Epoch: 2: 100%|██████████| 78/78 [00:25<00:00,  3.01it/s]\n",
      "Epoch: 3: 100%|██████████| 78/78 [00:27<00:00,  2.80it/s]\n",
      "Epoch: 4: 100%|██████████| 78/78 [00:26<00:00,  2.97it/s]\n",
      "Epoch: Validating: 100%|██████████| 1/1 [00:00<00:00, 158.81it/s]\n"
     ]
    },
    {
     "name": "stdout",
     "output_type": "stream",
     "text": [
      "5\n"
     ]
    },
    {
     "name": "stderr",
     "output_type": "stream",
     "text": [
      "Epoch: 1: 100%|██████████| 99/99 [00:33<00:00,  2.95it/s]\n",
      "Epoch: 2: 100%|██████████| 99/99 [00:27<00:00,  3.64it/s]\n",
      "Epoch: 3: 100%|██████████| 99/99 [00:33<00:00,  2.92it/s]\n",
      "Epoch: 4: 100%|██████████| 99/99 [00:29<00:00,  3.34it/s]\n",
      "Epoch: Validating: 100%|██████████| 1/1 [00:00<00:00, 15.94it/s]\n",
      "Epoch: 1: 100%|██████████| 99/99 [00:34<00:00,  2.89it/s]\n",
      "Epoch: 2: 100%|██████████| 99/99 [00:46<00:00,  2.13it/s]\n",
      "Epoch: 3: 100%|██████████| 99/99 [00:31<00:00,  3.10it/s]\n",
      "Epoch: 4: 100%|██████████| 99/99 [00:33<00:00,  2.97it/s]\n",
      "Epoch: Validating: 100%|██████████| 1/1 [00:00<00:00, 72.97it/s]\n"
     ]
    },
    {
     "name": "stdout",
     "output_type": "stream",
     "text": [
      "6\n"
     ]
    },
    {
     "name": "stderr",
     "output_type": "stream",
     "text": [
      "Epoch: 1: 100%|██████████| 120/120 [00:37<00:00,  3.23it/s]\n",
      "Epoch: 2: 100%|██████████| 120/120 [00:41<00:00,  2.88it/s]\n",
      "Epoch: 3: 100%|██████████| 120/120 [00:48<00:00,  2.46it/s]\n",
      "Epoch: 4: 100%|██████████| 120/120 [00:54<00:00,  2.19it/s]\n",
      "Epoch: Validating: 100%|██████████| 1/1 [00:00<00:00,  9.27it/s]\n",
      "Epoch: 1: 100%|██████████| 120/120 [00:59<00:00,  2.00it/s]\n",
      "Epoch: 2: 100%|██████████| 120/120 [00:50<00:00,  2.39it/s]\n",
      "Epoch: 3: 100%|██████████| 120/120 [00:52<00:00,  2.31it/s]\n",
      "Epoch: 4: 100%|██████████| 120/120 [00:46<00:00,  2.56it/s]\n",
      "Epoch: Validating: 100%|██████████| 1/1 [00:00<00:00, 17.11it/s]\n"
     ]
    },
    {
     "name": "stdout",
     "output_type": "stream",
     "text": [
      "7\n"
     ]
    },
    {
     "name": "stderr",
     "output_type": "stream",
     "text": [
      "Epoch: 1: 100%|██████████| 141/141 [01:04<00:00,  2.19it/s]\n",
      "Epoch: 2: 100%|██████████| 141/141 [01:18<00:00,  1.80it/s]\n",
      "Epoch: 3: 100%|██████████| 141/141 [01:04<00:00,  2.18it/s]\n",
      "Epoch: 4: 100%|██████████| 141/141 [00:52<00:00,  2.70it/s]\n",
      "Epoch: Validating: 100%|██████████| 1/1 [00:00<00:00, 77.57it/s]\n",
      "Epoch: 1: 100%|██████████| 141/141 [00:45<00:00,  3.10it/s]\n",
      "Epoch: 2: 100%|██████████| 141/141 [01:04<00:00,  2.18it/s]\n",
      "Epoch: 3: 100%|██████████| 141/141 [00:49<00:00,  2.86it/s]\n",
      "Epoch: 4: 100%|██████████| 141/141 [00:55<00:00,  2.53it/s]\n",
      "Epoch: Validating: 100%|██████████| 1/1 [00:00<00:00, 39.54it/s]\n"
     ]
    },
    {
     "name": "stdout",
     "output_type": "stream",
     "text": [
      "8\n"
     ]
    },
    {
     "name": "stderr",
     "output_type": "stream",
     "text": [
      "Epoch: 1: 100%|██████████| 162/162 [00:54<00:00,  2.96it/s]\n",
      "Epoch: 2: 100%|██████████| 162/162 [01:06<00:00,  2.42it/s]\n",
      "Epoch: 3: 100%|██████████| 162/162 [01:01<00:00,  2.64it/s]\n",
      "Epoch: 4: 100%|██████████| 162/162 [01:09<00:00,  2.34it/s]\n",
      "Epoch: Validating: 100%|██████████| 1/1 [00:00<00:00, 19.48it/s]\n",
      "Epoch: 1: 100%|██████████| 162/162 [01:07<00:00,  2.42it/s]\n",
      "Epoch: 2: 100%|██████████| 162/162 [01:09<00:00,  2.35it/s]\n",
      "Epoch: 3: 100%|██████████| 162/162 [01:15<00:00,  2.15it/s]\n",
      "Epoch: 4: 100%|██████████| 162/162 [01:18<00:00,  2.07it/s]\n",
      "Epoch: Validating: 100%|██████████| 1/1 [00:00<00:00, 18.30it/s]\n"
     ]
    },
    {
     "name": "stdout",
     "output_type": "stream",
     "text": [
      "9\n"
     ]
    },
    {
     "name": "stderr",
     "output_type": "stream",
     "text": [
      "Epoch: 1: 100%|██████████| 183/183 [01:40<00:00,  1.81it/s]\n",
      "Epoch: 2: 100%|██████████| 183/183 [01:03<00:00,  2.87it/s]\n",
      "Epoch: 3: 100%|██████████| 183/183 [01:16<00:00,  2.40it/s]\n",
      "Epoch: 4: 100%|██████████| 183/183 [01:08<00:00,  2.66it/s]\n",
      "Epoch: Validating: 100%|██████████| 1/1 [00:00<00:00, 18.14it/s]\n",
      "Epoch: 1: 100%|██████████| 183/183 [01:06<00:00,  2.77it/s]\n",
      "Epoch: 2: 100%|██████████| 183/183 [01:10<00:00,  2.59it/s]\n",
      "Epoch: 3: 100%|██████████| 183/183 [01:19<00:00,  2.31it/s]\n",
      "Epoch: 4: 100%|██████████| 183/183 [01:14<00:00,  2.46it/s]\n",
      "Epoch: Validating: 100%|██████████| 1/1 [00:00<00:00,  5.07it/s]\n"
     ]
    },
    {
     "name": "stdout",
     "output_type": "stream",
     "text": [
      "10\n"
     ]
    },
    {
     "name": "stderr",
     "output_type": "stream",
     "text": [
      "Epoch: 1: 100%|██████████| 204/204 [01:22<00:00,  2.49it/s]\n",
      "Epoch: 2: 100%|██████████| 204/204 [01:37<00:00,  2.10it/s]\n",
      "Epoch: 3: 100%|██████████| 204/204 [01:36<00:00,  2.12it/s]\n",
      "Epoch: 4: 100%|██████████| 204/204 [01:27<00:00,  2.32it/s]\n",
      "Epoch: Validating: 100%|██████████| 1/1 [00:00<00:00, 15.72it/s]\n",
      "Epoch: 1: 100%|██████████| 204/204 [01:27<00:00,  2.33it/s]\n",
      "Epoch: 2: 100%|██████████| 204/204 [01:29<00:00,  2.28it/s]\n",
      "Epoch: 3: 100%|██████████| 204/204 [01:25<00:00,  2.38it/s]\n",
      "Epoch: 4: 100%|██████████| 204/204 [01:23<00:00,  2.43it/s]\n",
      "Epoch: Validating: 100%|██████████| 1/1 [00:00<00:00, 154.66it/s]\n"
     ]
    },
    {
     "name": "stdout",
     "output_type": "stream",
     "text": [
      "11\n"
     ]
    },
    {
     "name": "stderr",
     "output_type": "stream",
     "text": [
      "Epoch: 1: 100%|██████████| 225/225 [01:32<00:00,  2.44it/s]\n",
      "Epoch: 2: 100%|██████████| 225/225 [01:59<00:00,  1.89it/s]\n",
      "Epoch: 3: 100%|██████████| 225/225 [01:42<00:00,  2.20it/s]\n",
      "Epoch: 4: 100%|██████████| 225/225 [01:35<00:00,  2.37it/s]\n",
      "Epoch: Validating: 100%|██████████| 1/1 [00:00<00:00, 18.30it/s]\n",
      "Epoch: 1: 100%|██████████| 225/225 [01:30<00:00,  2.49it/s]\n",
      "Epoch: 2: 100%|██████████| 225/225 [01:30<00:00,  2.47it/s]\n",
      "Epoch: 3: 100%|██████████| 225/225 [01:57<00:00,  1.92it/s]\n",
      "Epoch: 4: 100%|██████████| 225/225 [01:26<00:00,  2.61it/s]\n",
      "Epoch: Validating: 100%|██████████| 1/1 [00:00<00:00, 40.82it/s]\n"
     ]
    }
   ],
   "source": [
    "for key in gp_dict_train.keys():\n",
    "    if key == 12: break\n",
    "    print(key)\n",
    "    if key <= len(month_mse):\n",
    "        benchmark_model.load_state_dict(checkpoint['model_state_dict'])\n",
    "        benchmark_model, device = fine_tune(benchmark_model, gp_dict_train[key], None, device, epoch=TRAIN_EPOCHS)\n",
    "        metrics_benchmark = helpers.full_eval(benchmark_model, gp_dict_target[key + 1], device, reduction=\"sum\")[1]\n",
    "        month_mse.append(metrics_benchmark)\n",
    "\n",
    "        # save as pickle\n",
    "        with open(benchmark_list_name, 'wb') as file:\n",
    "                pickle.dump(month_mse, file)\n",
    "\n",
    "    if key <= len(month_mse_baseline):\n",
    "        baseline_model = iTransformer(**model_config).to(device)\n",
    "        baseline_model, device = fine_tune(baseline_model, gp_dict_train[key], None, device, epoch=TRAIN_EPOCHS)\n",
    "        metrics_baseline = helpers.full_eval(baseline_model, gp_dict_target[key + 1], device, reduction=\"sum\")[1]\n",
    "        month_mse_baseline.append(metrics_baseline)\n",
    "\n",
    "        # save as pickle\n",
    "        with open(baseline_list_name, 'wb') as file:\n",
    "                pickle.dump(month_mse_baseline, file)"
   ]
  },
  {
   "cell_type": "markdown",
   "metadata": {},
   "source": [
    "# forecast following months\n",
    "\n",
    "Baseline: train itransformer on last month, following month: finetune\n",
    "\n",
    "Benchmark: fine-tune from previous month"
   ]
  },
  {
   "cell_type": "code",
   "execution_count": null,
   "metadata": {},
   "outputs": [],
   "source": [
    "load = []\n",
    "\n",
    "for key in gp_dict_train.keys():\n",
    "    load.append(gp_dict_tensor[key][3:].sum().item())\n"
   ]
  },
  {
   "cell_type": "code",
   "execution_count": 21,
   "metadata": {},
   "outputs": [
    {
     "data": {
      "image/png": "[encoded data removed]",
      "text/plain": [
       "<Figure size 1000x500 with 1 Axes>"
      ]
     },
     "metadata": {},
     "output_type": "display_data"
    }
   ],
   "source": [
    "# Plotting the data\n",
    "gw_conversion = 1000000  \n",
    "\n",
    "month_benchmark_gwh = [value / gw_conversion for value in month_mse]\n",
    "month_baseline_gwh = [value / gw_conversion for value in month_mse_baseline]\n",
    "month_one_model_gwh = [value / gw_conversion for value in one_model_tl]\n",
    "\n",
    "\n",
    "plt.figure(figsize=(10, 5))\n",
    "plt.plot(month_benchmark_gwh, label='Pre-trained multi-model', marker='o')\n",
    "#plt.plot(load, label='Overall load', marker='x')\n",
    "#plt.plot(last_three_days, label='Baseline past days', marker='x')\n",
    "plt.plot(month_one_model_gwh, label='Pre-trained single-model', marker='x')\n",
    "plt.plot(month_baseline_gwh, label='Baseline', marker='x')\n",
    "\n",
    "\n",
    "\n",
    "\n",
    "# Adding titles and labels\n",
    "plt.title('MAE on GP2 dataset using different strategies, summed per split.')\n",
    "plt.xlabel('4 week splits')\n",
    "plt.ylabel('GWh [log-scale]')\n",
    "plt.yscale('log')\n",
    "\n",
    "# Adding a legend\n",
    "plt.legend()\n",
    "\n",
    "# Display the plot\n",
    "\n",
    "plt.savefig(output_path / f'startup_strategies_mae.png', format='png')  # Save as PNG file\n",
    "plt.show()\n"
   ]
  },
  {
   "cell_type": "code",
   "execution_count": null,
   "metadata": {},
   "outputs": [
    {
     "name": "stdout",
     "output_type": "stream",
     "text": [
      "full re-train every month is better by: 3.0457993153614416 percent\n"
     ]
    }
   ],
   "source": [
    "# Improvement of TL models that are newly trained for every datasplit on all past data\n",
    "improvement_multi_model = sum(month_mse) - sum(month_mse_baseline)\n",
    "improvement_multi_model_percent =  ((sum(month_mse_baseline) / sum(month_mse)) - 1) * 100\n",
    "\n",
    "# How much improvement for one re-trained TL model compared to baseline\n",
    "improvement_one_model = sum(one_model_tl) - sum(month_mse_baseline)\n",
    "improvement_one_model_percent =  ((sum(month_mse_baseline) / sum(month_mse)) - 1) * 100\n",
    "\n",
    "best_tl_strategy =  ((sum(one_model_tl) / sum(month_mse)) - 1) * 100\n",
    "\n",
    "# show percent improvement, re-trainig full model every time is 3% better\n",
    "print(\"full re-train every month is better by:\", best_tl_strategy, \"percent\")"
   ]
  },
  {
   "cell_type": "code",
   "execution_count": null,
   "metadata": {},
   "outputs": [
    {
     "name": "stdout",
     "output_type": "stream",
     "text": [
      "10.54569531746421 percent improvement excludng month 1\n",
      "29.30124867990933 percent improvemen including month 1\n"
     ]
    }
   ],
   "source": [
    "# best TL compared to baseline EXCLUDING first month\n",
    "improvement_over_baseline_abs = sum(month_mse_baseline[1:]) - min(sum(one_model_tl[1:]), sum(month_mse[1:])) \n",
    "improvement_over_baseline_perc = (sum(month_mse_baseline[1:]) / min(sum(one_model_tl[1:]), sum(month_mse[1:])) - 1) *100\n",
    "print(improvement_over_baseline_perc, \"percent improvement excludng month 1\")\n",
    "\n",
    "\n",
    "# best TL compared to baseline INCLUDING first month\n",
    "improvement_over_baseline_abs_all = sum(month_mse_baseline) - min(sum(one_model_tl), sum(month_mse)) \n",
    "improvement_over_baseline_perc_all = (sum(month_mse_baseline) / min(sum(one_model_tl), sum(month_mse)) - 1) *100\n",
    "print(improvement_over_baseline_perc_all, \"percent improvemen including month 1\")"
   ]
  },
  {
   "cell_type": "code",
   "execution_count": null,
   "metadata": {},
   "outputs": [
    {
     "name": "stdout",
     "output_type": "stream",
     "text": [
      "0.5039356994707633\n",
      "1.6323089021418076\n"
     ]
    }
   ],
   "source": [
    "# Percentage improvement of TL vs non-TL compared to overall electricity consumed (EXCLUDING first month)\n",
    "improvement_tl_all_load_perc = improvement_over_baseline_abs / sum(load) * 100\n",
    "print(improvement_tl_all_load_perc)\n",
    "\n",
    "# Percentage improvement of TL vs non-TL compared to overall electricity consumed (INCLUDING first month)\n",
    "improvement_tl_all_load_perc = improvement_over_baseline_abs_all / sum(load) * 100\n",
    "print(improvement_tl_all_load_perc)"
   ]
  },
  {
   "cell_type": "code",
   "execution_count": null,
   "metadata": {},
   "outputs": [
    {
     "data": {
      "text/plain": [
       "51340.55616438357"
      ]
     },
     "execution_count": 39,
     "metadata": {},
     "output_type": "execute_result"
    }
   ],
   "source": [
    "# Overall real load of all predictions in Gw\n",
    "gw_conversion = 1000000  \n",
    "load_gw = sum(load) / gw_conversion\n",
    "gwh_ratio = load_gw / 87600  # hours per year\n",
    "saving_per_percent = 1600000 # dollars\n",
    "best_mape = improvement_tl_all_load_perc\n",
    "\n",
    "\n",
    "overall_savings = gwh_ratio  * saving_per_percent * best_mape\n",
    "overall_savings"
   ]
  },
  {
   "cell_type": "code",
   "execution_count": null,
   "metadata": {},
   "outputs": [
    {
     "data": {
      "text/plain": [
       "35.3098735656008"
      ]
     },
     "execution_count": 41,
     "metadata": {},
     "output_type": "execute_result"
    }
   ],
   "source": [
    "overall_savings / 1454"
   ]
  },
  {
   "cell_type": "markdown",
   "metadata": {},
   "source": [
    "1.6million saved for 10 gwh 10 gwh are also 87600 gwh for the mentioned one year. "
   ]
  },
  {
   "cell_type": "code",
   "execution_count": 9,
   "metadata": {},
   "outputs": [
    {
     "name": "stdout",
     "output_type": "stream",
     "text": [
      "95.93091\n",
      "98.852773\n",
      "124.0398645\n"
     ]
    }
   ],
   "source": [
    "gw_conversion = 1000000  \n",
    "\n",
    "print(sum(month_mse) / gw_conversion)\n",
    "print(sum(one_model_tl ) / gw_conversion)\n",
    "print(sum(month_mse_baseline) / gw_conversion)"
   ]
  },
  {
   "cell_type": "code",
   "execution_count": 16,
   "metadata": {},
   "outputs": [
    {
     "data": {
      "text/plain": [
       "8.677956499999993"
      ]
     },
     "execution_count": 16,
     "metadata": {},
     "output_type": "execute_result"
    }
   ],
   "source": [
    "sum(month_mse_baseline[1:]) / gw_conversion - sum(month_mse[1:]) / gw_conversion"
   ]
  }
 ],
 "metadata": {
  "kernelspec": {
   "display_name": "Python 3",
   "language": "python",
   "name": "python3"
  },
  "language_info": {
   "codemirror_mode": {
    "name": "ipython",
    "version": 3
   },
   "file_extension": ".py",
   "mimetype": "text/x-python",
   "name": "python",
   "nbconvert_exporter": "python",
   "pygments_lexer": "ipython3",
   "version": "3.10.9"
  },
  "orig_nbformat": 4
 },
 "nbformat": 4,
 "nbformat_minor": 2
}
