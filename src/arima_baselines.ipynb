{
 "cells": [
  {
   "cell_type": "code",
   "execution_count": 5,
   "metadata": {},
   "outputs": [],
   "source": [
    "import pmdarima as Arima\n",
    "from utils import data_handling, training_functions, helpers\n",
    "\n",
    "from sklearn.metrics import mean_squared_error as mse\n",
    "import pandas as pd\n",
    "import config"
   ]
  },
  {
   "cell_type": "code",
   "execution_count": 6,
   "metadata": {},
   "outputs": [
    {
     "name": "stdout",
     "output_type": "stream",
     "text": [
      "Feature batch shape: torch.Size([32, 96, 348])\n"
     ]
    }
   ],
   "source": [
    "# use electricity dataset\n",
    "data_dict = data_handling.load_electricity()\n",
    "\n",
    "window_size = 96\n",
    "pred_length = 96\n",
    "\n",
    "electricity = {}\n",
    "electricity[\"dataloader_train\"], electricity[\"dataloader_validation\"], electricity[\"dataloader_test\"] = data_handling.convert_data(data_dict, window_size, pred_length)"
   ]
  },
  {
   "cell_type": "code",
   "execution_count": 9,
   "metadata": {},
   "outputs": [],
   "source": [
    "batch_list = []\n",
    "\n",
    "for i in range(len(electricity[\"dataloader_test\"])): \n",
    "    batch = next(iter(electricity[\"dataloader_test\"]))\n",
    "    batch_list.append(batch)\n",
    "\n",
    "# batch_list[batches][input/output] "
   ]
  },
  {
   "cell_type": "code",
   "execution_count": 107,
   "metadata": {},
   "outputs": [
    {
     "data": {
      "text/plain": [
       "torch.Size([32, 96, 348])"
      ]
     },
     "execution_count": 107,
     "metadata": {},
     "output_type": "execute_result"
    }
   ],
   "source": [
    "batch_list[0][0][sub_batch, timeseries, id]"
   ]
  },
  {
   "cell_type": "code",
   "execution_count": 10,
   "metadata": {},
   "outputs": [
    {
     "name": "stdout",
     "output_type": "stream",
     "text": [
      "id 0 out of 348.\n",
      "batch 0 out of 86.\n"
     ]
    },
    {
     "name": "stdout",
     "output_type": "stream",
     "text": [
      "batch 1 out of 86.\n",
      "batch 2 out of 86.\n",
      "batch 3 out of 86.\n",
      "batch 4 out of 86.\n",
      "batch 5 out of 86.\n",
      "batch 6 out of 86.\n",
      "batch 7 out of 86.\n",
      "batch 8 out of 86.\n",
      "batch 9 out of 86.\n",
      "batch 10 out of 86.\n",
      "batch 11 out of 86.\n",
      "batch 12 out of 86.\n",
      "batch 13 out of 86.\n",
      "batch 14 out of 86.\n",
      "batch 15 out of 86.\n",
      "batch 16 out of 86.\n",
      "batch 17 out of 86.\n",
      "batch 18 out of 86.\n",
      "batch 19 out of 86.\n",
      "batch 20 out of 86.\n",
      "batch 21 out of 86.\n",
      "batch 22 out of 86.\n",
      "batch 23 out of 86.\n",
      "batch 24 out of 86.\n",
      "batch 25 out of 86.\n",
      "batch 26 out of 86.\n",
      "batch 27 out of 86.\n",
      "batch 28 out of 86.\n",
      "batch 29 out of 86.\n",
      "batch 30 out of 86.\n",
      "batch 31 out of 86.\n",
      "batch 32 out of 86.\n",
      "batch 33 out of 86.\n",
      "batch 34 out of 86.\n",
      "batch 35 out of 86.\n",
      "batch 36 out of 86.\n",
      "batch 37 out of 86.\n",
      "batch 38 out of 86.\n",
      "batch 39 out of 86.\n",
      "batch 40 out of 86.\n",
      "batch 41 out of 86.\n",
      "batch 42 out of 86.\n"
     ]
    }
   ],
   "source": [
    "counter = 0\n",
    "all_mse = []\n",
    "path = config.CONFIG_OUTPUT_PATH[\"arima\"] / \"electricity_preds.csv\"\n",
    "\n",
    "\n",
    "for id in range(batch_list[0][0].size(2)): # num ids\n",
    "    print(f\"id {id} out of {batch_list[0][0].size(2)}.\")\n",
    "    new_id = True\n",
    "    id_mse = 0\n",
    "    for batch in range(len(batch_list)):\n",
    "        print(f\"batch {batch} out of {len(batch_list)}.\")\n",
    "        for sub_batch in range(batch_list[0][0].size(0)): # num batches per datalaoder element\n",
    "            input_id = batch_list[batch][0][sub_batch,:,id]\n",
    "            target_id = batch_list[batch][1][sub_batch,:,id]\n",
    "            if new_id == True:\n",
    "                model = Arima.auto_arima(input_id, stepwise=True, seasonal=True, m=24, maxiter=5)\n",
    "                new_id = False\n",
    "            else:\n",
    "                model.update(input_id)\n",
    "            forecasts = model.predict(96, alpha=0.1)\n",
    "            id_mse += mse(forecasts, target_id)\n",
    "            counter += 1\n",
    "    all_mse.append(id_mse)\n",
    "    series = pd.Series(all_mse)\n",
    "    series.to_csv  \n",
    "\n",
    "final_mse = id_mse/counter\n",
    "final_mse"
   ]
  },
  {
   "cell_type": "code",
   "execution_count": null,
   "metadata": {},
   "outputs": [],
   "source": [
    "\n",
    "series = pd.Series(mylist)\n",
    "\n",
    "print(series)\n",
    "\n",
    "path = config.CONFIG_OUTPUT_PATH[\"arima\"] / \"electricity_preds.csv\"\n",
    "\n",
    "series.to_csv"
   ]
  },
  {
   "cell_type": "code",
   "execution_count": 2,
   "metadata": {},
   "outputs": [
    {
     "name": "stdout",
     "output_type": "stream",
     "text": [
      "0    0.5\n",
      "1    0.3\n",
      "2    0.2\n",
      "dtype: float64\n"
     ]
    },
    {
     "data": {
      "text/plain": [
       "<bound method NDFrame.to_csv of 0    0.5\n",
       "1    0.3\n",
       "2    0.2\n",
       "dtype: float64>"
      ]
     },
     "execution_count": 2,
     "metadata": {},
     "output_type": "execute_result"
    }
   ],
   "source": [
    "mylist = [0.5, 0.3, 0.2]\n",
    "\n",
    "import pandas as pd\n",
    "import config\n",
    "series = pd.Series(mylist)\n",
    "\n",
    "print(series)\n",
    "\n",
    "path = config.CONFIG_OUTPUT_PATH[\"arima\"] / \"electricity_preds.csv\"\n",
    "\n",
    "series.to_csv"
   ]
  },
  {
   "cell_type": "markdown",
   "metadata": {},
   "source": [
    "only fitting to 96 and then predict to 96 is MSE of .81"
   ]
  },
  {
   "cell_type": "code",
   "execution_count": 56,
   "metadata": {},
   "outputs": [
    {
     "data": {
      "text/plain": [
       "0.8150819378701374"
      ]
     },
     "execution_count": 56,
     "metadata": {},
     "output_type": "execute_result"
    }
   ],
   "source": [
    "final_mse"
   ]
  },
  {
   "cell_type": "code",
   "execution_count": 38,
   "metadata": {},
   "outputs": [
    {
     "data": {
      "text/plain": [
       "(96,)"
      ]
     },
     "execution_count": 38,
     "metadata": {},
     "output_type": "execute_result"
    }
   ],
   "source": [
    "model = Arima.auto_arima(input_id, stepwise=True, seasonal=True, m=24, maxiter=5)\n",
    "forecasts, confidence = model.predict(96, alpha=0.1)\n",
    "\n",
    "\n"
   ]
  },
  {
   "cell_type": "code",
   "execution_count": null,
   "metadata": {},
   "outputs": [],
   "source": [
    "model = Arima.auto_arima(id_0, stepwise=True, seasonal=True, m=24, maxiter=5)\n",
    "\n",
    "      test_data_id = test_data[test_data[\"categorical_id\"] == id_string]\n",
    "      test_data_id_y = test_data_id[\"power_usage\"]\n",
    "\n",
    "\n",
    "      # make your forecasts\n",
    "      forecasts, confidence = model.predict(test_data_id_y.shape[0], return_conf_int=True, alpha=0.1)"
   ]
  },
  {
   "cell_type": "code",
   "execution_count": null,
   "metadata": {},
   "outputs": [],
   "source": []
  }
 ],
 "metadata": {
  "kernelspec": {
   "display_name": "myenv",
   "language": "python",
   "name": "python3"
  },
  "language_info": {
   "codemirror_mode": {
    "name": "ipython",
    "version": 3
   },
   "file_extension": ".py",
   "mimetype": "text/x-python",
   "name": "python",
   "nbconvert_exporter": "python",
   "pygments_lexer": "ipython3",
   "version": "3.10.9"
  }
 },
 "nbformat": 4,
 "nbformat_minor": 2
}
