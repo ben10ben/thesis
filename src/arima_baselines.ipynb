{
 "cells": [
  {
   "cell_type": "code",
   "execution_count": 157,
   "metadata": {},
   "outputs": [],
   "source": [
    "import pmdarima as Arima\n",
    "from utils import data_handling, training_functions, helpers\n",
    "\n",
    "from sklearn.metrics import mean_squared_error as mse\n",
    "import pandas as pd\n",
    "import config\n",
    "import pickle\n",
    "import torch\n"
   ]
  },
  {
   "cell_type": "code",
   "execution_count": 11,
   "metadata": {},
   "outputs": [],
   "source": [
    "# use electricity dataset\n",
    "data_dict = data_handling.format_electricity()\n",
    "\n",
    "df = data_dict\n",
    "\n",
    "for key, value in df.items():\n",
    "\t\t\tdf[key]= data_handling.df_to_tensor(value)\n",
    "train_standardize_dict = None\n",
    "\n",
    "# normalize train and use matrics for val and test\n",
    "df[\"train\"], train_standardize_dict = helpers.custom_standardizer(df[\"train\"])\n",
    "df[\"validation\"], _ = helpers.custom_standardizer(df[\"validation\"], train_standardize_dict)\n",
    "df[\"test\"], _ = helpers.custom_standardizer(df[\"test\"], train_standardize_dict)\n"
   ]
  },
  {
   "cell_type": "code",
   "execution_count": null,
   "metadata": {},
   "outputs": [],
   "source": [
    "data_tensor = data_handling.load_bavaria_electricity()\n",
    "data_dict, standadizer = data_handling.train_test_split_eu_elec(data_tensor, standardize=True)"
   ]
  },
  {
   "cell_type": "code",
   "execution_count": 133,
   "metadata": {},
   "outputs": [
    {
     "data": {
      "text/plain": [
       "torch.Size([4993, 348, 5])"
      ]
     },
     "execution_count": 133,
     "metadata": {},
     "output_type": "execute_result"
    }
   ],
   "source": [
    "# Example tensor of shape [2929, 348]\n",
    "def create_lagged(df):\n",
    "\n",
    "    def lag_tensor(df, lag):\n",
    "        if lag > 0:\n",
    "            return torch.cat((torch.zeros(lag, df.size(1)), df[:-lag]), dim=0)\n",
    "        return df\n",
    "\n",
    "    # Lag by 24\n",
    "    lagged_24 = lag_tensor(df, 24)\n",
    "    lagged_48 = lag_tensor(df, 24*2)\n",
    "    lagged_72 = lag_tensor(df, 24*3)\n",
    "    lagged_96 = lag_tensor(df, 24*4)\n",
    "\n",
    "    # create time of day index\n",
    "    base_tensor = torch.arange(0, 24) \n",
    "    time_of_day = base_tensor.repeat(df.size(1))[0:df.size(0)] \n",
    "    time_of_day_ids = time_of_day.repeat(df.size(1), 1).transpose(0, 1)\n",
    "\n",
    "    return torch.stack((lagged_24, lagged_48, lagged_72, lagged_96, time_of_day_ids), dim=2)"
   ]
  },
  {
   "cell_type": "code",
   "execution_count": 167,
   "metadata": {},
   "outputs": [
    {
     "name": "stdout",
     "output_type": "stream",
     "text": [
      "no predictions available.\n"
     ]
    }
   ],
   "source": [
    "num_96_horizons = int(df[\"test\"][:,0].shape[0] / (96))\n",
    "lagged_covariates_train = create_lagged(df[\"train\"])\n",
    "lagged_covariates_test = create_lagged(df[\"test\"])\n",
    "\n",
    "#filename = config.CONFIG_OUTPUT_PATH[\"arima\"] / f'arima_{key_}predictions.csv'\n",
    "filename = config.CONFIG_OUTPUT_PATH[\"arima\"] / 'arima_electricity_predictions.pkl'\n",
    "\n",
    "\n",
    "# Open the file and read the data\n",
    "try:\n",
    "    with open(filename, 'rb') as file:\n",
    "        prediction_list = pickle.load(file)\n",
    "except: \n",
    "    print(\"no predictions available.\")\n",
    "    prediction_list = []\n",
    "\n",
    "\n",
    "for id in range(len(prediction_list), df[\"train\"].size(1)):\n",
    "    model = Arima.auto_arima(df[\"train\"][-2000:,id], exogenous=lagged_covariates_train[-2000:,id,:], stepwise=True, seasonal=True, m=24, maxiter=5)\n",
    "\n",
    "    sum_mse = 0\n",
    "    for i in range(num_96_horizons):\n",
    "        time_step = i * 96\n",
    "        target = df[\"test\"][time_step : time_step+96, id]\n",
    "\n",
    "        lagged_window_test = lagged_covariates_test[time_step:time_step+96,id,:]\n",
    "        forecasts = model.predict(n_periods=96, return_conf_int=False, exogenous=lagged_window_test, alpha=0.1)\n",
    "\n",
    "        sum_mse = sum_mse + (mse(forecasts, target))\n",
    "\n",
    "    prediction_list.append(sum_mse / num_96_horizons)\n",
    "    print(sum_mse / num_96_horizons)\n",
    "\n",
    "\n",
    "    # save as pickle\n",
    "    with open(filename, 'wb') as file:\n",
    "        pickle.dump(prediction_list, file)"
   ]
  }
 ],
 "metadata": {
  "kernelspec": {
   "display_name": "myenv",
   "language": "python",
   "name": "python3"
  },
  "language_info": {
   "codemirror_mode": {
    "name": "ipython",
    "version": 3
   },
   "file_extension": ".py",
   "mimetype": "text/x-python",
   "name": "python",
   "nbconvert_exporter": "python",
   "pygments_lexer": "ipython3",
   "version": "3.10.9"
  }
 },
 "nbformat": 4,
 "nbformat_minor": 2
}
